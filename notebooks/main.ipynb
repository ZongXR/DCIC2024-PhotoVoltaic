{
 "cells": [
  {
   "cell_type": "markdown",
   "metadata": {},
   "source": [
    "<h2>导入包</h2>"
   ]
  },
  {
   "cell_type": "code",
   "execution_count": 58,
   "metadata": {
    "ExecuteTime": {
     "end_time": "2024-03-07T04:18:15.942743Z",
     "start_time": "2024-03-07T04:18:15.927943Z"
    }
   },
   "outputs": [],
   "source": [
    "import logging\n",
    "from datetime import datetime\n",
    "import numpy as np\n",
    "import pandas as pd\n",
    "from sklearn.model_selection import train_test_split\n",
    "from sklearn.model_selection import StratifiedKFold, KFold\n",
    "from sklearn.metrics import mean_squared_error\n",
    "import lightgbm as lgb\n",
    "from lightgbm import Dataset\n",
    "\n",
    "\n",
    "logging.basicConfig(format='%(asctime)s : %(levelname)s : %(message)s', level=logging.INFO)"
   ]
  },
  {
   "cell_type": "markdown",
   "metadata": {},
   "source": [
    "<h2>读取数据</h2>"
   ]
  },
  {
   "cell_type": "code",
   "execution_count": 59,
   "metadata": {
    "ExecuteTime": {
     "end_time": "2024-03-07T04:18:17.267882Z",
     "start_time": "2024-03-07T04:18:16.581884Z"
    }
   },
   "outputs": [],
   "source": [
    "x_train = pd.read_csv(\"../data/A榜-训练集_分布式光伏发电预测_气象变量数据.csv\", encoding=\"gbk\")\n",
    "y_train = pd.read_csv(\"../data/A榜-训练集_分布式光伏发电预测_实际功率数据.csv\", encoding=\"gbk\")\n",
    "info_train = pd.read_csv(\"../data/A榜-训练集_分布式光伏发电预测_基本信息.csv\", encoding=\"gbk\")\n",
    "x_test = pd.read_csv(\"../data/A榜-测试集_分布式光伏发电预测_气象变量数据.csv\", encoding=\"gbk\")\n",
    "y_test = pd.read_csv(\"../data/submit_example.csv\", encoding=\"utf-8\")\n",
    "info_test = pd.read_csv(\"../data/A榜-测试集_分布式光伏发电预测_基本信息.csv\", encoding=\"gbk\")"
   ]
  },
  {
   "cell_type": "code",
   "execution_count": 60,
   "metadata": {
    "ExecuteTime": {
     "end_time": "2024-03-07T04:18:17.634439Z",
     "start_time": "2024-03-07T04:18:17.332884Z"
    }
   },
   "outputs": [],
   "source": [
    "x_train = pd.merge(x_train, info_train[[\"光伏用户编号\", \"装机容量(kW)\", \"经度\", \"纬度\"]], how=\"left\", on=\"光伏用户编号\")\n",
    "x_train[\"时间\"] = pd.to_datetime(x_train[\"时间\"])\n",
    "x_test = pd.merge(x_test, info_test[[\"光伏用户编号\", \"装机容量(kW)\", \"经度\", \"纬度\"]], how=\"left\", on=\"光伏用户编号\")\n",
    "x_test[\"时间\"] = pd.to_datetime(x_test[\"时间\"])"
   ]
  },
  {
   "cell_type": "code",
   "execution_count": 61,
   "metadata": {
    "ExecuteTime": {
     "end_time": "2024-03-07T04:18:18.001452Z",
     "start_time": "2024-03-07T04:18:17.699439Z"
    }
   },
   "outputs": [],
   "source": [
    "y_train = y_train.set_index([\"光伏用户编号\", \"综合倍率\", \"时间\"]).stack().reset_index().rename(columns={0:\"target\"})\n",
    "y_train[\"level_3\"] = y_train[\"level_3\"].apply(lambda x: int(x[1:]))\n",
    "y_train[\"时间\"] = pd.to_datetime(y_train[\"时间\"])\n",
    "y_train[\"时间\"] = y_train[\"时间\"] + (y_train[\"level_3\"] - 1) * 15 * pd.Timedelta(1, unit=\"minutes\")\n",
    "y_train = y_train.drop(columns=[\"level_3\"])\n",
    "\n",
    "y_test = y_test.set_index([\"光伏用户编号\", \"综合倍率\", \"时间\"]).stack().reset_index().rename(columns={0:\"target\"})\n",
    "y_test[\"level_3\"] = y_test[\"level_3\"].apply(lambda x: int(x[1:]))\n",
    "y_test[\"时间\"] = pd.to_datetime(y_test[\"时间\"])\n",
    "y_test[\"时间\"] = y_test[\"时间\"] + (y_test[\"level_3\"] - 1) * 15 * pd.Timedelta(1, unit=\"minutes\")\n",
    "y_test = y_test.drop(columns=[\"level_3\"])"
   ]
  },
  {
   "cell_type": "code",
   "execution_count": 62,
   "metadata": {
    "ExecuteTime": {
     "end_time": "2024-03-07T04:18:18.224393Z",
     "start_time": "2024-03-07T04:18:18.066380Z"
    }
   },
   "outputs": [],
   "source": [
    "df_train = pd.merge(x_train, y_train, on=[\"光伏用户编号\", \"时间\"], how=\"left\")\n",
    "df_test = pd.merge(x_test, y_test, on=[\"光伏用户编号\", \"时间\"], how=\"left\")"
   ]
  },
  {
   "cell_type": "markdown",
   "metadata": {},
   "source": [
    "<h2>特征工程</h2>"
   ]
  },
  {
   "cell_type": "markdown",
   "metadata": {},
   "source": [
    "<h3>时间特征</h3>"
   ]
  },
  {
   "cell_type": "code",
   "execution_count": 63,
   "metadata": {
    "ExecuteTime": {
     "end_time": "2024-03-07T04:18:19.151432Z",
     "start_time": "2024-03-07T04:18:18.978592Z"
    }
   },
   "outputs": [],
   "source": [
    "df_train[\"年\"] = df_train[\"时间\"].dt.year\n",
    "df_train[\"月\"] = df_train[\"时间\"].dt.month\n",
    "df_train[\"日\"] = df_train[\"时间\"].dt.day\n",
    "df_train[\"分\"] = df_train[\"时间\"].dt.minute // 15 + df_train[\"时间\"].dt.hour * 4\n",
    "df_train = df_train.drop(columns=[\"时间\"])\n",
    "\n",
    "df_test[\"年\"] = df_test[\"时间\"].dt.year\n",
    "df_test[\"月\"] = df_test[\"时间\"].dt.month\n",
    "df_test[\"日\"] = df_test[\"时间\"].dt.day\n",
    "df_test[\"分\"] = df_test[\"时间\"].dt.minute // 15 + df_test[\"时间\"].dt.hour * 4\n",
    "df_test = df_test.drop(columns=[\"时间\"])"
   ]
  },
  {
   "cell_type": "markdown",
   "metadata": {},
   "source": [
    "<h2>训练模型</h2>"
   ]
  },
  {
   "cell_type": "markdown",
   "metadata": {},
   "source": [
    "<h3>评测指标</h3>"
   ]
  },
  {
   "cell_type": "code",
   "execution_count": 64,
   "metadata": {
    "ExecuteTime": {
     "end_time": "2024-03-07T04:18:19.945399Z",
     "start_time": "2024-03-07T04:18:19.933177Z"
    }
   },
   "outputs": [],
   "source": [
    "def score(y_true, y_pred):\n",
    "    mse = mean_squared_error(y_true, y_pred)\n",
    "    rmse = np.sqrt(mse)\n",
    "    return 1 / (1 + rmse)"
   ]
  },
  {
   "cell_type": "markdown",
   "metadata": {},
   "source": [
    "<h3>lightgbm模型</h3>"
   ]
  },
  {
   "cell_type": "code",
   "execution_count": 65,
   "metadata": {
    "ExecuteTime": {
     "end_time": "2024-03-07T04:18:20.648177Z",
     "start_time": "2024-03-07T04:18:20.629137Z"
    }
   },
   "outputs": [],
   "source": [
    "params_lgb = {\n",
    "    'learning_rate': 0.02,\n",
    "    'boosting_type': 'gbdt',\n",
    "    'objective': 'mse',\n",
    "    'metric': 'mse',\n",
    "    'num_leaves': 64,\n",
    "    'verbose': -1,\n",
    "    'seed': 42,\n",
    "    'n_jobs': -1,\n",
    "    'feature_fraction': 0.8,\n",
    "    'bagging_fraction': 0.9,\n",
    "    'bagging_freq': 4,\n",
    "}"
   ]
  },
  {
   "cell_type": "code",
   "execution_count": 66,
   "metadata": {
    "ExecuteTime": {
     "end_time": "2024-03-07T04:34:45.732888Z",
     "start_time": "2024-03-07T04:18:21.182796Z"
    }
   },
   "outputs": [
    {
     "name": "stderr",
     "output_type": "stream",
     "text": [
      "2024-03-07 12:18:21,236 : INFO : ############ site: f1 fold: 0 ###########\n"
     ]
    },
    {
     "name": "stdout",
     "output_type": "stream",
     "text": [
      "Training until validation scores don't improve for 100 rounds\n",
      "[1000]\ttraining's l2: 0.00820665\tvalid_1's l2: 0.0192935\n",
      "[2000]\ttraining's l2: 0.00422071\tvalid_1's l2: 0.0184285\n",
      "[3000]\ttraining's l2: 0.00253238\tvalid_1's l2: 0.0182106\n",
      "Early stopping, best iteration is:\n",
      "[3338]\ttraining's l2: 0.00217332\tvalid_1's l2: 0.0181561\n"
     ]
    },
    {
     "name": "stderr",
     "output_type": "stream",
     "text": [
      "2024-03-07 12:18:42,064 : INFO : ############ site: f1 fold: 1 ###########\n"
     ]
    },
    {
     "name": "stdout",
     "output_type": "stream",
     "text": [
      "Training until validation scores don't improve for 100 rounds\n",
      "[1000]\ttraining's l2: 0.00787395\tvalid_1's l2: 0.0223177\n",
      "[2000]\ttraining's l2: 0.00404532\tvalid_1's l2: 0.0210572\n",
      "[3000]\ttraining's l2: 0.00242543\tvalid_1's l2: 0.0206658\n",
      "[4000]\ttraining's l2: 0.00156003\tvalid_1's l2: 0.0205088\n",
      "Early stopping, best iteration is:\n",
      "[4301]\ttraining's l2: 0.00138204\tvalid_1's l2: 0.0204609\n"
     ]
    },
    {
     "name": "stderr",
     "output_type": "stream",
     "text": [
      "2024-03-07 12:19:08,597 : INFO : ############ site: f1 fold: 2 ###########\n"
     ]
    },
    {
     "name": "stdout",
     "output_type": "stream",
     "text": [
      "Training until validation scores don't improve for 100 rounds\n",
      "[1000]\ttraining's l2: 0.00785752\tvalid_1's l2: 0.0212818\n",
      "[2000]\ttraining's l2: 0.00402966\tvalid_1's l2: 0.0202693\n",
      "Early stopping, best iteration is:\n",
      "[2427]\ttraining's l2: 0.00320583\tvalid_1's l2: 0.0200676\n"
     ]
    },
    {
     "name": "stderr",
     "output_type": "stream",
     "text": [
      "2024-03-07 12:19:23,904 : INFO : ############ site: f1 fold: 3 ###########\n"
     ]
    },
    {
     "name": "stdout",
     "output_type": "stream",
     "text": [
      "Training until validation scores don't improve for 100 rounds\n",
      "[1000]\ttraining's l2: 0.00813496\tvalid_1's l2: 0.0202983\n",
      "[2000]\ttraining's l2: 0.00425458\tvalid_1's l2: 0.0190779\n",
      "[3000]\ttraining's l2: 0.00253769\tvalid_1's l2: 0.018721\n",
      "Early stopping, best iteration is:\n",
      "[3229]\ttraining's l2: 0.00227302\tvalid_1's l2: 0.018676\n"
     ]
    },
    {
     "name": "stderr",
     "output_type": "stream",
     "text": [
      "2024-03-07 12:19:44,042 : INFO : ############ site: f1 fold: 4 ###########\n"
     ]
    },
    {
     "name": "stdout",
     "output_type": "stream",
     "text": [
      "Training until validation scores don't improve for 100 rounds\n",
      "[1000]\ttraining's l2: 0.00803221\tvalid_1's l2: 0.0212217\n",
      "[2000]\ttraining's l2: 0.00416171\tvalid_1's l2: 0.0201222\n",
      "Early stopping, best iteration is:\n",
      "[2472]\ttraining's l2: 0.00322399\tvalid_1's l2: 0.019913\n"
     ]
    },
    {
     "name": "stderr",
     "output_type": "stream",
     "text": [
      "2024-03-07 12:19:59,639 : INFO : ############ site: f2 fold: 0 ###########\n"
     ]
    },
    {
     "name": "stdout",
     "output_type": "stream",
     "text": [
      "Training until validation scores don't improve for 100 rounds\n",
      "[1000]\ttraining's l2: 0.0112906\tvalid_1's l2: 0.0300409\n",
      "[2000]\ttraining's l2: 0.005865\tvalid_1's l2: 0.0283253\n",
      "[3000]\ttraining's l2: 0.00355037\tvalid_1's l2: 0.0279301\n",
      "Early stopping, best iteration is:\n",
      "[3084]\ttraining's l2: 0.00341829\tvalid_1's l2: 0.0279227\n"
     ]
    },
    {
     "name": "stderr",
     "output_type": "stream",
     "text": [
      "2024-03-07 12:20:18,885 : INFO : ############ site: f2 fold: 1 ###########\n"
     ]
    },
    {
     "name": "stdout",
     "output_type": "stream",
     "text": [
      "Training until validation scores don't improve for 100 rounds\n",
      "[1000]\ttraining's l2: 0.0116957\tvalid_1's l2: 0.0278872\n",
      "[2000]\ttraining's l2: 0.00600385\tvalid_1's l2: 0.0265091\n",
      "[3000]\ttraining's l2: 0.0036457\tvalid_1's l2: 0.0261744\n",
      "Early stopping, best iteration is:\n",
      "[3522]\ttraining's l2: 0.00288923\tvalid_1's l2: 0.0261023\n"
     ]
    },
    {
     "name": "stderr",
     "output_type": "stream",
     "text": [
      "2024-03-07 12:20:40,762 : INFO : ############ site: f2 fold: 2 ###########\n"
     ]
    },
    {
     "name": "stdout",
     "output_type": "stream",
     "text": [
      "Training until validation scores don't improve for 100 rounds\n",
      "[1000]\ttraining's l2: 0.0117736\tvalid_1's l2: 0.0268406\n",
      "[2000]\ttraining's l2: 0.0061234\tvalid_1's l2: 0.0255332\n",
      "Early stopping, best iteration is:\n",
      "[2190]\ttraining's l2: 0.00551973\tvalid_1's l2: 0.0254132\n"
     ]
    },
    {
     "name": "stderr",
     "output_type": "stream",
     "text": [
      "2024-03-07 12:20:54,645 : INFO : ############ site: f2 fold: 3 ###########\n"
     ]
    },
    {
     "name": "stdout",
     "output_type": "stream",
     "text": [
      "Training until validation scores don't improve for 100 rounds\n",
      "[1000]\ttraining's l2: 0.0114656\tvalid_1's l2: 0.0281426\n",
      "[2000]\ttraining's l2: 0.00600017\tvalid_1's l2: 0.0269912\n",
      "Early stopping, best iteration is:\n",
      "[2672]\ttraining's l2: 0.00422369\tvalid_1's l2: 0.0267561\n"
     ]
    },
    {
     "name": "stderr",
     "output_type": "stream",
     "text": [
      "2024-03-07 12:21:11,385 : INFO : ############ site: f2 fold: 4 ###########\n"
     ]
    },
    {
     "name": "stdout",
     "output_type": "stream",
     "text": [
      "Training until validation scores don't improve for 100 rounds\n",
      "[1000]\ttraining's l2: 0.0115555\tvalid_1's l2: 0.0283445\n",
      "[2000]\ttraining's l2: 0.00605398\tvalid_1's l2: 0.0267632\n",
      "[3000]\ttraining's l2: 0.00363071\tvalid_1's l2: 0.0264105\n",
      "Early stopping, best iteration is:\n",
      "[3059]\ttraining's l2: 0.00353465\tvalid_1's l2: 0.0263983\n"
     ]
    },
    {
     "name": "stderr",
     "output_type": "stream",
     "text": [
      "2024-03-07 12:21:30,399 : INFO : ############ site: f3 fold: 0 ###########\n"
     ]
    },
    {
     "name": "stdout",
     "output_type": "stream",
     "text": [
      "Training until validation scores don't improve for 100 rounds\n",
      "[1000]\ttraining's l2: 0.0183342\tvalid_1's l2: 0.0437345\n",
      "[2000]\ttraining's l2: 0.00942643\tvalid_1's l2: 0.0419117\n",
      "Early stopping, best iteration is:\n",
      "[2537]\ttraining's l2: 0.00706444\tvalid_1's l2: 0.0416717\n"
     ]
    },
    {
     "name": "stderr",
     "output_type": "stream",
     "text": [
      "2024-03-07 12:21:46,299 : INFO : ############ site: f3 fold: 1 ###########\n"
     ]
    },
    {
     "name": "stdout",
     "output_type": "stream",
     "text": [
      "Training until validation scores don't improve for 100 rounds\n",
      "[1000]\ttraining's l2: 0.0180631\tvalid_1's l2: 0.0484177\n",
      "[2000]\ttraining's l2: 0.0094236\tvalid_1's l2: 0.045816\n",
      "[3000]\ttraining's l2: 0.00568013\tvalid_1's l2: 0.0452122\n",
      "Early stopping, best iteration is:\n",
      "[3252]\ttraining's l2: 0.00505948\tvalid_1's l2: 0.045114\n"
     ]
    },
    {
     "name": "stderr",
     "output_type": "stream",
     "text": [
      "2024-03-07 12:22:06,447 : INFO : ############ site: f3 fold: 2 ###########\n"
     ]
    },
    {
     "name": "stdout",
     "output_type": "stream",
     "text": [
      "Training until validation scores don't improve for 100 rounds\n",
      "[1000]\ttraining's l2: 0.0178434\tvalid_1's l2: 0.046959\n",
      "[2000]\ttraining's l2: 0.00926453\tvalid_1's l2: 0.0448521\n",
      "Early stopping, best iteration is:\n",
      "[2637]\ttraining's l2: 0.0065384\tvalid_1's l2: 0.0443163\n"
     ]
    },
    {
     "name": "stderr",
     "output_type": "stream",
     "text": [
      "2024-03-07 12:22:22,930 : INFO : ############ site: f3 fold: 3 ###########\n"
     ]
    },
    {
     "name": "stdout",
     "output_type": "stream",
     "text": [
      "Training until validation scores don't improve for 100 rounds\n",
      "[1000]\ttraining's l2: 0.0183582\tvalid_1's l2: 0.0463858\n",
      "[2000]\ttraining's l2: 0.00951857\tvalid_1's l2: 0.0432279\n",
      "[3000]\ttraining's l2: 0.00571999\tvalid_1's l2: 0.0421501\n",
      "[4000]\ttraining's l2: 0.00371112\tvalid_1's l2: 0.0417324\n",
      "Early stopping, best iteration is:\n",
      "[4188]\ttraining's l2: 0.00344627\tvalid_1's l2: 0.0416991\n"
     ]
    },
    {
     "name": "stderr",
     "output_type": "stream",
     "text": [
      "2024-03-07 12:22:48,680 : INFO : ############ site: f3 fold: 4 ###########\n"
     ]
    },
    {
     "name": "stdout",
     "output_type": "stream",
     "text": [
      "Training until validation scores don't improve for 100 rounds\n",
      "[1000]\ttraining's l2: 0.0184801\tvalid_1's l2: 0.0428629\n",
      "[2000]\ttraining's l2: 0.00950914\tvalid_1's l2: 0.0404742\n",
      "Early stopping, best iteration is:\n",
      "[2540]\ttraining's l2: 0.00718152\tvalid_1's l2: 0.0399974\n"
     ]
    },
    {
     "name": "stderr",
     "output_type": "stream",
     "text": [
      "2024-03-07 12:23:05,014 : INFO : ############ site: f4 fold: 0 ###########\n"
     ]
    },
    {
     "name": "stdout",
     "output_type": "stream",
     "text": [
      "Training until validation scores don't improve for 100 rounds\n",
      "[1000]\ttraining's l2: 0.00787481\tvalid_1's l2: 0.0228083\n"
     ]
    },
    {
     "name": "stderr",
     "output_type": "stream",
     "text": [
      "2024-03-07 12:23:14,973 : INFO : ############ site: f4 fold: 1 ###########\n"
     ]
    },
    {
     "name": "stdout",
     "output_type": "stream",
     "text": [
      "Early stopping, best iteration is:\n",
      "[1504]\ttraining's l2: 0.00548169\tvalid_1's l2: 0.0225229\n",
      "Training until validation scores don't improve for 100 rounds\n",
      "[1000]\ttraining's l2: 0.00808025\tvalid_1's l2: 0.0196578\n"
     ]
    },
    {
     "name": "stderr",
     "output_type": "stream",
     "text": [
      "2024-03-07 12:23:24,629 : INFO : ############ site: f4 fold: 2 ###########\n"
     ]
    },
    {
     "name": "stdout",
     "output_type": "stream",
     "text": [
      "Early stopping, best iteration is:\n",
      "[1488]\ttraining's l2: 0.0057536\tvalid_1's l2: 0.0193067\n",
      "Training until validation scores don't improve for 100 rounds\n",
      "[1000]\ttraining's l2: 0.00817837\tvalid_1's l2: 0.0200161\n",
      "[2000]\ttraining's l2: 0.00425617\tvalid_1's l2: 0.019258\n",
      "Early stopping, best iteration is:\n",
      "[2328]\ttraining's l2: 0.00355685\tvalid_1's l2: 0.0191605\n"
     ]
    },
    {
     "name": "stderr",
     "output_type": "stream",
     "text": [
      "2024-03-07 12:23:38,796 : INFO : ############ site: f4 fold: 3 ###########\n"
     ]
    },
    {
     "name": "stdout",
     "output_type": "stream",
     "text": [
      "Training until validation scores don't improve for 100 rounds\n",
      "[1000]\ttraining's l2: 0.00771104\tvalid_1's l2: 0.0228328\n"
     ]
    },
    {
     "name": "stderr",
     "output_type": "stream",
     "text": [
      "2024-03-07 12:23:50,080 : INFO : ############ site: f4 fold: 4 ###########\n"
     ]
    },
    {
     "name": "stdout",
     "output_type": "stream",
     "text": [
      "Early stopping, best iteration is:\n",
      "[1775]\ttraining's l2: 0.00458116\tvalid_1's l2: 0.0224807\n",
      "Training until validation scores don't improve for 100 rounds\n",
      "[1000]\ttraining's l2: 0.00810198\tvalid_1's l2: 0.0202108\n",
      "Early stopping, best iteration is:\n",
      "[1756]\ttraining's l2: 0.00484875\tvalid_1's l2: 0.0195021\n"
     ]
    },
    {
     "name": "stderr",
     "output_type": "stream",
     "text": [
      "2024-03-07 12:24:01,229 : INFO : ############ site: f5 fold: 0 ###########\n"
     ]
    },
    {
     "name": "stdout",
     "output_type": "stream",
     "text": [
      "Training until validation scores don't improve for 100 rounds\n",
      "[1000]\ttraining's l2: 0.00911935\tvalid_1's l2: 0.0207645\n",
      "[2000]\ttraining's l2: 0.00468931\tvalid_1's l2: 0.0185909\n",
      "[3000]\ttraining's l2: 0.0028547\tvalid_1's l2: 0.0180285\n",
      "[4000]\ttraining's l2: 0.00187891\tvalid_1's l2: 0.0178242\n",
      "Early stopping, best iteration is:\n",
      "[4112]\ttraining's l2: 0.00179624\tvalid_1's l2: 0.0177939\n"
     ]
    },
    {
     "name": "stderr",
     "output_type": "stream",
     "text": [
      "2024-03-07 12:24:36,989 : INFO : ############ site: f5 fold: 1 ###########\n"
     ]
    },
    {
     "name": "stdout",
     "output_type": "stream",
     "text": [
      "Training until validation scores don't improve for 100 rounds\n",
      "[1000]\ttraining's l2: 0.00907169\tvalid_1's l2: 0.0213366\n",
      "[2000]\ttraining's l2: 0.00469958\tvalid_1's l2: 0.0192362\n",
      "[3000]\ttraining's l2: 0.00287369\tvalid_1's l2: 0.0186244\n",
      "[4000]\ttraining's l2: 0.00189271\tvalid_1's l2: 0.0183244\n",
      "[5000]\ttraining's l2: 0.00130762\tvalid_1's l2: 0.0182122\n",
      "Did not meet early stopping. Best iteration is:\n",
      "[5000]\ttraining's l2: 0.00130762\tvalid_1's l2: 0.0182122\n"
     ]
    },
    {
     "name": "stderr",
     "output_type": "stream",
     "text": [
      "2024-03-07 12:25:19,156 : INFO : ############ site: f5 fold: 2 ###########\n"
     ]
    },
    {
     "name": "stdout",
     "output_type": "stream",
     "text": [
      "Training until validation scores don't improve for 100 rounds\n",
      "[1000]\ttraining's l2: 0.00879392\tvalid_1's l2: 0.0224644\n",
      "[2000]\ttraining's l2: 0.0045515\tvalid_1's l2: 0.0207837\n",
      "[3000]\ttraining's l2: 0.00276744\tvalid_1's l2: 0.0202886\n",
      "Early stopping, best iteration is:\n",
      "[3166]\ttraining's l2: 0.0025675\tvalid_1's l2: 0.0202676\n"
     ]
    },
    {
     "name": "stderr",
     "output_type": "stream",
     "text": [
      "2024-03-07 12:25:47,033 : INFO : ############ site: f5 fold: 3 ###########\n"
     ]
    },
    {
     "name": "stdout",
     "output_type": "stream",
     "text": [
      "Training until validation scores don't improve for 100 rounds\n",
      "[1000]\ttraining's l2: 0.00880836\tvalid_1's l2: 0.0211589\n",
      "[2000]\ttraining's l2: 0.0045402\tvalid_1's l2: 0.0194569\n",
      "[3000]\ttraining's l2: 0.00275477\tvalid_1's l2: 0.0189657\n",
      "[4000]\ttraining's l2: 0.00179864\tvalid_1's l2: 0.0187802\n",
      "[5000]\ttraining's l2: 0.0012435\tvalid_1's l2: 0.0186599\n",
      "Did not meet early stopping. Best iteration is:\n",
      "[5000]\ttraining's l2: 0.0012435\tvalid_1's l2: 0.0186599\n"
     ]
    },
    {
     "name": "stderr",
     "output_type": "stream",
     "text": [
      "2024-03-07 12:26:29,124 : INFO : ############ site: f5 fold: 4 ###########\n"
     ]
    },
    {
     "name": "stdout",
     "output_type": "stream",
     "text": [
      "Training until validation scores don't improve for 100 rounds\n",
      "[1000]\ttraining's l2: 0.00888643\tvalid_1's l2: 0.0221422\n",
      "[2000]\ttraining's l2: 0.00471477\tvalid_1's l2: 0.0202142\n",
      "[3000]\ttraining's l2: 0.00288515\tvalid_1's l2: 0.0195479\n",
      "[4000]\ttraining's l2: 0.00190593\tvalid_1's l2: 0.0192787\n",
      "[5000]\ttraining's l2: 0.00130866\tvalid_1's l2: 0.0191577\n",
      "Did not meet early stopping. Best iteration is:\n",
      "[5000]\ttraining's l2: 0.00130866\tvalid_1's l2: 0.0191577\n"
     ]
    },
    {
     "name": "stderr",
     "output_type": "stream",
     "text": [
      "2024-03-07 12:27:11,366 : INFO : ############ site: f6 fold: 0 ###########\n"
     ]
    },
    {
     "name": "stdout",
     "output_type": "stream",
     "text": [
      "Training until validation scores don't improve for 100 rounds\n",
      "[1000]\ttraining's l2: 0.000385939\tvalid_1's l2: 0.00941929\n",
      "[2000]\ttraining's l2: 0.000213283\tvalid_1's l2: 0.00936576\n",
      "[3000]\ttraining's l2: 0.000131667\tvalid_1's l2: 0.00934646\n",
      "Early stopping, best iteration is:\n",
      "[2959]\ttraining's l2: 0.000133954\tvalid_1's l2: 0.00934617\n"
     ]
    },
    {
     "name": "stderr",
     "output_type": "stream",
     "text": [
      "2024-03-07 12:27:36,557 : INFO : ############ site: f6 fold: 1 ###########\n"
     ]
    },
    {
     "name": "stdout",
     "output_type": "stream",
     "text": [
      "Training until validation scores don't improve for 100 rounds\n"
     ]
    },
    {
     "name": "stderr",
     "output_type": "stream",
     "text": [
      "2024-03-07 12:27:43,438 : INFO : ############ site: f6 fold: 2 ###########\n"
     ]
    },
    {
     "name": "stdout",
     "output_type": "stream",
     "text": [
      "Early stopping, best iteration is:\n",
      "[701]\ttraining's l2: 0.00154611\tvalid_1's l2: 0.00108005\n",
      "Training until validation scores don't improve for 100 rounds\n"
     ]
    },
    {
     "name": "stderr",
     "output_type": "stream",
     "text": [
      "2024-03-07 12:27:48,576 : INFO : ############ site: f6 fold: 3 ###########\n"
     ]
    },
    {
     "name": "stdout",
     "output_type": "stream",
     "text": [
      "Early stopping, best iteration is:\n",
      "[490]\ttraining's l2: 0.00186803\tvalid_1's l2: 0.00123062\n",
      "Training until validation scores don't improve for 100 rounds\n"
     ]
    },
    {
     "name": "stderr",
     "output_type": "stream",
     "text": [
      "2024-03-07 12:27:53,048 : INFO : ############ site: f6 fold: 4 ###########\n"
     ]
    },
    {
     "name": "stdout",
     "output_type": "stream",
     "text": [
      "Early stopping, best iteration is:\n",
      "[409]\ttraining's l2: 0.0020995\tvalid_1's l2: 0.0012592\n",
      "Training until validation scores don't improve for 100 rounds\n"
     ]
    },
    {
     "name": "stderr",
     "output_type": "stream",
     "text": [
      "2024-03-07 12:27:59,652 : INFO : ############ site: f7 fold: 0 ###########\n"
     ]
    },
    {
     "name": "stdout",
     "output_type": "stream",
     "text": [
      "Early stopping, best iteration is:\n",
      "[665]\ttraining's l2: 0.00161033\tvalid_1's l2: 0.00103778\n",
      "Training until validation scores don't improve for 100 rounds\n",
      "[1000]\ttraining's l2: 0.00051771\tvalid_1's l2: 0.00126851\n",
      "[2000]\ttraining's l2: 0.000273931\tvalid_1's l2: 0.00119317\n",
      "[3000]\ttraining's l2: 0.00016961\tvalid_1's l2: 0.00117537\n",
      "Early stopping, best iteration is:\n",
      "[3564]\ttraining's l2: 0.000132597\tvalid_1's l2: 0.00116826\n"
     ]
    },
    {
     "name": "stderr",
     "output_type": "stream",
     "text": [
      "2024-03-07 12:28:29,050 : INFO : ############ site: f7 fold: 1 ###########\n"
     ]
    },
    {
     "name": "stdout",
     "output_type": "stream",
     "text": [
      "Training until validation scores don't improve for 100 rounds\n",
      "[1000]\ttraining's l2: 0.000514053\tvalid_1's l2: 0.00127308\n",
      "[2000]\ttraining's l2: 0.000271988\tvalid_1's l2: 0.00119776\n",
      "[3000]\ttraining's l2: 0.000167514\tvalid_1's l2: 0.00117214\n",
      "[4000]\ttraining's l2: 0.00011051\tvalid_1's l2: 0.00116057\n",
      "Early stopping, best iteration is:\n",
      "[4143]\ttraining's l2: 0.000104844\tvalid_1's l2: 0.00115974\n"
     ]
    },
    {
     "name": "stderr",
     "output_type": "stream",
     "text": [
      "2024-03-07 12:29:02,966 : INFO : ############ site: f7 fold: 2 ###########\n"
     ]
    },
    {
     "name": "stdout",
     "output_type": "stream",
     "text": [
      "Training until validation scores don't improve for 100 rounds\n",
      "[1000]\ttraining's l2: 0.000512734\tvalid_1's l2: 0.00122974\n",
      "[2000]\ttraining's l2: 0.000271499\tvalid_1's l2: 0.00115256\n",
      "[3000]\ttraining's l2: 0.000168201\tvalid_1's l2: 0.00112982\n",
      "Early stopping, best iteration is:\n",
      "[3351]\ttraining's l2: 0.000143113\tvalid_1's l2: 0.00112514\n"
     ]
    },
    {
     "name": "stderr",
     "output_type": "stream",
     "text": [
      "2024-03-07 12:29:30,947 : INFO : ############ site: f7 fold: 3 ###########\n"
     ]
    },
    {
     "name": "stdout",
     "output_type": "stream",
     "text": [
      "Training until validation scores don't improve for 100 rounds\n",
      "[1000]\ttraining's l2: 0.000511112\tvalid_1's l2: 0.00133517\n",
      "[2000]\ttraining's l2: 0.000266464\tvalid_1's l2: 0.00125902\n",
      "[3000]\ttraining's l2: 0.000163082\tvalid_1's l2: 0.00123828\n",
      "[4000]\ttraining's l2: 0.000108118\tvalid_1's l2: 0.00122727\n",
      "[5000]\ttraining's l2: 7.39985e-05\tvalid_1's l2: 0.00122212\n",
      "Did not meet early stopping. Best iteration is:\n",
      "[5000]\ttraining's l2: 7.39985e-05\tvalid_1's l2: 0.00122212\n"
     ]
    },
    {
     "name": "stderr",
     "output_type": "stream",
     "text": [
      "2024-03-07 12:30:11,152 : INFO : ############ site: f7 fold: 4 ###########\n"
     ]
    },
    {
     "name": "stdout",
     "output_type": "stream",
     "text": [
      "Training until validation scores don't improve for 100 rounds\n",
      "[1000]\ttraining's l2: 0.000510374\tvalid_1's l2: 0.00121553\n",
      "[2000]\ttraining's l2: 0.000271606\tvalid_1's l2: 0.00114539\n",
      "[3000]\ttraining's l2: 0.000166647\tvalid_1's l2: 0.00112481\n",
      "Early stopping, best iteration is:\n",
      "[3524]\ttraining's l2: 0.000133704\tvalid_1's l2: 0.00111851\n"
     ]
    },
    {
     "name": "stderr",
     "output_type": "stream",
     "text": [
      "2024-03-07 12:30:40,662 : INFO : ############ site: f8 fold: 0 ###########\n"
     ]
    },
    {
     "name": "stdout",
     "output_type": "stream",
     "text": [
      "Training until validation scores don't improve for 100 rounds\n",
      "[1000]\ttraining's l2: 0.0106202\tvalid_1's l2: 0.0298357\n"
     ]
    },
    {
     "name": "stderr",
     "output_type": "stream",
     "text": [
      "2024-03-07 12:30:49,779 : INFO : ############ site: f8 fold: 1 ###########\n"
     ]
    },
    {
     "name": "stdout",
     "output_type": "stream",
     "text": [
      "Early stopping, best iteration is:\n",
      "[1437]\ttraining's l2: 0.00779055\tvalid_1's l2: 0.0294039\n",
      "Training until validation scores don't improve for 100 rounds\n",
      "[1000]\ttraining's l2: 0.0111737\tvalid_1's l2: 0.0284388\n",
      "[2000]\ttraining's l2: 0.00592997\tvalid_1's l2: 0.0273717\n",
      "Early stopping, best iteration is:\n",
      "[2518]\ttraining's l2: 0.0045222\tvalid_1's l2: 0.0271151\n"
     ]
    },
    {
     "name": "stderr",
     "output_type": "stream",
     "text": [
      "2024-03-07 12:31:05,526 : INFO : ############ site: f8 fold: 2 ###########\n"
     ]
    },
    {
     "name": "stdout",
     "output_type": "stream",
     "text": [
      "Training until validation scores don't improve for 100 rounds\n",
      "[1000]\ttraining's l2: 0.0111622\tvalid_1's l2: 0.0265065\n",
      "Early stopping, best iteration is:\n",
      "[1714]\ttraining's l2: 0.00694763\tvalid_1's l2: 0.0259482\n"
     ]
    },
    {
     "name": "stderr",
     "output_type": "stream",
     "text": [
      "2024-03-07 12:31:16,499 : INFO : ############ site: f8 fold: 3 ###########\n"
     ]
    },
    {
     "name": "stdout",
     "output_type": "stream",
     "text": [
      "Training until validation scores don't improve for 100 rounds\n",
      "[1000]\ttraining's l2: 0.0107551\tvalid_1's l2: 0.0298965\n",
      "[2000]\ttraining's l2: 0.0056514\tvalid_1's l2: 0.0288319\n",
      "Early stopping, best iteration is:\n",
      "[2464]\ttraining's l2: 0.00442731\tvalid_1's l2: 0.028692\n"
     ]
    },
    {
     "name": "stderr",
     "output_type": "stream",
     "text": [
      "2024-03-07 12:31:32,186 : INFO : ############ site: f8 fold: 4 ###########\n"
     ]
    },
    {
     "name": "stdout",
     "output_type": "stream",
     "text": [
      "Training until validation scores don't improve for 100 rounds\n",
      "[1000]\ttraining's l2: 0.0109703\tvalid_1's l2: 0.0289581\n",
      "[2000]\ttraining's l2: 0.00576559\tvalid_1's l2: 0.0283973\n",
      "Early stopping, best iteration is:\n",
      "[2412]\ttraining's l2: 0.00467351\tvalid_1's l2: 0.0283115\n"
     ]
    },
    {
     "name": "stderr",
     "output_type": "stream",
     "text": [
      "2024-03-07 12:31:47,198 : INFO : ############ site: f9 fold: 0 ###########\n"
     ]
    },
    {
     "name": "stdout",
     "output_type": "stream",
     "text": [
      "Training until validation scores don't improve for 100 rounds\n",
      "[1000]\ttraining's l2: 0.000483728\tvalid_1's l2: 0.00119432\n",
      "[2000]\ttraining's l2: 0.000253289\tvalid_1's l2: 0.00110226\n",
      "[3000]\ttraining's l2: 0.000156109\tvalid_1's l2: 0.00107602\n",
      "[4000]\ttraining's l2: 0.0001038\tvalid_1's l2: 0.00106681\n",
      "[5000]\ttraining's l2: 7.16055e-05\tvalid_1's l2: 0.00106259\n",
      "Did not meet early stopping. Best iteration is:\n",
      "[5000]\ttraining's l2: 7.16055e-05\tvalid_1's l2: 0.00106259\n"
     ]
    },
    {
     "name": "stderr",
     "output_type": "stream",
     "text": [
      "2024-03-07 12:32:28,368 : INFO : ############ site: f9 fold: 1 ###########\n"
     ]
    },
    {
     "name": "stdout",
     "output_type": "stream",
     "text": [
      "Training until validation scores don't improve for 100 rounds\n",
      "[1000]\ttraining's l2: 0.000504408\tvalid_1's l2: 0.00118034\n",
      "[2000]\ttraining's l2: 0.000265181\tvalid_1's l2: 0.00109624\n",
      "[3000]\ttraining's l2: 0.000162559\tvalid_1's l2: 0.00106995\n",
      "Early stopping, best iteration is:\n",
      "[3591]\ttraining's l2: 0.000126886\tvalid_1's l2: 0.00106513\n"
     ]
    },
    {
     "name": "stderr",
     "output_type": "stream",
     "text": [
      "2024-03-07 12:32:58,466 : INFO : ############ site: f9 fold: 2 ###########\n"
     ]
    },
    {
     "name": "stdout",
     "output_type": "stream",
     "text": [
      "Training until validation scores don't improve for 100 rounds\n",
      "[1000]\ttraining's l2: 0.000496794\tvalid_1's l2: 0.00113465\n",
      "[2000]\ttraining's l2: 0.000266079\tvalid_1's l2: 0.00106204\n",
      "[3000]\ttraining's l2: 0.000164187\tvalid_1's l2: 0.00104031\n",
      "Early stopping, best iteration is:\n",
      "[3840]\ttraining's l2: 0.000115519\tvalid_1's l2: 0.00103199\n"
     ]
    },
    {
     "name": "stderr",
     "output_type": "stream",
     "text": [
      "2024-03-07 12:33:30,817 : INFO : ############ site: f9 fold: 3 ###########\n"
     ]
    },
    {
     "name": "stdout",
     "output_type": "stream",
     "text": [
      "Training until validation scores don't improve for 100 rounds\n",
      "[1000]\ttraining's l2: 0.000499326\tvalid_1's l2: 0.00113853\n",
      "[2000]\ttraining's l2: 0.000261786\tvalid_1's l2: 0.00105482\n",
      "[3000]\ttraining's l2: 0.000160151\tvalid_1's l2: 0.00103599\n",
      "[4000]\ttraining's l2: 0.000105165\tvalid_1's l2: 0.00102658\n",
      "Early stopping, best iteration is:\n",
      "[4436]\ttraining's l2: 8.8715e-05\tvalid_1's l2: 0.00102508\n"
     ]
    },
    {
     "name": "stderr",
     "output_type": "stream",
     "text": [
      "2024-03-07 12:34:07,903 : INFO : ############ site: f9 fold: 4 ###########\n"
     ]
    },
    {
     "name": "stdout",
     "output_type": "stream",
     "text": [
      "Training until validation scores don't improve for 100 rounds\n",
      "[1000]\ttraining's l2: 0.000494027\tvalid_1's l2: 0.00116099\n",
      "[2000]\ttraining's l2: 0.000261729\tvalid_1's l2: 0.00107825\n",
      "[3000]\ttraining's l2: 0.000160589\tvalid_1's l2: 0.00105469\n",
      "[4000]\ttraining's l2: 0.000106139\tvalid_1's l2: 0.0010466\n",
      "Early stopping, best iteration is:\n",
      "[4496]\ttraining's l2: 8.69548e-05\tvalid_1's l2: 0.00104382\n"
     ]
    }
   ],
   "source": [
    "model_lgb = dict()\n",
    "kfold = KFold(n_splits=5, random_state=42, shuffle=True)\n",
    "for site, df in df_train.groupby(\"光伏用户编号\"):\n",
    "    model_lgb[site] = []\n",
    "    df = df.drop(columns=[\"光伏用户编号\"]).astype(np.float32)\n",
    "    y = df.pop(\"target\")\n",
    "    df[\"辐照强度（J/m2） - 1\"] = df[\"辐照强度（J/m2）\"].shift(1)\n",
    "    for fold, (train_index, val_index) in enumerate(kfold.split(df, y)):\n",
    "        logging.info(f'############ site: {site} fold: {fold} ###########')\n",
    "        x_train, x_val, y_train, y_val = df.iloc[train_index], df.iloc[val_index], y.iloc[train_index], y.iloc[val_index]\n",
    "        trainset = Dataset(x_train, y_train)\n",
    "        valset = Dataset(x_val, y_val)\n",
    "        model = lgb.train(params_lgb, trainset, valid_sets=[trainset, valset], num_boost_round=5000, callbacks=[lgb.early_stopping(100), lgb.log_evaluation(1000)])\n",
    "        model.save_model(\"../models/lgb_%s_%d.txt\" % (site, fold))\n",
    "        model_lgb[site].append(model)"
   ]
  },
  {
   "cell_type": "markdown",
   "metadata": {},
   "source": [
    "<h2>预测</h2>"
   ]
  },
  {
   "cell_type": "code",
   "execution_count": 67,
   "metadata": {
    "ExecuteTime": {
     "end_time": "2024-03-07T04:40:58.186104Z",
     "start_time": "2024-03-07T04:40:50.776699Z"
    }
   },
   "outputs": [],
   "source": [
    "for site, df in df_test.groupby(\"光伏用户编号\"):\n",
    "    df = df.drop(columns=[\"光伏用户编号\"]).astype(np.float32)\n",
    "    y = df.pop(\"target\")\n",
    "    df[\"辐照强度（J/m2） - 1\"] = df[\"辐照强度（J/m2）\"].shift(1)\n",
    "    \n",
    "    y_pred = np.zeros((df.shape[0], ))\n",
    "    for model in model_lgb[site]:\n",
    "        y_pred += model.predict(df, num_iteration=model.best_iteration)\n",
    "    y_pred = y_pred / kfold.n_splits\n",
    "    df_test.loc[df_test[\"光伏用户编号\"] == site, \"target\"] = y_pred"
   ]
  },
  {
   "cell_type": "code",
   "execution_count": 68,
   "metadata": {
    "ExecuteTime": {
     "end_time": "2024-03-07T04:41:00.186044Z",
     "start_time": "2024-03-07T04:41:00.015252Z"
    }
   },
   "outputs": [
    {
     "name": "stderr",
     "output_type": "stream",
     "text": [
      "c:\\program files\\python37\\lib\\site-packages\\ipykernel_launcher.py:2: SettingWithCopyWarning: \n",
      "A value is trying to be set on a copy of a slice from a DataFrame.\n",
      "Try using .loc[row_indexer,col_indexer] = value instead\n",
      "\n",
      "See the caveats in the documentation: https://pandas.pydata.org/pandas-docs/stable/user_guide/indexing.html#returning-a-view-versus-a-copy\n",
      "  \n",
      "c:\\program files\\python37\\lib\\site-packages\\ipykernel_launcher.py:3: SettingWithCopyWarning: \n",
      "A value is trying to be set on a copy of a slice from a DataFrame.\n",
      "Try using .loc[row_indexer,col_indexer] = value instead\n",
      "\n",
      "See the caveats in the documentation: https://pandas.pydata.org/pandas-docs/stable/user_guide/indexing.html#returning-a-view-versus-a-copy\n",
      "  This is separate from the ipykernel package so we can avoid doing imports until\n"
     ]
    }
   ],
   "source": [
    "df_test = df_test[[\"光伏用户编号\", \"综合倍率\", \"年\", \"月\", \"日\", \"分\", \"target\"]]\n",
    "df_test[\"时间\"] = df_test[\"年\"].astype(str) + \"-\" + df_test[\"月\"].astype(str) + \"-\" + df_test[\"日\"].astype(str) + \" 0:00\"\n",
    "df_test[\"分\"] = \"p\" + (df_test[\"分\"] + 1).astype(str)\n",
    "df_test = df_test.drop(columns=[\"年\", \"月\", \"日\"])"
   ]
  },
  {
   "cell_type": "code",
   "execution_count": 69,
   "metadata": {
    "ExecuteTime": {
     "end_time": "2024-03-07T04:41:00.361873Z",
     "start_time": "2024-03-07T04:41:00.316808Z"
    }
   },
   "outputs": [],
   "source": [
    "result = pd.pivot(df_test, index=[\"光伏用户编号\", \"综合倍率\", \"时间\"], columns=\"分\", values=\"target\").reset_index()\n",
    "result = result[result[\"综合倍率\"].notnull()]\n",
    "result[\"综合倍率\"] = result[\"综合倍率\"].astype(int)"
   ]
  },
  {
   "cell_type": "code",
   "execution_count": 70,
   "metadata": {
    "ExecuteTime": {
     "end_time": "2024-03-07T04:41:01.239909Z",
     "start_time": "2024-03-07T04:41:01.134434Z"
    }
   },
   "outputs": [],
   "source": [
    "result.to_csv(\"../data/%s.csv\" % datetime.now().strftime(\"%Y%m%d_%H%M%S\"), encoding=\"utf-8\", index=False)"
   ]
  },
  {
   "cell_type": "code",
   "execution_count": null,
   "metadata": {},
   "outputs": [],
   "source": []
  }
 ],
 "metadata": {
  "kernelspec": {
   "display_name": "Python 3",
   "language": "python",
   "name": "python3"
  },
  "language_info": {
   "codemirror_mode": {
    "name": "ipython",
    "version": 3
   },
   "file_extension": ".py",
   "mimetype": "text/x-python",
   "name": "python",
   "nbconvert_exporter": "python",
   "pygments_lexer": "ipython3",
   "version": "3.7.3"
  },
  "toc": {
   "base_numbering": 1,
   "nav_menu": {},
   "number_sections": true,
   "sideBar": true,
   "skip_h1_title": false,
   "title_cell": "Table of Contents",
   "title_sidebar": "Contents",
   "toc_cell": false,
   "toc_position": {
    "height": "calc(100% - 180px)",
    "left": "10px",
    "top": "150px",
    "width": "465.455px"
   },
   "toc_section_display": true,
   "toc_window_display": true
  },
  "varInspector": {
   "cols": {
    "lenName": 16,
    "lenType": 16,
    "lenVar": 40
   },
   "kernels_config": {
    "python": {
     "delete_cmd_postfix": "",
     "delete_cmd_prefix": "del ",
     "library": "var_list.py",
     "varRefreshCmd": "print(var_dic_list())"
    },
    "r": {
     "delete_cmd_postfix": ") ",
     "delete_cmd_prefix": "rm(",
     "library": "var_list.r",
     "varRefreshCmd": "cat(var_dic_list()) "
    }
   },
   "position": {
    "height": "244.83px",
    "left": "1957.27px",
    "right": "20px",
    "top": "120px",
    "width": "350px"
   },
   "types_to_exclude": [
    "module",
    "function",
    "builtin_function_or_method",
    "instance",
    "_Feature"
   ],
   "window_display": true
  }
 },
 "nbformat": 4,
 "nbformat_minor": 4
}
