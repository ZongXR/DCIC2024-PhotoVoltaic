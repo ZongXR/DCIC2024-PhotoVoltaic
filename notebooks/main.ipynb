{
 "cells": [
  {
   "cell_type": "markdown",
   "metadata": {},
   "source": [
    "<h2>导入包</h2>"
   ]
  },
  {
   "cell_type": "code",
   "execution_count": 93,
   "metadata": {
    "ExecuteTime": {
     "end_time": "2024-03-06T13:50:24.820286Z",
     "start_time": "2024-03-06T13:50:24.804524Z"
    }
   },
   "outputs": [],
   "source": [
    "from datetime import datetime\n",
    "import numpy as np\n",
    "import pandas as pd\n",
    "from sklearn.model_selection import train_test_split\n",
    "import lightgbm as lgb\n",
    "from lightgbm import Dataset"
   ]
  },
  {
   "cell_type": "markdown",
   "metadata": {},
   "source": [
    "<h2>读取数据</h2>"
   ]
  },
  {
   "cell_type": "code",
   "execution_count": 47,
   "metadata": {
    "ExecuteTime": {
     "end_time": "2024-03-06T13:22:59.993056Z",
     "start_time": "2024-03-06T13:22:59.326020Z"
    }
   },
   "outputs": [],
   "source": [
    "x_train = pd.read_csv(\"../data/A榜-训练集_分布式光伏发电预测_气象变量数据.csv\", encoding=\"gbk\")\n",
    "y_train = pd.read_csv(\"../data/A榜-训练集_分布式光伏发电预测_实际功率数据.csv\", encoding=\"gbk\")\n",
    "info_train = pd.read_csv(\"../data/A榜-训练集_分布式光伏发电预测_基本信息.csv\", encoding=\"gbk\")\n",
    "x_test = pd.read_csv(\"../data/A榜-测试集_分布式光伏发电预测_气象变量数据.csv\", encoding=\"gbk\")\n",
    "y_test = pd.read_csv(\"../data/submit_example.csv\", encoding=\"utf-8\")\n",
    "info_test = pd.read_csv(\"../data/A榜-测试集_分布式光伏发电预测_基本信息.csv\", encoding=\"gbk\")"
   ]
  },
  {
   "cell_type": "code",
   "execution_count": 48,
   "metadata": {
    "ExecuteTime": {
     "end_time": "2024-03-06T13:23:00.296503Z",
     "start_time": "2024-03-06T13:22:59.995057Z"
    }
   },
   "outputs": [],
   "source": [
    "x_train = pd.merge(x_train, info_train[[\"光伏用户编号\", \"装机容量(kW)\", \"经度\", \"纬度\"]], how=\"left\", on=\"光伏用户编号\")\n",
    "x_train[\"时间\"] = pd.to_datetime(x_train[\"时间\"])\n",
    "x_test = pd.merge(x_test, info_test[[\"光伏用户编号\", \"装机容量(kW)\", \"经度\", \"纬度\"]], how=\"left\", on=\"光伏用户编号\")\n",
    "x_test[\"时间\"] = pd.to_datetime(x_test[\"时间\"])"
   ]
  },
  {
   "cell_type": "code",
   "execution_count": 49,
   "metadata": {
    "ExecuteTime": {
     "end_time": "2024-03-06T13:23:00.600523Z",
     "start_time": "2024-03-06T13:23:00.298504Z"
    }
   },
   "outputs": [],
   "source": [
    "y_train = y_train.set_index([\"光伏用户编号\", \"综合倍率\", \"时间\"]).stack().reset_index().rename(columns={0:\"target\"})\n",
    "y_train[\"level_3\"] = y_train[\"level_3\"].apply(lambda x: int(x[1:]))\n",
    "y_train[\"时间\"] = pd.to_datetime(y_train[\"时间\"])\n",
    "y_train[\"时间\"] = y_train[\"时间\"] + (y_train[\"level_3\"] - 1) * 15 * pd.Timedelta(1, unit=\"minutes\")\n",
    "y_train = y_train.drop(columns=[\"level_3\"])\n",
    "\n",
    "y_test = y_test.set_index([\"光伏用户编号\", \"综合倍率\", \"时间\"]).stack().reset_index().rename(columns={0:\"target\"})\n",
    "y_test[\"level_3\"] = y_test[\"level_3\"].apply(lambda x: int(x[1:]))\n",
    "y_test[\"时间\"] = pd.to_datetime(y_test[\"时间\"])\n",
    "y_test[\"时间\"] = y_test[\"时间\"] + (y_test[\"level_3\"] - 1) * 15 * pd.Timedelta(1, unit=\"minutes\")\n",
    "y_test = y_test.drop(columns=[\"level_3\"])"
   ]
  },
  {
   "cell_type": "code",
   "execution_count": 50,
   "metadata": {
    "ExecuteTime": {
     "end_time": "2024-03-06T13:23:00.759523Z",
     "start_time": "2024-03-06T13:23:00.601524Z"
    }
   },
   "outputs": [],
   "source": [
    "df_train = pd.merge(x_train, y_train, on=[\"光伏用户编号\", \"时间\"], how=\"left\")\n",
    "df_test = pd.merge(x_test, y_test, on=[\"光伏用户编号\", \"时间\"], how=\"left\")"
   ]
  },
  {
   "cell_type": "markdown",
   "metadata": {},
   "source": [
    "<h2>特征工程</h2>"
   ]
  },
  {
   "cell_type": "markdown",
   "metadata": {},
   "source": [
    "<h3>时间特征</h3>"
   ]
  },
  {
   "cell_type": "code",
   "execution_count": 51,
   "metadata": {
    "ExecuteTime": {
     "end_time": "2024-03-06T13:23:00.932523Z",
     "start_time": "2024-03-06T13:23:00.761524Z"
    }
   },
   "outputs": [],
   "source": [
    "df_train[\"年\"] = df_train[\"时间\"].dt.year\n",
    "df_train[\"月\"] = df_train[\"时间\"].dt.month\n",
    "df_train[\"日\"] = df_train[\"时间\"].dt.day\n",
    "df_train[\"分\"] = df_train[\"时间\"].dt.minute // 15 + df_train[\"时间\"].dt.hour * 4\n",
    "df_train = df_train.drop(columns=[\"时间\"])\n",
    "\n",
    "df_test[\"年\"] = df_test[\"时间\"].dt.year\n",
    "df_test[\"月\"] = df_test[\"时间\"].dt.month\n",
    "df_test[\"日\"] = df_test[\"时间\"].dt.day\n",
    "df_test[\"分\"] = df_test[\"时间\"].dt.minute // 15 + df_test[\"时间\"].dt.hour * 4\n",
    "df_test = df_test.drop(columns=[\"时间\"])"
   ]
  },
  {
   "cell_type": "markdown",
   "metadata": {},
   "source": [
    "<h2>训练模型</h2>"
   ]
  },
  {
   "cell_type": "code",
   "execution_count": 52,
   "metadata": {
    "ExecuteTime": {
     "end_time": "2024-03-06T13:23:00.948524Z",
     "start_time": "2024-03-06T13:23:00.933523Z"
    }
   },
   "outputs": [],
   "source": [
    "params_lgb = {\n",
    "    'learning_rate': 0.02,\n",
    "    'boosting_type': 'gbdt',\n",
    "    'objective': 'mse',\n",
    "    'metric': 'mse',\n",
    "    'num_leaves': 64,\n",
    "    'verbose': -1,\n",
    "    'seed': 42,\n",
    "    'n_jobs': -1,\n",
    "    'feature_fraction': 0.8,\n",
    "    'bagging_fraction': 0.9,\n",
    "    'bagging_freq': 4,\n",
    "}"
   ]
  },
  {
   "cell_type": "code",
   "execution_count": 53,
   "metadata": {
    "ExecuteTime": {
     "end_time": "2024-03-06T13:26:44.724953Z",
     "start_time": "2024-03-06T13:23:00.952524Z"
    }
   },
   "outputs": [
    {
     "name": "stdout",
     "output_type": "stream",
     "text": [
      "Training until validation scores don't improve for 100 rounds\n",
      "[1000]\ttraining's l2: 0.00839727\tvalid_1's l2: 0.0188463\n",
      "[2000]\ttraining's l2: 0.00443911\tvalid_1's l2: 0.0180348\n",
      "Early stopping, best iteration is:\n",
      "[2284]\ttraining's l2: 0.00383934\tvalid_1's l2: 0.0179457\n",
      "Training until validation scores don't improve for 100 rounds\n",
      "[1000]\ttraining's l2: 0.0114937\tvalid_1's l2: 0.029827\n",
      "[2000]\ttraining's l2: 0.00612601\tvalid_1's l2: 0.0283156\n",
      "[3000]\ttraining's l2: 0.00381735\tvalid_1's l2: 0.0278973\n",
      "Early stopping, best iteration is:\n",
      "[3368]\ttraining's l2: 0.00324705\tvalid_1's l2: 0.0278525\n",
      "Training until validation scores don't improve for 100 rounds\n",
      "[1000]\ttraining's l2: 0.0187837\tvalid_1's l2: 0.0427794\n",
      "[2000]\ttraining's l2: 0.0100032\tvalid_1's l2: 0.041003\n",
      "Early stopping, best iteration is:\n",
      "[2645]\ttraining's l2: 0.00718975\tvalid_1's l2: 0.0407087\n",
      "Training until validation scores don't improve for 100 rounds\n",
      "[1000]\ttraining's l2: 0.00797945\tvalid_1's l2: 0.0221909\n",
      "Early stopping, best iteration is:\n",
      "[1380]\ttraining's l2: 0.00610524\tvalid_1's l2: 0.0219825\n",
      "Training until validation scores don't improve for 100 rounds\n",
      "[1000]\ttraining's l2: 0.00921392\tvalid_1's l2: 0.0203444\n",
      "[2000]\ttraining's l2: 0.00498378\tvalid_1's l2: 0.0184013\n",
      "[3000]\ttraining's l2: 0.0031279\tvalid_1's l2: 0.0177857\n",
      "[4000]\ttraining's l2: 0.00211953\tvalid_1's l2: 0.017544\n",
      "[5000]\ttraining's l2: 0.00148053\tvalid_1's l2: 0.0174093\n",
      "Did not meet early stopping. Best iteration is:\n",
      "[5000]\ttraining's l2: 0.00148053\tvalid_1's l2: 0.0174093\n",
      "Training until validation scores don't improve for 100 rounds\n",
      "[1000]\ttraining's l2: 0.000395118\tvalid_1's l2: 0.009402\n",
      "[2000]\ttraining's l2: 0.000221531\tvalid_1's l2: 0.0093397\n",
      "[3000]\ttraining's l2: 0.00014029\tvalid_1's l2: 0.00932255\n",
      "Early stopping, best iteration is:\n",
      "[3836]\ttraining's l2: 0.000101834\tvalid_1's l2: 0.0093161\n",
      "Training until validation scores don't improve for 100 rounds\n",
      "[1000]\ttraining's l2: 0.000521636\tvalid_1's l2: 0.00123741\n",
      "[2000]\ttraining's l2: 0.000285712\tvalid_1's l2: 0.0011685\n",
      "[3000]\ttraining's l2: 0.000181487\tvalid_1's l2: 0.00114862\n",
      "[4000]\ttraining's l2: 0.000123732\tvalid_1's l2: 0.0011388\n",
      "Early stopping, best iteration is:\n",
      "[4876]\ttraining's l2: 9.10135e-05\tvalid_1's l2: 0.00113511\n",
      "Training until validation scores don't improve for 100 rounds\n",
      "[1000]\ttraining's l2: 0.010922\tvalid_1's l2: 0.0295476\n",
      "[2000]\ttraining's l2: 0.00594042\tvalid_1's l2: 0.0290049\n",
      "Early stopping, best iteration is:\n",
      "[1952]\ttraining's l2: 0.00609309\tvalid_1's l2: 0.0289883\n",
      "Training until validation scores don't improve for 100 rounds\n",
      "[1000]\ttraining's l2: 0.000503277\tvalid_1's l2: 0.00117986\n",
      "[2000]\ttraining's l2: 0.000275786\tvalid_1's l2: 0.00108773\n",
      "[3000]\ttraining's l2: 0.000173837\tvalid_1's l2: 0.00105908\n",
      "[4000]\ttraining's l2: 0.000116765\tvalid_1's l2: 0.00104553\n",
      "Early stopping, best iteration is:\n",
      "[4653]\ttraining's l2: 9.23478e-05\tvalid_1's l2: 0.0010408\n"
     ]
    }
   ],
   "source": [
    "model_lgb = dict()\n",
    "for site, df in df_train.groupby(\"光伏用户编号\"):\n",
    "    df = df.drop(columns=[\"光伏用户编号\"]).astype(np.float32)\n",
    "    y = df.pop(\"target\")\n",
    "    x_train, x_val, y_train, y_val = train_test_split(df, y, test_size=0.2, random_state=42)\n",
    "    trainset = Dataset(x_train, y_train)\n",
    "    valset = Dataset(x_val, y_val)\n",
    "    model_lgb[site] = lgb.train(params_lgb, trainset, valid_sets=[trainset, valset], num_boost_round=5000, callbacks=[lgb.early_stopping(100), lgb.log_evaluation(1000)])\n",
    "    model_lgb[site].save_model(\"../models/lgb_%s.txt\" % site)\n"
   ]
  },
  {
   "cell_type": "markdown",
   "metadata": {},
   "source": [
    "<h2>预测</h2>"
   ]
  },
  {
   "cell_type": "code",
   "execution_count": 54,
   "metadata": {
    "ExecuteTime": {
     "end_time": "2024-03-06T13:26:46.415037Z",
     "start_time": "2024-03-06T13:26:44.726953Z"
    }
   },
   "outputs": [],
   "source": [
    "for site, df in df_test.groupby(\"光伏用户编号\"):\n",
    "    df = df.drop(columns=[\"光伏用户编号\"]).astype(np.float32)\n",
    "    y = df.pop(\"target\")\n",
    "    y_pred = model_lgb[site].predict(df)\n",
    "    df_test.loc[df_test[\"光伏用户编号\"] == site, \"target\"] = y_pred"
   ]
  },
  {
   "cell_type": "code",
   "execution_count": 55,
   "metadata": {
    "ExecuteTime": {
     "end_time": "2024-03-06T13:26:46.558017Z",
     "start_time": "2024-03-06T13:26:46.416037Z"
    }
   },
   "outputs": [],
   "source": [
    "df_test = df_test[[\"光伏用户编号\", \"综合倍率\", \"年\", \"月\", \"日\", \"分\", \"target\"]]\n",
    "df_test[\"时间\"] = df_test[\"年\"].astype(str) + \"-\" + df_test[\"月\"].astype(str) + \"-\" + df_test[\"日\"].astype(str) + \" 0:00\"\n",
    "df_test[\"分\"] = \"p\" + (df_test[\"分\"] + 1).astype(str)\n",
    "df_test = df_test.drop(columns=[\"年\", \"月\", \"日\"])"
   ]
  },
  {
   "cell_type": "code",
   "execution_count": 91,
   "metadata": {
    "ExecuteTime": {
     "end_time": "2024-03-06T13:49:45.680951Z",
     "start_time": "2024-03-06T13:49:45.635515Z"
    }
   },
   "outputs": [],
   "source": [
    "result = pd.pivot(df_test, index=[\"光伏用户编号\", \"综合倍率\", \"时间\"], columns=\"分\", values=\"target\").reset_index()\n",
    "result = result[result[\"综合倍率\"].notnull()]\n",
    "result[\"综合倍率\"] = result[\"综合倍率\"].astype(int)"
   ]
  },
  {
   "cell_type": "code",
   "execution_count": 94,
   "metadata": {
    "ExecuteTime": {
     "end_time": "2024-03-06T13:50:40.314809Z",
     "start_time": "2024-03-06T13:50:40.214793Z"
    }
   },
   "outputs": [],
   "source": [
    "result.to_csv(\"../data/%s.csv\" % datetime.now().strftime(\"%Y%m%d_%H%M%S\"), encoding=\"utf-8\", index=False)"
   ]
  },
  {
   "cell_type": "code",
   "execution_count": null,
   "metadata": {},
   "outputs": [],
   "source": []
  }
 ],
 "metadata": {
  "kernelspec": {
   "display_name": "Python 3",
   "language": "python",
   "name": "python3"
  },
  "language_info": {
   "codemirror_mode": {
    "name": "ipython",
    "version": 3
   },
   "file_extension": ".py",
   "mimetype": "text/x-python",
   "name": "python",
   "nbconvert_exporter": "python",
   "pygments_lexer": "ipython3",
   "version": "3.7.3"
  },
  "toc": {
   "base_numbering": 1,
   "nav_menu": {},
   "number_sections": true,
   "sideBar": true,
   "skip_h1_title": false,
   "title_cell": "Table of Contents",
   "title_sidebar": "Contents",
   "toc_cell": false,
   "toc_position": {},
   "toc_section_display": true,
   "toc_window_display": true
  },
  "varInspector": {
   "cols": {
    "lenName": 16,
    "lenType": 16,
    "lenVar": 40
   },
   "kernels_config": {
    "python": {
     "delete_cmd_postfix": "",
     "delete_cmd_prefix": "del ",
     "library": "var_list.py",
     "varRefreshCmd": "print(var_dic_list())"
    },
    "r": {
     "delete_cmd_postfix": ") ",
     "delete_cmd_prefix": "rm(",
     "library": "var_list.r",
     "varRefreshCmd": "cat(var_dic_list()) "
    }
   },
   "types_to_exclude": [
    "module",
    "function",
    "builtin_function_or_method",
    "instance",
    "_Feature"
   ],
   "window_display": false
  }
 },
 "nbformat": 4,
 "nbformat_minor": 4
}
