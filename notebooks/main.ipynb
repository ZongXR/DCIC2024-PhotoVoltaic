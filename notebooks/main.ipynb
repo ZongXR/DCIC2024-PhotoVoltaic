{
 "cells": [
  {
   "cell_type": "markdown",
   "metadata": {},
   "source": [
    "<h2>导入包</h2>"
   ]
  },
  {
   "cell_type": "code",
   "execution_count": 33,
   "metadata": {
    "ExecuteTime": {
     "end_time": "2024-04-02T01:24:36.074099Z",
     "start_time": "2024-04-02T01:24:36.069099Z"
    }
   },
   "outputs": [],
   "source": [
    "import os\n",
    "import re\n",
    "import logging\n",
    "from datetime import datetime, date\n",
    "import numpy as np\n",
    "import pandas as pd\n",
    "from pandas import Series, DataFrame\n",
    "from sklearn.model_selection import train_test_split\n",
    "from sklearn.model_selection import StratifiedKFold, KFold\n",
    "from sklearn.metrics import mean_squared_error\n",
    "import xgboost as xgb\n",
    "from xgboost import DMatrix\n",
    "import lightgbm as lgb\n",
    "from lightgbm import Dataset\n",
    "import matplotlib.pyplot as plt\n",
    "from astral import LocationInfo\n",
    "from astral.sun import sunrise, sunset, dawn, noon, dusk\n",
    "\n",
    "\n",
    "logging.basicConfig(format='%(asctime)s : %(levelname)s : %(message)s', level=logging.INFO)"
   ]
  },
  {
   "cell_type": "markdown",
   "metadata": {},
   "source": [
    "<h2>读取数据</h2>"
   ]
  },
  {
   "cell_type": "markdown",
   "metadata": {},
   "source": [
    "<h3>比赛数据</h3>"
   ]
  },
  {
   "cell_type": "code",
   "execution_count": 34,
   "metadata": {
    "ExecuteTime": {
     "end_time": "2024-04-02T01:24:36.620201Z",
     "start_time": "2024-04-02T01:24:36.075099Z"
    }
   },
   "outputs": [],
   "source": [
    "x_train = pd.read_csv(\"../data/A榜-训练集_分布式光伏发电预测_气象变量数据.csv\", encoding=\"gbk\")\n",
    "y_train = pd.read_csv(\"../data/A榜-训练集_分布式光伏发电预测_实际功率数据.csv\", encoding=\"gbk\")\n",
    "info_train = pd.read_csv(\"../data/A榜-训练集_分布式光伏发电预测_基本信息.csv\", encoding=\"gbk\")\n",
    "x_test = pd.read_csv(\"../data/A榜-测试集_分布式光伏发电预测_气象变量数据.csv\", encoding=\"gbk\")\n",
    "y_test = pd.read_csv(\"../data/submit_example.csv\", encoding=\"utf-8\")\n",
    "info_test = pd.read_csv(\"../data/A榜-测试集_分布式光伏发电预测_基本信息.csv\", encoding=\"gbk\")"
   ]
  },
  {
   "cell_type": "code",
   "execution_count": 35,
   "metadata": {
    "ExecuteTime": {
     "end_time": "2024-04-02T01:24:36.928107Z",
     "start_time": "2024-04-02T01:24:36.621100Z"
    }
   },
   "outputs": [],
   "source": [
    "x_train = pd.merge(x_train, info_train[[\"光伏用户编号\", \"装机容量(kW)\", \"经度\", \"纬度\"]], how=\"left\", on=\"光伏用户编号\")\n",
    "x_train[\"时间\"] = pd.to_datetime(x_train[\"时间\"], utc=False).dt.tz_localize('Asia/Shanghai')\n",
    "x_test = pd.merge(x_test, info_test[[\"光伏用户编号\", \"装机容量(kW)\", \"经度\", \"纬度\"]], how=\"left\", on=\"光伏用户编号\")\n",
    "x_test[\"时间\"] = pd.to_datetime(x_test[\"时间\"], utc=False).dt.tz_localize('Asia/Shanghai')"
   ]
  },
  {
   "cell_type": "code",
   "execution_count": 36,
   "metadata": {
    "ExecuteTime": {
     "end_time": "2024-04-02T01:24:37.214130Z",
     "start_time": "2024-04-02T01:24:36.929099Z"
    }
   },
   "outputs": [],
   "source": [
    "y_train = y_train.set_index([\"光伏用户编号\", \"综合倍率\", \"时间\"]).stack().reset_index().rename(columns={0:\"target\"})\n",
    "y_train[\"level_3\"] = y_train[\"level_3\"].apply(lambda x: int(x[1:]))\n",
    "y_train[\"时间\"] = pd.to_datetime(y_train[\"时间\"], utc=False).dt.tz_localize('Asia/Shanghai')\n",
    "y_train[\"时间\"] = y_train[\"时间\"] + (y_train[\"level_3\"] - 1) * 15 * pd.Timedelta(1, unit=\"minutes\")\n",
    "y_train = y_train.drop(columns=[\"level_3\"])\n",
    "\n",
    "y_test = y_test.set_index([\"光伏用户编号\", \"综合倍率\", \"时间\"]).stack().reset_index().rename(columns={0:\"target\"})\n",
    "y_test[\"level_3\"] = y_test[\"level_3\"].apply(lambda x: int(x[1:]))\n",
    "y_test[\"时间\"] = pd.to_datetime(y_test[\"时间\"], utc=False).dt.tz_localize('Asia/Shanghai')\n",
    "y_test[\"时间\"] = y_test[\"时间\"] + (y_test[\"level_3\"] - 1) * 15 * pd.Timedelta(1, unit=\"minutes\")\n",
    "y_test = y_test.drop(columns=[\"level_3\"])"
   ]
  },
  {
   "cell_type": "code",
   "execution_count": 37,
   "metadata": {
    "ExecuteTime": {
     "end_time": "2024-04-02T01:24:37.447106Z",
     "start_time": "2024-04-02T01:24:37.215100Z"
    }
   },
   "outputs": [
    {
     "name": "stderr",
     "output_type": "stream",
     "text": [
      "2024-04-02 09:24:37,444 : INFO : Index(['光伏用户编号', '时间', '气压(Pa）', '相对湿度（%）', '云量', '10米风速（10m/s）', '10米风向（°)',\n",
      "       '温度（K）', '辐照强度（J/m2）', '降水（m）', '100m风速（100m/s）', '100m风向（°)',\n",
      "       '装机容量(kW)', '经度', '纬度', '综合倍率', 'target'],\n",
      "      dtype='object')\n"
     ]
    }
   ],
   "source": [
    "df_train = pd.merge(x_train, y_train, on=[\"光伏用户编号\", \"时间\"], how=\"left\")\n",
    "df_test = pd.merge(x_test, y_test, on=[\"光伏用户编号\", \"时间\"], how=\"left\")\n",
    "df = pd.concat([df_train, df_test], axis=0)\n",
    "logging.info(df.columns)"
   ]
  },
  {
   "cell_type": "markdown",
   "metadata": {},
   "source": [
    "<h3>外部数据</h3>"
   ]
  },
  {
   "cell_type": "code",
   "execution_count": 38,
   "metadata": {
    "ExecuteTime": {
     "end_time": "2024-04-02T01:25:24.077855Z",
     "start_time": "2024-04-02T01:24:37.448099Z"
    },
    "scrolled": false
   },
   "outputs": [
    {
     "name": "stderr",
     "output_type": "stream",
     "text": [
      "2024-04-02 09:25:24,075 : INFO : Index(['时间', 'temperature_2m_archive_best_match (°C)',\n",
      "       'relative_humidity_2m_archive_best_match (%)',\n",
      "       'dew_point_2m_archive_best_match (°C)',\n",
      "       'apparent_temperature_archive_best_match (°C)',\n",
      "       'precipitation_archive_best_match (mm)', 'rain_archive_best_match (mm)',\n",
      "       'snowfall_archive_best_match (cm)', 'snow_depth_archive_best_match (m)',\n",
      "       'weather_code_archive_best_match (wmo code)',\n",
      "       ...\n",
      "       'direct_normal_irradiance_era5_land (W/m²)',\n",
      "       'global_tilted_irradiance_era5_land (W/m²)',\n",
      "       'terrestrial_radiation_era5_land (W/m²)',\n",
      "       'shortwave_radiation_instant_era5_land (W/m²)',\n",
      "       'direct_radiation_instant_era5_land (W/m²)',\n",
      "       'diffuse_radiation_instant_era5_land (W/m²)',\n",
      "       'direct_normal_irradiance_instant_era5_land (W/m²)',\n",
      "       'global_tilted_irradiance_instant_era5_land (W/m²)',\n",
      "       'terrestrial_radiation_instant_era5_land (W/m²)', '光伏用户编号'],\n",
      "      dtype='object', length=222)\n"
     ]
    }
   ],
   "source": [
    "outer_files = os.listdir(\"../data/\")\n",
    "outer_files = [x for x in outer_files if re.match(r\"^open-meteo-f\\d\\.csv$\", x)]\n",
    "outer_dfs = list()\n",
    "for outer_file in outer_files:\n",
    "    outer_df = pd.read_csv(os.path.join(\"../data\", outer_file), skiprows=3)\n",
    "    outer_df[\"time\"] = pd.to_datetime(outer_df[\"time\"], utc=False).dt.tz_localize('Asia/Shanghai')\n",
    "    outer_df = outer_df.set_index(\"time\", drop=True).asfreq(\"15T\")\n",
    "    outer_df = outer_df.interpolate(method=\"time\", axis=0)\n",
    "\n",
    "    outer_df = outer_df.reset_index(drop=False).rename(columns={\"time\": \"时间\"})\n",
    "    outer_df[\"光伏用户编号\"] = re.match(r\"^open-meteo-(f\\d)\\.csv$\", outer_file).group(1)    \n",
    "    outer_dfs.append(outer_df)\n",
    "outer_data = pd.concat(outer_dfs, axis=0)\n",
    "logging.info(outer_data.columns)"
   ]
  },
  {
   "cell_type": "code",
   "execution_count": 39,
   "metadata": {
    "ExecuteTime": {
     "end_time": "2024-04-02T01:25:24.128930Z",
     "start_time": "2024-04-02T01:25:24.078846Z"
    }
   },
   "outputs": [
    {
     "name": "stderr",
     "output_type": "stream",
     "text": [
      "2024-04-02 09:25:24,124 : INFO : Index(['时间', 'weather_code (wmo code)', 'temperature_2m_max (°C)',\n",
      "       'temperature_2m_min (°C)', 'temperature_2m_mean (°C)',\n",
      "       'apparent_temperature_max (°C)', 'apparent_temperature_min (°C)',\n",
      "       'apparent_temperature_mean (°C)', 'sunrise (iso8601)',\n",
      "       'sunset (iso8601)', 'daylight_duration (s)', 'sunshine_duration (s)',\n",
      "       'precipitation_sum (mm)', 'rain_sum (mm)', 'snowfall_sum (cm)',\n",
      "       'precipitation_hours (h)', 'wind_speed_10m_max (km/h)',\n",
      "       'wind_gusts_10m_max (km/h)', 'wind_direction_10m_dominant (°)',\n",
      "       'shortwave_radiation_sum (MJ/m²)', 'et0_fao_evapotranspiration (mm)',\n",
      "       '光伏用户编号'],\n",
      "      dtype='object')\n"
     ]
    }
   ],
   "source": [
    "outer_day_files = os.listdir(\"../data/\")\n",
    "outer_day_files = [x for x in outer_day_files if re.match(r\"^open-meteo-day-f\\d\\.csv$\", x)]\n",
    "outer_day_dfs = list()\n",
    "for outer_day_file in outer_day_files:\n",
    "    outer_day_df = pd.read_csv(os.path.join(\"../data\", outer_day_file), skiprows=3)\n",
    "    outer_day_df[\"time\"] = pd.to_datetime(outer_day_df[\"time\"], utc=False).dt.tz_localize('Asia/Shanghai')\n",
    "    outer_day_df = outer_day_df.rename(columns={\"time\": \"时间\"})\n",
    "    outer_day_df[\"光伏用户编号\"] = re.match(r\"^open-meteo-day-(f\\d)\\.csv$\", outer_day_file).group(1)    \n",
    "    outer_day_dfs.append(outer_day_df)\n",
    "outer_day_data = pd.concat(outer_day_dfs, axis=0)\n",
    "logging.info(outer_day_data.columns)"
   ]
  },
  {
   "cell_type": "code",
   "execution_count": 40,
   "metadata": {
    "ExecuteTime": {
     "end_time": "2024-04-02T01:25:25.926042Z",
     "start_time": "2024-04-02T01:25:24.130845Z"
    },
    "scrolled": false
   },
   "outputs": [
    {
     "name": "stderr",
     "output_type": "stream",
     "text": [
      "2024-04-02 09:25:25,817 : INFO : 时间\n",
      "2024-04-02 09:25:25,818 : INFO : temperature_2m_archive_best_match (°C)\n",
      "2024-04-02 09:25:25,818 : INFO : relative_humidity_2m_archive_best_match (%)\n",
      "2024-04-02 09:25:25,819 : INFO : dew_point_2m_archive_best_match (°C)\n",
      "2024-04-02 09:25:25,819 : INFO : apparent_temperature_archive_best_match (°C)\n",
      "2024-04-02 09:25:25,819 : INFO : precipitation_archive_best_match (mm)\n",
      "2024-04-02 09:25:25,820 : INFO : rain_archive_best_match (mm)\n",
      "2024-04-02 09:25:25,820 : INFO : snowfall_archive_best_match (cm)\n",
      "2024-04-02 09:25:25,820 : INFO : snow_depth_archive_best_match (m)\n",
      "2024-04-02 09:25:25,822 : INFO : weather_code_archive_best_match (wmo code)\n",
      "2024-04-02 09:25:25,822 : INFO : pressure_msl_archive_best_match (hPa)\n",
      "2024-04-02 09:25:25,822 : INFO : surface_pressure_archive_best_match (hPa)\n",
      "2024-04-02 09:25:25,823 : INFO : cloud_cover_archive_best_match (%)\n",
      "2024-04-02 09:25:25,823 : INFO : cloud_cover_low_archive_best_match (%)\n",
      "2024-04-02 09:25:25,823 : INFO : cloud_cover_mid_archive_best_match (%)\n",
      "2024-04-02 09:25:25,823 : INFO : cloud_cover_high_archive_best_match (%)\n",
      "2024-04-02 09:25:25,824 : INFO : et0_fao_evapotranspiration_archive_best_match (mm)\n",
      "2024-04-02 09:25:25,824 : INFO : vapour_pressure_deficit_archive_best_match (kPa)\n",
      "2024-04-02 09:25:25,824 : INFO : wind_speed_10m_archive_best_match (km/h)\n",
      "2024-04-02 09:25:25,824 : INFO : wind_speed_100m_archive_best_match (km/h)\n",
      "2024-04-02 09:25:25,825 : INFO : wind_direction_10m_archive_best_match (°)\n",
      "2024-04-02 09:25:25,825 : INFO : wind_direction_100m_archive_best_match (°)\n",
      "2024-04-02 09:25:25,825 : INFO : wind_gusts_10m_archive_best_match (km/h)\n",
      "2024-04-02 09:25:25,825 : INFO : soil_temperature_0_to_7cm_archive_best_match (°C)\n",
      "2024-04-02 09:25:25,826 : INFO : soil_temperature_7_to_28cm_archive_best_match (°C)\n",
      "2024-04-02 09:25:25,828 : INFO : soil_temperature_28_to_100cm_archive_best_match (°C)\n",
      "2024-04-02 09:25:25,828 : INFO : soil_temperature_100_to_255cm_archive_best_match (°C)\n",
      "2024-04-02 09:25:25,828 : INFO : soil_moisture_0_to_7cm_archive_best_match (m³/m³)\n",
      "2024-04-02 09:25:25,829 : INFO : soil_moisture_7_to_28cm_archive_best_match (m³/m³)\n",
      "2024-04-02 09:25:25,829 : INFO : soil_moisture_28_to_100cm_archive_best_match (m³/m³)\n",
      "2024-04-02 09:25:25,829 : INFO : soil_moisture_100_to_255cm_archive_best_match (m³/m³)\n",
      "2024-04-02 09:25:25,829 : INFO : is_day_archive_best_match ()\n",
      "2024-04-02 09:25:25,830 : INFO : sunshine_duration_archive_best_match (s)\n",
      "2024-04-02 09:25:25,830 : INFO : shortwave_radiation_archive_best_match (W/m²)\n",
      "2024-04-02 09:25:25,830 : INFO : direct_radiation_archive_best_match (W/m²)\n",
      "2024-04-02 09:25:25,831 : INFO : diffuse_radiation_archive_best_match (W/m²)\n",
      "2024-04-02 09:25:25,832 : INFO : direct_normal_irradiance_archive_best_match (W/m²)\n",
      "2024-04-02 09:25:25,832 : INFO : global_tilted_irradiance_archive_best_match (W/m²)\n",
      "2024-04-02 09:25:25,833 : INFO : terrestrial_radiation_archive_best_match (W/m²)\n",
      "2024-04-02 09:25:25,834 : INFO : shortwave_radiation_instant_archive_best_match (W/m²)\n",
      "2024-04-02 09:25:25,834 : INFO : direct_radiation_instant_archive_best_match (W/m²)\n",
      "2024-04-02 09:25:25,834 : INFO : diffuse_radiation_instant_archive_best_match (W/m²)\n",
      "2024-04-02 09:25:25,835 : INFO : direct_normal_irradiance_instant_archive_best_match (W/m²)\n",
      "2024-04-02 09:25:25,835 : INFO : global_tilted_irradiance_instant_archive_best_match (W/m²)\n",
      "2024-04-02 09:25:25,835 : INFO : terrestrial_radiation_instant_archive_best_match (W/m²)\n",
      "2024-04-02 09:25:25,836 : INFO : temperature_2m_ecmwf_ifs (°C)\n",
      "2024-04-02 09:25:25,836 : INFO : relative_humidity_2m_ecmwf_ifs (%)\n",
      "2024-04-02 09:25:25,836 : INFO : dew_point_2m_ecmwf_ifs (°C)\n",
      "2024-04-02 09:25:25,836 : INFO : apparent_temperature_ecmwf_ifs (°C)\n",
      "2024-04-02 09:25:25,837 : INFO : precipitation_ecmwf_ifs (mm)\n",
      "2024-04-02 09:25:25,837 : INFO : rain_ecmwf_ifs (mm)\n",
      "2024-04-02 09:25:25,839 : INFO : snowfall_ecmwf_ifs (cm)\n",
      "2024-04-02 09:25:25,839 : INFO : snow_depth_ecmwf_ifs (m)\n",
      "2024-04-02 09:25:25,839 : INFO : weather_code_ecmwf_ifs (wmo code)\n",
      "2024-04-02 09:25:25,839 : INFO : pressure_msl_ecmwf_ifs (hPa)\n",
      "2024-04-02 09:25:25,840 : INFO : surface_pressure_ecmwf_ifs (hPa)\n",
      "2024-04-02 09:25:25,840 : INFO : cloud_cover_ecmwf_ifs (%)\n",
      "2024-04-02 09:25:25,840 : INFO : cloud_cover_low_ecmwf_ifs (%)\n",
      "2024-04-02 09:25:25,841 : INFO : cloud_cover_mid_ecmwf_ifs (%)\n",
      "2024-04-02 09:25:25,842 : INFO : cloud_cover_high_ecmwf_ifs (%)\n",
      "2024-04-02 09:25:25,842 : INFO : et0_fao_evapotranspiration_ecmwf_ifs (mm)\n",
      "2024-04-02 09:25:25,843 : INFO : vapour_pressure_deficit_ecmwf_ifs (kPa)\n",
      "2024-04-02 09:25:25,843 : INFO : wind_speed_10m_ecmwf_ifs (km/h)\n",
      "2024-04-02 09:25:25,843 : INFO : wind_speed_100m_ecmwf_ifs (km/h)\n",
      "2024-04-02 09:25:25,844 : INFO : wind_direction_10m_ecmwf_ifs (°)\n",
      "2024-04-02 09:25:25,844 : INFO : wind_direction_100m_ecmwf_ifs (°)\n",
      "2024-04-02 09:25:25,845 : INFO : wind_gusts_10m_ecmwf_ifs (km/h)\n",
      "2024-04-02 09:25:25,845 : INFO : soil_temperature_0_to_7cm_ecmwf_ifs (°C)\n",
      "2024-04-02 09:25:25,845 : INFO : soil_temperature_7_to_28cm_ecmwf_ifs (°C)\n",
      "2024-04-02 09:25:25,846 : INFO : soil_temperature_28_to_100cm_ecmwf_ifs (°C)\n",
      "2024-04-02 09:25:25,847 : INFO : soil_temperature_100_to_255cm_ecmwf_ifs (°C)\n",
      "2024-04-02 09:25:25,848 : INFO : soil_moisture_0_to_7cm_ecmwf_ifs (m³/m³)\n",
      "2024-04-02 09:25:25,849 : INFO : soil_moisture_7_to_28cm_ecmwf_ifs (m³/m³)\n",
      "2024-04-02 09:25:25,850 : INFO : soil_moisture_28_to_100cm_ecmwf_ifs (m³/m³)\n",
      "2024-04-02 09:25:25,850 : INFO : soil_moisture_100_to_255cm_ecmwf_ifs (m³/m³)\n",
      "2024-04-02 09:25:25,850 : INFO : is_day_ecmwf_ifs ()\n",
      "2024-04-02 09:25:25,851 : INFO : sunshine_duration_ecmwf_ifs (s)\n",
      "2024-04-02 09:25:25,851 : INFO : shortwave_radiation_ecmwf_ifs (W/m²)\n",
      "2024-04-02 09:25:25,852 : INFO : direct_radiation_ecmwf_ifs (W/m²)\n",
      "2024-04-02 09:25:25,852 : INFO : diffuse_radiation_ecmwf_ifs (W/m²)\n",
      "2024-04-02 09:25:25,852 : INFO : direct_normal_irradiance_ecmwf_ifs (W/m²)\n",
      "2024-04-02 09:25:25,852 : INFO : global_tilted_irradiance_ecmwf_ifs (W/m²)\n",
      "2024-04-02 09:25:25,853 : INFO : terrestrial_radiation_ecmwf_ifs (W/m²)\n",
      "2024-04-02 09:25:25,853 : INFO : shortwave_radiation_instant_ecmwf_ifs (W/m²)\n",
      "2024-04-02 09:25:25,853 : INFO : direct_radiation_instant_ecmwf_ifs (W/m²)\n",
      "2024-04-02 09:25:25,854 : INFO : diffuse_radiation_instant_ecmwf_ifs (W/m²)\n",
      "2024-04-02 09:25:25,855 : INFO : direct_normal_irradiance_instant_ecmwf_ifs (W/m²)\n",
      "2024-04-02 09:25:25,855 : INFO : global_tilted_irradiance_instant_ecmwf_ifs (W/m²)\n",
      "2024-04-02 09:25:25,855 : INFO : terrestrial_radiation_instant_ecmwf_ifs (W/m²)\n",
      "2024-04-02 09:25:25,856 : INFO : temperature_2m_era5_seamless (°C)\n",
      "2024-04-02 09:25:25,856 : INFO : relative_humidity_2m_era5_seamless (%)\n",
      "2024-04-02 09:25:25,856 : INFO : dew_point_2m_era5_seamless (°C)\n",
      "2024-04-02 09:25:25,857 : INFO : apparent_temperature_era5_seamless (°C)\n",
      "2024-04-02 09:25:25,857 : INFO : precipitation_era5_seamless (mm)\n",
      "2024-04-02 09:25:25,857 : INFO : rain_era5_seamless (mm)\n",
      "2024-04-02 09:25:25,857 : INFO : snowfall_era5_seamless (cm)\n",
      "2024-04-02 09:25:25,858 : INFO : snow_depth_era5_seamless (m)\n",
      "2024-04-02 09:25:25,858 : INFO : weather_code_era5_seamless (wmo code)\n",
      "2024-04-02 09:25:25,858 : INFO : pressure_msl_era5_seamless (hPa)\n",
      "2024-04-02 09:25:25,858 : INFO : surface_pressure_era5_seamless (hPa)\n",
      "2024-04-02 09:25:25,860 : INFO : cloud_cover_era5_seamless (%)\n",
      "2024-04-02 09:25:25,861 : INFO : cloud_cover_low_era5_seamless (%)\n",
      "2024-04-02 09:25:25,861 : INFO : cloud_cover_mid_era5_seamless (%)\n",
      "2024-04-02 09:25:25,861 : INFO : cloud_cover_high_era5_seamless (%)\n",
      "2024-04-02 09:25:25,862 : INFO : et0_fao_evapotranspiration_era5_seamless (mm)\n",
      "2024-04-02 09:25:25,862 : INFO : vapour_pressure_deficit_era5_seamless (kPa)\n",
      "2024-04-02 09:25:25,862 : INFO : wind_speed_10m_era5_seamless (km/h)\n",
      "2024-04-02 09:25:25,862 : INFO : wind_speed_100m_era5_seamless (km/h)\n",
      "2024-04-02 09:25:25,863 : INFO : wind_direction_10m_era5_seamless (°)\n",
      "2024-04-02 09:25:25,863 : INFO : wind_direction_100m_era5_seamless (°)\n",
      "2024-04-02 09:25:25,863 : INFO : wind_gusts_10m_era5_seamless (km/h)\n",
      "2024-04-02 09:25:25,864 : INFO : soil_temperature_0_to_7cm_era5_seamless (°C)\n",
      "2024-04-02 09:25:25,864 : INFO : soil_temperature_7_to_28cm_era5_seamless (°C)\n",
      "2024-04-02 09:25:25,864 : INFO : soil_temperature_28_to_100cm_era5_seamless (°C)\n"
     ]
    },
    {
     "name": "stderr",
     "output_type": "stream",
     "text": [
      "2024-04-02 09:25:25,864 : INFO : soil_temperature_100_to_255cm_era5_seamless (°C)\n",
      "2024-04-02 09:25:25,865 : INFO : soil_moisture_0_to_7cm_era5_seamless (m³/m³)\n",
      "2024-04-02 09:25:25,865 : INFO : soil_moisture_7_to_28cm_era5_seamless (m³/m³)\n",
      "2024-04-02 09:25:25,865 : INFO : soil_moisture_28_to_100cm_era5_seamless (m³/m³)\n",
      "2024-04-02 09:25:25,866 : INFO : soil_moisture_100_to_255cm_era5_seamless (m³/m³)\n",
      "2024-04-02 09:25:25,866 : INFO : is_day_era5_seamless ()\n",
      "2024-04-02 09:25:25,866 : INFO : sunshine_duration_era5_seamless (s)\n",
      "2024-04-02 09:25:25,866 : INFO : shortwave_radiation_era5_seamless (W/m²)\n",
      "2024-04-02 09:25:25,867 : INFO : direct_radiation_era5_seamless (W/m²)\n",
      "2024-04-02 09:25:25,867 : INFO : diffuse_radiation_era5_seamless (W/m²)\n",
      "2024-04-02 09:25:25,867 : INFO : direct_normal_irradiance_era5_seamless (W/m²)\n",
      "2024-04-02 09:25:25,868 : INFO : global_tilted_irradiance_era5_seamless (W/m²)\n",
      "2024-04-02 09:25:25,868 : INFO : terrestrial_radiation_era5_seamless (W/m²)\n",
      "2024-04-02 09:25:25,868 : INFO : shortwave_radiation_instant_era5_seamless (W/m²)\n",
      "2024-04-02 09:25:25,872 : INFO : direct_radiation_instant_era5_seamless (W/m²)\n",
      "2024-04-02 09:25:25,872 : INFO : diffuse_radiation_instant_era5_seamless (W/m²)\n",
      "2024-04-02 09:25:25,872 : INFO : direct_normal_irradiance_instant_era5_seamless (W/m²)\n",
      "2024-04-02 09:25:25,872 : INFO : global_tilted_irradiance_instant_era5_seamless (W/m²)\n",
      "2024-04-02 09:25:25,873 : INFO : terrestrial_radiation_instant_era5_seamless (W/m²)\n",
      "2024-04-02 09:25:25,873 : INFO : temperature_2m_era5 (°C)\n",
      "2024-04-02 09:25:25,873 : INFO : relative_humidity_2m_era5 (%)\n",
      "2024-04-02 09:25:25,874 : INFO : dew_point_2m_era5 (°C)\n",
      "2024-04-02 09:25:25,875 : INFO : apparent_temperature_era5 (°C)\n",
      "2024-04-02 09:25:25,875 : INFO : precipitation_era5 (mm)\n",
      "2024-04-02 09:25:25,876 : INFO : rain_era5 (mm)\n",
      "2024-04-02 09:25:25,876 : INFO : snowfall_era5 (cm)\n",
      "2024-04-02 09:25:25,876 : INFO : snow_depth_era5 (m)\n",
      "2024-04-02 09:25:25,877 : INFO : weather_code_era5 (wmo code)\n",
      "2024-04-02 09:25:25,877 : INFO : pressure_msl_era5 (hPa)\n",
      "2024-04-02 09:25:25,878 : INFO : surface_pressure_era5 (hPa)\n",
      "2024-04-02 09:25:25,878 : INFO : cloud_cover_era5 (%)\n",
      "2024-04-02 09:25:25,878 : INFO : cloud_cover_low_era5 (%)\n",
      "2024-04-02 09:25:25,879 : INFO : cloud_cover_mid_era5 (%)\n",
      "2024-04-02 09:25:25,879 : INFO : cloud_cover_high_era5 (%)\n",
      "2024-04-02 09:25:25,879 : INFO : et0_fao_evapotranspiration_era5 (mm)\n",
      "2024-04-02 09:25:25,880 : INFO : vapour_pressure_deficit_era5 (kPa)\n",
      "2024-04-02 09:25:25,880 : INFO : wind_speed_10m_era5 (km/h)\n",
      "2024-04-02 09:25:25,881 : INFO : wind_speed_100m_era5 (km/h)\n",
      "2024-04-02 09:25:25,881 : INFO : wind_direction_10m_era5 (°)\n",
      "2024-04-02 09:25:25,881 : INFO : wind_direction_100m_era5 (°)\n",
      "2024-04-02 09:25:25,882 : INFO : wind_gusts_10m_era5 (km/h)\n",
      "2024-04-02 09:25:25,882 : INFO : soil_temperature_0_to_7cm_era5 (°C)\n",
      "2024-04-02 09:25:25,882 : INFO : soil_temperature_7_to_28cm_era5 (°C)\n",
      "2024-04-02 09:25:25,883 : INFO : soil_temperature_28_to_100cm_era5 (°C)\n",
      "2024-04-02 09:25:25,885 : INFO : soil_temperature_100_to_255cm_era5 (°C)\n",
      "2024-04-02 09:25:25,886 : INFO : soil_moisture_0_to_7cm_era5 (m³/m³)\n",
      "2024-04-02 09:25:25,886 : INFO : soil_moisture_7_to_28cm_era5 (m³/m³)\n",
      "2024-04-02 09:25:25,886 : INFO : soil_moisture_28_to_100cm_era5 (m³/m³)\n",
      "2024-04-02 09:25:25,887 : INFO : soil_moisture_100_to_255cm_era5 (m³/m³)\n",
      "2024-04-02 09:25:25,887 : INFO : is_day_era5 ()\n",
      "2024-04-02 09:25:25,888 : INFO : sunshine_duration_era5 (s)\n",
      "2024-04-02 09:25:25,888 : INFO : shortwave_radiation_era5 (W/m²)\n",
      "2024-04-02 09:25:25,888 : INFO : direct_radiation_era5 (W/m²)\n",
      "2024-04-02 09:25:25,889 : INFO : diffuse_radiation_era5 (W/m²)\n",
      "2024-04-02 09:25:25,889 : INFO : direct_normal_irradiance_era5 (W/m²)\n",
      "2024-04-02 09:25:25,889 : INFO : global_tilted_irradiance_era5 (W/m²)\n",
      "2024-04-02 09:25:25,890 : INFO : terrestrial_radiation_era5 (W/m²)\n",
      "2024-04-02 09:25:25,890 : INFO : shortwave_radiation_instant_era5 (W/m²)\n",
      "2024-04-02 09:25:25,890 : INFO : direct_radiation_instant_era5 (W/m²)\n",
      "2024-04-02 09:25:25,891 : INFO : diffuse_radiation_instant_era5 (W/m²)\n",
      "2024-04-02 09:25:25,891 : INFO : direct_normal_irradiance_instant_era5 (W/m²)\n",
      "2024-04-02 09:25:25,891 : INFO : global_tilted_irradiance_instant_era5 (W/m²)\n",
      "2024-04-02 09:25:25,894 : INFO : terrestrial_radiation_instant_era5 (W/m²)\n",
      "2024-04-02 09:25:25,894 : INFO : temperature_2m_era5_land (°C)\n",
      "2024-04-02 09:25:25,894 : INFO : relative_humidity_2m_era5_land (%)\n",
      "2024-04-02 09:25:25,894 : INFO : dew_point_2m_era5_land (°C)\n",
      "2024-04-02 09:25:25,895 : INFO : apparent_temperature_era5_land (°C)\n",
      "2024-04-02 09:25:25,896 : INFO : precipitation_era5_land (mm)\n",
      "2024-04-02 09:25:25,896 : INFO : rain_era5_land (mm)\n",
      "2024-04-02 09:25:25,897 : INFO : snowfall_era5_land (cm)\n",
      "2024-04-02 09:25:25,897 : INFO : snow_depth_era5_land (m)\n",
      "2024-04-02 09:25:25,898 : INFO : weather_code_era5_land (wmo code)\n",
      "2024-04-02 09:25:25,898 : INFO : pressure_msl_era5_land (hPa)\n",
      "2024-04-02 09:25:25,899 : INFO : surface_pressure_era5_land (hPa)\n",
      "2024-04-02 09:25:25,899 : INFO : cloud_cover_era5_land (%)\n",
      "2024-04-02 09:25:25,899 : INFO : cloud_cover_low_era5_land (%)\n",
      "2024-04-02 09:25:25,900 : INFO : cloud_cover_mid_era5_land (%)\n",
      "2024-04-02 09:25:25,900 : INFO : cloud_cover_high_era5_land (%)\n",
      "2024-04-02 09:25:25,901 : INFO : et0_fao_evapotranspiration_era5_land (mm)\n",
      "2024-04-02 09:25:25,901 : INFO : vapour_pressure_deficit_era5_land (kPa)\n",
      "2024-04-02 09:25:25,901 : INFO : wind_speed_10m_era5_land (km/h)\n",
      "2024-04-02 09:25:25,902 : INFO : wind_speed_100m_era5_land (km/h)\n",
      "2024-04-02 09:25:25,902 : INFO : wind_direction_10m_era5_land (°)\n",
      "2024-04-02 09:25:25,902 : INFO : wind_direction_100m_era5_land (°)\n",
      "2024-04-02 09:25:25,903 : INFO : wind_gusts_10m_era5_land (km/h)\n",
      "2024-04-02 09:25:25,903 : INFO : soil_temperature_0_to_7cm_era5_land (°C)\n",
      "2024-04-02 09:25:25,903 : INFO : soil_temperature_7_to_28cm_era5_land (°C)\n",
      "2024-04-02 09:25:25,904 : INFO : soil_temperature_28_to_100cm_era5_land (°C)\n",
      "2024-04-02 09:25:25,904 : INFO : soil_temperature_100_to_255cm_era5_land (°C)\n",
      "2024-04-02 09:25:25,904 : INFO : soil_moisture_0_to_7cm_era5_land (m³/m³)\n",
      "2024-04-02 09:25:25,904 : INFO : soil_moisture_7_to_28cm_era5_land (m³/m³)\n",
      "2024-04-02 09:25:25,905 : INFO : soil_moisture_28_to_100cm_era5_land (m³/m³)\n",
      "2024-04-02 09:25:25,905 : INFO : soil_moisture_100_to_255cm_era5_land (m³/m³)\n",
      "2024-04-02 09:25:25,906 : INFO : is_day_era5_land ()\n",
      "2024-04-02 09:25:25,906 : INFO : sunshine_duration_era5_land (s)\n",
      "2024-04-02 09:25:25,906 : INFO : shortwave_radiation_era5_land (W/m²)\n",
      "2024-04-02 09:25:25,907 : INFO : direct_radiation_era5_land (W/m²)\n",
      "2024-04-02 09:25:25,907 : INFO : diffuse_radiation_era5_land (W/m²)\n",
      "2024-04-02 09:25:25,907 : INFO : direct_normal_irradiance_era5_land (W/m²)\n",
      "2024-04-02 09:25:25,908 : INFO : global_tilted_irradiance_era5_land (W/m²)\n",
      "2024-04-02 09:25:25,908 : INFO : terrestrial_radiation_era5_land (W/m²)\n",
      "2024-04-02 09:25:25,909 : INFO : shortwave_radiation_instant_era5_land (W/m²)\n",
      "2024-04-02 09:25:25,909 : INFO : direct_radiation_instant_era5_land (W/m²)\n",
      "2024-04-02 09:25:25,913 : INFO : diffuse_radiation_instant_era5_land (W/m²)\n",
      "2024-04-02 09:25:25,913 : INFO : direct_normal_irradiance_instant_era5_land (W/m²)\n",
      "2024-04-02 09:25:25,914 : INFO : global_tilted_irradiance_instant_era5_land (W/m²)\n",
      "2024-04-02 09:25:25,915 : INFO : terrestrial_radiation_instant_era5_land (W/m²)\n",
      "2024-04-02 09:25:25,915 : INFO : 光伏用户编号\n",
      "2024-04-02 09:25:25,915 : INFO : weather_code (wmo code)\n",
      "2024-04-02 09:25:25,916 : INFO : temperature_2m_max (°C)\n",
      "2024-04-02 09:25:25,916 : INFO : temperature_2m_min (°C)\n",
      "2024-04-02 09:25:25,916 : INFO : temperature_2m_mean (°C)\n",
      "2024-04-02 09:25:25,917 : INFO : apparent_temperature_max (°C)\n",
      "2024-04-02 09:25:25,917 : INFO : apparent_temperature_min (°C)\n",
      "2024-04-02 09:25:25,917 : INFO : apparent_temperature_mean (°C)\n",
      "2024-04-02 09:25:25,918 : INFO : sunrise (iso8601)\n",
      "2024-04-02 09:25:25,918 : INFO : sunset (iso8601)\n",
      "2024-04-02 09:25:25,918 : INFO : daylight_duration (s)\n",
      "2024-04-02 09:25:25,919 : INFO : sunshine_duration (s)\n",
      "2024-04-02 09:25:25,919 : INFO : precipitation_sum (mm)\n",
      "2024-04-02 09:25:25,921 : INFO : rain_sum (mm)\n",
      "2024-04-02 09:25:25,921 : INFO : snowfall_sum (cm)\n",
      "2024-04-02 09:25:25,921 : INFO : precipitation_hours (h)\n"
     ]
    },
    {
     "name": "stderr",
     "output_type": "stream",
     "text": [
      "2024-04-02 09:25:25,922 : INFO : wind_speed_10m_max (km/h)\n",
      "2024-04-02 09:25:25,922 : INFO : wind_gusts_10m_max (km/h)\n",
      "2024-04-02 09:25:25,922 : INFO : wind_direction_10m_dominant (°)\n",
      "2024-04-02 09:25:25,923 : INFO : shortwave_radiation_sum (MJ/m²)\n",
      "2024-04-02 09:25:25,924 : INFO : et0_fao_evapotranspiration (mm)\n"
     ]
    }
   ],
   "source": [
    "outer_data[\"日期\"] = outer_data[\"时间\"].dt.date\n",
    "outer_day_data[\"日期\"] = outer_day_data[\"时间\"].dt.date\n",
    "outer_day_data = outer_day_data.drop(columns=[\"时间\"])\n",
    "outer_data = pd.merge(outer_data, outer_day_data, on=[\"光伏用户编号\", \"日期\"], how=\"left\").drop(columns=[\"日期\"])\n",
    "for column in outer_data.columns:\n",
    "    logging.info(column)"
   ]
  },
  {
   "cell_type": "markdown",
   "metadata": {},
   "source": [
    "<h3>整合数据</h3>"
   ]
  },
  {
   "cell_type": "code",
   "execution_count": 41,
   "metadata": {
    "ExecuteTime": {
     "end_time": "2024-04-02T01:25:26.655038Z",
     "start_time": "2024-04-02T01:25:25.928032Z"
    }
   },
   "outputs": [],
   "source": [
    "df = pd.merge(df, outer_data[[\n",
    "    \"光伏用户编号\", \n",
    "    \"时间\",\n",
    "    \"apparent_temperature_archive_best_match (°C)\", \n",
    "    \"surface_pressure_archive_best_match (hPa)\",\n",
    "    \"is_day_archive_best_match ()\",\n",
    "    \"relative_humidity_2m_archive_best_match (%)\",\n",
    "    \"cloud_cover_archive_best_match (%)\",\n",
    "    \"global_tilted_irradiance_instant_archive_best_match (W/m²)\",\n",
    "    \"precipitation_archive_best_match (mm)\",\n",
    "    \"wind_speed_10m_archive_best_match (km/h)\",\n",
    "    \"wind_speed_100m_archive_best_match (km/h)\",\n",
    "    \"wind_direction_10m_archive_best_match (°)\",\n",
    "    \"wind_direction_100m_archive_best_match (°)\",\n",
    "    \"sunshine_duration_archive_best_match (s)\",\n",
    "    \"weather_code_archive_best_match (wmo code)\",\n",
    "    \"temperature_2m_max (°C)\",\n",
    "    \"temperature_2m_min (°C)\",\n",
    "    \"temperature_2m_mean (°C)\",\n",
    "    \"precipitation_sum (mm)\",\n",
    "    \"rain_sum (mm)\",\n",
    "    \"snowfall_sum (cm)\",\n",
    "    \"apparent_temperature_max (°C)\",\n",
    "    \"apparent_temperature_min (°C)\",\n",
    "    \"apparent_temperature_mean (°C)\",\n",
    "    \"sunrise (iso8601)\",\n",
    "    \"sunset (iso8601)\"\n",
    "]], how=\"left\", on=[\"光伏用户编号\", \"时间\"])\n",
    "\n",
    "df[\"温度（K）\"] = df[\"apparent_temperature_archive_best_match (°C)\"] + 273.15\n",
    "df[\"气压(Pa）\"] = df[\"surface_pressure_archive_best_match (hPa)\"] * 100\n",
    "df[\"是白天\"] = df[\"is_day_archive_best_match ()\"].copy()\n",
    "df[\"相对湿度（%）\"] = df[\"relative_humidity_2m_archive_best_match (%)\"].copy()\n",
    "df[\"云量\"] = df[\"cloud_cover_archive_best_match (%)\"] / 100\n",
    "df[\"辐照强度（J/m2）\"] = df[\"global_tilted_irradiance_instant_archive_best_match (W/m²)\"] * 15 * 60\n",
    "df[\"降水（m）\"] = df[\"precipitation_archive_best_match (mm)\"] / 1000\n",
    "df[\"10米风速（10m/s）\"] = df[\"wind_speed_10m_archive_best_match (km/h)\"] / 3600 * 100\n",
    "df[\"100m风速（100m/s）\"] = df[\"wind_speed_100m_archive_best_match (km/h)\"] / 3600 * 10\n",
    "df[\"10米风向（°)\"] = df[\"wind_direction_10m_archive_best_match (°)\"].copy()\n",
    "df[\"100m风向（°)\"] = df[\"wind_direction_100m_archive_best_match (°)\"].copy()\n",
    "df[\"sunrise (iso8601)\"] = pd.to_datetime(df[\"sunrise (iso8601)\"], utc=False).dt.tz_localize('Asia/Shanghai')\n",
    "df[\"sunset (iso8601)\"] = pd.to_datetime(df[\"sunset (iso8601)\"], utc=False).dt.tz_localize('Asia/Shanghai')\n",
    "df[\"时间-日出时间\"] = ((df[\"时间\"] - df[\"sunrise (iso8601)\"]).dt.days * 24 * 3600 + (df[\"时间\"] - df[\"sunrise (iso8601)\"]).dt.seconds) // 60\n",
    "df[\"日落时间-时间\"] = ((df[\"sunset (iso8601)\"] - df[\"时间\"]).dt.days * 24 * 3600 + (df[\"sunset (iso8601)\"] - df[\"时间\"]).dt.seconds) // 60\n",
    "\n",
    "df = df.drop(columns=[\n",
    "    \"apparent_temperature_archive_best_match (°C)\", \n",
    "    \"surface_pressure_archive_best_match (hPa)\",\n",
    "    \"is_day_archive_best_match ()\",\n",
    "    \"relative_humidity_2m_archive_best_match (%)\",\n",
    "    \"cloud_cover_archive_best_match (%)\",\n",
    "    \"global_tilted_irradiance_instant_archive_best_match (W/m²)\",\n",
    "    \"precipitation_archive_best_match (mm)\",\n",
    "    \"wind_speed_10m_archive_best_match (km/h)\",\n",
    "    \"wind_speed_100m_archive_best_match (km/h)\",\n",
    "    \"wind_direction_10m_archive_best_match (°)\",\n",
    "    \"wind_direction_100m_archive_best_match (°)\",\n",
    "    \"sunrise (iso8601)\",\n",
    "    \"sunset (iso8601)\"\n",
    "])"
   ]
  },
  {
   "cell_type": "markdown",
   "metadata": {},
   "source": [
    "<h2>特征工程</h2>"
   ]
  },
  {
   "cell_type": "markdown",
   "metadata": {},
   "source": [
    "<h3>时间特征</h3>"
   ]
  },
  {
   "cell_type": "code",
   "execution_count": 42,
   "metadata": {
    "ExecuteTime": {
     "end_time": "2024-04-02T01:25:26.798092Z",
     "start_time": "2024-04-02T01:25:26.656030Z"
    }
   },
   "outputs": [
    {
     "name": "stderr",
     "output_type": "stream",
     "text": [
      "C:\\Program Files\\Python37\\lib\\site-packages\\ipykernel_launcher.py:5: FutureWarning: Series.dt.weekofyear and Series.dt.week have been deprecated.  Please use Series.dt.isocalendar().week instead.\n",
      "  \"\"\"\n"
     ]
    }
   ],
   "source": [
    "df[\"年\"] = df[\"时间\"].dt.year\n",
    "df[\"季节\"] = df[\"时间\"].dt.quarter\n",
    "df[\"月\"] = df[\"时间\"].dt.month\n",
    "df[\"日\"] = df[\"时间\"].dt.day\n",
    "df[\"周\"] = df[\"时间\"].dt.week\n",
    "df[\"分\"] = df[\"时间\"].dt.minute // 15 + df[\"时间\"].dt.hour * 4"
   ]
  },
  {
   "cell_type": "code",
   "execution_count": 43,
   "metadata": {
    "ExecuteTime": {
     "end_time": "2024-04-02T01:25:26.808030Z",
     "start_time": "2024-04-02T01:25:26.799030Z"
    }
   },
   "outputs": [],
   "source": [
    "# df[\"分_\"] = df[\"分\"].copy()\n",
    "# df = pd.get_dummies(df, columns=[\"分_\"], prefix_sep=\"\")\n",
    "df[\"分\"] = df[\"分\"].astype(\"category\")"
   ]
  },
  {
   "cell_type": "markdown",
   "metadata": {},
   "source": [
    "<h3>根据日出时间日落时间计算时间段</h3>"
   ]
  },
  {
   "cell_type": "code",
   "execution_count": 44,
   "metadata": {
    "ExecuteTime": {
     "end_time": "2024-04-02T01:25:26.814039Z",
     "start_time": "2024-04-02T01:25:26.809030Z"
    }
   },
   "outputs": [],
   "source": [
    "def solar_time(current_time, dawn_time, sunrise_time, noon_time, sunset_time, dusk_time) -> int:\n",
    "    \"\"\"\n",
    "    根据太阳判断当前时间段\\n\n",
    "    \"\"\"\n",
    "    if dawn_time < current_time < sunrise_time:\n",
    "        return 1\n",
    "    elif sunrise_time <= current_time < noon_time:\n",
    "        return 2\n",
    "    elif noon_time <= current_time < sunset_time:\n",
    "        return 3\n",
    "    elif sunset_time <= current_time < dusk_time:\n",
    "        return 4\n",
    "    else:\n",
    "        return 0"
   ]
  },
  {
   "cell_type": "code",
   "execution_count": 45,
   "metadata": {
    "ExecuteTime": {
     "end_time": "2024-04-02T01:25:26.823042Z",
     "start_time": "2024-04-02T01:25:26.815030Z"
    }
   },
   "outputs": [],
   "source": [
    "# df[\"地点\"] = df.apply(lambda x: LocationInfo(name=x[\"光伏用户编号\"], region=\"China\", timezone=\"Asia/Shanghai\", latitude=x[\"纬度\"], longitude=x[\"经度\"]), axis=1)\n",
    "# df[\"黎明时刻\"] = df.apply(lambda x: dawn(x[\"地点\"].observer, date=x[\"时间\"], tzinfo=x[\"地点\"].timezone), axis=1).dt.tz_convert(\"Asia/Shanghai\")\n",
    "# df[\"日出时刻\"] = df.apply(lambda x: sunrise(x[\"地点\"].observer, date=x[\"时间\"], tzinfo=x[\"地点\"].timezone), axis=1).dt.tz_convert(\"Asia/Shanghai\")\n",
    "# df[\"正午时刻\"] = df.apply(lambda x: noon(x[\"地点\"].observer, date=x[\"时间\"], tzinfo=x[\"地点\"].timezone), axis=1).dt.tz_convert(\"Asia/Shanghai\")\n",
    "# df[\"日落时刻\"] = df.apply(lambda x: sunset(x[\"地点\"].observer, date=x[\"时间\"], tzinfo=x[\"地点\"].timezone), axis=1).dt.tz_convert(\"Asia/Shanghai\")\n",
    "# df[\"黄昏时刻\"] = df.apply(lambda x: dusk(x[\"地点\"].observer, date=x[\"时间\"], tzinfo=x[\"地点\"].timezone), axis=1).dt.tz_convert(\"Asia/Shanghai\")\n",
    "# df[\"时间段\"] = df.apply(lambda x: solar_time(x[\"时间\"], x[\"黎明时刻\"], x[\"日出时刻\"], x[\"正午时刻\"], x[\"日落时刻\"], x[\"黄昏时刻\"]), axis=1)\n",
    "# df = df.drop(columns=[\"地点\", \"黎明时刻\", \"日出时刻\", \"正午时刻\", \"日落时刻\", \"黄昏时刻\"])"
   ]
  },
  {
   "cell_type": "markdown",
   "metadata": {},
   "source": [
    "<h3>光伏用户编号</h3>"
   ]
  },
  {
   "cell_type": "code",
   "execution_count": 46,
   "metadata": {
    "ExecuteTime": {
     "end_time": "2024-04-02T01:25:26.993040Z",
     "start_time": "2024-04-02T01:25:26.824029Z"
    }
   },
   "outputs": [],
   "source": [
    "df[\"光伏用户编号_\"] = df[\"光伏用户编号\"].copy()\n",
    "df = pd.get_dummies(df, columns=[\"光伏用户编号_\"], prefix_sep=\"\")"
   ]
  },
  {
   "cell_type": "markdown",
   "metadata": {},
   "source": [
    "<h3>气象特征</h3>"
   ]
  },
  {
   "cell_type": "code",
   "execution_count": 47,
   "metadata": {
    "ExecuteTime": {
     "end_time": "2024-04-02T01:25:27.018037Z",
     "start_time": "2024-04-02T01:25:26.994029Z"
    }
   },
   "outputs": [],
   "source": [
    "df['100m风速（100m/s）'] = df['100m风速（100m/s）'] * np.sin(np.pi * df['100m风向（°)'] / 180)\n",
    "# df['cos_100m风速（100m/s）'] = df['100m风速（100m/s）'] * np.cos(np.pi * df['100m风向（°)'] / 180)\n",
    "df['10米风速（10m/s）'] = df['10米风速（10m/s）'] * np.sin(np.pi * df['10米风向（°)'] / 180)\n",
    "# df['cos_10米风速（10m/s）'] = df['10米风速（10m/s）'] * np.cos(np.pi * df['10米风向（°)'] / 180)"
   ]
  },
  {
   "cell_type": "code",
   "execution_count": 48,
   "metadata": {
    "ExecuteTime": {
     "end_time": "2024-04-02T01:25:27.024032Z",
     "start_time": "2024-04-02T01:25:27.019032Z"
    }
   },
   "outputs": [],
   "source": [
    "df[\"光照/温度\"] = df[\"辐照强度（J/m2）\"] / df[\"温度（K）\"]"
   ]
  },
  {
   "cell_type": "markdown",
   "metadata": {},
   "source": [
    "<h3>历史值特征</h3>"
   ]
  },
  {
   "cell_type": "code",
   "execution_count": 49,
   "metadata": {
    "ExecuteTime": {
     "end_time": "2024-04-02T01:25:27.483040Z",
     "start_time": "2024-04-02T01:25:27.025029Z"
    }
   },
   "outputs": [],
   "source": [
    "dfs = []\n",
    "for site, df_site in df.groupby(\"光伏用户编号\"):\n",
    "    df_site = df_site.sort_values(\"时间\")\n",
    "    df_site[\"辐照强度（J/m2） - 1\"] = df_site[\"辐照强度（J/m2）\"].shift(1) - df_site[\"辐照强度（J/m2）\"]\n",
    "    df_site[\"辐照强度（J/m2） - 8\"] = df_site[\"辐照强度（J/m2）\"].shift(8) - df_site[\"辐照强度（J/m2）\"]\n",
    "#     df_site[\"辐照强度（J/m2） - 2\"] = df_site[\"辐照强度（J/m2）\"].shift(2) - df_site[\"辐照强度（J/m2）\"]\n",
    "    dfs.append(df_site)\n",
    "df = pd.concat(dfs, axis=0)"
   ]
  },
  {
   "cell_type": "markdown",
   "metadata": {},
   "source": [
    "<h3>处理异常值</h3>"
   ]
  },
  {
   "cell_type": "code",
   "execution_count": 50,
   "metadata": {
    "ExecuteTime": {
     "end_time": "2024-04-02T01:25:27.511040Z",
     "start_time": "2024-04-02T01:25:27.484030Z"
    }
   },
   "outputs": [
    {
     "name": "stdout",
     "output_type": "stream",
     "text": [
      "207630   -8.8900\n",
      "37316    -0.0085\n",
      "39139    -0.0084\n",
      "Name: target, dtype: float64\n"
     ]
    },
    {
     "data": {
      "text/html": [
       "<div>\n",
       "<style scoped>\n",
       "    .dataframe tbody tr th:only-of-type {\n",
       "        vertical-align: middle;\n",
       "    }\n",
       "\n",
       "    .dataframe tbody tr th {\n",
       "        vertical-align: top;\n",
       "    }\n",
       "\n",
       "    .dataframe thead th {\n",
       "        text-align: right;\n",
       "    }\n",
       "</style>\n",
       "<table border=\"1\" class=\"dataframe\">\n",
       "  <thead>\n",
       "    <tr style=\"text-align: right;\">\n",
       "      <th></th>\n",
       "      <th>光伏用户编号</th>\n",
       "      <th>时间</th>\n",
       "      <th>target</th>\n",
       "    </tr>\n",
       "  </thead>\n",
       "  <tbody>\n",
       "    <tr>\n",
       "      <th>207628</th>\n",
       "      <td>f6</td>\n",
       "      <td>2022-08-15 20:30:00+08:00</td>\n",
       "      <td>-0.002</td>\n",
       "    </tr>\n",
       "    <tr>\n",
       "      <th>207629</th>\n",
       "      <td>f6</td>\n",
       "      <td>2022-08-15 20:45:00+08:00</td>\n",
       "      <td>-0.002</td>\n",
       "    </tr>\n",
       "    <tr>\n",
       "      <th>207630</th>\n",
       "      <td>f6</td>\n",
       "      <td>2022-08-15 21:00:00+08:00</td>\n",
       "      <td>-8.890</td>\n",
       "    </tr>\n",
       "    <tr>\n",
       "      <th>207631</th>\n",
       "      <td>f6</td>\n",
       "      <td>2022-08-15 21:15:00+08:00</td>\n",
       "      <td>-0.002</td>\n",
       "    </tr>\n",
       "    <tr>\n",
       "      <th>207632</th>\n",
       "      <td>f6</td>\n",
       "      <td>2022-08-15 21:30:00+08:00</td>\n",
       "      <td>NaN</td>\n",
       "    </tr>\n",
       "    <tr>\n",
       "      <th>207633</th>\n",
       "      <td>f6</td>\n",
       "      <td>2022-08-15 21:45:00+08:00</td>\n",
       "      <td>NaN</td>\n",
       "    </tr>\n",
       "  </tbody>\n",
       "</table>\n",
       "</div>"
      ],
      "text/plain": [
       "       光伏用户编号                        时间  target\n",
       "207628     f6 2022-08-15 20:30:00+08:00  -0.002\n",
       "207629     f6 2022-08-15 20:45:00+08:00  -0.002\n",
       "207630     f6 2022-08-15 21:00:00+08:00  -8.890\n",
       "207631     f6 2022-08-15 21:15:00+08:00  -0.002\n",
       "207632     f6 2022-08-15 21:30:00+08:00     NaN\n",
       "207633     f6 2022-08-15 21:45:00+08:00     NaN"
      ]
     },
     "execution_count": 50,
     "metadata": {},
     "output_type": "execute_result"
    }
   ],
   "source": [
    "print(df_train[\"target\"].nsmallest(3))\n",
    "df_train[df_train[\"target\"] < -8]\n",
    "df.loc[207628:207633, [\"光伏用户编号\", \"时间\", \"target\"]]"
   ]
  },
  {
   "cell_type": "code",
   "execution_count": 51,
   "metadata": {
    "ExecuteTime": {
     "end_time": "2024-04-02T01:25:27.605036Z",
     "start_time": "2024-04-02T01:25:27.512030Z"
    }
   },
   "outputs": [],
   "source": [
    "df.loc[207630, \"target\"] = -0.002"
   ]
  },
  {
   "cell_type": "markdown",
   "metadata": {},
   "source": [
    "<h3>光照与当天最强光照的比值</h3>"
   ]
  },
  {
   "cell_type": "code",
   "execution_count": 52,
   "metadata": {
    "ExecuteTime": {
     "end_time": "2024-04-02T01:25:28.167039Z",
     "start_time": "2024-04-02T01:25:27.606029Z"
    }
   },
   "outputs": [],
   "source": [
    "df[\"日期\"] = df[\"时间\"].dt.date\n",
    "day_max_values = df[[\"光伏用户编号\", \"日期\", \"辐照强度（J/m2）\"]].groupby(by=[\"光伏用户编号\", \"日期\"]).max()\n",
    "day_max_values = day_max_values.rename(columns={x: x + \"_max\" for x in day_max_values.columns}).reset_index()\n",
    "df = pd.merge(df, day_max_values, on=[\"光伏用户编号\", \"日期\"], how=\"left\").drop(columns=[\"日期\"])\n",
    "df[\"辐照强度（J/m2）_max\"] = df[\"辐照强度（J/m2）\"] / df[\"辐照强度（J/m2）_max\"]"
   ]
  },
  {
   "cell_type": "markdown",
   "metadata": {},
   "source": [
    "<h3>当天的平均光照</h3>"
   ]
  },
  {
   "cell_type": "code",
   "execution_count": 53,
   "metadata": {
    "ExecuteTime": {
     "end_time": "2024-04-02T01:25:28.801037Z",
     "start_time": "2024-04-02T01:25:28.168034Z"
    }
   },
   "outputs": [],
   "source": [
    "df[\"日期\"] = df[\"时间\"].dt.date\n",
    "day_mean_values = df[[\"光伏用户编号\", \"日期\", \"是白天\", \"辐照强度（J/m2）\"]].groupby(by=[\"光伏用户编号\", \"日期\", \"是白天\"]).mean()\n",
    "day_mean_values = day_mean_values.rename(columns={x: x + \"_mean\" for x in day_mean_values.columns}).reset_index()\n",
    "df = pd.merge(df, day_mean_values, on=[\"光伏用户编号\", \"日期\", \"是白天\"], how=\"left\").drop(columns=[\"日期\"])"
   ]
  },
  {
   "cell_type": "markdown",
   "metadata": {},
   "source": [
    "<h3>温度与当天最高温最低度的差值</h3>"
   ]
  },
  {
   "cell_type": "code",
   "execution_count": 54,
   "metadata": {
    "ExecuteTime": {
     "end_time": "2024-04-02T01:25:29.600856Z",
     "start_time": "2024-04-02T01:25:28.802030Z"
    }
   },
   "outputs": [],
   "source": [
    "df[\"日期\"] = df[\"时间\"].dt.date\n",
    "day_max_values = df[[\"光伏用户编号\", \"日期\", \"温度（K）\"]].groupby(by=[\"光伏用户编号\", \"日期\"]).max()\n",
    "day_min_values = df[[\"光伏用户编号\", \"日期\", \"温度（K）\"]].groupby(by=[\"光伏用户编号\", \"日期\"]).min()\n",
    "day_max_values = day_max_values.rename(columns={x: x + \"_max\" for x in day_max_values.columns}).reset_index()\n",
    "day_min_values = day_min_values.rename(columns={x: x + \"_min\" for x in day_min_values.columns}).reset_index()\n",
    "df = pd.merge(df, day_max_values, on=[\"光伏用户编号\", \"日期\"], how=\"left\")\n",
    "df = pd.merge(df, day_min_values, on=[\"光伏用户编号\", \"日期\"], how=\"left\").drop(columns=[\"日期\"])\n",
    "df[\"温度（K）_max\"] = df[\"温度（K）_max\"] - df[\"温度（K）\"]\n",
    "df[\"温度（K）_min\"] = df[\"温度（K）\"] - df[\"温度（K）_min\"]"
   ]
  },
  {
   "cell_type": "markdown",
   "metadata": {},
   "source": [
    "<h3>划分测试集</h3>"
   ]
  },
  {
   "cell_type": "code",
   "execution_count": 55,
   "metadata": {
    "ExecuteTime": {
     "end_time": "2024-04-02T01:25:29.691446Z",
     "start_time": "2024-04-02T01:25:29.604855Z"
    }
   },
   "outputs": [],
   "source": [
    "df_train = df[df[\"时间\"] <= df_train[\"时间\"].max()]\n",
    "df_test = df[df[\"时间\"] >= df_test[\"时间\"].min()]"
   ]
  },
  {
   "cell_type": "markdown",
   "metadata": {},
   "source": [
    "<h2>训练模型</h2>"
   ]
  },
  {
   "cell_type": "markdown",
   "metadata": {},
   "source": [
    "<h3>评测指标</h3>"
   ]
  },
  {
   "cell_type": "code",
   "execution_count": 56,
   "metadata": {
    "ExecuteTime": {
     "end_time": "2024-04-02T01:25:29.695439Z",
     "start_time": "2024-04-02T01:25:29.693437Z"
    }
   },
   "outputs": [],
   "source": [
    "def score(y_true, y_pred):\n",
    "    mse = mean_squared_error(y_true, y_pred)\n",
    "    rmse = np.sqrt(mse)\n",
    "    return 1 / (1 + rmse)"
   ]
  },
  {
   "cell_type": "markdown",
   "metadata": {},
   "source": [
    "<h3>lightgbm模型</h3>"
   ]
  },
  {
   "cell_type": "code",
   "execution_count": 57,
   "metadata": {
    "ExecuteTime": {
     "end_time": "2024-04-02T01:25:29.717438Z",
     "start_time": "2024-04-02T01:25:29.696437Z"
    }
   },
   "outputs": [],
   "source": [
    "params_lgb = {\n",
    "    \"num_boost_round\": 1000,\n",
    "    'learning_rate': 0.02,\n",
    "    'boosting_type': 'gbdt',\n",
    "    'objective': 'mse',\n",
    "    'metric': 'rmse',\n",
    "    'num_leaves': 127,\n",
    "    'verbose': -1,\n",
    "    'seed': 42,\n",
    "    'n_jobs': -1,\n",
    "    'feature_fraction': 0.8,\n",
    "    'bagging_fraction': 0.9,\n",
    "    'bagging_freq': 4,\n",
    "    \"early_stopping_round\": 100\n",
    "}\n",
    "model_lgb = []"
   ]
  },
  {
   "cell_type": "markdown",
   "metadata": {},
   "source": [
    "<h3>xgboost模型</h3>"
   ]
  },
  {
   "cell_type": "code",
   "execution_count": 58,
   "metadata": {
    "ExecuteTime": {
     "end_time": "2024-04-02T01:25:29.728437Z",
     "start_time": "2024-04-02T01:25:29.718443Z"
    }
   },
   "outputs": [],
   "source": [
    "params_xgb = {\n",
    "    \"num_boost_round\": 500,\n",
    "    \"learning_rate\": 0.02,\n",
    "    \"booster\": \"gbtree\",\n",
    "    \"objective\": \"reg:squarederror\",\n",
    "    \"eval_metric\": \"rmse\",\n",
    "    \"max_leaves\": 127,\n",
    "    \"verbosity\": 1,\n",
    "    \"seed\": 42,\n",
    "    \"nthread\": -1,\n",
    "    \"colsample_bytree\": 0.6,\n",
    "    \"subsample\": 0.9,\n",
    "    \"early_stopping_rounds\": 100\n",
    "}\n",
    "model_xgb = []"
   ]
  },
  {
   "cell_type": "markdown",
   "metadata": {},
   "source": [
    "<h3>交叉验证</h3>"
   ]
  },
  {
   "cell_type": "code",
   "execution_count": 59,
   "metadata": {
    "ExecuteTime": {
     "end_time": "2024-04-02T01:32:28.800116Z",
     "start_time": "2024-04-02T01:25:29.729437Z"
    },
    "scrolled": false
   },
   "outputs": [
    {
     "name": "stderr",
     "output_type": "stream",
     "text": [
      "2024-04-02 09:25:29,973 : INFO : ############ fold: 0 ###########\n",
      "C:\\Program Files\\Python37\\lib\\site-packages\\lightgbm\\engine.py:177: UserWarning: Found `num_boost_round` in params. Will use it instead of argument\n",
      "  _log_warning(f\"Found `{alias}` in params. Will use it instead of argument\")\n",
      "C:\\Program Files\\Python37\\lib\\site-packages\\lightgbm\\basic.py:2068: UserWarning: categorical_feature in Dataset is overridden.\n",
      "New categorical_feature is ['分']\n",
      "  _log_warning('categorical_feature in Dataset is overridden.\\n'\n",
      "C:\\Program Files\\Python37\\lib\\site-packages\\lightgbm\\basic.py:1780: UserWarning: Overriding the parameters from Reference Dataset.\n",
      "  _log_warning('Overriding the parameters from Reference Dataset.')\n",
      "C:\\Program Files\\Python37\\lib\\site-packages\\lightgbm\\basic.py:1513: UserWarning: categorical_column in param dict is overridden.\n",
      "  _log_warning(f'{cat_alias} in param dict is overridden.')\n"
     ]
    },
    {
     "name": "stdout",
     "output_type": "stream",
     "text": [
      "[1000]\ttraining's rmse: 0.11002\tvalid_1's rmse: 0.145246\n",
      "[09:25:41] WARNING: C:/Users/Administrator/workspace/xgboost-win64_release_1.6.0/src/learner.cc:627: \n",
      "Parameters: { \"early_stopping_rounds\", \"num_boost_round\" } might not be used.\n",
      "\n",
      "  This could be a false alarm, with some parameters getting used by language bindings but\n",
      "  then being mistakenly passed down to XGBoost core, or some parameter actually being used\n",
      "  but getting flagged wrongly here. Please open an issue if you find any such cases.\n",
      "\n",
      "\n",
      "[0]\ttrain-rmse:0.53650\teval-rmse:0.53778\n",
      "[499]\ttrain-rmse:0.16080\teval-rmse:0.16829\n"
     ]
    },
    {
     "name": "stderr",
     "output_type": "stream",
     "text": [
      "2024-04-02 09:26:50,312 : INFO : ############ fold: 1 ###########\n",
      "C:\\Program Files\\Python37\\lib\\site-packages\\lightgbm\\engine.py:177: UserWarning: Found `num_boost_round` in params. Will use it instead of argument\n",
      "  _log_warning(f\"Found `{alias}` in params. Will use it instead of argument\")\n",
      "C:\\Program Files\\Python37\\lib\\site-packages\\lightgbm\\basic.py:2068: UserWarning: categorical_feature in Dataset is overridden.\n",
      "New categorical_feature is ['分']\n",
      "  _log_warning('categorical_feature in Dataset is overridden.\\n'\n",
      "C:\\Program Files\\Python37\\lib\\site-packages\\lightgbm\\basic.py:1780: UserWarning: Overriding the parameters from Reference Dataset.\n",
      "  _log_warning('Overriding the parameters from Reference Dataset.')\n",
      "C:\\Program Files\\Python37\\lib\\site-packages\\lightgbm\\basic.py:1513: UserWarning: categorical_column in param dict is overridden.\n",
      "  _log_warning(f'{cat_alias} in param dict is overridden.')\n"
     ]
    },
    {
     "name": "stdout",
     "output_type": "stream",
     "text": [
      "[1000]\ttraining's rmse: 0.110564\tvalid_1's rmse: 0.141835\n",
      "[09:27:02] WARNING: C:/Users/Administrator/workspace/xgboost-win64_release_1.6.0/src/learner.cc:627: \n",
      "Parameters: { \"early_stopping_rounds\", \"num_boost_round\" } might not be used.\n",
      "\n",
      "  This could be a false alarm, with some parameters getting used by language bindings but\n",
      "  then being mistakenly passed down to XGBoost core, or some parameter actually being used\n",
      "  but getting flagged wrongly here. Please open an issue if you find any such cases.\n",
      "\n",
      "\n",
      "[0]\ttrain-rmse:0.53714\teval-rmse:0.53521\n",
      "[499]\ttrain-rmse:0.16154\teval-rmse:0.16509\n"
     ]
    },
    {
     "name": "stderr",
     "output_type": "stream",
     "text": [
      "2024-04-02 09:28:12,701 : INFO : ############ fold: 2 ###########\n",
      "C:\\Program Files\\Python37\\lib\\site-packages\\lightgbm\\engine.py:177: UserWarning: Found `num_boost_round` in params. Will use it instead of argument\n",
      "  _log_warning(f\"Found `{alias}` in params. Will use it instead of argument\")\n",
      "C:\\Program Files\\Python37\\lib\\site-packages\\lightgbm\\basic.py:2068: UserWarning: categorical_feature in Dataset is overridden.\n",
      "New categorical_feature is ['分']\n",
      "  _log_warning('categorical_feature in Dataset is overridden.\\n'\n",
      "C:\\Program Files\\Python37\\lib\\site-packages\\lightgbm\\basic.py:1780: UserWarning: Overriding the parameters from Reference Dataset.\n",
      "  _log_warning('Overriding the parameters from Reference Dataset.')\n",
      "C:\\Program Files\\Python37\\lib\\site-packages\\lightgbm\\basic.py:1513: UserWarning: categorical_column in param dict is overridden.\n",
      "  _log_warning(f'{cat_alias} in param dict is overridden.')\n"
     ]
    },
    {
     "name": "stdout",
     "output_type": "stream",
     "text": [
      "[1000]\ttraining's rmse: 0.110579\tvalid_1's rmse: 0.141457\n",
      "[09:28:24] WARNING: C:/Users/Administrator/workspace/xgboost-win64_release_1.6.0/src/learner.cc:627: \n",
      "Parameters: { \"early_stopping_rounds\", \"num_boost_round\" } might not be used.\n",
      "\n",
      "  This could be a false alarm, with some parameters getting used by language bindings but\n",
      "  then being mistakenly passed down to XGBoost core, or some parameter actually being used\n",
      "  but getting flagged wrongly here. Please open an issue if you find any such cases.\n",
      "\n",
      "\n",
      "[0]\ttrain-rmse:0.53690\teval-rmse:0.53612\n",
      "[499]\ttrain-rmse:0.16171\teval-rmse:0.16521\n"
     ]
    },
    {
     "name": "stderr",
     "output_type": "stream",
     "text": [
      "2024-04-02 09:29:37,216 : INFO : ############ fold: 3 ###########\n",
      "C:\\Program Files\\Python37\\lib\\site-packages\\lightgbm\\engine.py:177: UserWarning: Found `num_boost_round` in params. Will use it instead of argument\n",
      "  _log_warning(f\"Found `{alias}` in params. Will use it instead of argument\")\n",
      "C:\\Program Files\\Python37\\lib\\site-packages\\lightgbm\\basic.py:2068: UserWarning: categorical_feature in Dataset is overridden.\n",
      "New categorical_feature is ['分']\n",
      "  _log_warning('categorical_feature in Dataset is overridden.\\n'\n",
      "C:\\Program Files\\Python37\\lib\\site-packages\\lightgbm\\basic.py:1780: UserWarning: Overriding the parameters from Reference Dataset.\n",
      "  _log_warning('Overriding the parameters from Reference Dataset.')\n",
      "C:\\Program Files\\Python37\\lib\\site-packages\\lightgbm\\basic.py:1513: UserWarning: categorical_column in param dict is overridden.\n",
      "  _log_warning(f'{cat_alias} in param dict is overridden.')\n"
     ]
    },
    {
     "name": "stdout",
     "output_type": "stream",
     "text": [
      "[1000]\ttraining's rmse: 0.110515\tvalid_1's rmse: 0.141482\n",
      "[09:29:49] WARNING: C:/Users/Administrator/workspace/xgboost-win64_release_1.6.0/src/learner.cc:627: \n",
      "Parameters: { \"early_stopping_rounds\", \"num_boost_round\" } might not be used.\n",
      "\n",
      "  This could be a false alarm, with some parameters getting used by language bindings but\n",
      "  then being mistakenly passed down to XGBoost core, or some parameter actually being used\n",
      "  but getting flagged wrongly here. Please open an issue if you find any such cases.\n",
      "\n",
      "\n",
      "[0]\ttrain-rmse:0.53661\teval-rmse:0.53730\n",
      "[499]\ttrain-rmse:0.16131\teval-rmse:0.16580\n"
     ]
    },
    {
     "name": "stderr",
     "output_type": "stream",
     "text": [
      "2024-04-02 09:31:03,091 : INFO : ############ fold: 4 ###########\n",
      "C:\\Program Files\\Python37\\lib\\site-packages\\lightgbm\\engine.py:177: UserWarning: Found `num_boost_round` in params. Will use it instead of argument\n",
      "  _log_warning(f\"Found `{alias}` in params. Will use it instead of argument\")\n",
      "C:\\Program Files\\Python37\\lib\\site-packages\\lightgbm\\basic.py:2068: UserWarning: categorical_feature in Dataset is overridden.\n",
      "New categorical_feature is ['分']\n",
      "  _log_warning('categorical_feature in Dataset is overridden.\\n'\n",
      "C:\\Program Files\\Python37\\lib\\site-packages\\lightgbm\\basic.py:1780: UserWarning: Overriding the parameters from Reference Dataset.\n",
      "  _log_warning('Overriding the parameters from Reference Dataset.')\n",
      "C:\\Program Files\\Python37\\lib\\site-packages\\lightgbm\\basic.py:1513: UserWarning: categorical_column in param dict is overridden.\n",
      "  _log_warning(f'{cat_alias} in param dict is overridden.')\n"
     ]
    },
    {
     "name": "stdout",
     "output_type": "stream",
     "text": [
      "[1000]\ttraining's rmse: 0.110418\tvalid_1's rmse: 0.14565\n",
      "[09:31:15] WARNING: C:/Users/Administrator/workspace/xgboost-win64_release_1.6.0/src/learner.cc:627: \n",
      "Parameters: { \"early_stopping_rounds\", \"num_boost_round\" } might not be used.\n",
      "\n",
      "  This could be a false alarm, with some parameters getting used by language bindings but\n",
      "  then being mistakenly passed down to XGBoost core, or some parameter actually being used\n",
      "  but getting flagged wrongly here. Please open an issue if you find any such cases.\n",
      "\n",
      "\n",
      "[0]\ttrain-rmse:0.53660\teval-rmse:0.53738\n",
      "[499]\ttrain-rmse:0.16050\teval-rmse:0.16984\n"
     ]
    },
    {
     "name": "stderr",
     "output_type": "stream",
     "text": [
      "2024-04-02 09:32:28,797 : INFO : --------------本地分数 0.8676233495647102--------------\n"
     ]
    }
   ],
   "source": [
    "kfold = KFold(n_splits=5, random_state=42, shuffle=True)\n",
    "\n",
    "x = df_train.drop(columns=[\"光伏用户编号\", \"时间\"]).dropna().astype(np.float32)\n",
    "y = x.pop(\"target\")\n",
    "mse = 0\n",
    "for fold, (train_index, val_index) in enumerate(kfold.split(x, y)):\n",
    "    logging.info(f'############ fold: {fold} ###########')\n",
    "    x_train, x_val, y_train, y_val = x.iloc[train_index], x.iloc[val_index], y.iloc[train_index], y.iloc[val_index]\n",
    "    \n",
    "    trainset = Dataset(x_train, y_train)\n",
    "    valset = Dataset(x_val, y_val)\n",
    "    model = lgb.train(params_lgb, trainset, valid_sets=[trainset, valset], categorical_feature=[\"分\"], callbacks=[lgb.log_evaluation(1000)])\n",
    "    model.save_model(\"../models/lgb_%d.txt\" % fold)\n",
    "    model_lgb.append(model)\n",
    "    lgb_pred = Series(model.predict(x_val, num_iteration=model.best_iteration), index=y_val.index).fillna(0)\n",
    "    \n",
    "    trainset = DMatrix(x_train, y_train, enable_categorical=True, nthread=-1)\n",
    "    valset = DMatrix(x_val, y_val, enable_categorical=True, nthread=-1)\n",
    "    model = xgb.train(params_xgb, trainset, evals=[(trainset, 'train'),(valset, 'eval')], num_boost_round=params_xgb[\"num_boost_round\"], early_stopping_rounds=params_xgb[\"early_stopping_rounds\"], verbose_eval=1000)\n",
    "    model.save_model(\"../models/xgb_%d.json\" % fold)\n",
    "    model_xgb.append(model)\n",
    "    xgb_pred = Series(model.predict(valset, iteration_range=(0, model.best_ntree_limit)), index=y_val.index).fillna(0)\n",
    "    \n",
    "    val_pred = (lgb_pred + xgb_pred) / 2\n",
    "    mse += mean_squared_error(y_val.fillna(0), val_pred)\n",
    "rmse = np.sqrt(mse / kfold.n_splits)\n",
    "score = 1 / (1 + rmse)\n",
    "logging.info(f\"--------------本地分数 {score}--------------\")"
   ]
  },
  {
   "cell_type": "code",
   "execution_count": 60,
   "metadata": {
    "ExecuteTime": {
     "end_time": "2024-04-02T01:32:28.830115Z",
     "start_time": "2024-04-02T01:32:28.802116Z"
    }
   },
   "outputs": [
    {
     "data": {
      "text/html": [
       "<div>\n",
       "<style scoped>\n",
       "    .dataframe tbody tr th:only-of-type {\n",
       "        vertical-align: middle;\n",
       "    }\n",
       "\n",
       "    .dataframe tbody tr th {\n",
       "        vertical-align: top;\n",
       "    }\n",
       "\n",
       "    .dataframe thead th {\n",
       "        text-align: right;\n",
       "    }\n",
       "</style>\n",
       "<table border=\"1\" class=\"dataframe\">\n",
       "  <thead>\n",
       "    <tr style=\"text-align: right;\">\n",
       "      <th></th>\n",
       "      <th>特征</th>\n",
       "      <th>重要性</th>\n",
       "    </tr>\n",
       "  </thead>\n",
       "  <tbody>\n",
       "    <tr>\n",
       "      <th>47</th>\n",
       "      <td>辐照强度（J/m2）_mean</td>\n",
       "      <td>7434.6</td>\n",
       "    </tr>\n",
       "    <tr>\n",
       "      <th>0</th>\n",
       "      <td>气压(Pa）</td>\n",
       "      <td>7096.0</td>\n",
       "    </tr>\n",
       "    <tr>\n",
       "      <th>2</th>\n",
       "      <td>云量</td>\n",
       "      <td>5435.4</td>\n",
       "    </tr>\n",
       "    <tr>\n",
       "      <th>31</th>\n",
       "      <td>日</td>\n",
       "      <td>5105.4</td>\n",
       "    </tr>\n",
       "    <tr>\n",
       "      <th>1</th>\n",
       "      <td>相对湿度（%）</td>\n",
       "      <td>4623.8</td>\n",
       "    </tr>\n",
       "    <tr>\n",
       "      <th>49</th>\n",
       "      <td>温度（K）_min</td>\n",
       "      <td>4380.6</td>\n",
       "    </tr>\n",
       "    <tr>\n",
       "      <th>44</th>\n",
       "      <td>辐照强度（J/m2）_-_1</td>\n",
       "      <td>4357.2</td>\n",
       "    </tr>\n",
       "    <tr>\n",
       "      <th>33</th>\n",
       "      <td>分</td>\n",
       "      <td>4337.2</td>\n",
       "    </tr>\n",
       "    <tr>\n",
       "      <th>19</th>\n",
       "      <td>precipitation_sum_(mm)</td>\n",
       "      <td>4326.0</td>\n",
       "    </tr>\n",
       "    <tr>\n",
       "      <th>16</th>\n",
       "      <td>temperature_2m_max_(°C)</td>\n",
       "      <td>4198.6</td>\n",
       "    </tr>\n",
       "    <tr>\n",
       "      <th>17</th>\n",
       "      <td>temperature_2m_min_(°C)</td>\n",
       "      <td>4022.4</td>\n",
       "    </tr>\n",
       "    <tr>\n",
       "      <th>45</th>\n",
       "      <td>辐照强度（J/m2）_-_8</td>\n",
       "      <td>3989.4</td>\n",
       "    </tr>\n",
       "    <tr>\n",
       "      <th>3</th>\n",
       "      <td>10米风速（10m/s）</td>\n",
       "      <td>3590.8</td>\n",
       "    </tr>\n",
       "    <tr>\n",
       "      <th>8</th>\n",
       "      <td>100m风速（100m/s）</td>\n",
       "      <td>3491.4</td>\n",
       "    </tr>\n",
       "    <tr>\n",
       "      <th>22</th>\n",
       "      <td>apparent_temperature_max_(°C)</td>\n",
       "      <td>3430.6</td>\n",
       "    </tr>\n",
       "    <tr>\n",
       "      <th>23</th>\n",
       "      <td>apparent_temperature_min_(°C)</td>\n",
       "      <td>3419.0</td>\n",
       "    </tr>\n",
       "    <tr>\n",
       "      <th>32</th>\n",
       "      <td>周</td>\n",
       "      <td>3418.8</td>\n",
       "    </tr>\n",
       "    <tr>\n",
       "      <th>4</th>\n",
       "      <td>10米风向（°)</td>\n",
       "      <td>3362.8</td>\n",
       "    </tr>\n",
       "    <tr>\n",
       "      <th>9</th>\n",
       "      <td>100m风向（°)</td>\n",
       "      <td>3356.0</td>\n",
       "    </tr>\n",
       "    <tr>\n",
       "      <th>48</th>\n",
       "      <td>温度（K）_max</td>\n",
       "      <td>3289.2</td>\n",
       "    </tr>\n",
       "    <tr>\n",
       "      <th>10</th>\n",
       "      <td>装机容量(kW)</td>\n",
       "      <td>3256.4</td>\n",
       "    </tr>\n",
       "    <tr>\n",
       "      <th>18</th>\n",
       "      <td>temperature_2m_mean_(°C)</td>\n",
       "      <td>3240.4</td>\n",
       "    </tr>\n",
       "    <tr>\n",
       "      <th>6</th>\n",
       "      <td>辐照强度（J/m2）</td>\n",
       "      <td>3219.2</td>\n",
       "    </tr>\n",
       "    <tr>\n",
       "      <th>5</th>\n",
       "      <td>温度（K）</td>\n",
       "      <td>3172.4</td>\n",
       "    </tr>\n",
       "    <tr>\n",
       "      <th>46</th>\n",
       "      <td>辐照强度（J/m2）_max</td>\n",
       "      <td>3164.0</td>\n",
       "    </tr>\n",
       "    <tr>\n",
       "      <th>24</th>\n",
       "      <td>apparent_temperature_mean_(°C)</td>\n",
       "      <td>3014.4</td>\n",
       "    </tr>\n",
       "    <tr>\n",
       "      <th>27</th>\n",
       "      <td>日落时间-时间</td>\n",
       "      <td>2743.0</td>\n",
       "    </tr>\n",
       "    <tr>\n",
       "      <th>43</th>\n",
       "      <td>光照/温度</td>\n",
       "      <td>2680.4</td>\n",
       "    </tr>\n",
       "    <tr>\n",
       "      <th>26</th>\n",
       "      <td>时间-日出时间</td>\n",
       "      <td>2668.4</td>\n",
       "    </tr>\n",
       "    <tr>\n",
       "      <th>15</th>\n",
       "      <td>weather_code_archive_best_match_(wmo_code)</td>\n",
       "      <td>2071.0</td>\n",
       "    </tr>\n",
       "    <tr>\n",
       "      <th>11</th>\n",
       "      <td>经度</td>\n",
       "      <td>1646.2</td>\n",
       "    </tr>\n",
       "    <tr>\n",
       "      <th>7</th>\n",
       "      <td>降水（m）</td>\n",
       "      <td>1238.6</td>\n",
       "    </tr>\n",
       "    <tr>\n",
       "      <th>14</th>\n",
       "      <td>sunshine_duration_archive_best_match_(s)</td>\n",
       "      <td>1157.6</td>\n",
       "    </tr>\n",
       "    <tr>\n",
       "      <th>12</th>\n",
       "      <td>纬度</td>\n",
       "      <td>1071.6</td>\n",
       "    </tr>\n",
       "    <tr>\n",
       "      <th>20</th>\n",
       "      <td>rain_sum_(mm)</td>\n",
       "      <td>957.6</td>\n",
       "    </tr>\n",
       "    <tr>\n",
       "      <th>30</th>\n",
       "      <td>月</td>\n",
       "      <td>766.0</td>\n",
       "    </tr>\n",
       "    <tr>\n",
       "      <th>13</th>\n",
       "      <td>综合倍率</td>\n",
       "      <td>670.0</td>\n",
       "    </tr>\n",
       "    <tr>\n",
       "      <th>34</th>\n",
       "      <td>光伏用户编号_f1</td>\n",
       "      <td>648.2</td>\n",
       "    </tr>\n",
       "    <tr>\n",
       "      <th>29</th>\n",
       "      <td>季节</td>\n",
       "      <td>456.4</td>\n",
       "    </tr>\n",
       "    <tr>\n",
       "      <th>35</th>\n",
       "      <td>光伏用户编号_f2</td>\n",
       "      <td>422.6</td>\n",
       "    </tr>\n",
       "    <tr>\n",
       "      <th>37</th>\n",
       "      <td>光伏用户编号_f4</td>\n",
       "      <td>411.0</td>\n",
       "    </tr>\n",
       "    <tr>\n",
       "      <th>36</th>\n",
       "      <td>光伏用户编号_f3</td>\n",
       "      <td>223.6</td>\n",
       "    </tr>\n",
       "    <tr>\n",
       "      <th>41</th>\n",
       "      <td>光伏用户编号_f8</td>\n",
       "      <td>219.0</td>\n",
       "    </tr>\n",
       "    <tr>\n",
       "      <th>28</th>\n",
       "      <td>年</td>\n",
       "      <td>187.2</td>\n",
       "    </tr>\n",
       "    <tr>\n",
       "      <th>40</th>\n",
       "      <td>光伏用户编号_f7</td>\n",
       "      <td>11.8</td>\n",
       "    </tr>\n",
       "    <tr>\n",
       "      <th>25</th>\n",
       "      <td>是白天</td>\n",
       "      <td>11.6</td>\n",
       "    </tr>\n",
       "    <tr>\n",
       "      <th>38</th>\n",
       "      <td>光伏用户编号_f5</td>\n",
       "      <td>2.6</td>\n",
       "    </tr>\n",
       "    <tr>\n",
       "      <th>42</th>\n",
       "      <td>光伏用户编号_f9</td>\n",
       "      <td>1.8</td>\n",
       "    </tr>\n",
       "    <tr>\n",
       "      <th>39</th>\n",
       "      <td>光伏用户编号_f6</td>\n",
       "      <td>1.6</td>\n",
       "    </tr>\n",
       "    <tr>\n",
       "      <th>21</th>\n",
       "      <td>snowfall_sum_(cm)</td>\n",
       "      <td>0.2</td>\n",
       "    </tr>\n",
       "  </tbody>\n",
       "</table>\n",
       "</div>"
      ],
      "text/plain": [
       "                                            特征     重要性\n",
       "47                             辐照强度（J/m2）_mean  7434.6\n",
       "0                                       气压(Pa）  7096.0\n",
       "2                                           云量  5435.4\n",
       "31                                           日  5105.4\n",
       "1                                      相对湿度（%）  4623.8\n",
       "49                                   温度（K）_min  4380.6\n",
       "44                              辐照强度（J/m2）_-_1  4357.2\n",
       "33                                           分  4337.2\n",
       "19                      precipitation_sum_(mm)  4326.0\n",
       "16                     temperature_2m_max_(°C)  4198.6\n",
       "17                     temperature_2m_min_(°C)  4022.4\n",
       "45                              辐照强度（J/m2）_-_8  3989.4\n",
       "3                                 10米风速（10m/s）  3590.8\n",
       "8                               100m风速（100m/s）  3491.4\n",
       "22               apparent_temperature_max_(°C)  3430.6\n",
       "23               apparent_temperature_min_(°C)  3419.0\n",
       "32                                           周  3418.8\n",
       "4                                     10米风向（°)  3362.8\n",
       "9                                    100m风向（°)  3356.0\n",
       "48                                   温度（K）_max  3289.2\n",
       "10                                    装机容量(kW)  3256.4\n",
       "18                    temperature_2m_mean_(°C)  3240.4\n",
       "6                                   辐照强度（J/m2）  3219.2\n",
       "5                                        温度（K）  3172.4\n",
       "46                              辐照强度（J/m2）_max  3164.0\n",
       "24              apparent_temperature_mean_(°C)  3014.4\n",
       "27                                     日落时间-时间  2743.0\n",
       "43                                       光照/温度  2680.4\n",
       "26                                     时间-日出时间  2668.4\n",
       "15  weather_code_archive_best_match_(wmo_code)  2071.0\n",
       "11                                          经度  1646.2\n",
       "7                                        降水（m）  1238.6\n",
       "14    sunshine_duration_archive_best_match_(s)  1157.6\n",
       "12                                          纬度  1071.6\n",
       "20                               rain_sum_(mm)   957.6\n",
       "30                                           月   766.0\n",
       "13                                        综合倍率   670.0\n",
       "34                                   光伏用户编号_f1   648.2\n",
       "29                                          季节   456.4\n",
       "35                                   光伏用户编号_f2   422.6\n",
       "37                                   光伏用户编号_f4   411.0\n",
       "36                                   光伏用户编号_f3   223.6\n",
       "41                                   光伏用户编号_f8   219.0\n",
       "28                                           年   187.2\n",
       "40                                   光伏用户编号_f7    11.8\n",
       "25                                         是白天    11.6\n",
       "38                                   光伏用户编号_f5     2.6\n",
       "42                                   光伏用户编号_f9     1.8\n",
       "39                                   光伏用户编号_f6     1.6\n",
       "21                           snowfall_sum_(cm)     0.2"
      ]
     },
     "execution_count": 60,
     "metadata": {},
     "output_type": "execute_result"
    }
   ],
   "source": [
    "importance = DataFrame()\n",
    "importance[\"特征\"] = model_lgb[0].feature_name()\n",
    "importance[\"重要性\"] = 0\n",
    "for model in model_lgb:\n",
    "    importance[\"重要性\"] = importance[\"重要性\"] + model.feature_importance()\n",
    "importance[\"重要性\"] = importance[\"重要性\"] / kfold.n_splits\n",
    "importance.sort_values(\"重要性\", ascending=False)[0:50]"
   ]
  },
  {
   "cell_type": "markdown",
   "metadata": {},
   "source": [
    "<h2>预测</h2>"
   ]
  },
  {
   "cell_type": "code",
   "execution_count": 61,
   "metadata": {
    "ExecuteTime": {
     "end_time": "2024-04-02T01:32:32.565088Z",
     "start_time": "2024-04-02T01:32:28.832117Z"
    }
   },
   "outputs": [
    {
     "name": "stderr",
     "output_type": "stream",
     "text": [
      "C:\\Program Files\\Python37\\lib\\site-packages\\ipykernel_launcher.py:8: SettingWithCopyWarning: \n",
      "A value is trying to be set on a copy of a slice from a DataFrame.\n",
      "Try using .loc[row_indexer,col_indexer] = value instead\n",
      "\n",
      "See the caveats in the documentation: https://pandas.pydata.org/pandas-docs/stable/user_guide/indexing.html#returning-a-view-versus-a-copy\n",
      "  \n"
     ]
    }
   ],
   "source": [
    "x_test = df_test.drop(columns=[\"光伏用户编号\", \"时间\"]).astype(np.float32)\n",
    "y_test = x_test.pop(\"target\")\n",
    "y_pred = np.zeros((df_test.shape[0], ))\n",
    "for i in range(0, kfold.n_splits):\n",
    "    y_pred += model_lgb[i].predict(x_test, num_iteration=model_lgb[i].best_iteration)\n",
    "    y_pred += model_xgb[i].predict(DMatrix(x_test, enable_categorical=True, nthread=-1), iteration_range=(0, model_xgb[i].best_ntree_limit))\n",
    "y_pred = y_pred / 2 / kfold.n_splits\n",
    "df_test[\"target\"] = y_pred"
   ]
  },
  {
   "cell_type": "code",
   "execution_count": 62,
   "metadata": {
    "ExecuteTime": {
     "end_time": "2024-04-02T01:32:32.792161Z",
     "start_time": "2024-04-02T01:32:32.567090Z"
    }
   },
   "outputs": [],
   "source": [
    "df_test = df_test[[\"光伏用户编号\", \"综合倍率\", \"年\", \"月\", \"日\", \"分\", \"target\"]]\n",
    "df_test[\"时间\"] = df_test[\"年\"].astype(str) + \"-\" + df_test[\"月\"].astype(str) + \"-\" + df_test[\"日\"].astype(str) + \" 0:00\"\n",
    "df_test[\"分\"] = \"p\" + (df_test[\"分\"].astype(int) + 1).astype(str)\n",
    "df_test = df_test.drop(columns=[\"年\", \"月\", \"日\"])"
   ]
  },
  {
   "cell_type": "code",
   "execution_count": 63,
   "metadata": {
    "ExecuteTime": {
     "end_time": "2024-04-02T01:32:32.819171Z",
     "start_time": "2024-04-02T01:32:32.794087Z"
    }
   },
   "outputs": [],
   "source": [
    "result = pd.pivot(df_test, index=[\"光伏用户编号\", \"综合倍率\", \"时间\"], columns=\"分\", values=\"target\").reset_index()\n",
    "result = result[result[\"综合倍率\"].notnull()]\n",
    "result[\"综合倍率\"] = result[\"综合倍率\"].astype(int)"
   ]
  },
  {
   "cell_type": "code",
   "execution_count": 64,
   "metadata": {
    "ExecuteTime": {
     "end_time": "2024-04-02T01:32:32.907158Z",
     "start_time": "2024-04-02T01:32:32.820088Z"
    }
   },
   "outputs": [],
   "source": [
    "result.to_csv(\"../data/%s.csv\" % datetime.now().strftime(\"%Y%m%d_%H%M%S\"), encoding=\"utf-8\", index=False)"
   ]
  },
  {
   "cell_type": "code",
   "execution_count": null,
   "metadata": {},
   "outputs": [],
   "source": []
  }
 ],
 "metadata": {
  "kernelspec": {
   "display_name": "Python 3",
   "language": "python",
   "name": "python3"
  },
  "language_info": {
   "codemirror_mode": {
    "name": "ipython",
    "version": 3
   },
   "file_extension": ".py",
   "mimetype": "text/x-python",
   "name": "python",
   "nbconvert_exporter": "python",
   "pygments_lexer": "ipython3",
   "version": "3.7.3"
  },
  "toc": {
   "base_numbering": 1,
   "nav_menu": {},
   "number_sections": true,
   "sideBar": true,
   "skip_h1_title": false,
   "title_cell": "Table of Contents",
   "title_sidebar": "Contents",
   "toc_cell": false,
   "toc_position": {
    "height": "calc(100% - 180px)",
    "left": "10px",
    "top": "150px",
    "width": "211.52px"
   },
   "toc_section_display": true,
   "toc_window_display": true
  },
  "varInspector": {
   "cols": {
    "lenName": 16,
    "lenType": 16,
    "lenVar": 40
   },
   "kernels_config": {
    "python": {
     "delete_cmd_postfix": "",
     "delete_cmd_prefix": "del ",
     "library": "var_list.py",
     "varRefreshCmd": "print(var_dic_list())"
    },
    "r": {
     "delete_cmd_postfix": ") ",
     "delete_cmd_prefix": "rm(",
     "library": "var_list.r",
     "varRefreshCmd": "cat(var_dic_list()) "
    }
   },
   "position": {
    "height": "244.83px",
    "left": "1957.27px",
    "right": "20px",
    "top": "120px",
    "width": "350px"
   },
   "types_to_exclude": [
    "module",
    "function",
    "builtin_function_or_method",
    "instance",
    "_Feature"
   ],
   "window_display": true
  }
 },
 "nbformat": 4,
 "nbformat_minor": 4
}
