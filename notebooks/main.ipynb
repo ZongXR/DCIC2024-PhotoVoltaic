{
 "cells": [
  {
   "cell_type": "markdown",
   "metadata": {},
   "source": [
    "<h2>导入包</h2>"
   ]
  },
  {
   "cell_type": "code",
   "execution_count": 29,
   "metadata": {
    "ExecuteTime": {
     "end_time": "2024-03-24T09:20:52.593759Z",
     "start_time": "2024-03-24T09:20:52.588758Z"
    }
   },
   "outputs": [],
   "source": [
    "import os\n",
    "import re\n",
    "import logging\n",
    "from datetime import datetime, date\n",
    "import numpy as np\n",
    "import pandas as pd\n",
    "from pandas import Series, DataFrame\n",
    "from sklearn.model_selection import train_test_split\n",
    "from sklearn.model_selection import StratifiedKFold, KFold\n",
    "from sklearn.metrics import mean_squared_error\n",
    "import lightgbm as lgb\n",
    "from lightgbm import Dataset\n",
    "import matplotlib.pyplot as plt\n",
    "from astral import LocationInfo\n",
    "from astral.sun import sunrise, sunset, dawn, noon, dusk\n",
    "\n",
    "\n",
    "logging.basicConfig(format='%(asctime)s : %(levelname)s : %(message)s', level=logging.INFO)"
   ]
  },
  {
   "cell_type": "markdown",
   "metadata": {},
   "source": [
    "<h2>读取数据</h2>"
   ]
  },
  {
   "cell_type": "markdown",
   "metadata": {},
   "source": [
    "<h3>比赛数据</h3>"
   ]
  },
  {
   "cell_type": "code",
   "execution_count": 30,
   "metadata": {
    "ExecuteTime": {
     "end_time": "2024-03-24T09:20:53.291957Z",
     "start_time": "2024-03-24T09:20:52.594757Z"
    }
   },
   "outputs": [],
   "source": [
    "x_train = pd.read_csv(\"../data/A榜-训练集_分布式光伏发电预测_气象变量数据.csv\", encoding=\"gbk\")\n",
    "y_train = pd.read_csv(\"../data/A榜-训练集_分布式光伏发电预测_实际功率数据.csv\", encoding=\"gbk\")\n",
    "info_train = pd.read_csv(\"../data/A榜-训练集_分布式光伏发电预测_基本信息.csv\", encoding=\"gbk\")\n",
    "x_test = pd.read_csv(\"../data/A榜-测试集_分布式光伏发电预测_气象变量数据.csv\", encoding=\"gbk\")\n",
    "y_test = pd.read_csv(\"../data/submit_example.csv\", encoding=\"utf-8\")\n",
    "info_test = pd.read_csv(\"../data/A榜-测试集_分布式光伏发电预测_基本信息.csv\", encoding=\"gbk\")"
   ]
  },
  {
   "cell_type": "code",
   "execution_count": 31,
   "metadata": {
    "ExecuteTime": {
     "end_time": "2024-03-24T09:20:53.610985Z",
     "start_time": "2024-03-24T09:20:53.293957Z"
    }
   },
   "outputs": [],
   "source": [
    "x_train = pd.merge(x_train, info_train[[\"光伏用户编号\", \"装机容量(kW)\", \"经度\", \"纬度\"]], how=\"left\", on=\"光伏用户编号\")\n",
    "x_train[\"时间\"] = pd.to_datetime(x_train[\"时间\"], utc=False).dt.tz_localize('Asia/Shanghai')\n",
    "x_test = pd.merge(x_test, info_test[[\"光伏用户编号\", \"装机容量(kW)\", \"经度\", \"纬度\"]], how=\"left\", on=\"光伏用户编号\")\n",
    "x_test[\"时间\"] = pd.to_datetime(x_test[\"时间\"], utc=False).dt.tz_localize('Asia/Shanghai')"
   ]
  },
  {
   "cell_type": "code",
   "execution_count": 32,
   "metadata": {
    "ExecuteTime": {
     "end_time": "2024-03-24T09:20:53.944985Z",
     "start_time": "2024-03-24T09:20:53.612988Z"
    }
   },
   "outputs": [],
   "source": [
    "y_train = y_train.set_index([\"光伏用户编号\", \"综合倍率\", \"时间\"]).stack().reset_index().rename(columns={0:\"target\"})\n",
    "y_train[\"level_3\"] = y_train[\"level_3\"].apply(lambda x: int(x[1:]))\n",
    "y_train[\"时间\"] = pd.to_datetime(y_train[\"时间\"], utc=False).dt.tz_localize('Asia/Shanghai')\n",
    "y_train[\"时间\"] = y_train[\"时间\"] + (y_train[\"level_3\"] - 1) * 15 * pd.Timedelta(1, unit=\"minutes\")\n",
    "y_train = y_train.drop(columns=[\"level_3\"])\n",
    "\n",
    "y_test = y_test.set_index([\"光伏用户编号\", \"综合倍率\", \"时间\"]).stack().reset_index().rename(columns={0:\"target\"})\n",
    "y_test[\"level_3\"] = y_test[\"level_3\"].apply(lambda x: int(x[1:]))\n",
    "y_test[\"时间\"] = pd.to_datetime(y_test[\"时间\"], utc=False).dt.tz_localize('Asia/Shanghai')\n",
    "y_test[\"时间\"] = y_test[\"时间\"] + (y_test[\"level_3\"] - 1) * 15 * pd.Timedelta(1, unit=\"minutes\")\n",
    "y_test = y_test.drop(columns=[\"level_3\"])"
   ]
  },
  {
   "cell_type": "code",
   "execution_count": 33,
   "metadata": {
    "ExecuteTime": {
     "end_time": "2024-03-24T09:20:54.152840Z",
     "start_time": "2024-03-24T09:20:53.945987Z"
    }
   },
   "outputs": [
    {
     "name": "stderr",
     "output_type": "stream",
     "text": [
      "2024-03-24 17:20:54,143 : INFO : Index(['光伏用户编号', '时间', '气压(Pa）', '相对湿度（%）', '云量', '10米风速（10m/s）', '10米风向（°)',\n",
      "       '温度（K）', '辐照强度（J/m2）', '降水（m）', '100m风速（100m/s）', '100m风向（°)',\n",
      "       '装机容量(kW)', '经度', '纬度', '综合倍率', 'target'],\n",
      "      dtype='object')\n"
     ]
    }
   ],
   "source": [
    "df_train = pd.merge(x_train, y_train, on=[\"光伏用户编号\", \"时间\"], how=\"left\")\n",
    "df_test = pd.merge(x_test, y_test, on=[\"光伏用户编号\", \"时间\"], how=\"left\")\n",
    "df = pd.concat([df_train, df_test], axis=0)\n",
    "logging.info(df.columns)"
   ]
  },
  {
   "cell_type": "markdown",
   "metadata": {},
   "source": [
    "<h3>外部数据</h3>"
   ]
  },
  {
   "cell_type": "code",
   "execution_count": 34,
   "metadata": {
    "ExecuteTime": {
     "end_time": "2024-03-24T09:21:50.416217Z",
     "start_time": "2024-03-24T09:20:54.153842Z"
    },
    "scrolled": false
   },
   "outputs": [
    {
     "name": "stderr",
     "output_type": "stream",
     "text": [
      "2024-03-24 17:21:50,313 : INFO : 时间\n",
      "2024-03-24 17:21:50,313 : INFO : temperature_2m_archive_best_match (°C)\n",
      "2024-03-24 17:21:50,314 : INFO : relative_humidity_2m_archive_best_match (%)\n",
      "2024-03-24 17:21:50,315 : INFO : dew_point_2m_archive_best_match (°C)\n",
      "2024-03-24 17:21:50,315 : INFO : apparent_temperature_archive_best_match (°C)\n",
      "2024-03-24 17:21:50,316 : INFO : precipitation_archive_best_match (mm)\n",
      "2024-03-24 17:21:50,316 : INFO : rain_archive_best_match (mm)\n",
      "2024-03-24 17:21:50,317 : INFO : snowfall_archive_best_match (cm)\n",
      "2024-03-24 17:21:50,317 : INFO : snow_depth_archive_best_match (m)\n",
      "2024-03-24 17:21:50,318 : INFO : weather_code_archive_best_match (wmo code)\n",
      "2024-03-24 17:21:50,318 : INFO : pressure_msl_archive_best_match (hPa)\n",
      "2024-03-24 17:21:50,319 : INFO : surface_pressure_archive_best_match (hPa)\n",
      "2024-03-24 17:21:50,319 : INFO : cloud_cover_archive_best_match (%)\n",
      "2024-03-24 17:21:50,319 : INFO : cloud_cover_low_archive_best_match (%)\n",
      "2024-03-24 17:21:50,320 : INFO : cloud_cover_mid_archive_best_match (%)\n",
      "2024-03-24 17:21:50,321 : INFO : cloud_cover_high_archive_best_match (%)\n",
      "2024-03-24 17:21:50,321 : INFO : et0_fao_evapotranspiration_archive_best_match (mm)\n",
      "2024-03-24 17:21:50,322 : INFO : vapour_pressure_deficit_archive_best_match (kPa)\n",
      "2024-03-24 17:21:50,323 : INFO : wind_speed_10m_archive_best_match (km/h)\n",
      "2024-03-24 17:21:50,324 : INFO : wind_speed_100m_archive_best_match (km/h)\n",
      "2024-03-24 17:21:50,324 : INFO : wind_direction_10m_archive_best_match (°)\n",
      "2024-03-24 17:21:50,325 : INFO : wind_direction_100m_archive_best_match (°)\n",
      "2024-03-24 17:21:50,325 : INFO : wind_gusts_10m_archive_best_match (km/h)\n",
      "2024-03-24 17:21:50,326 : INFO : soil_temperature_0_to_7cm_archive_best_match (°C)\n",
      "2024-03-24 17:21:50,327 : INFO : soil_temperature_7_to_28cm_archive_best_match (°C)\n",
      "2024-03-24 17:21:50,327 : INFO : soil_temperature_28_to_100cm_archive_best_match (°C)\n",
      "2024-03-24 17:21:50,328 : INFO : soil_temperature_100_to_255cm_archive_best_match (°C)\n",
      "2024-03-24 17:21:50,328 : INFO : soil_moisture_0_to_7cm_archive_best_match (m³/m³)\n",
      "2024-03-24 17:21:50,329 : INFO : soil_moisture_7_to_28cm_archive_best_match (m³/m³)\n",
      "2024-03-24 17:21:50,329 : INFO : soil_moisture_28_to_100cm_archive_best_match (m³/m³)\n",
      "2024-03-24 17:21:50,329 : INFO : soil_moisture_100_to_255cm_archive_best_match (m³/m³)\n",
      "2024-03-24 17:21:50,330 : INFO : is_day_archive_best_match ()\n",
      "2024-03-24 17:21:50,330 : INFO : sunshine_duration_archive_best_match (s)\n",
      "2024-03-24 17:21:50,330 : INFO : shortwave_radiation_archive_best_match (W/m²)\n",
      "2024-03-24 17:21:50,331 : INFO : direct_radiation_archive_best_match (W/m²)\n",
      "2024-03-24 17:21:50,331 : INFO : diffuse_radiation_archive_best_match (W/m²)\n",
      "2024-03-24 17:21:50,331 : INFO : direct_normal_irradiance_archive_best_match (W/m²)\n",
      "2024-03-24 17:21:50,331 : INFO : global_tilted_irradiance_archive_best_match (W/m²)\n",
      "2024-03-24 17:21:50,332 : INFO : terrestrial_radiation_archive_best_match (W/m²)\n",
      "2024-03-24 17:21:50,332 : INFO : shortwave_radiation_instant_archive_best_match (W/m²)\n",
      "2024-03-24 17:21:50,333 : INFO : direct_radiation_instant_archive_best_match (W/m²)\n",
      "2024-03-24 17:21:50,333 : INFO : diffuse_radiation_instant_archive_best_match (W/m²)\n",
      "2024-03-24 17:21:50,333 : INFO : direct_normal_irradiance_instant_archive_best_match (W/m²)\n",
      "2024-03-24 17:21:50,334 : INFO : global_tilted_irradiance_instant_archive_best_match (W/m²)\n",
      "2024-03-24 17:21:50,334 : INFO : terrestrial_radiation_instant_archive_best_match (W/m²)\n",
      "2024-03-24 17:21:50,334 : INFO : temperature_2m_ecmwf_ifs (°C)\n",
      "2024-03-24 17:21:50,335 : INFO : relative_humidity_2m_ecmwf_ifs (%)\n",
      "2024-03-24 17:21:50,335 : INFO : dew_point_2m_ecmwf_ifs (°C)\n",
      "2024-03-24 17:21:50,335 : INFO : apparent_temperature_ecmwf_ifs (°C)\n",
      "2024-03-24 17:21:50,336 : INFO : precipitation_ecmwf_ifs (mm)\n",
      "2024-03-24 17:21:50,336 : INFO : rain_ecmwf_ifs (mm)\n",
      "2024-03-24 17:21:50,337 : INFO : snowfall_ecmwf_ifs (cm)\n",
      "2024-03-24 17:21:50,337 : INFO : snow_depth_ecmwf_ifs (m)\n",
      "2024-03-24 17:21:50,338 : INFO : weather_code_ecmwf_ifs (wmo code)\n",
      "2024-03-24 17:21:50,339 : INFO : pressure_msl_ecmwf_ifs (hPa)\n",
      "2024-03-24 17:21:50,339 : INFO : surface_pressure_ecmwf_ifs (hPa)\n",
      "2024-03-24 17:21:50,339 : INFO : cloud_cover_ecmwf_ifs (%)\n",
      "2024-03-24 17:21:50,340 : INFO : cloud_cover_low_ecmwf_ifs (%)\n",
      "2024-03-24 17:21:50,340 : INFO : cloud_cover_mid_ecmwf_ifs (%)\n",
      "2024-03-24 17:21:50,341 : INFO : cloud_cover_high_ecmwf_ifs (%)\n",
      "2024-03-24 17:21:50,341 : INFO : et0_fao_evapotranspiration_ecmwf_ifs (mm)\n",
      "2024-03-24 17:21:50,341 : INFO : vapour_pressure_deficit_ecmwf_ifs (kPa)\n",
      "2024-03-24 17:21:50,342 : INFO : wind_speed_10m_ecmwf_ifs (km/h)\n",
      "2024-03-24 17:21:50,342 : INFO : wind_speed_100m_ecmwf_ifs (km/h)\n",
      "2024-03-24 17:21:50,344 : INFO : wind_direction_10m_ecmwf_ifs (°)\n",
      "2024-03-24 17:21:50,345 : INFO : wind_direction_100m_ecmwf_ifs (°)\n",
      "2024-03-24 17:21:50,345 : INFO : wind_gusts_10m_ecmwf_ifs (km/h)\n",
      "2024-03-24 17:21:50,345 : INFO : soil_temperature_0_to_7cm_ecmwf_ifs (°C)\n",
      "2024-03-24 17:21:50,346 : INFO : soil_temperature_7_to_28cm_ecmwf_ifs (°C)\n",
      "2024-03-24 17:21:50,346 : INFO : soil_temperature_28_to_100cm_ecmwf_ifs (°C)\n",
      "2024-03-24 17:21:50,346 : INFO : soil_temperature_100_to_255cm_ecmwf_ifs (°C)\n",
      "2024-03-24 17:21:50,347 : INFO : soil_moisture_0_to_7cm_ecmwf_ifs (m³/m³)\n",
      "2024-03-24 17:21:50,347 : INFO : soil_moisture_7_to_28cm_ecmwf_ifs (m³/m³)\n",
      "2024-03-24 17:21:50,348 : INFO : soil_moisture_28_to_100cm_ecmwf_ifs (m³/m³)\n",
      "2024-03-24 17:21:50,348 : INFO : soil_moisture_100_to_255cm_ecmwf_ifs (m³/m³)\n",
      "2024-03-24 17:21:50,348 : INFO : is_day_ecmwf_ifs ()\n",
      "2024-03-24 17:21:50,348 : INFO : sunshine_duration_ecmwf_ifs (s)\n",
      "2024-03-24 17:21:50,349 : INFO : shortwave_radiation_ecmwf_ifs (W/m²)\n",
      "2024-03-24 17:21:50,349 : INFO : direct_radiation_ecmwf_ifs (W/m²)\n",
      "2024-03-24 17:21:50,349 : INFO : diffuse_radiation_ecmwf_ifs (W/m²)\n",
      "2024-03-24 17:21:50,350 : INFO : direct_normal_irradiance_ecmwf_ifs (W/m²)\n",
      "2024-03-24 17:21:50,350 : INFO : global_tilted_irradiance_ecmwf_ifs (W/m²)\n",
      "2024-03-24 17:21:50,350 : INFO : terrestrial_radiation_ecmwf_ifs (W/m²)\n",
      "2024-03-24 17:21:50,351 : INFO : shortwave_radiation_instant_ecmwf_ifs (W/m²)\n",
      "2024-03-24 17:21:50,351 : INFO : direct_radiation_instant_ecmwf_ifs (W/m²)\n",
      "2024-03-24 17:21:50,351 : INFO : diffuse_radiation_instant_ecmwf_ifs (W/m²)\n",
      "2024-03-24 17:21:50,352 : INFO : direct_normal_irradiance_instant_ecmwf_ifs (W/m²)\n",
      "2024-03-24 17:21:50,352 : INFO : global_tilted_irradiance_instant_ecmwf_ifs (W/m²)\n",
      "2024-03-24 17:21:50,353 : INFO : terrestrial_radiation_instant_ecmwf_ifs (W/m²)\n",
      "2024-03-24 17:21:50,353 : INFO : temperature_2m_era5_seamless (°C)\n",
      "2024-03-24 17:21:50,353 : INFO : relative_humidity_2m_era5_seamless (%)\n",
      "2024-03-24 17:21:50,353 : INFO : dew_point_2m_era5_seamless (°C)\n",
      "2024-03-24 17:21:50,354 : INFO : apparent_temperature_era5_seamless (°C)\n",
      "2024-03-24 17:21:50,354 : INFO : precipitation_era5_seamless (mm)\n",
      "2024-03-24 17:21:50,354 : INFO : rain_era5_seamless (mm)\n",
      "2024-03-24 17:21:50,355 : INFO : snowfall_era5_seamless (cm)\n",
      "2024-03-24 17:21:50,355 : INFO : snow_depth_era5_seamless (m)\n",
      "2024-03-24 17:21:50,355 : INFO : weather_code_era5_seamless (wmo code)\n",
      "2024-03-24 17:21:50,356 : INFO : pressure_msl_era5_seamless (hPa)\n",
      "2024-03-24 17:21:50,356 : INFO : surface_pressure_era5_seamless (hPa)\n",
      "2024-03-24 17:21:50,357 : INFO : cloud_cover_era5_seamless (%)\n",
      "2024-03-24 17:21:50,358 : INFO : cloud_cover_low_era5_seamless (%)\n",
      "2024-03-24 17:21:50,358 : INFO : cloud_cover_mid_era5_seamless (%)\n",
      "2024-03-24 17:21:50,358 : INFO : cloud_cover_high_era5_seamless (%)\n",
      "2024-03-24 17:21:50,358 : INFO : et0_fao_evapotranspiration_era5_seamless (mm)\n",
      "2024-03-24 17:21:50,359 : INFO : vapour_pressure_deficit_era5_seamless (kPa)\n",
      "2024-03-24 17:21:50,359 : INFO : wind_speed_10m_era5_seamless (km/h)\n",
      "2024-03-24 17:21:50,359 : INFO : wind_speed_100m_era5_seamless (km/h)\n",
      "2024-03-24 17:21:50,360 : INFO : wind_direction_10m_era5_seamless (°)\n",
      "2024-03-24 17:21:50,360 : INFO : wind_direction_100m_era5_seamless (°)\n",
      "2024-03-24 17:21:50,361 : INFO : wind_gusts_10m_era5_seamless (km/h)\n",
      "2024-03-24 17:21:50,361 : INFO : soil_temperature_0_to_7cm_era5_seamless (°C)\n",
      "2024-03-24 17:21:50,361 : INFO : soil_temperature_7_to_28cm_era5_seamless (°C)\n",
      "2024-03-24 17:21:50,362 : INFO : soil_temperature_28_to_100cm_era5_seamless (°C)\n"
     ]
    },
    {
     "name": "stderr",
     "output_type": "stream",
     "text": [
      "2024-03-24 17:21:50,362 : INFO : soil_temperature_100_to_255cm_era5_seamless (°C)\n",
      "2024-03-24 17:21:50,362 : INFO : soil_moisture_0_to_7cm_era5_seamless (m³/m³)\n",
      "2024-03-24 17:21:50,363 : INFO : soil_moisture_7_to_28cm_era5_seamless (m³/m³)\n",
      "2024-03-24 17:21:50,363 : INFO : soil_moisture_28_to_100cm_era5_seamless (m³/m³)\n",
      "2024-03-24 17:21:50,364 : INFO : soil_moisture_100_to_255cm_era5_seamless (m³/m³)\n",
      "2024-03-24 17:21:50,364 : INFO : is_day_era5_seamless ()\n",
      "2024-03-24 17:21:50,364 : INFO : sunshine_duration_era5_seamless (s)\n",
      "2024-03-24 17:21:50,365 : INFO : shortwave_radiation_era5_seamless (W/m²)\n",
      "2024-03-24 17:21:50,365 : INFO : direct_radiation_era5_seamless (W/m²)\n",
      "2024-03-24 17:21:50,366 : INFO : diffuse_radiation_era5_seamless (W/m²)\n",
      "2024-03-24 17:21:50,366 : INFO : direct_normal_irradiance_era5_seamless (W/m²)\n",
      "2024-03-24 17:21:50,367 : INFO : global_tilted_irradiance_era5_seamless (W/m²)\n",
      "2024-03-24 17:21:50,367 : INFO : terrestrial_radiation_era5_seamless (W/m²)\n",
      "2024-03-24 17:21:50,367 : INFO : shortwave_radiation_instant_era5_seamless (W/m²)\n",
      "2024-03-24 17:21:50,372 : INFO : direct_radiation_instant_era5_seamless (W/m²)\n",
      "2024-03-24 17:21:50,372 : INFO : diffuse_radiation_instant_era5_seamless (W/m²)\n",
      "2024-03-24 17:21:50,373 : INFO : direct_normal_irradiance_instant_era5_seamless (W/m²)\n",
      "2024-03-24 17:21:50,373 : INFO : global_tilted_irradiance_instant_era5_seamless (W/m²)\n",
      "2024-03-24 17:21:50,373 : INFO : terrestrial_radiation_instant_era5_seamless (W/m²)\n",
      "2024-03-24 17:21:50,374 : INFO : temperature_2m_era5 (°C)\n",
      "2024-03-24 17:21:50,374 : INFO : relative_humidity_2m_era5 (%)\n",
      "2024-03-24 17:21:50,375 : INFO : dew_point_2m_era5 (°C)\n",
      "2024-03-24 17:21:50,375 : INFO : apparent_temperature_era5 (°C)\n",
      "2024-03-24 17:21:50,375 : INFO : precipitation_era5 (mm)\n",
      "2024-03-24 17:21:50,376 : INFO : rain_era5 (mm)\n",
      "2024-03-24 17:21:50,376 : INFO : snowfall_era5 (cm)\n",
      "2024-03-24 17:21:50,376 : INFO : snow_depth_era5 (m)\n",
      "2024-03-24 17:21:50,377 : INFO : weather_code_era5 (wmo code)\n",
      "2024-03-24 17:21:50,377 : INFO : pressure_msl_era5 (hPa)\n",
      "2024-03-24 17:21:50,377 : INFO : surface_pressure_era5 (hPa)\n",
      "2024-03-24 17:21:50,378 : INFO : cloud_cover_era5 (%)\n",
      "2024-03-24 17:21:50,378 : INFO : cloud_cover_low_era5 (%)\n",
      "2024-03-24 17:21:50,378 : INFO : cloud_cover_mid_era5 (%)\n",
      "2024-03-24 17:21:50,379 : INFO : cloud_cover_high_era5 (%)\n",
      "2024-03-24 17:21:50,379 : INFO : et0_fao_evapotranspiration_era5 (mm)\n",
      "2024-03-24 17:21:50,379 : INFO : vapour_pressure_deficit_era5 (kPa)\n",
      "2024-03-24 17:21:50,380 : INFO : wind_speed_10m_era5 (km/h)\n",
      "2024-03-24 17:21:50,380 : INFO : wind_speed_100m_era5 (km/h)\n",
      "2024-03-24 17:21:50,380 : INFO : wind_direction_10m_era5 (°)\n",
      "2024-03-24 17:21:50,381 : INFO : wind_direction_100m_era5 (°)\n",
      "2024-03-24 17:21:50,381 : INFO : wind_gusts_10m_era5 (km/h)\n",
      "2024-03-24 17:21:50,381 : INFO : soil_temperature_0_to_7cm_era5 (°C)\n",
      "2024-03-24 17:21:50,381 : INFO : soil_temperature_7_to_28cm_era5 (°C)\n",
      "2024-03-24 17:21:50,382 : INFO : soil_temperature_28_to_100cm_era5 (°C)\n",
      "2024-03-24 17:21:50,382 : INFO : soil_temperature_100_to_255cm_era5 (°C)\n",
      "2024-03-24 17:21:50,382 : INFO : soil_moisture_0_to_7cm_era5 (m³/m³)\n",
      "2024-03-24 17:21:50,383 : INFO : soil_moisture_7_to_28cm_era5 (m³/m³)\n",
      "2024-03-24 17:21:50,383 : INFO : soil_moisture_28_to_100cm_era5 (m³/m³)\n",
      "2024-03-24 17:21:50,383 : INFO : soil_moisture_100_to_255cm_era5 (m³/m³)\n",
      "2024-03-24 17:21:50,384 : INFO : is_day_era5 ()\n",
      "2024-03-24 17:21:50,384 : INFO : sunshine_duration_era5 (s)\n",
      "2024-03-24 17:21:50,384 : INFO : shortwave_radiation_era5 (W/m²)\n",
      "2024-03-24 17:21:50,385 : INFO : direct_radiation_era5 (W/m²)\n",
      "2024-03-24 17:21:50,385 : INFO : diffuse_radiation_era5 (W/m²)\n",
      "2024-03-24 17:21:50,385 : INFO : direct_normal_irradiance_era5 (W/m²)\n",
      "2024-03-24 17:21:50,386 : INFO : global_tilted_irradiance_era5 (W/m²)\n",
      "2024-03-24 17:21:50,386 : INFO : terrestrial_radiation_era5 (W/m²)\n",
      "2024-03-24 17:21:50,386 : INFO : shortwave_radiation_instant_era5 (W/m²)\n",
      "2024-03-24 17:21:50,386 : INFO : direct_radiation_instant_era5 (W/m²)\n",
      "2024-03-24 17:21:50,387 : INFO : diffuse_radiation_instant_era5 (W/m²)\n",
      "2024-03-24 17:21:50,387 : INFO : direct_normal_irradiance_instant_era5 (W/m²)\n",
      "2024-03-24 17:21:50,387 : INFO : global_tilted_irradiance_instant_era5 (W/m²)\n",
      "2024-03-24 17:21:50,388 : INFO : terrestrial_radiation_instant_era5 (W/m²)\n",
      "2024-03-24 17:21:50,388 : INFO : temperature_2m_era5_land (°C)\n",
      "2024-03-24 17:21:50,391 : INFO : relative_humidity_2m_era5_land (%)\n",
      "2024-03-24 17:21:50,392 : INFO : dew_point_2m_era5_land (°C)\n",
      "2024-03-24 17:21:50,392 : INFO : apparent_temperature_era5_land (°C)\n",
      "2024-03-24 17:21:50,393 : INFO : precipitation_era5_land (mm)\n",
      "2024-03-24 17:21:50,393 : INFO : rain_era5_land (mm)\n",
      "2024-03-24 17:21:50,394 : INFO : snowfall_era5_land (cm)\n",
      "2024-03-24 17:21:50,394 : INFO : snow_depth_era5_land (m)\n",
      "2024-03-24 17:21:50,394 : INFO : weather_code_era5_land (wmo code)\n",
      "2024-03-24 17:21:50,394 : INFO : pressure_msl_era5_land (hPa)\n",
      "2024-03-24 17:21:50,395 : INFO : surface_pressure_era5_land (hPa)\n",
      "2024-03-24 17:21:50,395 : INFO : cloud_cover_era5_land (%)\n",
      "2024-03-24 17:21:50,395 : INFO : cloud_cover_low_era5_land (%)\n",
      "2024-03-24 17:21:50,396 : INFO : cloud_cover_mid_era5_land (%)\n",
      "2024-03-24 17:21:50,396 : INFO : cloud_cover_high_era5_land (%)\n",
      "2024-03-24 17:21:50,396 : INFO : et0_fao_evapotranspiration_era5_land (mm)\n",
      "2024-03-24 17:21:50,397 : INFO : vapour_pressure_deficit_era5_land (kPa)\n",
      "2024-03-24 17:21:50,397 : INFO : wind_speed_10m_era5_land (km/h)\n",
      "2024-03-24 17:21:50,397 : INFO : wind_speed_100m_era5_land (km/h)\n",
      "2024-03-24 17:21:50,398 : INFO : wind_direction_10m_era5_land (°)\n",
      "2024-03-24 17:21:50,398 : INFO : wind_direction_100m_era5_land (°)\n",
      "2024-03-24 17:21:50,398 : INFO : wind_gusts_10m_era5_land (km/h)\n",
      "2024-03-24 17:21:50,399 : INFO : soil_temperature_0_to_7cm_era5_land (°C)\n",
      "2024-03-24 17:21:50,399 : INFO : soil_temperature_7_to_28cm_era5_land (°C)\n",
      "2024-03-24 17:21:50,399 : INFO : soil_temperature_28_to_100cm_era5_land (°C)\n",
      "2024-03-24 17:21:50,400 : INFO : soil_temperature_100_to_255cm_era5_land (°C)\n",
      "2024-03-24 17:21:50,400 : INFO : soil_moisture_0_to_7cm_era5_land (m³/m³)\n",
      "2024-03-24 17:21:50,401 : INFO : soil_moisture_7_to_28cm_era5_land (m³/m³)\n",
      "2024-03-24 17:21:50,402 : INFO : soil_moisture_28_to_100cm_era5_land (m³/m³)\n",
      "2024-03-24 17:21:50,402 : INFO : soil_moisture_100_to_255cm_era5_land (m³/m³)\n",
      "2024-03-24 17:21:50,403 : INFO : is_day_era5_land ()\n",
      "2024-03-24 17:21:50,403 : INFO : sunshine_duration_era5_land (s)\n",
      "2024-03-24 17:21:50,403 : INFO : shortwave_radiation_era5_land (W/m²)\n",
      "2024-03-24 17:21:50,404 : INFO : direct_radiation_era5_land (W/m²)\n",
      "2024-03-24 17:21:50,404 : INFO : diffuse_radiation_era5_land (W/m²)\n",
      "2024-03-24 17:21:50,404 : INFO : direct_normal_irradiance_era5_land (W/m²)\n",
      "2024-03-24 17:21:50,405 : INFO : global_tilted_irradiance_era5_land (W/m²)\n",
      "2024-03-24 17:21:50,405 : INFO : terrestrial_radiation_era5_land (W/m²)\n",
      "2024-03-24 17:21:50,406 : INFO : shortwave_radiation_instant_era5_land (W/m²)\n",
      "2024-03-24 17:21:50,406 : INFO : direct_radiation_instant_era5_land (W/m²)\n",
      "2024-03-24 17:21:50,406 : INFO : diffuse_radiation_instant_era5_land (W/m²)\n",
      "2024-03-24 17:21:50,407 : INFO : direct_normal_irradiance_instant_era5_land (W/m²)\n",
      "2024-03-24 17:21:50,407 : INFO : global_tilted_irradiance_instant_era5_land (W/m²)\n",
      "2024-03-24 17:21:50,407 : INFO : terrestrial_radiation_instant_era5_land (W/m²)\n",
      "2024-03-24 17:21:50,407 : INFO : 光伏用户编号\n"
     ]
    }
   ],
   "source": [
    "outer_files = os.listdir(\"../data/\")\n",
    "outer_files = [x for x in outer_files if re.match(r\"^open-meteo-f\\d\\.csv$\", x)]\n",
    "outer_dfs = list()\n",
    "for outer_file in outer_files:\n",
    "    outer_df = pd.read_csv(os.path.join(\"../data\", outer_file), skiprows=3)\n",
    "    outer_df[\"time\"] = pd.to_datetime(outer_df[\"time\"], utc=False).dt.tz_localize('Asia/Shanghai')\n",
    "    outer_df = outer_df.set_index(\"time\", drop=True).asfreq(\"15T\")\n",
    "    outer_df = outer_df.interpolate(method=\"time\", axis=0)\n",
    "\n",
    "    outer_df = outer_df.reset_index(drop=False).rename(columns={\"time\": \"时间\"})\n",
    "    outer_df[\"光伏用户编号\"] = re.match(r\"^open-meteo-(f\\d)\\.csv$\", outer_file).group(1)    \n",
    "    outer_dfs.append(outer_df)\n",
    "outer_data = pd.concat(outer_dfs, axis=0)\n",
    "for column in outer_data.columns:\n",
    "    logging.info(column)"
   ]
  },
  {
   "cell_type": "markdown",
   "metadata": {},
   "source": [
    "<h3>整合数据</h3>"
   ]
  },
  {
   "cell_type": "code",
   "execution_count": 35,
   "metadata": {
    "ExecuteTime": {
     "end_time": "2024-03-24T09:21:50.797141Z",
     "start_time": "2024-03-24T09:21:50.419217Z"
    }
   },
   "outputs": [],
   "source": [
    "df = pd.merge(df, outer_data[[\n",
    "    \"光伏用户编号\", \n",
    "    \"时间\",\n",
    "    \"apparent_temperature_archive_best_match (°C)\", \n",
    "    \"surface_pressure_archive_best_match (hPa)\",\n",
    "    \"is_day_archive_best_match ()\",\n",
    "    \"relative_humidity_2m_archive_best_match (%)\",\n",
    "    \"cloud_cover_archive_best_match (%)\",\n",
    "    \"global_tilted_irradiance_instant_archive_best_match (W/m²)\",\n",
    "    \"precipitation_archive_best_match (mm)\",\n",
    "    \"wind_speed_10m_archive_best_match (km/h)\",\n",
    "    \"wind_speed_100m_archive_best_match (km/h)\",\n",
    "    \"wind_direction_10m_archive_best_match (°)\",\n",
    "    \"wind_direction_100m_archive_best_match (°)\"\n",
    "]], how=\"left\", on=[\"光伏用户编号\", \"时间\"])\n",
    "\n",
    "df[\"温度（K）\"] = df[\"apparent_temperature_archive_best_match (°C)\"] + 273.15\n",
    "df[\"气压(Pa）\"] = df[\"surface_pressure_archive_best_match (hPa)\"] * 100\n",
    "df[\"是白天\"] = df[\"is_day_archive_best_match ()\"].copy()\n",
    "df[\"相对湿度（%）\"] = df[\"relative_humidity_2m_archive_best_match (%)\"].copy()\n",
    "df[\"云量\"] = df[\"cloud_cover_archive_best_match (%)\"] / 100\n",
    "df[\"辐照强度（J/m2）\"] = df[\"global_tilted_irradiance_instant_archive_best_match (W/m²)\"] * 15 * 60\n",
    "df[\"降水（m）\"] = df[\"precipitation_archive_best_match (mm)\"] / 1000\n",
    "df[\"10米风速（10m/s）\"] = df[\"wind_speed_10m_archive_best_match (km/h)\"] / 3600 * 100\n",
    "df[\"100m风速（100m/s）\"] = df[\"wind_speed_100m_archive_best_match (km/h)\"] / 3600 * 10\n",
    "df[\"10米风向（°)\"] = df[\"wind_direction_10m_archive_best_match (°)\"].copy()\n",
    "df[\"100m风向（°)\"] = df[\"wind_direction_100m_archive_best_match (°)\"].copy()\n",
    "\n",
    "df = df.drop(columns=[\n",
    "    \"apparent_temperature_archive_best_match (°C)\", \n",
    "    \"surface_pressure_archive_best_match (hPa)\",\n",
    "    \"is_day_archive_best_match ()\",\n",
    "    \"relative_humidity_2m_archive_best_match (%)\",\n",
    "    \"cloud_cover_archive_best_match (%)\",\n",
    "    \"global_tilted_irradiance_instant_archive_best_match (W/m²)\",\n",
    "    \"precipitation_archive_best_match (mm)\",\n",
    "    \"wind_speed_10m_archive_best_match (km/h)\",\n",
    "    \"wind_speed_100m_archive_best_match (km/h)\",\n",
    "    \"wind_direction_10m_archive_best_match (°)\",\n",
    "    \"wind_direction_100m_archive_best_match (°)\"\n",
    "])"
   ]
  },
  {
   "cell_type": "markdown",
   "metadata": {},
   "source": [
    "<h2>特征工程</h2>"
   ]
  },
  {
   "cell_type": "markdown",
   "metadata": {},
   "source": [
    "<h3>时间特征</h3>"
   ]
  },
  {
   "cell_type": "code",
   "execution_count": 36,
   "metadata": {
    "ExecuteTime": {
     "end_time": "2024-03-24T09:21:50.972170Z",
     "start_time": "2024-03-24T09:21:50.800141Z"
    }
   },
   "outputs": [
    {
     "name": "stderr",
     "output_type": "stream",
     "text": [
      "c:\\program files\\python37\\lib\\site-packages\\ipykernel_launcher.py:5: FutureWarning: Series.dt.weekofyear and Series.dt.week have been deprecated.  Please use Series.dt.isocalendar().week instead.\n",
      "  \"\"\"\n"
     ]
    }
   ],
   "source": [
    "df[\"年\"] = df[\"时间\"].dt.year\n",
    "df[\"季节\"] = df[\"时间\"].dt.quarter\n",
    "df[\"月\"] = df[\"时间\"].dt.month\n",
    "df[\"日\"] = df[\"时间\"].dt.day\n",
    "df[\"周\"] = df[\"时间\"].dt.week\n",
    "df[\"分\"] = df[\"时间\"].dt.minute // 15 + df[\"时间\"].dt.hour * 4"
   ]
  },
  {
   "cell_type": "code",
   "execution_count": 37,
   "metadata": {
    "ExecuteTime": {
     "end_time": "2024-03-24T09:21:50.988170Z",
     "start_time": "2024-03-24T09:21:50.974170Z"
    }
   },
   "outputs": [],
   "source": [
    "# df[\"分_\"] = df[\"分\"].copy()\n",
    "# df = pd.get_dummies(df, columns=[\"分_\"], prefix_sep=\"\")"
   ]
  },
  {
   "cell_type": "markdown",
   "metadata": {},
   "source": [
    "<h3>根据日出时间日落时间计算时间段</h3>"
   ]
  },
  {
   "cell_type": "code",
   "execution_count": 38,
   "metadata": {
    "ExecuteTime": {
     "end_time": "2024-03-24T09:21:51.004171Z",
     "start_time": "2024-03-24T09:21:50.989171Z"
    }
   },
   "outputs": [],
   "source": [
    "def solar_time(current_time, dawn_time, sunrise_time, noon_time, sunset_time, dusk_time) -> int:\n",
    "    \"\"\"\n",
    "    根据太阳判断当前时间段\\n\n",
    "    \"\"\"\n",
    "    if dawn_time < current_time < sunrise_time:\n",
    "        return 1\n",
    "    elif sunrise_time <= current_time < noon_time:\n",
    "        return 2\n",
    "    elif noon_time <= current_time < sunset_time:\n",
    "        return 3\n",
    "    elif sunset_time <= current_time < dusk_time:\n",
    "        return 4\n",
    "    else:\n",
    "        return 0"
   ]
  },
  {
   "cell_type": "code",
   "execution_count": 39,
   "metadata": {
    "ExecuteTime": {
     "end_time": "2024-03-24T09:21:51.020176Z",
     "start_time": "2024-03-24T09:21:51.006172Z"
    }
   },
   "outputs": [],
   "source": [
    "# df[\"地点\"] = df.apply(lambda x: LocationInfo(name=x[\"光伏用户编号\"], region=\"China\", timezone=\"Asia/Shanghai\", latitude=x[\"纬度\"], longitude=x[\"经度\"]), axis=1)\n",
    "# df[\"黎明时刻\"] = df.apply(lambda x: dawn(x[\"地点\"].observer, date=x[\"时间\"], tzinfo=x[\"地点\"].timezone), axis=1).dt.tz_convert(\"Asia/Shanghai\")\n",
    "# df[\"日出时刻\"] = df.apply(lambda x: sunrise(x[\"地点\"].observer, date=x[\"时间\"], tzinfo=x[\"地点\"].timezone), axis=1).dt.tz_convert(\"Asia/Shanghai\")\n",
    "# df[\"正午时刻\"] = df.apply(lambda x: noon(x[\"地点\"].observer, date=x[\"时间\"], tzinfo=x[\"地点\"].timezone), axis=1).dt.tz_convert(\"Asia/Shanghai\")\n",
    "# df[\"日落时刻\"] = df.apply(lambda x: sunset(x[\"地点\"].observer, date=x[\"时间\"], tzinfo=x[\"地点\"].timezone), axis=1).dt.tz_convert(\"Asia/Shanghai\")\n",
    "# df[\"黄昏时刻\"] = df.apply(lambda x: dusk(x[\"地点\"].observer, date=x[\"时间\"], tzinfo=x[\"地点\"].timezone), axis=1).dt.tz_convert(\"Asia/Shanghai\")\n",
    "# df[\"时间段\"] = df.apply(lambda x: solar_time(x[\"时间\"], x[\"黎明时刻\"], x[\"日出时刻\"], x[\"正午时刻\"], x[\"日落时刻\"], x[\"黄昏时刻\"]), axis=1)\n",
    "# df = df.drop(columns=[\"地点\", \"黎明时刻\", \"日出时刻\", \"正午时刻\", \"日落时刻\", \"黄昏时刻\"])"
   ]
  },
  {
   "cell_type": "markdown",
   "metadata": {},
   "source": [
    "<h3>光伏用户编号</h3>"
   ]
  },
  {
   "cell_type": "code",
   "execution_count": 40,
   "metadata": {
    "ExecuteTime": {
     "end_time": "2024-03-24T09:21:51.162180Z",
     "start_time": "2024-03-24T09:21:51.023185Z"
    }
   },
   "outputs": [],
   "source": [
    "df[\"光伏用户编号_\"] = df[\"光伏用户编号\"].copy()\n",
    "df = pd.get_dummies(df, columns=[\"光伏用户编号_\"], prefix_sep=\"\")"
   ]
  },
  {
   "cell_type": "markdown",
   "metadata": {},
   "source": [
    "<h3>气象特征</h3>"
   ]
  },
  {
   "cell_type": "code",
   "execution_count": 41,
   "metadata": {
    "ExecuteTime": {
     "end_time": "2024-03-24T09:21:51.194179Z",
     "start_time": "2024-03-24T09:21:51.163180Z"
    }
   },
   "outputs": [],
   "source": [
    "df['100m风速（100m/s）'] = df['100m风速（100m/s）'] * np.sin(np.pi * df['100m风向（°)'] / 180)\n",
    "# df['cos_100m风速（100m/s）'] = df['100m风速（100m/s）'] * np.cos(np.pi * df['100m风向（°)'] / 180)\n",
    "df['10米风速（10m/s）'] = df['10米风速（10m/s）'] * np.sin(np.pi * df['10米风向（°)'] / 180)\n",
    "# df['cos_10米风速（10m/s）'] = df['10米风速（10m/s）'] * np.cos(np.pi * df['10米风向（°)'] / 180)"
   ]
  },
  {
   "cell_type": "markdown",
   "metadata": {},
   "source": [
    "<h3>历史值特征</h3>"
   ]
  },
  {
   "cell_type": "code",
   "execution_count": 42,
   "metadata": {
    "ExecuteTime": {
     "end_time": "2024-03-24T09:21:51.466179Z",
     "start_time": "2024-03-24T09:21:51.195180Z"
    }
   },
   "outputs": [],
   "source": [
    "dfs = []\n",
    "for site, df_site in df.groupby(\"光伏用户编号\"):\n",
    "    df_site = df_site.sort_values(\"时间\")\n",
    "    df_site[\"辐照强度（J/m2） - 1\"] = df_site[\"辐照强度（J/m2）\"].shift(1) - df_site[\"辐照强度（J/m2）\"]\n",
    "    df_site[\"辐照强度（J/m2） - 8\"] = df_site[\"辐照强度（J/m2）\"].shift(8) - df_site[\"辐照强度（J/m2）\"]\n",
    "#     df_site[\"辐照强度（J/m2） - 2\"] = df_site[\"辐照强度（J/m2）\"].shift(2) - df_site[\"辐照强度（J/m2）\"]\n",
    "    dfs.append(df_site)\n",
    "df = pd.concat(dfs, axis=0)"
   ]
  },
  {
   "cell_type": "markdown",
   "metadata": {},
   "source": [
    "<h3>处理异常值</h3>"
   ]
  },
  {
   "cell_type": "code",
   "execution_count": 43,
   "metadata": {
    "ExecuteTime": {
     "end_time": "2024-03-24T09:21:51.498193Z",
     "start_time": "2024-03-24T09:21:51.467181Z"
    }
   },
   "outputs": [
    {
     "name": "stdout",
     "output_type": "stream",
     "text": [
      "207630   -8.8900\n",
      "37316    -0.0085\n",
      "39139    -0.0084\n",
      "Name: target, dtype: float64\n"
     ]
    },
    {
     "data": {
      "text/html": [
       "<div>\n",
       "<style scoped>\n",
       "    .dataframe tbody tr th:only-of-type {\n",
       "        vertical-align: middle;\n",
       "    }\n",
       "\n",
       "    .dataframe tbody tr th {\n",
       "        vertical-align: top;\n",
       "    }\n",
       "\n",
       "    .dataframe thead th {\n",
       "        text-align: right;\n",
       "    }\n",
       "</style>\n",
       "<table border=\"1\" class=\"dataframe\">\n",
       "  <thead>\n",
       "    <tr style=\"text-align: right;\">\n",
       "      <th></th>\n",
       "      <th>光伏用户编号</th>\n",
       "      <th>时间</th>\n",
       "      <th>target</th>\n",
       "    </tr>\n",
       "  </thead>\n",
       "  <tbody>\n",
       "    <tr>\n",
       "      <th>207628</th>\n",
       "      <td>f6</td>\n",
       "      <td>2022-08-15 20:30:00+08:00</td>\n",
       "      <td>-0.002</td>\n",
       "    </tr>\n",
       "    <tr>\n",
       "      <th>207629</th>\n",
       "      <td>f6</td>\n",
       "      <td>2022-08-15 20:45:00+08:00</td>\n",
       "      <td>-0.002</td>\n",
       "    </tr>\n",
       "    <tr>\n",
       "      <th>207630</th>\n",
       "      <td>f6</td>\n",
       "      <td>2022-08-15 21:00:00+08:00</td>\n",
       "      <td>-8.890</td>\n",
       "    </tr>\n",
       "    <tr>\n",
       "      <th>207631</th>\n",
       "      <td>f6</td>\n",
       "      <td>2022-08-15 21:15:00+08:00</td>\n",
       "      <td>-0.002</td>\n",
       "    </tr>\n",
       "    <tr>\n",
       "      <th>207632</th>\n",
       "      <td>f6</td>\n",
       "      <td>2022-08-15 21:30:00+08:00</td>\n",
       "      <td>NaN</td>\n",
       "    </tr>\n",
       "    <tr>\n",
       "      <th>207633</th>\n",
       "      <td>f6</td>\n",
       "      <td>2022-08-15 21:45:00+08:00</td>\n",
       "      <td>NaN</td>\n",
       "    </tr>\n",
       "  </tbody>\n",
       "</table>\n",
       "</div>"
      ],
      "text/plain": [
       "       光伏用户编号                        时间  target\n",
       "207628     f6 2022-08-15 20:30:00+08:00  -0.002\n",
       "207629     f6 2022-08-15 20:45:00+08:00  -0.002\n",
       "207630     f6 2022-08-15 21:00:00+08:00  -8.890\n",
       "207631     f6 2022-08-15 21:15:00+08:00  -0.002\n",
       "207632     f6 2022-08-15 21:30:00+08:00     NaN\n",
       "207633     f6 2022-08-15 21:45:00+08:00     NaN"
      ]
     },
     "execution_count": 43,
     "metadata": {},
     "output_type": "execute_result"
    }
   ],
   "source": [
    "print(df_train[\"target\"].nsmallest(3))\n",
    "df_train[df_train[\"target\"] < -8]\n",
    "df.loc[207628:207633, [\"光伏用户编号\", \"时间\", \"target\"]]"
   ]
  },
  {
   "cell_type": "code",
   "execution_count": 44,
   "metadata": {
    "ExecuteTime": {
     "end_time": "2024-03-24T09:21:51.546192Z",
     "start_time": "2024-03-24T09:21:51.499193Z"
    }
   },
   "outputs": [],
   "source": [
    "df.loc[207630, \"target\"] = -0.002"
   ]
  },
  {
   "cell_type": "markdown",
   "metadata": {},
   "source": [
    "<h3>光照与当天最强光照的比值</h3>"
   ]
  },
  {
   "cell_type": "code",
   "execution_count": 45,
   "metadata": {
    "ExecuteTime": {
     "end_time": "2024-03-24T09:21:52.042207Z",
     "start_time": "2024-03-24T09:21:51.547192Z"
    }
   },
   "outputs": [],
   "source": [
    "df[\"日期\"] = df[\"时间\"].dt.date\n",
    "day_max_values = df[[\"光伏用户编号\", \"日期\", \"辐照强度（J/m2）\"]].groupby(by=[\"光伏用户编号\", \"日期\"]).max()\n",
    "day_max_values = day_max_values.rename(columns={x: x + \"_max\" for x in day_max_values.columns}).reset_index()\n",
    "df = pd.merge(df, day_max_values, on=[\"光伏用户编号\", \"日期\"], how=\"left\").drop(columns=[\"日期\"])\n",
    "df[\"辐照强度（J/m2）_max\"] = df[\"辐照强度（J/m2）\"] / df[\"辐照强度（J/m2）_max\"]"
   ]
  },
  {
   "cell_type": "markdown",
   "metadata": {},
   "source": [
    "<h3>当天的平均光照</h3>"
   ]
  },
  {
   "cell_type": "code",
   "execution_count": 46,
   "metadata": {
    "ExecuteTime": {
     "end_time": "2024-03-24T09:21:52.536207Z",
     "start_time": "2024-03-24T09:21:52.044209Z"
    }
   },
   "outputs": [],
   "source": [
    "df[\"日期\"] = df[\"时间\"].dt.date\n",
    "day_mean_values = df[[\"光伏用户编号\", \"日期\", \"辐照强度（J/m2）\"]].groupby(by=[\"光伏用户编号\", \"日期\"]).mean()\n",
    "day_mean_values = day_mean_values.rename(columns={x: x + \"_mean\" for x in day_mean_values.columns}).reset_index()\n",
    "df = pd.merge(df, day_mean_values, on=[\"光伏用户编号\", \"日期\"], how=\"left\").drop(columns=[\"日期\"])"
   ]
  },
  {
   "cell_type": "markdown",
   "metadata": {},
   "source": [
    "<h3>温度与当天最高温最低度的差值</h3>"
   ]
  },
  {
   "cell_type": "code",
   "execution_count": 47,
   "metadata": {
    "ExecuteTime": {
     "end_time": "2024-03-24T09:21:53.271220Z",
     "start_time": "2024-03-24T09:21:52.537208Z"
    }
   },
   "outputs": [],
   "source": [
    "df[\"日期\"] = df[\"时间\"].dt.date\n",
    "day_max_values = df[[\"光伏用户编号\", \"日期\", \"温度（K）\"]].groupby(by=[\"光伏用户编号\", \"日期\"]).max()\n",
    "day_min_values = df[[\"光伏用户编号\", \"日期\", \"温度（K）\"]].groupby(by=[\"光伏用户编号\", \"日期\"]).min()\n",
    "day_max_values = day_max_values.rename(columns={x: x + \"_max\" for x in day_max_values.columns}).reset_index()\n",
    "day_min_values = day_min_values.rename(columns={x: x + \"_min\" for x in day_min_values.columns}).reset_index()\n",
    "df = pd.merge(df, day_max_values, on=[\"光伏用户编号\", \"日期\"], how=\"left\")\n",
    "df = pd.merge(df, day_min_values, on=[\"光伏用户编号\", \"日期\"], how=\"left\").drop(columns=[\"日期\"])\n",
    "df[\"温度（K）_max\"] = df[\"温度（K）_max\"] - df[\"温度（K）\"]\n",
    "df[\"温度（K）_min\"] = df[\"温度（K）\"] - df[\"温度（K）_min\"]"
   ]
  },
  {
   "cell_type": "markdown",
   "metadata": {},
   "source": [
    "<h3>划分测试集</h3>"
   ]
  },
  {
   "cell_type": "code",
   "execution_count": 48,
   "metadata": {
    "ExecuteTime": {
     "end_time": "2024-03-24T09:21:53.350670Z",
     "start_time": "2024-03-24T09:21:53.272220Z"
    }
   },
   "outputs": [],
   "source": [
    "df_train = df[df[\"时间\"] <= df_train[\"时间\"].max()]\n",
    "df_test = df[df[\"时间\"] >= df_test[\"时间\"].min()]"
   ]
  },
  {
   "cell_type": "markdown",
   "metadata": {},
   "source": [
    "<h2>训练模型</h2>"
   ]
  },
  {
   "cell_type": "markdown",
   "metadata": {},
   "source": [
    "<h3>评测指标</h3>"
   ]
  },
  {
   "cell_type": "code",
   "execution_count": 49,
   "metadata": {
    "ExecuteTime": {
     "end_time": "2024-03-24T09:21:53.366670Z",
     "start_time": "2024-03-24T09:21:53.351670Z"
    }
   },
   "outputs": [],
   "source": [
    "def score(y_true, y_pred):\n",
    "    mse = mean_squared_error(y_true, y_pred)\n",
    "    rmse = np.sqrt(mse)\n",
    "    return 1 / (1 + rmse)"
   ]
  },
  {
   "cell_type": "markdown",
   "metadata": {},
   "source": [
    "<h3>lightgbm模型</h3>"
   ]
  },
  {
   "cell_type": "code",
   "execution_count": 50,
   "metadata": {
    "ExecuteTime": {
     "end_time": "2024-03-24T09:21:53.382672Z",
     "start_time": "2024-03-24T09:21:53.367670Z"
    }
   },
   "outputs": [],
   "source": [
    "params_lgb = {\n",
    "    \"num_boost_round\": 1000,\n",
    "    'learning_rate': 0.02,\n",
    "    'boosting_type': 'gbdt',\n",
    "    'objective': 'mse',\n",
    "    'metric': 'mse',\n",
    "    'num_leaves': 127,\n",
    "    'verbose': -1,\n",
    "    'seed': 42,\n",
    "    'n_jobs': -1,\n",
    "    'feature_fraction': 0.8,\n",
    "    'bagging_fraction': 0.9,\n",
    "    'bagging_freq': 4,\n",
    "    \"early_stopping_round\": 100\n",
    "}"
   ]
  },
  {
   "cell_type": "markdown",
   "metadata": {},
   "source": [
    "<h3>交叉验证</h3>"
   ]
  },
  {
   "cell_type": "code",
   "execution_count": 51,
   "metadata": {
    "ExecuteTime": {
     "end_time": "2024-03-24T09:23:25.266081Z",
     "start_time": "2024-03-24T09:21:53.390671Z"
    }
   },
   "outputs": [
    {
     "name": "stderr",
     "output_type": "stream",
     "text": [
      "2024-03-24 17:21:53,477 : INFO : ############ fold: 0 ###########\n",
      "c:\\program files\\python37\\lib\\site-packages\\lightgbm\\engine.py:177: UserWarning: Found `num_boost_round` in params. Will use it instead of argument\n",
      "  _log_warning(f\"Found `{alias}` in params. Will use it instead of argument\")\n",
      "c:\\program files\\python37\\lib\\site-packages\\lightgbm\\basic.py:2068: UserWarning: categorical_feature in Dataset is overridden.\n",
      "New categorical_feature is ['分']\n",
      "  _log_warning('categorical_feature in Dataset is overridden.\\n'\n",
      "c:\\program files\\python37\\lib\\site-packages\\lightgbm\\basic.py:1780: UserWarning: Overriding the parameters from Reference Dataset.\n",
      "  _log_warning('Overriding the parameters from Reference Dataset.')\n",
      "c:\\program files\\python37\\lib\\site-packages\\lightgbm\\basic.py:1513: UserWarning: categorical_column in param dict is overridden.\n",
      "  _log_warning(f'{cat_alias} in param dict is overridden.')\n"
     ]
    },
    {
     "name": "stdout",
     "output_type": "stream",
     "text": [
      "[1000]\ttraining's l2: 0.0129549\tvalid_1's l2: 0.0216901\n"
     ]
    },
    {
     "name": "stderr",
     "output_type": "stream",
     "text": [
      "2024-03-24 17:22:11,767 : INFO : ############ fold: 1 ###########\n",
      "c:\\program files\\python37\\lib\\site-packages\\lightgbm\\engine.py:177: UserWarning: Found `num_boost_round` in params. Will use it instead of argument\n",
      "  _log_warning(f\"Found `{alias}` in params. Will use it instead of argument\")\n",
      "c:\\program files\\python37\\lib\\site-packages\\lightgbm\\basic.py:2068: UserWarning: categorical_feature in Dataset is overridden.\n",
      "New categorical_feature is ['分']\n",
      "  _log_warning('categorical_feature in Dataset is overridden.\\n'\n",
      "c:\\program files\\python37\\lib\\site-packages\\lightgbm\\basic.py:1780: UserWarning: Overriding the parameters from Reference Dataset.\n",
      "  _log_warning('Overriding the parameters from Reference Dataset.')\n",
      "c:\\program files\\python37\\lib\\site-packages\\lightgbm\\basic.py:1513: UserWarning: categorical_column in param dict is overridden.\n",
      "  _log_warning(f'{cat_alias} in param dict is overridden.')\n"
     ]
    },
    {
     "name": "stdout",
     "output_type": "stream",
     "text": [
      "[1000]\ttraining's l2: 0.0132953\tvalid_1's l2: 0.0218468\n"
     ]
    },
    {
     "name": "stderr",
     "output_type": "stream",
     "text": [
      "2024-03-24 17:22:30,101 : INFO : ############ fold: 2 ###########\n",
      "c:\\program files\\python37\\lib\\site-packages\\lightgbm\\engine.py:177: UserWarning: Found `num_boost_round` in params. Will use it instead of argument\n",
      "  _log_warning(f\"Found `{alias}` in params. Will use it instead of argument\")\n",
      "c:\\program files\\python37\\lib\\site-packages\\lightgbm\\basic.py:2068: UserWarning: categorical_feature in Dataset is overridden.\n",
      "New categorical_feature is ['分']\n",
      "  _log_warning('categorical_feature in Dataset is overridden.\\n'\n",
      "c:\\program files\\python37\\lib\\site-packages\\lightgbm\\basic.py:1780: UserWarning: Overriding the parameters from Reference Dataset.\n",
      "  _log_warning('Overriding the parameters from Reference Dataset.')\n",
      "c:\\program files\\python37\\lib\\site-packages\\lightgbm\\basic.py:1513: UserWarning: categorical_column in param dict is overridden.\n",
      "  _log_warning(f'{cat_alias} in param dict is overridden.')\n"
     ]
    },
    {
     "name": "stdout",
     "output_type": "stream",
     "text": [
      "[1000]\ttraining's l2: 0.0130576\tvalid_1's l2: 0.0209479\n"
     ]
    },
    {
     "name": "stderr",
     "output_type": "stream",
     "text": [
      "2024-03-24 17:22:48,565 : INFO : ############ fold: 3 ###########\n",
      "c:\\program files\\python37\\lib\\site-packages\\lightgbm\\engine.py:177: UserWarning: Found `num_boost_round` in params. Will use it instead of argument\n",
      "  _log_warning(f\"Found `{alias}` in params. Will use it instead of argument\")\n",
      "c:\\program files\\python37\\lib\\site-packages\\lightgbm\\basic.py:2068: UserWarning: categorical_feature in Dataset is overridden.\n",
      "New categorical_feature is ['分']\n",
      "  _log_warning('categorical_feature in Dataset is overridden.\\n'\n",
      "c:\\program files\\python37\\lib\\site-packages\\lightgbm\\basic.py:1780: UserWarning: Overriding the parameters from Reference Dataset.\n",
      "  _log_warning('Overriding the parameters from Reference Dataset.')\n",
      "c:\\program files\\python37\\lib\\site-packages\\lightgbm\\basic.py:1513: UserWarning: categorical_column in param dict is overridden.\n",
      "  _log_warning(f'{cat_alias} in param dict is overridden.')\n"
     ]
    },
    {
     "name": "stdout",
     "output_type": "stream",
     "text": [
      "[1000]\ttraining's l2: 0.0128795\tvalid_1's l2: 0.0214192\n"
     ]
    },
    {
     "name": "stderr",
     "output_type": "stream",
     "text": [
      "2024-03-24 17:23:06,905 : INFO : ############ fold: 4 ###########\n",
      "c:\\program files\\python37\\lib\\site-packages\\lightgbm\\engine.py:177: UserWarning: Found `num_boost_round` in params. Will use it instead of argument\n",
      "  _log_warning(f\"Found `{alias}` in params. Will use it instead of argument\")\n",
      "c:\\program files\\python37\\lib\\site-packages\\lightgbm\\basic.py:2068: UserWarning: categorical_feature in Dataset is overridden.\n",
      "New categorical_feature is ['分']\n",
      "  _log_warning('categorical_feature in Dataset is overridden.\\n'\n",
      "c:\\program files\\python37\\lib\\site-packages\\lightgbm\\basic.py:1780: UserWarning: Overriding the parameters from Reference Dataset.\n",
      "  _log_warning('Overriding the parameters from Reference Dataset.')\n",
      "c:\\program files\\python37\\lib\\site-packages\\lightgbm\\basic.py:1513: UserWarning: categorical_column in param dict is overridden.\n",
      "  _log_warning(f'{cat_alias} in param dict is overridden.')\n"
     ]
    },
    {
     "name": "stdout",
     "output_type": "stream",
     "text": [
      "[1000]\ttraining's l2: 0.0132629\tvalid_1's l2: 0.0215093\n"
     ]
    },
    {
     "name": "stderr",
     "output_type": "stream",
     "text": [
      "2024-03-24 17:23:25,258 : INFO : --------------本地分数 0.7531596863995415--------------\n"
     ]
    }
   ],
   "source": [
    "model_lgb = []\n",
    "kfold = KFold(n_splits=5, random_state=42, shuffle=True)\n",
    "\n",
    "x = df_train.drop(columns=[\"光伏用户编号\", \"时间\"]).astype(np.float32)\n",
    "y = x.pop(\"target\")\n",
    "mse = 0\n",
    "for fold, (train_index, val_index) in enumerate(kfold.split(x, y)):\n",
    "    logging.info(f'############ fold: {fold} ###########')\n",
    "    x_train, x_val, y_train, y_val = x.iloc[train_index], x.iloc[val_index], y.iloc[train_index], y.iloc[val_index]\n",
    "    trainset = Dataset(x_train, y_train)\n",
    "    valset = Dataset(x_val, y_val)\n",
    "    model = lgb.train(params_lgb, trainset, valid_sets=[trainset, valset], categorical_feature=[\"分\"], callbacks=[lgb.log_evaluation(1000)])\n",
    "    model.save_model(\"../models/lgb_%d.txt\" % fold)\n",
    "    model_lgb.append(model)\n",
    "    val_pred = Series(model.predict(x_val, num_iteration=model.best_iteration), index=y_val.index).fillna(0)\n",
    "    mse += mean_squared_error(y_val.fillna(0), val_pred)\n",
    "rmse = np.sqrt(mse)\n",
    "score = 1 / (1 + rmse)\n",
    "logging.info(f\"--------------本地分数 {score}--------------\")"
   ]
  },
  {
   "cell_type": "code",
   "execution_count": 52,
   "metadata": {
    "ExecuteTime": {
     "end_time": "2024-03-24T09:23:25.298081Z",
     "start_time": "2024-03-24T09:23:25.269081Z"
    }
   },
   "outputs": [
    {
     "data": {
      "text/html": [
       "<div>\n",
       "<style scoped>\n",
       "    .dataframe tbody tr th:only-of-type {\n",
       "        vertical-align: middle;\n",
       "    }\n",
       "\n",
       "    .dataframe tbody tr th {\n",
       "        vertical-align: top;\n",
       "    }\n",
       "\n",
       "    .dataframe thead th {\n",
       "        text-align: right;\n",
       "    }\n",
       "</style>\n",
       "<table border=\"1\" class=\"dataframe\">\n",
       "  <thead>\n",
       "    <tr style=\"text-align: right;\">\n",
       "      <th></th>\n",
       "      <th>特征</th>\n",
       "      <th>重要性</th>\n",
       "    </tr>\n",
       "  </thead>\n",
       "  <tbody>\n",
       "    <tr>\n",
       "      <th>33</th>\n",
       "      <td>辐照强度（J/m2）_mean</td>\n",
       "      <td>11082.8</td>\n",
       "    </tr>\n",
       "    <tr>\n",
       "      <th>0</th>\n",
       "      <td>气压(Pa）</td>\n",
       "      <td>9665.2</td>\n",
       "    </tr>\n",
       "    <tr>\n",
       "      <th>2</th>\n",
       "      <td>云量</td>\n",
       "      <td>7614.2</td>\n",
       "    </tr>\n",
       "    <tr>\n",
       "      <th>5</th>\n",
       "      <td>温度（K）</td>\n",
       "      <td>7420.4</td>\n",
       "    </tr>\n",
       "    <tr>\n",
       "      <th>18</th>\n",
       "      <td>日</td>\n",
       "      <td>7291.6</td>\n",
       "    </tr>\n",
       "    <tr>\n",
       "      <th>1</th>\n",
       "      <td>相对湿度（%）</td>\n",
       "      <td>6714.8</td>\n",
       "    </tr>\n",
       "    <tr>\n",
       "      <th>35</th>\n",
       "      <td>温度（K）_min</td>\n",
       "      <td>6354.4</td>\n",
       "    </tr>\n",
       "    <tr>\n",
       "      <th>30</th>\n",
       "      <td>辐照强度（J/m2）_-_1</td>\n",
       "      <td>6096.0</td>\n",
       "    </tr>\n",
       "    <tr>\n",
       "      <th>6</th>\n",
       "      <td>辐照强度（J/m2）</td>\n",
       "      <td>5831.6</td>\n",
       "    </tr>\n",
       "    <tr>\n",
       "      <th>19</th>\n",
       "      <td>周</td>\n",
       "      <td>5425.4</td>\n",
       "    </tr>\n",
       "    <tr>\n",
       "      <th>31</th>\n",
       "      <td>辐照强度（J/m2）_-_8</td>\n",
       "      <td>5311.6</td>\n",
       "    </tr>\n",
       "    <tr>\n",
       "      <th>20</th>\n",
       "      <td>分</td>\n",
       "      <td>4914.0</td>\n",
       "    </tr>\n",
       "    <tr>\n",
       "      <th>3</th>\n",
       "      <td>10米风速（10m/s）</td>\n",
       "      <td>4806.0</td>\n",
       "    </tr>\n",
       "    <tr>\n",
       "      <th>9</th>\n",
       "      <td>100m风向（°)</td>\n",
       "      <td>4643.6</td>\n",
       "    </tr>\n",
       "    <tr>\n",
       "      <th>34</th>\n",
       "      <td>温度（K）_max</td>\n",
       "      <td>4490.4</td>\n",
       "    </tr>\n",
       "    <tr>\n",
       "      <th>32</th>\n",
       "      <td>辐照强度（J/m2）_max</td>\n",
       "      <td>4477.0</td>\n",
       "    </tr>\n",
       "    <tr>\n",
       "      <th>4</th>\n",
       "      <td>10米风向（°)</td>\n",
       "      <td>4425.6</td>\n",
       "    </tr>\n",
       "    <tr>\n",
       "      <th>8</th>\n",
       "      <td>100m风速（100m/s）</td>\n",
       "      <td>4354.4</td>\n",
       "    </tr>\n",
       "    <tr>\n",
       "      <th>10</th>\n",
       "      <td>装机容量(kW)</td>\n",
       "      <td>3618.8</td>\n",
       "    </tr>\n",
       "    <tr>\n",
       "      <th>7</th>\n",
       "      <td>降水（m）</td>\n",
       "      <td>2327.6</td>\n",
       "    </tr>\n",
       "    <tr>\n",
       "      <th>11</th>\n",
       "      <td>经度</td>\n",
       "      <td>1899.4</td>\n",
       "    </tr>\n",
       "    <tr>\n",
       "      <th>13</th>\n",
       "      <td>综合倍率</td>\n",
       "      <td>1501.4</td>\n",
       "    </tr>\n",
       "    <tr>\n",
       "      <th>17</th>\n",
       "      <td>月</td>\n",
       "      <td>1361.0</td>\n",
       "    </tr>\n",
       "    <tr>\n",
       "      <th>12</th>\n",
       "      <td>纬度</td>\n",
       "      <td>1232.0</td>\n",
       "    </tr>\n",
       "    <tr>\n",
       "      <th>21</th>\n",
       "      <td>光伏用户编号_f1</td>\n",
       "      <td>700.0</td>\n",
       "    </tr>\n",
       "    <tr>\n",
       "      <th>16</th>\n",
       "      <td>季节</td>\n",
       "      <td>665.6</td>\n",
       "    </tr>\n",
       "    <tr>\n",
       "      <th>22</th>\n",
       "      <td>光伏用户编号_f2</td>\n",
       "      <td>535.0</td>\n",
       "    </tr>\n",
       "    <tr>\n",
       "      <th>24</th>\n",
       "      <td>光伏用户编号_f4</td>\n",
       "      <td>458.4</td>\n",
       "    </tr>\n",
       "    <tr>\n",
       "      <th>15</th>\n",
       "      <td>年</td>\n",
       "      <td>256.2</td>\n",
       "    </tr>\n",
       "    <tr>\n",
       "      <th>28</th>\n",
       "      <td>光伏用户编号_f8</td>\n",
       "      <td>251.2</td>\n",
       "    </tr>\n",
       "    <tr>\n",
       "      <th>23</th>\n",
       "      <td>光伏用户编号_f3</td>\n",
       "      <td>199.4</td>\n",
       "    </tr>\n",
       "    <tr>\n",
       "      <th>14</th>\n",
       "      <td>是白天</td>\n",
       "      <td>58.6</td>\n",
       "    </tr>\n",
       "    <tr>\n",
       "      <th>27</th>\n",
       "      <td>光伏用户编号_f7</td>\n",
       "      <td>10.2</td>\n",
       "    </tr>\n",
       "    <tr>\n",
       "      <th>25</th>\n",
       "      <td>光伏用户编号_f5</td>\n",
       "      <td>3.4</td>\n",
       "    </tr>\n",
       "    <tr>\n",
       "      <th>26</th>\n",
       "      <td>光伏用户编号_f6</td>\n",
       "      <td>2.6</td>\n",
       "    </tr>\n",
       "    <tr>\n",
       "      <th>29</th>\n",
       "      <td>光伏用户编号_f9</td>\n",
       "      <td>0.2</td>\n",
       "    </tr>\n",
       "  </tbody>\n",
       "</table>\n",
       "</div>"
      ],
      "text/plain": [
       "                 特征      重要性\n",
       "33  辐照强度（J/m2）_mean  11082.8\n",
       "0            气压(Pa）   9665.2\n",
       "2                云量   7614.2\n",
       "5             温度（K）   7420.4\n",
       "18                日   7291.6\n",
       "1           相对湿度（%）   6714.8\n",
       "35        温度（K）_min   6354.4\n",
       "30   辐照强度（J/m2）_-_1   6096.0\n",
       "6        辐照强度（J/m2）   5831.6\n",
       "19                周   5425.4\n",
       "31   辐照强度（J/m2）_-_8   5311.6\n",
       "20                分   4914.0\n",
       "3      10米风速（10m/s）   4806.0\n",
       "9         100m风向（°)   4643.6\n",
       "34        温度（K）_max   4490.4\n",
       "32   辐照强度（J/m2）_max   4477.0\n",
       "4          10米风向（°)   4425.6\n",
       "8    100m风速（100m/s）   4354.4\n",
       "10         装机容量(kW)   3618.8\n",
       "7             降水（m）   2327.6\n",
       "11               经度   1899.4\n",
       "13             综合倍率   1501.4\n",
       "17                月   1361.0\n",
       "12               纬度   1232.0\n",
       "21        光伏用户编号_f1    700.0\n",
       "16               季节    665.6\n",
       "22        光伏用户编号_f2    535.0\n",
       "24        光伏用户编号_f4    458.4\n",
       "15                年    256.2\n",
       "28        光伏用户编号_f8    251.2\n",
       "23        光伏用户编号_f3    199.4\n",
       "14              是白天     58.6\n",
       "27        光伏用户编号_f7     10.2\n",
       "25        光伏用户编号_f5      3.4\n",
       "26        光伏用户编号_f6      2.6\n",
       "29        光伏用户编号_f9      0.2"
      ]
     },
     "execution_count": 52,
     "metadata": {},
     "output_type": "execute_result"
    }
   ],
   "source": [
    "importance = DataFrame()\n",
    "importance[\"特征\"] = model.feature_name()\n",
    "importance[\"重要性\"] = 0\n",
    "for model in model_lgb:\n",
    "    importance[\"重要性\"] = importance[\"重要性\"] + model.feature_importance()\n",
    "importance[\"重要性\"] = importance[\"重要性\"] / kfold.n_splits\n",
    "importance.sort_values(\"重要性\", ascending=False)[0:50]"
   ]
  },
  {
   "cell_type": "markdown",
   "metadata": {},
   "source": [
    "<h2>预测</h2>"
   ]
  },
  {
   "cell_type": "code",
   "execution_count": 53,
   "metadata": {
    "ExecuteTime": {
     "end_time": "2024-03-24T09:23:27.054454Z",
     "start_time": "2024-03-24T09:23:25.299080Z"
    }
   },
   "outputs": [
    {
     "name": "stderr",
     "output_type": "stream",
     "text": [
      "c:\\program files\\python37\\lib\\site-packages\\ipykernel_launcher.py:7: SettingWithCopyWarning: \n",
      "A value is trying to be set on a copy of a slice from a DataFrame.\n",
      "Try using .loc[row_indexer,col_indexer] = value instead\n",
      "\n",
      "See the caveats in the documentation: https://pandas.pydata.org/pandas-docs/stable/user_guide/indexing.html#returning-a-view-versus-a-copy\n",
      "  import sys\n"
     ]
    }
   ],
   "source": [
    "x_test = df_test.drop(columns=[\"光伏用户编号\", \"时间\"]).astype(np.float32)\n",
    "y_test = x_test.pop(\"target\")\n",
    "y_pred = np.zeros((df_test.shape[0], ))\n",
    "for model in model_lgb:\n",
    "    y_pred += model.predict(x_test, num_iteration=model.best_iteration)\n",
    "y_pred = y_pred / kfold.n_splits\n",
    "df_test[\"target\"] = y_pred"
   ]
  },
  {
   "cell_type": "code",
   "execution_count": 54,
   "metadata": {
    "ExecuteTime": {
     "end_time": "2024-03-24T09:23:27.229455Z",
     "start_time": "2024-03-24T09:23:27.055454Z"
    }
   },
   "outputs": [],
   "source": [
    "df_test = df_test[[\"光伏用户编号\", \"综合倍率\", \"年\", \"月\", \"日\", \"分\", \"target\"]]\n",
    "df_test[\"时间\"] = df_test[\"年\"].astype(str) + \"-\" + df_test[\"月\"].astype(str) + \"-\" + df_test[\"日\"].astype(str) + \" 0:00\"\n",
    "df_test[\"分\"] = \"p\" + (df_test[\"分\"] + 1).astype(str)\n",
    "df_test = df_test.drop(columns=[\"年\", \"月\", \"日\"])"
   ]
  },
  {
   "cell_type": "code",
   "execution_count": 55,
   "metadata": {
    "ExecuteTime": {
     "end_time": "2024-03-24T09:23:27.261455Z",
     "start_time": "2024-03-24T09:23:27.230455Z"
    }
   },
   "outputs": [],
   "source": [
    "result = pd.pivot(df_test, index=[\"光伏用户编号\", \"综合倍率\", \"时间\"], columns=\"分\", values=\"target\").reset_index()\n",
    "result = result[result[\"综合倍率\"].notnull()]\n",
    "result[\"综合倍率\"] = result[\"综合倍率\"].astype(int)"
   ]
  },
  {
   "cell_type": "code",
   "execution_count": 56,
   "metadata": {
    "ExecuteTime": {
     "end_time": "2024-03-24T09:23:27.356258Z",
     "start_time": "2024-03-24T09:23:27.263457Z"
    }
   },
   "outputs": [],
   "source": [
    "result.to_csv(\"../data/%s.csv\" % datetime.now().strftime(\"%Y%m%d_%H%M%S\"), encoding=\"utf-8\", index=False)"
   ]
  },
  {
   "cell_type": "code",
   "execution_count": null,
   "metadata": {},
   "outputs": [],
   "source": []
  }
 ],
 "metadata": {
  "kernelspec": {
   "display_name": "Python 3",
   "language": "python",
   "name": "python3"
  },
  "language_info": {
   "codemirror_mode": {
    "name": "ipython",
    "version": 3
   },
   "file_extension": ".py",
   "mimetype": "text/x-python",
   "name": "python",
   "nbconvert_exporter": "python",
   "pygments_lexer": "ipython3",
   "version": "3.7.3"
  },
  "toc": {
   "base_numbering": 1,
   "nav_menu": {},
   "number_sections": true,
   "sideBar": true,
   "skip_h1_title": false,
   "title_cell": "Table of Contents",
   "title_sidebar": "Contents",
   "toc_cell": false,
   "toc_position": {
    "height": "calc(100% - 180px)",
    "left": "10px",
    "top": "150px",
    "width": "211.545px"
   },
   "toc_section_display": true,
   "toc_window_display": true
  },
  "varInspector": {
   "cols": {
    "lenName": 16,
    "lenType": 16,
    "lenVar": 40
   },
   "kernels_config": {
    "python": {
     "delete_cmd_postfix": "",
     "delete_cmd_prefix": "del ",
     "library": "var_list.py",
     "varRefreshCmd": "print(var_dic_list())"
    },
    "r": {
     "delete_cmd_postfix": ") ",
     "delete_cmd_prefix": "rm(",
     "library": "var_list.r",
     "varRefreshCmd": "cat(var_dic_list()) "
    }
   },
   "position": {
    "height": "244.83px",
    "left": "1957.27px",
    "right": "20px",
    "top": "120px",
    "width": "350px"
   },
   "types_to_exclude": [
    "module",
    "function",
    "builtin_function_or_method",
    "instance",
    "_Feature"
   ],
   "window_display": true
  }
 },
 "nbformat": 4,
 "nbformat_minor": 4
}
