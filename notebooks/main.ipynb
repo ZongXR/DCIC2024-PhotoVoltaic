{
 "cells": [
  {
   "cell_type": "markdown",
   "metadata": {},
   "source": [
    "<h2>导入包</h2>"
   ]
  },
  {
   "cell_type": "code",
   "execution_count": 10,
   "metadata": {
    "ExecuteTime": {
     "end_time": "2024-03-07T03:05:16.526116Z",
     "start_time": "2024-03-07T03:05:16.521118Z"
    }
   },
   "outputs": [],
   "source": [
    "from datetime import datetime\n",
    "import numpy as np\n",
    "import pandas as pd\n",
    "from sklearn.model_selection import train_test_split\n",
    "import lightgbm as lgb\n",
    "from lightgbm import Dataset"
   ]
  },
  {
   "cell_type": "markdown",
   "metadata": {},
   "source": [
    "<h2>读取数据</h2>"
   ]
  },
  {
   "cell_type": "code",
   "execution_count": 11,
   "metadata": {
    "ExecuteTime": {
     "end_time": "2024-03-07T03:05:17.214114Z",
     "start_time": "2024-03-07T03:05:16.527114Z"
    }
   },
   "outputs": [],
   "source": [
    "x_train = pd.read_csv(\"../data/A榜-训练集_分布式光伏发电预测_气象变量数据.csv\", encoding=\"gbk\")\n",
    "y_train = pd.read_csv(\"../data/A榜-训练集_分布式光伏发电预测_实际功率数据.csv\", encoding=\"gbk\")\n",
    "info_train = pd.read_csv(\"../data/A榜-训练集_分布式光伏发电预测_基本信息.csv\", encoding=\"gbk\")\n",
    "x_test = pd.read_csv(\"../data/A榜-测试集_分布式光伏发电预测_气象变量数据.csv\", encoding=\"gbk\")\n",
    "y_test = pd.read_csv(\"../data/submit_example.csv\", encoding=\"utf-8\")\n",
    "info_test = pd.read_csv(\"../data/A榜-测试集_分布式光伏发电预测_基本信息.csv\", encoding=\"gbk\")"
   ]
  },
  {
   "cell_type": "code",
   "execution_count": 12,
   "metadata": {
    "ExecuteTime": {
     "end_time": "2024-03-07T03:05:17.518128Z",
     "start_time": "2024-03-07T03:05:17.216114Z"
    }
   },
   "outputs": [],
   "source": [
    "x_train = pd.merge(x_train, info_train[[\"光伏用户编号\", \"装机容量(kW)\", \"经度\", \"纬度\"]], how=\"left\", on=\"光伏用户编号\")\n",
    "x_train[\"时间\"] = pd.to_datetime(x_train[\"时间\"])\n",
    "x_test = pd.merge(x_test, info_test[[\"光伏用户编号\", \"装机容量(kW)\", \"经度\", \"纬度\"]], how=\"left\", on=\"光伏用户编号\")\n",
    "x_test[\"时间\"] = pd.to_datetime(x_test[\"时间\"])"
   ]
  },
  {
   "cell_type": "code",
   "execution_count": 13,
   "metadata": {
    "ExecuteTime": {
     "end_time": "2024-03-07T03:05:17.821146Z",
     "start_time": "2024-03-07T03:05:17.520128Z"
    }
   },
   "outputs": [],
   "source": [
    "y_train = y_train.set_index([\"光伏用户编号\", \"综合倍率\", \"时间\"]).stack().reset_index().rename(columns={0:\"target\"})\n",
    "y_train[\"level_3\"] = y_train[\"level_3\"].apply(lambda x: int(x[1:]))\n",
    "y_train[\"时间\"] = pd.to_datetime(y_train[\"时间\"])\n",
    "y_train[\"时间\"] = y_train[\"时间\"] + (y_train[\"level_3\"] - 1) * 15 * pd.Timedelta(1, unit=\"minutes\")\n",
    "y_train = y_train.drop(columns=[\"level_3\"])\n",
    "\n",
    "y_test = y_test.set_index([\"光伏用户编号\", \"综合倍率\", \"时间\"]).stack().reset_index().rename(columns={0:\"target\"})\n",
    "y_test[\"level_3\"] = y_test[\"level_3\"].apply(lambda x: int(x[1:]))\n",
    "y_test[\"时间\"] = pd.to_datetime(y_test[\"时间\"])\n",
    "y_test[\"时间\"] = y_test[\"时间\"] + (y_test[\"level_3\"] - 1) * 15 * pd.Timedelta(1, unit=\"minutes\")\n",
    "y_test = y_test.drop(columns=[\"level_3\"])"
   ]
  },
  {
   "cell_type": "code",
   "execution_count": 14,
   "metadata": {
    "ExecuteTime": {
     "end_time": "2024-03-07T03:05:17.980167Z",
     "start_time": "2024-03-07T03:05:17.822146Z"
    }
   },
   "outputs": [],
   "source": [
    "df_train = pd.merge(x_train, y_train, on=[\"光伏用户编号\", \"时间\"], how=\"left\")\n",
    "df_test = pd.merge(x_test, y_test, on=[\"光伏用户编号\", \"时间\"], how=\"left\")"
   ]
  },
  {
   "cell_type": "markdown",
   "metadata": {},
   "source": [
    "<h2>特征工程</h2>"
   ]
  },
  {
   "cell_type": "markdown",
   "metadata": {},
   "source": [
    "<h3>时间特征</h3>"
   ]
  },
  {
   "cell_type": "code",
   "execution_count": 15,
   "metadata": {
    "ExecuteTime": {
     "end_time": "2024-03-07T03:05:18.140167Z",
     "start_time": "2024-03-07T03:05:17.981167Z"
    }
   },
   "outputs": [],
   "source": [
    "df_train[\"年\"] = df_train[\"时间\"].dt.year\n",
    "df_train[\"月\"] = df_train[\"时间\"].dt.month\n",
    "df_train[\"日\"] = df_train[\"时间\"].dt.day\n",
    "df_train[\"分\"] = df_train[\"时间\"].dt.minute // 15 + df_train[\"时间\"].dt.hour * 4\n",
    "df_train = df_train.drop(columns=[\"时间\"])\n",
    "\n",
    "df_test[\"年\"] = df_test[\"时间\"].dt.year\n",
    "df_test[\"月\"] = df_test[\"时间\"].dt.month\n",
    "df_test[\"日\"] = df_test[\"时间\"].dt.day\n",
    "df_test[\"分\"] = df_test[\"时间\"].dt.minute // 15 + df_test[\"时间\"].dt.hour * 4\n",
    "df_test = df_test.drop(columns=[\"时间\"])"
   ]
  },
  {
   "cell_type": "markdown",
   "metadata": {},
   "source": [
    "<h2>训练模型</h2>"
   ]
  },
  {
   "cell_type": "code",
   "execution_count": 16,
   "metadata": {
    "ExecuteTime": {
     "end_time": "2024-03-07T03:05:18.156167Z",
     "start_time": "2024-03-07T03:05:18.141167Z"
    }
   },
   "outputs": [],
   "source": [
    "params_lgb = {\n",
    "    'learning_rate': 0.02,\n",
    "    'boosting_type': 'gbdt',\n",
    "    'objective': 'mse',\n",
    "    'metric': 'mse',\n",
    "    'num_leaves': 64,\n",
    "    'verbose': -1,\n",
    "    'seed': 42,\n",
    "    'n_jobs': -1,\n",
    "    'feature_fraction': 0.8,\n",
    "    'bagging_fraction': 0.9,\n",
    "    'bagging_freq': 4,\n",
    "}"
   ]
  },
  {
   "cell_type": "code",
   "execution_count": 17,
   "metadata": {
    "ExecuteTime": {
     "end_time": "2024-03-07T03:08:59.510708Z",
     "start_time": "2024-03-07T03:05:18.158167Z"
    }
   },
   "outputs": [
    {
     "name": "stdout",
     "output_type": "stream",
     "text": [
      "Training until validation scores don't improve for 100 rounds\n",
      "[1000]\ttraining's l2: 0.00806804\tvalid_1's l2: 0.0190017\n",
      "[2000]\ttraining's l2: 0.00419517\tvalid_1's l2: 0.0181738\n",
      "[3000]\ttraining's l2: 0.00252269\tvalid_1's l2: 0.0178796\n",
      "Early stopping, best iteration is:\n",
      "[3119]\ttraining's l2: 0.00238458\tvalid_1's l2: 0.0178702\n",
      "Training until validation scores don't improve for 100 rounds\n",
      "[1000]\ttraining's l2: 0.0113107\tvalid_1's l2: 0.0300511\n",
      "[2000]\ttraining's l2: 0.0058441\tvalid_1's l2: 0.0284765\n",
      "Early stopping, best iteration is:\n",
      "[2673]\ttraining's l2: 0.004124\tvalid_1's l2: 0.0281396\n",
      "Training until validation scores don't improve for 100 rounds\n",
      "[1000]\ttraining's l2: 0.0183298\tvalid_1's l2: 0.0436447\n",
      "[2000]\ttraining's l2: 0.00947918\tvalid_1's l2: 0.0420958\n",
      "Early stopping, best iteration is:\n",
      "[2628]\ttraining's l2: 0.00671266\tvalid_1's l2: 0.0418217\n",
      "Training until validation scores don't improve for 100 rounds\n",
      "[1000]\ttraining's l2: 0.00779182\tvalid_1's l2: 0.0226578\n",
      "Early stopping, best iteration is:\n",
      "[1666]\ttraining's l2: 0.0049367\tvalid_1's l2: 0.0223139\n",
      "Training until validation scores don't improve for 100 rounds\n",
      "[1000]\ttraining's l2: 0.00897287\tvalid_1's l2: 0.0205686\n",
      "[2000]\ttraining's l2: 0.00469812\tvalid_1's l2: 0.0186481\n",
      "[3000]\ttraining's l2: 0.00288568\tvalid_1's l2: 0.0180758\n",
      "[4000]\ttraining's l2: 0.00187687\tvalid_1's l2: 0.0178089\n",
      "[5000]\ttraining's l2: 0.0012805\tvalid_1's l2: 0.0176911\n",
      "Did not meet early stopping. Best iteration is:\n",
      "[5000]\ttraining's l2: 0.0012805\tvalid_1's l2: 0.0176911\n",
      "Training until validation scores don't improve for 100 rounds\n",
      "[1000]\ttraining's l2: 0.000389186\tvalid_1's l2: 0.00942033\n",
      "[2000]\ttraining's l2: 0.000212106\tvalid_1's l2: 0.00935927\n",
      "[3000]\ttraining's l2: 0.000131016\tvalid_1's l2: 0.00934252\n",
      "[4000]\ttraining's l2: 8.66694e-05\tvalid_1's l2: 0.00933487\n",
      "Early stopping, best iteration is:\n",
      "[4026]\ttraining's l2: 8.58128e-05\tvalid_1's l2: 0.00933456\n",
      "Training until validation scores don't improve for 100 rounds\n",
      "[1000]\ttraining's l2: 0.000507963\tvalid_1's l2: 0.00125254\n",
      "[2000]\ttraining's l2: 0.000270281\tvalid_1's l2: 0.00118662\n",
      "Early stopping, best iteration is:\n",
      "[2786]\ttraining's l2: 0.000183304\tvalid_1's l2: 0.00116988\n",
      "Training until validation scores don't improve for 100 rounds\n",
      "[1000]\ttraining's l2: 0.0106498\tvalid_1's l2: 0.0296878\n",
      "[2000]\ttraining's l2: 0.00558343\tvalid_1's l2: 0.0290527\n",
      "Early stopping, best iteration is:\n",
      "[1940]\ttraining's l2: 0.00577741\tvalid_1's l2: 0.0290437\n",
      "Training until validation scores don't improve for 100 rounds\n",
      "[1000]\ttraining's l2: 0.000498799\tvalid_1's l2: 0.00119314\n",
      "[2000]\ttraining's l2: 0.000261322\tvalid_1's l2: 0.00110201\n",
      "[3000]\ttraining's l2: 0.000160089\tvalid_1's l2: 0.00107615\n",
      "[4000]\ttraining's l2: 0.000104702\tvalid_1's l2: 0.00106455\n",
      "Early stopping, best iteration is:\n",
      "[4391]\ttraining's l2: 9.03167e-05\tvalid_1's l2: 0.00106152\n"
     ]
    }
   ],
   "source": [
    "model_lgb = dict()\n",
    "for site, df in df_train.groupby(\"光伏用户编号\"):\n",
    "    df = df.drop(columns=[\"光伏用户编号\"]).astype(np.float32)\n",
    "    y = df.pop(\"target\")\n",
    "    df[\"辐照强度（J/m2） - 1\"] = df[\"辐照强度（J/m2）\"].shift(1)\n",
    "    x_train, x_val, y_train, y_val = train_test_split(df, y, test_size=0.2, random_state=42)\n",
    "    trainset = Dataset(x_train, y_train)\n",
    "    valset = Dataset(x_val, y_val)\n",
    "    model_lgb[site] = lgb.train(params_lgb, trainset, valid_sets=[trainset, valset], num_boost_round=5000, callbacks=[lgb.early_stopping(100), lgb.log_evaluation(1000)])\n",
    "    model_lgb[site].save_model(\"../models/lgb_%s.txt\" % site)\n"
   ]
  },
  {
   "cell_type": "markdown",
   "metadata": {},
   "source": [
    "<h2>预测</h2>"
   ]
  },
  {
   "cell_type": "code",
   "execution_count": 18,
   "metadata": {
    "ExecuteTime": {
     "end_time": "2024-03-07T03:09:01.139821Z",
     "start_time": "2024-03-07T03:08:59.512708Z"
    }
   },
   "outputs": [],
   "source": [
    "for site, df in df_test.groupby(\"光伏用户编号\"):\n",
    "    df = df.drop(columns=[\"光伏用户编号\"]).astype(np.float32)\n",
    "    y = df.pop(\"target\")\n",
    "    df[\"辐照强度（J/m2） - 1\"] = df[\"辐照强度（J/m2）\"].shift(1)\n",
    "    y_pred = model_lgb[site].predict(df)\n",
    "    df_test.loc[df_test[\"光伏用户编号\"] == site, \"target\"] = y_pred"
   ]
  },
  {
   "cell_type": "code",
   "execution_count": 19,
   "metadata": {
    "ExecuteTime": {
     "end_time": "2024-03-07T03:09:01.313822Z",
     "start_time": "2024-03-07T03:09:01.140821Z"
    }
   },
   "outputs": [],
   "source": [
    "df_test = df_test[[\"光伏用户编号\", \"综合倍率\", \"年\", \"月\", \"日\", \"分\", \"target\"]]\n",
    "df_test[\"时间\"] = df_test[\"年\"].astype(str) + \"-\" + df_test[\"月\"].astype(str) + \"-\" + df_test[\"日\"].astype(str) + \" 0:00\"\n",
    "df_test[\"分\"] = \"p\" + (df_test[\"分\"] + 1).astype(str)\n",
    "df_test = df_test.drop(columns=[\"年\", \"月\", \"日\"])"
   ]
  },
  {
   "cell_type": "code",
   "execution_count": 20,
   "metadata": {
    "ExecuteTime": {
     "end_time": "2024-03-07T03:09:01.360105Z",
     "start_time": "2024-03-07T03:09:01.315822Z"
    }
   },
   "outputs": [],
   "source": [
    "result = pd.pivot(df_test, index=[\"光伏用户编号\", \"综合倍率\", \"时间\"], columns=\"分\", values=\"target\").reset_index()\n",
    "result = result[result[\"综合倍率\"].notnull()]\n",
    "result[\"综合倍率\"] = result[\"综合倍率\"].astype(int)"
   ]
  },
  {
   "cell_type": "code",
   "execution_count": 21,
   "metadata": {
    "ExecuteTime": {
     "end_time": "2024-03-07T03:09:01.456064Z",
     "start_time": "2024-03-07T03:09:01.361065Z"
    }
   },
   "outputs": [],
   "source": [
    "result.to_csv(\"../data/%s.csv\" % datetime.now().strftime(\"%Y%m%d_%H%M%S\"), encoding=\"utf-8\", index=False)"
   ]
  },
  {
   "cell_type": "code",
   "execution_count": null,
   "metadata": {},
   "outputs": [],
   "source": []
  }
 ],
 "metadata": {
  "kernelspec": {
   "display_name": "Python 3",
   "language": "python",
   "name": "python3"
  },
  "language_info": {
   "codemirror_mode": {
    "name": "ipython",
    "version": 3
   },
   "file_extension": ".py",
   "mimetype": "text/x-python",
   "name": "python",
   "nbconvert_exporter": "python",
   "pygments_lexer": "ipython3",
   "version": "3.7.3"
  },
  "toc": {
   "base_numbering": 1,
   "nav_menu": {},
   "number_sections": true,
   "sideBar": true,
   "skip_h1_title": false,
   "title_cell": "Table of Contents",
   "title_sidebar": "Contents",
   "toc_cell": false,
   "toc_position": {},
   "toc_section_display": true,
   "toc_window_display": true
  },
  "varInspector": {
   "cols": {
    "lenName": 16,
    "lenType": 16,
    "lenVar": 40
   },
   "kernels_config": {
    "python": {
     "delete_cmd_postfix": "",
     "delete_cmd_prefix": "del ",
     "library": "var_list.py",
     "varRefreshCmd": "print(var_dic_list())"
    },
    "r": {
     "delete_cmd_postfix": ") ",
     "delete_cmd_prefix": "rm(",
     "library": "var_list.r",
     "varRefreshCmd": "cat(var_dic_list()) "
    }
   },
   "types_to_exclude": [
    "module",
    "function",
    "builtin_function_or_method",
    "instance",
    "_Feature"
   ],
   "window_display": false
  }
 },
 "nbformat": 4,
 "nbformat_minor": 4
}
