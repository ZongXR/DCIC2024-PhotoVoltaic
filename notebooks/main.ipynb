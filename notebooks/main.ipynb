{
 "cells": [
  {
   "cell_type": "markdown",
   "metadata": {},
   "source": [
    "<h2>导入包</h2>"
   ]
  },
  {
   "cell_type": "code",
   "execution_count": 11,
   "metadata": {
    "ExecuteTime": {
     "end_time": "2024-04-04T09:02:34.881795Z",
     "start_time": "2024-04-04T09:02:34.877788Z"
    }
   },
   "outputs": [],
   "source": [
    "import os\n",
    "import re\n",
    "import logging\n",
    "from datetime import datetime, date\n",
    "import numpy as np\n",
    "import pandas as pd\n",
    "from pandas import Series, DataFrame\n",
    "from sklearn.model_selection import train_test_split\n",
    "from sklearn.model_selection import StratifiedKFold, KFold\n",
    "from sklearn.metrics import mean_squared_error\n",
    "import xgboost as xgb\n",
    "from xgboost import DMatrix\n",
    "import lightgbm as lgb\n",
    "from lightgbm import Dataset\n",
    "import matplotlib.pyplot as plt\n",
    "from astral import LocationInfo\n",
    "from astral.sun import sunrise, sunset, dawn, noon, dusk\n",
    "\n",
    "\n",
    "logging.basicConfig(format='%(asctime)s : %(levelname)s : %(message)s', level=logging.INFO)"
   ]
  },
  {
   "cell_type": "markdown",
   "metadata": {},
   "source": [
    "<h2>读取数据</h2>"
   ]
  },
  {
   "cell_type": "markdown",
   "metadata": {},
   "source": [
    "<h3>比赛数据</h3>"
   ]
  },
  {
   "cell_type": "code",
   "execution_count": 12,
   "metadata": {
    "ExecuteTime": {
     "end_time": "2024-04-04T09:02:35.261961Z",
     "start_time": "2024-04-04T09:02:34.883687Z"
    }
   },
   "outputs": [],
   "source": [
    "x_train = pd.read_csv(\"../data/A榜-训练集_分布式光伏发电预测_气象变量数据.csv\", encoding=\"gbk\")\n",
    "y_train = pd.read_csv(\"../data/A榜-训练集_分布式光伏发电预测_实际功率数据.csv\", encoding=\"gbk\")\n",
    "info_train = pd.read_csv(\"../data/A榜-训练集_分布式光伏发电预测_基本信息.csv\", encoding=\"gbk\")\n",
    "x_test = pd.read_csv(\"../data/A榜-测试集_分布式光伏发电预测_气象变量数据.csv\", encoding=\"gbk\")\n",
    "y_test = pd.read_csv(\"../data/submit_example.csv\", encoding=\"utf-8\")\n",
    "info_test = pd.read_csv(\"../data/A榜-测试集_分布式光伏发电预测_基本信息.csv\", encoding=\"gbk\")"
   ]
  },
  {
   "cell_type": "code",
   "execution_count": 13,
   "metadata": {
    "ExecuteTime": {
     "end_time": "2024-04-04T09:02:35.452976Z",
     "start_time": "2024-04-04T09:02:35.263960Z"
    }
   },
   "outputs": [],
   "source": [
    "x_train = pd.merge(x_train, info_train[[\"光伏用户编号\", \"装机容量(kW)\", \"经度\", \"纬度\"]], how=\"left\", on=\"光伏用户编号\")\n",
    "x_train[\"时间\"] = pd.to_datetime(x_train[\"时间\"], utc=False).dt.tz_localize('Asia/Shanghai')\n",
    "x_test = pd.merge(x_test, info_test[[\"光伏用户编号\", \"装机容量(kW)\", \"经度\", \"纬度\"]], how=\"left\", on=\"光伏用户编号\")\n",
    "x_test[\"时间\"] = pd.to_datetime(x_test[\"时间\"], utc=False).dt.tz_localize('Asia/Shanghai')"
   ]
  },
  {
   "cell_type": "code",
   "execution_count": 14,
   "metadata": {
    "ExecuteTime": {
     "end_time": "2024-04-04T09:02:35.642511Z",
     "start_time": "2024-04-04T09:02:35.453977Z"
    }
   },
   "outputs": [],
   "source": [
    "y_train = y_train.set_index([\"光伏用户编号\", \"综合倍率\", \"时间\"]).stack().reset_index().rename(columns={0:\"target\"})\n",
    "y_train[\"level_3\"] = y_train[\"level_3\"].apply(lambda x: int(x[1:]))\n",
    "y_train[\"时间\"] = pd.to_datetime(y_train[\"时间\"], utc=False).dt.tz_localize('Asia/Shanghai')\n",
    "y_train[\"时间\"] = y_train[\"时间\"] + (y_train[\"level_3\"] - 1) * 15 * pd.Timedelta(1, unit=\"minutes\")\n",
    "y_train = y_train.drop(columns=[\"level_3\"])\n",
    "\n",
    "y_test = y_test.set_index([\"光伏用户编号\", \"综合倍率\", \"时间\"]).stack().reset_index().rename(columns={0:\"target\"})\n",
    "y_test[\"level_3\"] = y_test[\"level_3\"].apply(lambda x: int(x[1:]))\n",
    "y_test[\"时间\"] = pd.to_datetime(y_test[\"时间\"], utc=False).dt.tz_localize('Asia/Shanghai')\n",
    "y_test[\"时间\"] = y_test[\"时间\"] + (y_test[\"level_3\"] - 1) * 15 * pd.Timedelta(1, unit=\"minutes\")\n",
    "y_test = y_test.drop(columns=[\"level_3\"])"
   ]
  },
  {
   "cell_type": "code",
   "execution_count": 15,
   "metadata": {
    "ExecuteTime": {
     "end_time": "2024-04-04T09:02:35.770511Z",
     "start_time": "2024-04-04T09:02:35.643511Z"
    }
   },
   "outputs": [
    {
     "name": "stderr",
     "output_type": "stream",
     "text": [
      "2024-04-04 17:02:35,766 : INFO : Index(['光伏用户编号', '时间', '气压(Pa）', '相对湿度（%）', '云量', '10米风速（10m/s）', '10米风向（°)',\n",
      "       '温度（K）', '辐照强度（J/m2）', '降水（m）', '100m风速（100m/s）', '100m风向（°)',\n",
      "       '装机容量(kW)', '经度', '纬度', '综合倍率', 'target'],\n",
      "      dtype='object')\n"
     ]
    }
   ],
   "source": [
    "df_train = pd.merge(x_train, y_train, on=[\"光伏用户编号\", \"时间\"], how=\"left\")\n",
    "df_test = pd.merge(x_test, y_test, on=[\"光伏用户编号\", \"时间\"], how=\"left\")\n",
    "df = pd.concat([df_train, df_test], axis=0)\n",
    "logging.info(df.columns)"
   ]
  },
  {
   "cell_type": "markdown",
   "metadata": {},
   "source": [
    "<h3>外部数据</h3>"
   ]
  },
  {
   "cell_type": "code",
   "execution_count": 16,
   "metadata": {
    "ExecuteTime": {
     "end_time": "2024-04-04T09:03:04.721653Z",
     "start_time": "2024-04-04T09:02:35.771512Z"
    },
    "scrolled": false
   },
   "outputs": [
    {
     "name": "stderr",
     "output_type": "stream",
     "text": [
      "2024-04-04 17:03:04,705 : INFO : Index(['时间', 'temperature_2m_archive_best_match (°C)',\n",
      "       'relative_humidity_2m_archive_best_match (%)',\n",
      "       'dew_point_2m_archive_best_match (°C)',\n",
      "       'apparent_temperature_archive_best_match (°C)',\n",
      "       'precipitation_archive_best_match (mm)', 'rain_archive_best_match (mm)',\n",
      "       'snowfall_archive_best_match (cm)', 'snow_depth_archive_best_match (m)',\n",
      "       'weather_code_archive_best_match (wmo code)',\n",
      "       ...\n",
      "       'direct_normal_irradiance_era5_land (W/m²)',\n",
      "       'global_tilted_irradiance_era5_land (W/m²)',\n",
      "       'terrestrial_radiation_era5_land (W/m²)',\n",
      "       'shortwave_radiation_instant_era5_land (W/m²)',\n",
      "       'direct_radiation_instant_era5_land (W/m²)',\n",
      "       'diffuse_radiation_instant_era5_land (W/m²)',\n",
      "       'direct_normal_irradiance_instant_era5_land (W/m²)',\n",
      "       'global_tilted_irradiance_instant_era5_land (W/m²)',\n",
      "       'terrestrial_radiation_instant_era5_land (W/m²)', '光伏用户编号'],\n",
      "      dtype='object', length=222)\n"
     ]
    }
   ],
   "source": [
    "outer_files = os.listdir(\"../data/\")\n",
    "outer_files = [x for x in outer_files if re.match(r\"^open-meteo-f\\d\\.csv$\", x)]\n",
    "outer_dfs = list()\n",
    "for outer_file in outer_files:\n",
    "    outer_df = pd.read_csv(os.path.join(\"../data\", outer_file), skiprows=3)\n",
    "    outer_df[\"time\"] = pd.to_datetime(outer_df[\"time\"], utc=False).dt.tz_localize('Asia/Shanghai')\n",
    "    outer_df = outer_df.set_index(\"time\", drop=True).asfreq(\"15T\")\n",
    "    outer_df = outer_df.interpolate(method=\"time\", axis=0)\n",
    "\n",
    "    outer_df = outer_df.reset_index(drop=False).rename(columns={\"time\": \"时间\"})\n",
    "    outer_df[\"光伏用户编号\"] = re.match(r\"^open-meteo-(f\\d)\\.csv$\", outer_file).group(1)    \n",
    "    outer_dfs.append(outer_df)\n",
    "outer_data = pd.concat(outer_dfs, axis=0)\n",
    "logging.info(outer_data.columns)"
   ]
  },
  {
   "cell_type": "code",
   "execution_count": 17,
   "metadata": {
    "ExecuteTime": {
     "end_time": "2024-04-04T09:03:04.769090Z",
     "start_time": "2024-04-04T09:03:04.722653Z"
    }
   },
   "outputs": [
    {
     "name": "stderr",
     "output_type": "stream",
     "text": [
      "2024-04-04 17:03:04,756 : INFO : Index(['时间', 'weather_code (wmo code)', 'temperature_2m_max (°C)',\n",
      "       'temperature_2m_min (°C)', 'temperature_2m_mean (°C)',\n",
      "       'apparent_temperature_max (°C)', 'apparent_temperature_min (°C)',\n",
      "       'apparent_temperature_mean (°C)', 'sunrise (iso8601)',\n",
      "       'sunset (iso8601)', 'daylight_duration (s)', 'sunshine_duration (s)',\n",
      "       'precipitation_sum (mm)', 'rain_sum (mm)', 'snowfall_sum (cm)',\n",
      "       'precipitation_hours (h)', 'wind_speed_10m_max (km/h)',\n",
      "       'wind_gusts_10m_max (km/h)', 'wind_direction_10m_dominant (°)',\n",
      "       'shortwave_radiation_sum (MJ/m²)', 'et0_fao_evapotranspiration (mm)',\n",
      "       '光伏用户编号'],\n",
      "      dtype='object')\n"
     ]
    }
   ],
   "source": [
    "outer_day_files = os.listdir(\"../data/\")\n",
    "outer_day_files = [x for x in outer_day_files if re.match(r\"^open-meteo-day-f\\d\\.csv$\", x)]\n",
    "outer_day_dfs = list()\n",
    "for outer_day_file in outer_day_files:\n",
    "    outer_day_df = pd.read_csv(os.path.join(\"../data\", outer_day_file), skiprows=3)\n",
    "    outer_day_df[\"time\"] = pd.to_datetime(outer_day_df[\"time\"], utc=False).dt.tz_localize('Asia/Shanghai')\n",
    "    outer_day_df = outer_day_df.rename(columns={\"time\": \"时间\"})\n",
    "    outer_day_df[\"光伏用户编号\"] = re.match(r\"^open-meteo-day-(f\\d)\\.csv$\", outer_day_file).group(1)    \n",
    "    outer_day_dfs.append(outer_day_df)\n",
    "outer_day_data = pd.concat(outer_day_dfs, axis=0)\n",
    "logging.info(outer_day_data.columns)"
   ]
  },
  {
   "cell_type": "code",
   "execution_count": 18,
   "metadata": {
    "ExecuteTime": {
     "end_time": "2024-04-04T09:03:05.888056Z",
     "start_time": "2024-04-04T09:03:04.770091Z"
    },
    "scrolled": false
   },
   "outputs": [
    {
     "name": "stderr",
     "output_type": "stream",
     "text": [
      "2024-04-04 17:03:05,794 : INFO : 时间\n",
      "2024-04-04 17:03:05,794 : INFO : temperature_2m_archive_best_match (°C)\n",
      "2024-04-04 17:03:05,794 : INFO : relative_humidity_2m_archive_best_match (%)\n",
      "2024-04-04 17:03:05,795 : INFO : dew_point_2m_archive_best_match (°C)\n",
      "2024-04-04 17:03:05,795 : INFO : apparent_temperature_archive_best_match (°C)\n",
      "2024-04-04 17:03:05,796 : INFO : precipitation_archive_best_match (mm)\n",
      "2024-04-04 17:03:05,797 : INFO : rain_archive_best_match (mm)\n",
      "2024-04-04 17:03:05,797 : INFO : snowfall_archive_best_match (cm)\n",
      "2024-04-04 17:03:05,797 : INFO : snow_depth_archive_best_match (m)\n",
      "2024-04-04 17:03:05,798 : INFO : weather_code_archive_best_match (wmo code)\n",
      "2024-04-04 17:03:05,798 : INFO : pressure_msl_archive_best_match (hPa)\n",
      "2024-04-04 17:03:05,799 : INFO : surface_pressure_archive_best_match (hPa)\n",
      "2024-04-04 17:03:05,799 : INFO : cloud_cover_archive_best_match (%)\n",
      "2024-04-04 17:03:05,800 : INFO : cloud_cover_low_archive_best_match (%)\n",
      "2024-04-04 17:03:05,801 : INFO : cloud_cover_mid_archive_best_match (%)\n",
      "2024-04-04 17:03:05,801 : INFO : cloud_cover_high_archive_best_match (%)\n",
      "2024-04-04 17:03:05,802 : INFO : et0_fao_evapotranspiration_archive_best_match (mm)\n",
      "2024-04-04 17:03:05,802 : INFO : vapour_pressure_deficit_archive_best_match (kPa)\n",
      "2024-04-04 17:03:05,803 : INFO : wind_speed_10m_archive_best_match (km/h)\n",
      "2024-04-04 17:03:05,803 : INFO : wind_speed_100m_archive_best_match (km/h)\n",
      "2024-04-04 17:03:05,804 : INFO : wind_direction_10m_archive_best_match (°)\n",
      "2024-04-04 17:03:05,804 : INFO : wind_direction_100m_archive_best_match (°)\n",
      "2024-04-04 17:03:05,805 : INFO : wind_gusts_10m_archive_best_match (km/h)\n",
      "2024-04-04 17:03:05,806 : INFO : soil_temperature_0_to_7cm_archive_best_match (°C)\n",
      "2024-04-04 17:03:05,806 : INFO : soil_temperature_7_to_28cm_archive_best_match (°C)\n",
      "2024-04-04 17:03:05,806 : INFO : soil_temperature_28_to_100cm_archive_best_match (°C)\n",
      "2024-04-04 17:03:05,806 : INFO : soil_temperature_100_to_255cm_archive_best_match (°C)\n",
      "2024-04-04 17:03:05,807 : INFO : soil_moisture_0_to_7cm_archive_best_match (m³/m³)\n",
      "2024-04-04 17:03:05,807 : INFO : soil_moisture_7_to_28cm_archive_best_match (m³/m³)\n",
      "2024-04-04 17:03:05,807 : INFO : soil_moisture_28_to_100cm_archive_best_match (m³/m³)\n",
      "2024-04-04 17:03:05,808 : INFO : soil_moisture_100_to_255cm_archive_best_match (m³/m³)\n",
      "2024-04-04 17:03:05,808 : INFO : is_day_archive_best_match ()\n",
      "2024-04-04 17:03:05,808 : INFO : sunshine_duration_archive_best_match (s)\n",
      "2024-04-04 17:03:05,809 : INFO : shortwave_radiation_archive_best_match (W/m²)\n",
      "2024-04-04 17:03:05,809 : INFO : direct_radiation_archive_best_match (W/m²)\n",
      "2024-04-04 17:03:05,809 : INFO : diffuse_radiation_archive_best_match (W/m²)\n",
      "2024-04-04 17:03:05,809 : INFO : direct_normal_irradiance_archive_best_match (W/m²)\n",
      "2024-04-04 17:03:05,810 : INFO : global_tilted_irradiance_archive_best_match (W/m²)\n",
      "2024-04-04 17:03:05,810 : INFO : terrestrial_radiation_archive_best_match (W/m²)\n",
      "2024-04-04 17:03:05,810 : INFO : shortwave_radiation_instant_archive_best_match (W/m²)\n",
      "2024-04-04 17:03:05,811 : INFO : direct_radiation_instant_archive_best_match (W/m²)\n",
      "2024-04-04 17:03:05,811 : INFO : diffuse_radiation_instant_archive_best_match (W/m²)\n",
      "2024-04-04 17:03:05,811 : INFO : direct_normal_irradiance_instant_archive_best_match (W/m²)\n",
      "2024-04-04 17:03:05,812 : INFO : global_tilted_irradiance_instant_archive_best_match (W/m²)\n",
      "2024-04-04 17:03:05,812 : INFO : terrestrial_radiation_instant_archive_best_match (W/m²)\n",
      "2024-04-04 17:03:05,812 : INFO : temperature_2m_ecmwf_ifs (°C)\n",
      "2024-04-04 17:03:05,813 : INFO : relative_humidity_2m_ecmwf_ifs (%)\n",
      "2024-04-04 17:03:05,813 : INFO : dew_point_2m_ecmwf_ifs (°C)\n",
      "2024-04-04 17:03:05,813 : INFO : apparent_temperature_ecmwf_ifs (°C)\n",
      "2024-04-04 17:03:05,814 : INFO : precipitation_ecmwf_ifs (mm)\n",
      "2024-04-04 17:03:05,814 : INFO : rain_ecmwf_ifs (mm)\n",
      "2024-04-04 17:03:05,814 : INFO : snowfall_ecmwf_ifs (cm)\n",
      "2024-04-04 17:03:05,814 : INFO : snow_depth_ecmwf_ifs (m)\n",
      "2024-04-04 17:03:05,815 : INFO : weather_code_ecmwf_ifs (wmo code)\n",
      "2024-04-04 17:03:05,815 : INFO : pressure_msl_ecmwf_ifs (hPa)\n",
      "2024-04-04 17:03:05,815 : INFO : surface_pressure_ecmwf_ifs (hPa)\n",
      "2024-04-04 17:03:05,815 : INFO : cloud_cover_ecmwf_ifs (%)\n",
      "2024-04-04 17:03:05,816 : INFO : cloud_cover_low_ecmwf_ifs (%)\n",
      "2024-04-04 17:03:05,816 : INFO : cloud_cover_mid_ecmwf_ifs (%)\n",
      "2024-04-04 17:03:05,816 : INFO : cloud_cover_high_ecmwf_ifs (%)\n",
      "2024-04-04 17:03:05,817 : INFO : et0_fao_evapotranspiration_ecmwf_ifs (mm)\n",
      "2024-04-04 17:03:05,817 : INFO : vapour_pressure_deficit_ecmwf_ifs (kPa)\n",
      "2024-04-04 17:03:05,817 : INFO : wind_speed_10m_ecmwf_ifs (km/h)\n",
      "2024-04-04 17:03:05,818 : INFO : wind_speed_100m_ecmwf_ifs (km/h)\n",
      "2024-04-04 17:03:05,818 : INFO : wind_direction_10m_ecmwf_ifs (°)\n",
      "2024-04-04 17:03:05,818 : INFO : wind_direction_100m_ecmwf_ifs (°)\n",
      "2024-04-04 17:03:05,819 : INFO : wind_gusts_10m_ecmwf_ifs (km/h)\n",
      "2024-04-04 17:03:05,819 : INFO : soil_temperature_0_to_7cm_ecmwf_ifs (°C)\n",
      "2024-04-04 17:03:05,820 : INFO : soil_temperature_7_to_28cm_ecmwf_ifs (°C)\n",
      "2024-04-04 17:03:05,820 : INFO : soil_temperature_28_to_100cm_ecmwf_ifs (°C)\n",
      "2024-04-04 17:03:05,822 : INFO : soil_temperature_100_to_255cm_ecmwf_ifs (°C)\n",
      "2024-04-04 17:03:05,822 : INFO : soil_moisture_0_to_7cm_ecmwf_ifs (m³/m³)\n",
      "2024-04-04 17:03:05,822 : INFO : soil_moisture_7_to_28cm_ecmwf_ifs (m³/m³)\n",
      "2024-04-04 17:03:05,823 : INFO : soil_moisture_28_to_100cm_ecmwf_ifs (m³/m³)\n",
      "2024-04-04 17:03:05,823 : INFO : soil_moisture_100_to_255cm_ecmwf_ifs (m³/m³)\n",
      "2024-04-04 17:03:05,824 : INFO : is_day_ecmwf_ifs ()\n",
      "2024-04-04 17:03:05,824 : INFO : sunshine_duration_ecmwf_ifs (s)\n",
      "2024-04-04 17:03:05,824 : INFO : shortwave_radiation_ecmwf_ifs (W/m²)\n",
      "2024-04-04 17:03:05,824 : INFO : direct_radiation_ecmwf_ifs (W/m²)\n",
      "2024-04-04 17:03:05,825 : INFO : diffuse_radiation_ecmwf_ifs (W/m²)\n",
      "2024-04-04 17:03:05,825 : INFO : direct_normal_irradiance_ecmwf_ifs (W/m²)\n",
      "2024-04-04 17:03:05,825 : INFO : global_tilted_irradiance_ecmwf_ifs (W/m²)\n",
      "2024-04-04 17:03:05,825 : INFO : terrestrial_radiation_ecmwf_ifs (W/m²)\n",
      "2024-04-04 17:03:05,826 : INFO : shortwave_radiation_instant_ecmwf_ifs (W/m²)\n",
      "2024-04-04 17:03:05,826 : INFO : direct_radiation_instant_ecmwf_ifs (W/m²)\n",
      "2024-04-04 17:03:05,826 : INFO : diffuse_radiation_instant_ecmwf_ifs (W/m²)\n",
      "2024-04-04 17:03:05,826 : INFO : direct_normal_irradiance_instant_ecmwf_ifs (W/m²)\n",
      "2024-04-04 17:03:05,827 : INFO : global_tilted_irradiance_instant_ecmwf_ifs (W/m²)\n",
      "2024-04-04 17:03:05,827 : INFO : terrestrial_radiation_instant_ecmwf_ifs (W/m²)\n",
      "2024-04-04 17:03:05,827 : INFO : temperature_2m_era5_seamless (°C)\n",
      "2024-04-04 17:03:05,827 : INFO : relative_humidity_2m_era5_seamless (%)\n",
      "2024-04-04 17:03:05,828 : INFO : dew_point_2m_era5_seamless (°C)\n",
      "2024-04-04 17:03:05,828 : INFO : apparent_temperature_era5_seamless (°C)\n",
      "2024-04-04 17:03:05,828 : INFO : precipitation_era5_seamless (mm)\n",
      "2024-04-04 17:03:05,828 : INFO : rain_era5_seamless (mm)\n",
      "2024-04-04 17:03:05,829 : INFO : snowfall_era5_seamless (cm)\n",
      "2024-04-04 17:03:05,829 : INFO : snow_depth_era5_seamless (m)\n",
      "2024-04-04 17:03:05,829 : INFO : weather_code_era5_seamless (wmo code)\n",
      "2024-04-04 17:03:05,829 : INFO : pressure_msl_era5_seamless (hPa)\n",
      "2024-04-04 17:03:05,829 : INFO : surface_pressure_era5_seamless (hPa)\n",
      "2024-04-04 17:03:05,830 : INFO : cloud_cover_era5_seamless (%)\n",
      "2024-04-04 17:03:05,830 : INFO : cloud_cover_low_era5_seamless (%)\n",
      "2024-04-04 17:03:05,830 : INFO : cloud_cover_mid_era5_seamless (%)\n",
      "2024-04-04 17:03:05,830 : INFO : cloud_cover_high_era5_seamless (%)\n",
      "2024-04-04 17:03:05,831 : INFO : et0_fao_evapotranspiration_era5_seamless (mm)\n",
      "2024-04-04 17:03:05,831 : INFO : vapour_pressure_deficit_era5_seamless (kPa)\n",
      "2024-04-04 17:03:05,831 : INFO : wind_speed_10m_era5_seamless (km/h)\n",
      "2024-04-04 17:03:05,831 : INFO : wind_speed_100m_era5_seamless (km/h)\n",
      "2024-04-04 17:03:05,832 : INFO : wind_direction_10m_era5_seamless (°)\n",
      "2024-04-04 17:03:05,832 : INFO : wind_direction_100m_era5_seamless (°)\n",
      "2024-04-04 17:03:05,832 : INFO : wind_gusts_10m_era5_seamless (km/h)\n",
      "2024-04-04 17:03:05,832 : INFO : soil_temperature_0_to_7cm_era5_seamless (°C)\n",
      "2024-04-04 17:03:05,833 : INFO : soil_temperature_7_to_28cm_era5_seamless (°C)\n",
      "2024-04-04 17:03:05,833 : INFO : soil_temperature_28_to_100cm_era5_seamless (°C)\n"
     ]
    },
    {
     "name": "stderr",
     "output_type": "stream",
     "text": [
      "2024-04-04 17:03:05,833 : INFO : soil_temperature_100_to_255cm_era5_seamless (°C)\n",
      "2024-04-04 17:03:05,834 : INFO : soil_moisture_0_to_7cm_era5_seamless (m³/m³)\n",
      "2024-04-04 17:03:05,834 : INFO : soil_moisture_7_to_28cm_era5_seamless (m³/m³)\n",
      "2024-04-04 17:03:05,834 : INFO : soil_moisture_28_to_100cm_era5_seamless (m³/m³)\n",
      "2024-04-04 17:03:05,834 : INFO : soil_moisture_100_to_255cm_era5_seamless (m³/m³)\n",
      "2024-04-04 17:03:05,835 : INFO : is_day_era5_seamless ()\n",
      "2024-04-04 17:03:05,835 : INFO : sunshine_duration_era5_seamless (s)\n",
      "2024-04-04 17:03:05,835 : INFO : shortwave_radiation_era5_seamless (W/m²)\n",
      "2024-04-04 17:03:05,836 : INFO : direct_radiation_era5_seamless (W/m²)\n",
      "2024-04-04 17:03:05,836 : INFO : diffuse_radiation_era5_seamless (W/m²)\n",
      "2024-04-04 17:03:05,836 : INFO : direct_normal_irradiance_era5_seamless (W/m²)\n",
      "2024-04-04 17:03:05,837 : INFO : global_tilted_irradiance_era5_seamless (W/m²)\n",
      "2024-04-04 17:03:05,837 : INFO : terrestrial_radiation_era5_seamless (W/m²)\n",
      "2024-04-04 17:03:05,837 : INFO : shortwave_radiation_instant_era5_seamless (W/m²)\n",
      "2024-04-04 17:03:05,837 : INFO : direct_radiation_instant_era5_seamless (W/m²)\n",
      "2024-04-04 17:03:05,838 : INFO : diffuse_radiation_instant_era5_seamless (W/m²)\n",
      "2024-04-04 17:03:05,838 : INFO : direct_normal_irradiance_instant_era5_seamless (W/m²)\n",
      "2024-04-04 17:03:05,838 : INFO : global_tilted_irradiance_instant_era5_seamless (W/m²)\n",
      "2024-04-04 17:03:05,839 : INFO : terrestrial_radiation_instant_era5_seamless (W/m²)\n",
      "2024-04-04 17:03:05,839 : INFO : temperature_2m_era5 (°C)\n",
      "2024-04-04 17:03:05,839 : INFO : relative_humidity_2m_era5 (%)\n",
      "2024-04-04 17:03:05,839 : INFO : dew_point_2m_era5 (°C)\n",
      "2024-04-04 17:03:05,840 : INFO : apparent_temperature_era5 (°C)\n",
      "2024-04-04 17:03:05,840 : INFO : precipitation_era5 (mm)\n",
      "2024-04-04 17:03:05,840 : INFO : rain_era5 (mm)\n",
      "2024-04-04 17:03:05,840 : INFO : snowfall_era5 (cm)\n",
      "2024-04-04 17:03:05,841 : INFO : snow_depth_era5 (m)\n",
      "2024-04-04 17:03:05,841 : INFO : weather_code_era5 (wmo code)\n",
      "2024-04-04 17:03:05,841 : INFO : pressure_msl_era5 (hPa)\n",
      "2024-04-04 17:03:05,841 : INFO : surface_pressure_era5 (hPa)\n",
      "2024-04-04 17:03:05,842 : INFO : cloud_cover_era5 (%)\n",
      "2024-04-04 17:03:05,842 : INFO : cloud_cover_low_era5 (%)\n",
      "2024-04-04 17:03:05,842 : INFO : cloud_cover_mid_era5 (%)\n",
      "2024-04-04 17:03:05,842 : INFO : cloud_cover_high_era5 (%)\n",
      "2024-04-04 17:03:05,843 : INFO : et0_fao_evapotranspiration_era5 (mm)\n",
      "2024-04-04 17:03:05,843 : INFO : vapour_pressure_deficit_era5 (kPa)\n",
      "2024-04-04 17:03:05,843 : INFO : wind_speed_10m_era5 (km/h)\n",
      "2024-04-04 17:03:05,852 : INFO : wind_speed_100m_era5 (km/h)\n",
      "2024-04-04 17:03:05,853 : INFO : wind_direction_10m_era5 (°)\n",
      "2024-04-04 17:03:05,853 : INFO : wind_direction_100m_era5 (°)\n",
      "2024-04-04 17:03:05,854 : INFO : wind_gusts_10m_era5 (km/h)\n",
      "2024-04-04 17:03:05,854 : INFO : soil_temperature_0_to_7cm_era5 (°C)\n",
      "2024-04-04 17:03:05,854 : INFO : soil_temperature_7_to_28cm_era5 (°C)\n",
      "2024-04-04 17:03:05,854 : INFO : soil_temperature_28_to_100cm_era5 (°C)\n",
      "2024-04-04 17:03:05,854 : INFO : soil_temperature_100_to_255cm_era5 (°C)\n",
      "2024-04-04 17:03:05,855 : INFO : soil_moisture_0_to_7cm_era5 (m³/m³)\n",
      "2024-04-04 17:03:05,855 : INFO : soil_moisture_7_to_28cm_era5 (m³/m³)\n",
      "2024-04-04 17:03:05,856 : INFO : soil_moisture_28_to_100cm_era5 (m³/m³)\n",
      "2024-04-04 17:03:05,856 : INFO : soil_moisture_100_to_255cm_era5 (m³/m³)\n",
      "2024-04-04 17:03:05,856 : INFO : is_day_era5 ()\n",
      "2024-04-04 17:03:05,857 : INFO : sunshine_duration_era5 (s)\n",
      "2024-04-04 17:03:05,857 : INFO : shortwave_radiation_era5 (W/m²)\n",
      "2024-04-04 17:03:05,857 : INFO : direct_radiation_era5 (W/m²)\n",
      "2024-04-04 17:03:05,857 : INFO : diffuse_radiation_era5 (W/m²)\n",
      "2024-04-04 17:03:05,858 : INFO : direct_normal_irradiance_era5 (W/m²)\n",
      "2024-04-04 17:03:05,858 : INFO : global_tilted_irradiance_era5 (W/m²)\n",
      "2024-04-04 17:03:05,858 : INFO : terrestrial_radiation_era5 (W/m²)\n",
      "2024-04-04 17:03:05,858 : INFO : shortwave_radiation_instant_era5 (W/m²)\n",
      "2024-04-04 17:03:05,859 : INFO : direct_radiation_instant_era5 (W/m²)\n",
      "2024-04-04 17:03:05,859 : INFO : diffuse_radiation_instant_era5 (W/m²)\n",
      "2024-04-04 17:03:05,859 : INFO : direct_normal_irradiance_instant_era5 (W/m²)\n",
      "2024-04-04 17:03:05,859 : INFO : global_tilted_irradiance_instant_era5 (W/m²)\n",
      "2024-04-04 17:03:05,859 : INFO : terrestrial_radiation_instant_era5 (W/m²)\n",
      "2024-04-04 17:03:05,860 : INFO : temperature_2m_era5_land (°C)\n",
      "2024-04-04 17:03:05,860 : INFO : relative_humidity_2m_era5_land (%)\n",
      "2024-04-04 17:03:05,860 : INFO : dew_point_2m_era5_land (°C)\n",
      "2024-04-04 17:03:05,860 : INFO : apparent_temperature_era5_land (°C)\n",
      "2024-04-04 17:03:05,860 : INFO : precipitation_era5_land (mm)\n",
      "2024-04-04 17:03:05,861 : INFO : rain_era5_land (mm)\n",
      "2024-04-04 17:03:05,861 : INFO : snowfall_era5_land (cm)\n",
      "2024-04-04 17:03:05,861 : INFO : snow_depth_era5_land (m)\n",
      "2024-04-04 17:03:05,861 : INFO : weather_code_era5_land (wmo code)\n",
      "2024-04-04 17:03:05,862 : INFO : pressure_msl_era5_land (hPa)\n",
      "2024-04-04 17:03:05,862 : INFO : surface_pressure_era5_land (hPa)\n",
      "2024-04-04 17:03:05,862 : INFO : cloud_cover_era5_land (%)\n",
      "2024-04-04 17:03:05,862 : INFO : cloud_cover_low_era5_land (%)\n",
      "2024-04-04 17:03:05,862 : INFO : cloud_cover_mid_era5_land (%)\n",
      "2024-04-04 17:03:05,863 : INFO : cloud_cover_high_era5_land (%)\n",
      "2024-04-04 17:03:05,863 : INFO : et0_fao_evapotranspiration_era5_land (mm)\n",
      "2024-04-04 17:03:05,863 : INFO : vapour_pressure_deficit_era5_land (kPa)\n",
      "2024-04-04 17:03:05,863 : INFO : wind_speed_10m_era5_land (km/h)\n",
      "2024-04-04 17:03:05,864 : INFO : wind_speed_100m_era5_land (km/h)\n",
      "2024-04-04 17:03:05,864 : INFO : wind_direction_10m_era5_land (°)\n",
      "2024-04-04 17:03:05,864 : INFO : wind_direction_100m_era5_land (°)\n",
      "2024-04-04 17:03:05,864 : INFO : wind_gusts_10m_era5_land (km/h)\n",
      "2024-04-04 17:03:05,865 : INFO : soil_temperature_0_to_7cm_era5_land (°C)\n",
      "2024-04-04 17:03:05,867 : INFO : soil_temperature_7_to_28cm_era5_land (°C)\n",
      "2024-04-04 17:03:05,868 : INFO : soil_temperature_28_to_100cm_era5_land (°C)\n",
      "2024-04-04 17:03:05,868 : INFO : soil_temperature_100_to_255cm_era5_land (°C)\n",
      "2024-04-04 17:03:05,868 : INFO : soil_moisture_0_to_7cm_era5_land (m³/m³)\n",
      "2024-04-04 17:03:05,868 : INFO : soil_moisture_7_to_28cm_era5_land (m³/m³)\n",
      "2024-04-04 17:03:05,869 : INFO : soil_moisture_28_to_100cm_era5_land (m³/m³)\n",
      "2024-04-04 17:03:05,869 : INFO : soil_moisture_100_to_255cm_era5_land (m³/m³)\n",
      "2024-04-04 17:03:05,869 : INFO : is_day_era5_land ()\n",
      "2024-04-04 17:03:05,869 : INFO : sunshine_duration_era5_land (s)\n",
      "2024-04-04 17:03:05,870 : INFO : shortwave_radiation_era5_land (W/m²)\n",
      "2024-04-04 17:03:05,870 : INFO : direct_radiation_era5_land (W/m²)\n",
      "2024-04-04 17:03:05,870 : INFO : diffuse_radiation_era5_land (W/m²)\n",
      "2024-04-04 17:03:05,870 : INFO : direct_normal_irradiance_era5_land (W/m²)\n",
      "2024-04-04 17:03:05,870 : INFO : global_tilted_irradiance_era5_land (W/m²)\n",
      "2024-04-04 17:03:05,871 : INFO : terrestrial_radiation_era5_land (W/m²)\n",
      "2024-04-04 17:03:05,871 : INFO : shortwave_radiation_instant_era5_land (W/m²)\n",
      "2024-04-04 17:03:05,871 : INFO : direct_radiation_instant_era5_land (W/m²)\n",
      "2024-04-04 17:03:05,871 : INFO : diffuse_radiation_instant_era5_land (W/m²)\n",
      "2024-04-04 17:03:05,872 : INFO : direct_normal_irradiance_instant_era5_land (W/m²)\n",
      "2024-04-04 17:03:05,872 : INFO : global_tilted_irradiance_instant_era5_land (W/m²)\n",
      "2024-04-04 17:03:05,872 : INFO : terrestrial_radiation_instant_era5_land (W/m²)\n",
      "2024-04-04 17:03:05,873 : INFO : 光伏用户编号\n",
      "2024-04-04 17:03:05,873 : INFO : weather_code (wmo code)\n",
      "2024-04-04 17:03:05,873 : INFO : temperature_2m_max (°C)\n",
      "2024-04-04 17:03:05,873 : INFO : temperature_2m_min (°C)\n",
      "2024-04-04 17:03:05,874 : INFO : temperature_2m_mean (°C)\n",
      "2024-04-04 17:03:05,874 : INFO : apparent_temperature_max (°C)\n",
      "2024-04-04 17:03:05,874 : INFO : apparent_temperature_min (°C)\n",
      "2024-04-04 17:03:05,874 : INFO : apparent_temperature_mean (°C)\n",
      "2024-04-04 17:03:05,874 : INFO : sunrise (iso8601)\n",
      "2024-04-04 17:03:05,875 : INFO : sunset (iso8601)\n",
      "2024-04-04 17:03:05,875 : INFO : daylight_duration (s)\n",
      "2024-04-04 17:03:05,876 : INFO : sunshine_duration (s)\n",
      "2024-04-04 17:03:05,876 : INFO : precipitation_sum (mm)\n",
      "2024-04-04 17:03:05,876 : INFO : rain_sum (mm)\n",
      "2024-04-04 17:03:05,877 : INFO : snowfall_sum (cm)\n",
      "2024-04-04 17:03:05,877 : INFO : precipitation_hours (h)\n"
     ]
    },
    {
     "name": "stderr",
     "output_type": "stream",
     "text": [
      "2024-04-04 17:03:05,877 : INFO : wind_speed_10m_max (km/h)\n",
      "2024-04-04 17:03:05,877 : INFO : wind_gusts_10m_max (km/h)\n",
      "2024-04-04 17:03:05,878 : INFO : wind_direction_10m_dominant (°)\n",
      "2024-04-04 17:03:05,878 : INFO : shortwave_radiation_sum (MJ/m²)\n",
      "2024-04-04 17:03:05,878 : INFO : et0_fao_evapotranspiration (mm)\n"
     ]
    }
   ],
   "source": [
    "outer_data[\"日期\"] = outer_data[\"时间\"].dt.date\n",
    "outer_day_data[\"日期\"] = outer_day_data[\"时间\"].dt.date\n",
    "outer_day_data = outer_day_data.drop(columns=[\"时间\"])\n",
    "outer_data = pd.merge(outer_data, outer_day_data, on=[\"光伏用户编号\", \"日期\"], how=\"left\").drop(columns=[\"日期\"])\n",
    "for column in outer_data.columns:\n",
    "    logging.info(column)"
   ]
  },
  {
   "cell_type": "markdown",
   "metadata": {},
   "source": [
    "<h3>整合数据</h3>"
   ]
  },
  {
   "cell_type": "code",
   "execution_count": 19,
   "metadata": {
    "ExecuteTime": {
     "end_time": "2024-04-04T09:03:06.447069Z",
     "start_time": "2024-04-04T09:03:05.889056Z"
    }
   },
   "outputs": [],
   "source": [
    "df = pd.merge(df, outer_data[[\n",
    "    \"光伏用户编号\", \n",
    "    \"时间\",\n",
    "    \"apparent_temperature_archive_best_match (°C)\", \n",
    "    \"surface_pressure_archive_best_match (hPa)\",\n",
    "    \"is_day_archive_best_match ()\",\n",
    "    \"relative_humidity_2m_archive_best_match (%)\",\n",
    "    \"cloud_cover_archive_best_match (%)\",\n",
    "    \"global_tilted_irradiance_instant_archive_best_match (W/m²)\",\n",
    "    \"precipitation_archive_best_match (mm)\",\n",
    "    \"wind_speed_10m_archive_best_match (km/h)\",\n",
    "    \"wind_speed_100m_archive_best_match (km/h)\",\n",
    "    \"wind_direction_10m_archive_best_match (°)\",\n",
    "    \"wind_direction_100m_archive_best_match (°)\",\n",
    "    \"sunshine_duration_archive_best_match (s)\",\n",
    "    \"weather_code_archive_best_match (wmo code)\",\n",
    "    \"temperature_2m_max (°C)\",\n",
    "    \"temperature_2m_min (°C)\",\n",
    "    \"temperature_2m_mean (°C)\",\n",
    "    \"precipitation_sum (mm)\",\n",
    "    \"rain_sum (mm)\",\n",
    "    \"snowfall_sum (cm)\",\n",
    "    \"apparent_temperature_max (°C)\",\n",
    "    \"apparent_temperature_min (°C)\",\n",
    "    \"apparent_temperature_mean (°C)\",\n",
    "    \"sunrise (iso8601)\",\n",
    "    \"sunset (iso8601)\",\n",
    "    \"shortwave_radiation_archive_best_match (W/m²)\",\n",
    "    \"direct_radiation_archive_best_match (W/m²)\",\n",
    "    \"diffuse_radiation_archive_best_match (W/m²)\",\n",
    "    \"direct_normal_irradiance_archive_best_match (W/m²)\",\n",
    "    \"global_tilted_irradiance_archive_best_match (W/m²)\",\n",
    "    \"terrestrial_radiation_archive_best_match (W/m²)\"\n",
    "]], how=\"left\", on=[\"光伏用户编号\", \"时间\"])\n",
    "\n",
    "df[\"温度（K）\"] = df[\"apparent_temperature_archive_best_match (°C)\"] + 273.15\n",
    "df[\"气压(Pa）\"] = df[\"surface_pressure_archive_best_match (hPa)\"] * 100\n",
    "df[\"是白天\"] = df[\"is_day_archive_best_match ()\"].copy()\n",
    "df[\"相对湿度（%）\"] = df[\"relative_humidity_2m_archive_best_match (%)\"].copy()\n",
    "df[\"云量\"] = df[\"cloud_cover_archive_best_match (%)\"] / 100\n",
    "df[\"辐照强度（J/m2）\"] = df[\"global_tilted_irradiance_instant_archive_best_match (W/m²)\"] * 15 * 60\n",
    "df[\"降水（m）\"] = df[\"precipitation_archive_best_match (mm)\"] / 1000\n",
    "df[\"10米风速（10m/s）\"] = df[\"wind_speed_10m_archive_best_match (km/h)\"] / 3600 * 100\n",
    "df[\"100m风速（100m/s）\"] = df[\"wind_speed_100m_archive_best_match (km/h)\"] / 3600 * 10\n",
    "df[\"10米风向（°)\"] = df[\"wind_direction_10m_archive_best_match (°)\"].copy()\n",
    "df[\"100m风向（°)\"] = df[\"wind_direction_100m_archive_best_match (°)\"].copy()\n",
    "df[\"sunrise (iso8601)\"] = pd.to_datetime(df[\"sunrise (iso8601)\"], utc=False).dt.tz_localize('Asia/Shanghai')\n",
    "df[\"sunset (iso8601)\"] = pd.to_datetime(df[\"sunset (iso8601)\"], utc=False).dt.tz_localize('Asia/Shanghai')\n",
    "df[\"时间-日出时间\"] = ((df[\"时间\"] - df[\"sunrise (iso8601)\"]).dt.days * 24 * 3600 + (df[\"时间\"] - df[\"sunrise (iso8601)\"]).dt.seconds) // 60\n",
    "df[\"日落时间-时间\"] = ((df[\"sunset (iso8601)\"] - df[\"时间\"]).dt.days * 24 * 3600 + (df[\"sunset (iso8601)\"] - df[\"时间\"]).dt.seconds) // 60\n",
    "\n",
    "df = df.drop(columns=[\n",
    "    \"apparent_temperature_archive_best_match (°C)\", \n",
    "    \"surface_pressure_archive_best_match (hPa)\",\n",
    "    \"is_day_archive_best_match ()\",\n",
    "    \"relative_humidity_2m_archive_best_match (%)\",\n",
    "    \"cloud_cover_archive_best_match (%)\",\n",
    "    \"global_tilted_irradiance_instant_archive_best_match (W/m²)\",\n",
    "    \"precipitation_archive_best_match (mm)\",\n",
    "    \"wind_speed_10m_archive_best_match (km/h)\",\n",
    "    \"wind_speed_100m_archive_best_match (km/h)\",\n",
    "    \"wind_direction_10m_archive_best_match (°)\",\n",
    "    \"wind_direction_100m_archive_best_match (°)\",\n",
    "    \"sunrise (iso8601)\",\n",
    "    \"sunset (iso8601)\"\n",
    "])"
   ]
  },
  {
   "cell_type": "markdown",
   "metadata": {},
   "source": [
    "<h2>特征工程</h2>"
   ]
  },
  {
   "cell_type": "markdown",
   "metadata": {},
   "source": [
    "<h3>时间特征</h3>"
   ]
  },
  {
   "cell_type": "code",
   "execution_count": 20,
   "metadata": {
    "ExecuteTime": {
     "end_time": "2024-04-04T09:03:06.543088Z",
     "start_time": "2024-04-04T09:03:06.448070Z"
    }
   },
   "outputs": [
    {
     "name": "stderr",
     "output_type": "stream",
     "text": [
      "c:\\program files\\python37\\lib\\site-packages\\ipykernel_launcher.py:5: FutureWarning: Series.dt.weekofyear and Series.dt.week have been deprecated.  Please use Series.dt.isocalendar().week instead.\n",
      "  \"\"\"\n"
     ]
    }
   ],
   "source": [
    "df[\"年\"] = df[\"时间\"].dt.year\n",
    "df[\"季节\"] = df[\"时间\"].dt.quarter\n",
    "df[\"月\"] = df[\"时间\"].dt.month\n",
    "df[\"日\"] = df[\"时间\"].dt.day\n",
    "df[\"周\"] = df[\"时间\"].dt.week\n",
    "df[\"分\"] = df[\"时间\"].dt.minute // 15 + df[\"时间\"].dt.hour * 4"
   ]
  },
  {
   "cell_type": "code",
   "execution_count": 21,
   "metadata": {
    "ExecuteTime": {
     "end_time": "2024-04-04T09:03:06.559088Z",
     "start_time": "2024-04-04T09:03:06.544090Z"
    }
   },
   "outputs": [],
   "source": [
    "# df[\"分_\"] = df[\"分\"].copy()\n",
    "# df = pd.get_dummies(df, columns=[\"分_\"], prefix_sep=\"\")\n",
    "df[\"分\"] = df[\"分\"].astype(\"category\")"
   ]
  },
  {
   "cell_type": "markdown",
   "metadata": {},
   "source": [
    "<h3>根据日出时间日落时间计算时间段</h3>"
   ]
  },
  {
   "cell_type": "code",
   "execution_count": 22,
   "metadata": {
    "ExecuteTime": {
     "end_time": "2024-04-04T09:03:06.575089Z",
     "start_time": "2024-04-04T09:03:06.560089Z"
    }
   },
   "outputs": [],
   "source": [
    "def solar_time(current_time, dawn_time, sunrise_time, noon_time, sunset_time, dusk_time) -> int:\n",
    "    \"\"\"\n",
    "    根据太阳判断当前时间段\\n\n",
    "    \"\"\"\n",
    "    if dawn_time < current_time < sunrise_time:\n",
    "        return 1\n",
    "    elif sunrise_time <= current_time < noon_time:\n",
    "        return 2\n",
    "    elif noon_time <= current_time < sunset_time:\n",
    "        return 3\n",
    "    elif sunset_time <= current_time < dusk_time:\n",
    "        return 4\n",
    "    else:\n",
    "        return 0"
   ]
  },
  {
   "cell_type": "code",
   "execution_count": 23,
   "metadata": {
    "ExecuteTime": {
     "end_time": "2024-04-04T09:03:06.591088Z",
     "start_time": "2024-04-04T09:03:06.576090Z"
    }
   },
   "outputs": [],
   "source": [
    "# df[\"地点\"] = df.apply(lambda x: LocationInfo(name=x[\"光伏用户编号\"], region=\"China\", timezone=\"Asia/Shanghai\", latitude=x[\"纬度\"], longitude=x[\"经度\"]), axis=1)\n",
    "# df[\"黎明时刻\"] = df.apply(lambda x: dawn(x[\"地点\"].observer, date=x[\"时间\"], tzinfo=x[\"地点\"].timezone), axis=1).dt.tz_convert(\"Asia/Shanghai\")\n",
    "# df[\"日出时刻\"] = df.apply(lambda x: sunrise(x[\"地点\"].observer, date=x[\"时间\"], tzinfo=x[\"地点\"].timezone), axis=1).dt.tz_convert(\"Asia/Shanghai\")\n",
    "# df[\"正午时刻\"] = df.apply(lambda x: noon(x[\"地点\"].observer, date=x[\"时间\"], tzinfo=x[\"地点\"].timezone), axis=1).dt.tz_convert(\"Asia/Shanghai\")\n",
    "# df[\"日落时刻\"] = df.apply(lambda x: sunset(x[\"地点\"].observer, date=x[\"时间\"], tzinfo=x[\"地点\"].timezone), axis=1).dt.tz_convert(\"Asia/Shanghai\")\n",
    "# df[\"黄昏时刻\"] = df.apply(lambda x: dusk(x[\"地点\"].observer, date=x[\"时间\"], tzinfo=x[\"地点\"].timezone), axis=1).dt.tz_convert(\"Asia/Shanghai\")\n",
    "# df[\"时间段\"] = df.apply(lambda x: solar_time(x[\"时间\"], x[\"黎明时刻\"], x[\"日出时刻\"], x[\"正午时刻\"], x[\"日落时刻\"], x[\"黄昏时刻\"]), axis=1)\n",
    "# df = df.drop(columns=[\"地点\", \"黎明时刻\", \"日出时刻\", \"正午时刻\", \"日落时刻\", \"黄昏时刻\"])"
   ]
  },
  {
   "cell_type": "markdown",
   "metadata": {},
   "source": [
    "<h3>光伏用户编号</h3>"
   ]
  },
  {
   "cell_type": "code",
   "execution_count": 24,
   "metadata": {
    "ExecuteTime": {
     "end_time": "2024-04-04T09:03:06.703088Z",
     "start_time": "2024-04-04T09:03:06.591088Z"
    }
   },
   "outputs": [],
   "source": [
    "df[\"光伏用户编号_\"] = df[\"光伏用户编号\"].copy()\n",
    "df = pd.get_dummies(df, columns=[\"光伏用户编号_\"], prefix_sep=\"\")"
   ]
  },
  {
   "cell_type": "markdown",
   "metadata": {},
   "source": [
    "<h3>气象特征</h3>"
   ]
  },
  {
   "cell_type": "code",
   "execution_count": 25,
   "metadata": {
    "ExecuteTime": {
     "end_time": "2024-04-04T09:03:06.719088Z",
     "start_time": "2024-04-04T09:03:06.704089Z"
    }
   },
   "outputs": [],
   "source": [
    "df['100m风速（100m/s）'] = df['100m风速（100m/s）'] * np.sin(np.pi * df['100m风向（°)'] / 180)\n",
    "# df['cos_100m风速（100m/s）'] = df['100m风速（100m/s）'] * np.cos(np.pi * df['100m风向（°)'] / 180)\n",
    "df['10米风速（10m/s）'] = df['10米风速（10m/s）'] * np.sin(np.pi * df['10米风向（°)'] / 180)\n",
    "# df['cos_10米风速（10m/s）'] = df['10米风速（10m/s）'] * np.cos(np.pi * df['10米风向（°)'] / 180)"
   ]
  },
  {
   "cell_type": "code",
   "execution_count": 26,
   "metadata": {
    "ExecuteTime": {
     "end_time": "2024-04-04T09:03:06.735088Z",
     "start_time": "2024-04-04T09:03:06.719088Z"
    }
   },
   "outputs": [],
   "source": [
    "df[\"光照/温度\"] = df[\"辐照强度（J/m2）\"] / df[\"温度（K）\"]"
   ]
  },
  {
   "cell_type": "markdown",
   "metadata": {},
   "source": [
    "<h3>历史值特征</h3>"
   ]
  },
  {
   "cell_type": "code",
   "execution_count": 27,
   "metadata": {
    "ExecuteTime": {
     "end_time": "2024-04-04T09:03:07.023088Z",
     "start_time": "2024-04-04T09:03:06.736089Z"
    }
   },
   "outputs": [],
   "source": [
    "dfs = []\n",
    "for site, df_site in df.groupby(\"光伏用户编号\"):\n",
    "    df_site = df_site.sort_values(\"时间\")\n",
    "    df_site[\"辐照强度（J/m2） - 1\"] = df_site[\"辐照强度（J/m2）\"].shift(1) - df_site[\"辐照强度（J/m2）\"]\n",
    "    df_site[\"辐照强度（J/m2） - 8\"] = df_site[\"辐照强度（J/m2）\"].shift(8) - df_site[\"辐照强度（J/m2）\"]\n",
    "#     df_site[\"辐照强度（J/m2） - 2\"] = df_site[\"辐照强度（J/m2）\"].shift(2) - df_site[\"辐照强度（J/m2）\"]\n",
    "    dfs.append(df_site)\n",
    "df = pd.concat(dfs, axis=0)"
   ]
  },
  {
   "cell_type": "markdown",
   "metadata": {},
   "source": [
    "<h3>处理异常值</h3>"
   ]
  },
  {
   "cell_type": "code",
   "execution_count": 28,
   "metadata": {
    "ExecuteTime": {
     "end_time": "2024-04-04T09:03:07.055088Z",
     "start_time": "2024-04-04T09:03:07.024089Z"
    }
   },
   "outputs": [
    {
     "name": "stdout",
     "output_type": "stream",
     "text": [
      "207630   -8.8900\n",
      "37316    -0.0085\n",
      "39139    -0.0084\n",
      "Name: target, dtype: float64\n"
     ]
    },
    {
     "data": {
      "text/html": [
       "<div>\n",
       "<style scoped>\n",
       "    .dataframe tbody tr th:only-of-type {\n",
       "        vertical-align: middle;\n",
       "    }\n",
       "\n",
       "    .dataframe tbody tr th {\n",
       "        vertical-align: top;\n",
       "    }\n",
       "\n",
       "    .dataframe thead th {\n",
       "        text-align: right;\n",
       "    }\n",
       "</style>\n",
       "<table border=\"1\" class=\"dataframe\">\n",
       "  <thead>\n",
       "    <tr style=\"text-align: right;\">\n",
       "      <th></th>\n",
       "      <th>光伏用户编号</th>\n",
       "      <th>时间</th>\n",
       "      <th>target</th>\n",
       "    </tr>\n",
       "  </thead>\n",
       "  <tbody>\n",
       "    <tr>\n",
       "      <th>207628</th>\n",
       "      <td>f6</td>\n",
       "      <td>2022-08-15 20:30:00+08:00</td>\n",
       "      <td>-0.002</td>\n",
       "    </tr>\n",
       "    <tr>\n",
       "      <th>207629</th>\n",
       "      <td>f6</td>\n",
       "      <td>2022-08-15 20:45:00+08:00</td>\n",
       "      <td>-0.002</td>\n",
       "    </tr>\n",
       "    <tr>\n",
       "      <th>207630</th>\n",
       "      <td>f6</td>\n",
       "      <td>2022-08-15 21:00:00+08:00</td>\n",
       "      <td>-8.890</td>\n",
       "    </tr>\n",
       "    <tr>\n",
       "      <th>207631</th>\n",
       "      <td>f6</td>\n",
       "      <td>2022-08-15 21:15:00+08:00</td>\n",
       "      <td>-0.002</td>\n",
       "    </tr>\n",
       "    <tr>\n",
       "      <th>207632</th>\n",
       "      <td>f6</td>\n",
       "      <td>2022-08-15 21:30:00+08:00</td>\n",
       "      <td>NaN</td>\n",
       "    </tr>\n",
       "    <tr>\n",
       "      <th>207633</th>\n",
       "      <td>f6</td>\n",
       "      <td>2022-08-15 21:45:00+08:00</td>\n",
       "      <td>NaN</td>\n",
       "    </tr>\n",
       "  </tbody>\n",
       "</table>\n",
       "</div>"
      ],
      "text/plain": [
       "       光伏用户编号                        时间  target\n",
       "207628     f6 2022-08-15 20:30:00+08:00  -0.002\n",
       "207629     f6 2022-08-15 20:45:00+08:00  -0.002\n",
       "207630     f6 2022-08-15 21:00:00+08:00  -8.890\n",
       "207631     f6 2022-08-15 21:15:00+08:00  -0.002\n",
       "207632     f6 2022-08-15 21:30:00+08:00     NaN\n",
       "207633     f6 2022-08-15 21:45:00+08:00     NaN"
      ]
     },
     "execution_count": 28,
     "metadata": {},
     "output_type": "execute_result"
    }
   ],
   "source": [
    "print(df_train[\"target\"].nsmallest(3))\n",
    "df_train[df_train[\"target\"] < -8]\n",
    "df.loc[207628:207633, [\"光伏用户编号\", \"时间\", \"target\"]]"
   ]
  },
  {
   "cell_type": "code",
   "execution_count": 29,
   "metadata": {
    "ExecuteTime": {
     "end_time": "2024-04-04T09:03:07.134088Z",
     "start_time": "2024-04-04T09:03:07.056089Z"
    }
   },
   "outputs": [],
   "source": [
    "df.loc[207630, \"target\"] = -0.002"
   ]
  },
  {
   "cell_type": "markdown",
   "metadata": {},
   "source": [
    "<h3>光照与当天最强光照的比值</h3>"
   ]
  },
  {
   "cell_type": "code",
   "execution_count": 30,
   "metadata": {
    "ExecuteTime": {
     "end_time": "2024-04-04T09:03:07.500088Z",
     "start_time": "2024-04-04T09:03:07.135088Z"
    }
   },
   "outputs": [],
   "source": [
    "df[\"日期\"] = df[\"时间\"].dt.date\n",
    "day_max_values = df[[\"光伏用户编号\", \"日期\", \"辐照强度（J/m2）\"]].groupby(by=[\"光伏用户编号\", \"日期\"]).max()\n",
    "day_max_values = day_max_values.rename(columns={x: x + \"_max\" for x in day_max_values.columns}).reset_index()\n",
    "df = pd.merge(df, day_max_values, on=[\"光伏用户编号\", \"日期\"], how=\"left\").drop(columns=[\"日期\"])\n",
    "df[\"辐照强度（J/m2）_max\"] = df[\"辐照强度（J/m2）\"] / df[\"辐照强度（J/m2）_max\"]"
   ]
  },
  {
   "cell_type": "markdown",
   "metadata": {},
   "source": [
    "<h3>当天的平均光照</h3>"
   ]
  },
  {
   "cell_type": "code",
   "execution_count": 31,
   "metadata": {
    "ExecuteTime": {
     "end_time": "2024-04-04T09:03:07.884013Z",
     "start_time": "2024-04-04T09:03:07.501089Z"
    }
   },
   "outputs": [],
   "source": [
    "df[\"日期\"] = df[\"时间\"].dt.date\n",
    "day_mean_values = df[[\"光伏用户编号\", \"日期\", \"是白天\", \"辐照强度（J/m2）\"]].groupby(by=[\"光伏用户编号\", \"日期\", \"是白天\"]).mean()\n",
    "day_mean_values = day_mean_values.rename(columns={x: x + \"_mean\" for x in day_mean_values.columns}).reset_index()\n",
    "df = pd.merge(df, day_mean_values, on=[\"光伏用户编号\", \"日期\", \"是白天\"], how=\"left\").drop(columns=[\"日期\"])"
   ]
  },
  {
   "cell_type": "markdown",
   "metadata": {},
   "source": [
    "<h3>温度与当天最高温最低度的差值</h3>"
   ]
  },
  {
   "cell_type": "code",
   "execution_count": 32,
   "metadata": {
    "ExecuteTime": {
     "end_time": "2024-04-04T09:03:08.442266Z",
     "start_time": "2024-04-04T09:03:07.885013Z"
    }
   },
   "outputs": [],
   "source": [
    "df[\"日期\"] = df[\"时间\"].dt.date\n",
    "day_max_values = df[[\"光伏用户编号\", \"日期\", \"温度（K）\"]].groupby(by=[\"光伏用户编号\", \"日期\"]).max()\n",
    "day_min_values = df[[\"光伏用户编号\", \"日期\", \"温度（K）\"]].groupby(by=[\"光伏用户编号\", \"日期\"]).min()\n",
    "day_max_values = day_max_values.rename(columns={x: x + \"_max\" for x in day_max_values.columns}).reset_index()\n",
    "day_min_values = day_min_values.rename(columns={x: x + \"_min\" for x in day_min_values.columns}).reset_index()\n",
    "df = pd.merge(df, day_max_values, on=[\"光伏用户编号\", \"日期\"], how=\"left\")\n",
    "df = pd.merge(df, day_min_values, on=[\"光伏用户编号\", \"日期\"], how=\"left\").drop(columns=[\"日期\"])\n",
    "df[\"温度（K）_max\"] = df[\"温度（K）_max\"] - df[\"温度（K）\"]\n",
    "df[\"温度（K）_min\"] = df[\"温度（K）\"] - df[\"温度（K）_min\"]\n",
    "df = df.rename(columns={\n",
    "    \"辐照强度（J/m2）_max\": \"光照/当天最强光照\",\n",
    "    \"温度（K）_max\": \"与当天最高温度之差\",\n",
    "    \"温度（K）_min\": \"与当天最低温度之差\"\n",
    "})"
   ]
  },
  {
   "cell_type": "markdown",
   "metadata": {},
   "source": [
    "<h3>划分测试集</h3>"
   ]
  },
  {
   "cell_type": "code",
   "execution_count": 33,
   "metadata": {
    "ExecuteTime": {
     "end_time": "2024-04-04T09:03:08.506266Z",
     "start_time": "2024-04-04T09:03:08.444266Z"
    }
   },
   "outputs": [],
   "source": [
    "df_train = df[df[\"时间\"] <= df_train[\"时间\"].max()]\n",
    "df_test = df[df[\"时间\"] >= df_test[\"时间\"].min()]"
   ]
  },
  {
   "cell_type": "markdown",
   "metadata": {},
   "source": [
    "<h2>训练模型</h2>"
   ]
  },
  {
   "cell_type": "markdown",
   "metadata": {},
   "source": [
    "<h3>评测指标</h3>"
   ]
  },
  {
   "cell_type": "code",
   "execution_count": 34,
   "metadata": {
    "ExecuteTime": {
     "end_time": "2024-04-04T09:03:08.521266Z",
     "start_time": "2024-04-04T09:03:08.507267Z"
    }
   },
   "outputs": [],
   "source": [
    "def score(y_true, y_pred):\n",
    "    mse = mean_squared_error(y_true, y_pred)\n",
    "    rmse = np.sqrt(mse)\n",
    "    return 1 / (1 + rmse)"
   ]
  },
  {
   "cell_type": "markdown",
   "metadata": {},
   "source": [
    "<h3>lightgbm模型</h3>"
   ]
  },
  {
   "cell_type": "code",
   "execution_count": 35,
   "metadata": {
    "ExecuteTime": {
     "end_time": "2024-04-04T09:03:08.536266Z",
     "start_time": "2024-04-04T09:03:08.522267Z"
    }
   },
   "outputs": [],
   "source": [
    "params_lgb = {\n",
    "    \"num_boost_round\": 1000,\n",
    "    'learning_rate': 0.02,\n",
    "    'boosting_type': 'gbdt',\n",
    "    'objective': 'mse',\n",
    "    'metric': 'rmse',\n",
    "    'num_leaves': 127,\n",
    "    'verbose': -1,\n",
    "    'seed': 42,\n",
    "    'n_jobs': -1,\n",
    "    'feature_fraction': 0.8,\n",
    "    'bagging_fraction': 0.9,\n",
    "    'bagging_freq': 4,\n",
    "    \"early_stopping_round\": 100\n",
    "}\n",
    "model_lgb = []"
   ]
  },
  {
   "cell_type": "markdown",
   "metadata": {},
   "source": [
    "<h3>xgboost模型</h3>"
   ]
  },
  {
   "cell_type": "code",
   "execution_count": 36,
   "metadata": {
    "ExecuteTime": {
     "end_time": "2024-04-04T09:03:08.552109Z",
     "start_time": "2024-04-04T09:03:08.537267Z"
    }
   },
   "outputs": [],
   "source": [
    "params_xgb = {\n",
    "    \"num_boost_round\": 500,\n",
    "    \"learning_rate\": 0.02,\n",
    "    \"booster\": \"gbtree\",\n",
    "    \"objective\": \"reg:squarederror\",\n",
    "    \"eval_metric\": \"rmse\",\n",
    "    \"max_leaves\": 127,\n",
    "    \"verbosity\": 1,\n",
    "    \"seed\": 42,\n",
    "    \"nthread\": -1,\n",
    "    \"colsample_bytree\": 0.6,\n",
    "    \"subsample\": 0.7,\n",
    "    \"early_stopping_rounds\": 100\n",
    "}\n",
    "model_xgb = []"
   ]
  },
  {
   "cell_type": "markdown",
   "metadata": {},
   "source": [
    "<h3>交叉验证</h3>"
   ]
  },
  {
   "cell_type": "code",
   "execution_count": 37,
   "metadata": {
    "ExecuteTime": {
     "end_time": "2024-04-04T09:06:02.872038Z",
     "start_time": "2024-04-04T09:03:08.553112Z"
    },
    "scrolled": false
   },
   "outputs": [
    {
     "name": "stderr",
     "output_type": "stream",
     "text": [
      "2024-04-04 17:03:08,692 : INFO : ############ fold: 0 ###########\n",
      "c:\\program files\\python37\\lib\\site-packages\\lightgbm\\engine.py:177: UserWarning: Found `num_boost_round` in params. Will use it instead of argument\n",
      "  _log_warning(f\"Found `{alias}` in params. Will use it instead of argument\")\n",
      "c:\\program files\\python37\\lib\\site-packages\\lightgbm\\basic.py:2068: UserWarning: categorical_feature in Dataset is overridden.\n",
      "New categorical_feature is ['分']\n",
      "  _log_warning('categorical_feature in Dataset is overridden.\\n'\n",
      "c:\\program files\\python37\\lib\\site-packages\\lightgbm\\basic.py:1780: UserWarning: Overriding the parameters from Reference Dataset.\n",
      "  _log_warning('Overriding the parameters from Reference Dataset.')\n",
      "c:\\program files\\python37\\lib\\site-packages\\lightgbm\\basic.py:1513: UserWarning: categorical_column in param dict is overridden.\n",
      "  _log_warning(f'{cat_alias} in param dict is overridden.')\n"
     ]
    },
    {
     "name": "stdout",
     "output_type": "stream",
     "text": [
      "[1000]\ttraining's rmse: 0.108134\tvalid_1's rmse: 0.144634\n",
      "[17:03:16] WARNING: C:/Users/Administrator/workspace/xgboost-win64_release_1.6.0/src/learner.cc:627: \n",
      "Parameters: { \"early_stopping_rounds\", \"num_boost_round\" } might not be used.\n",
      "\n",
      "  This could be a false alarm, with some parameters getting used by language bindings but\n",
      "  then being mistakenly passed down to XGBoost core, or some parameter actually being used\n",
      "  but getting flagged wrongly here. Please open an issue if you find any such cases.\n",
      "\n",
      "\n",
      "[0]\ttrain-rmse:0.53714\teval-rmse:0.53843\n",
      "[499]\ttrain-rmse:0.16012\teval-rmse:0.16795\n"
     ]
    },
    {
     "name": "stderr",
     "output_type": "stream",
     "text": [
      "2024-04-04 17:03:44,059 : INFO : ############ fold: 1 ###########\n",
      "c:\\program files\\python37\\lib\\site-packages\\lightgbm\\engine.py:177: UserWarning: Found `num_boost_round` in params. Will use it instead of argument\n",
      "  _log_warning(f\"Found `{alias}` in params. Will use it instead of argument\")\n",
      "c:\\program files\\python37\\lib\\site-packages\\lightgbm\\basic.py:2068: UserWarning: categorical_feature in Dataset is overridden.\n",
      "New categorical_feature is ['分']\n",
      "  _log_warning('categorical_feature in Dataset is overridden.\\n'\n",
      "c:\\program files\\python37\\lib\\site-packages\\lightgbm\\basic.py:1780: UserWarning: Overriding the parameters from Reference Dataset.\n",
      "  _log_warning('Overriding the parameters from Reference Dataset.')\n",
      "c:\\program files\\python37\\lib\\site-packages\\lightgbm\\basic.py:1513: UserWarning: categorical_column in param dict is overridden.\n",
      "  _log_warning(f'{cat_alias} in param dict is overridden.')\n"
     ]
    },
    {
     "name": "stdout",
     "output_type": "stream",
     "text": [
      "[1000]\ttraining's rmse: 0.108958\tvalid_1's rmse: 0.141522\n",
      "[17:03:52] WARNING: C:/Users/Administrator/workspace/xgboost-win64_release_1.6.0/src/learner.cc:627: \n",
      "Parameters: { \"early_stopping_rounds\", \"num_boost_round\" } might not be used.\n",
      "\n",
      "  This could be a false alarm, with some parameters getting used by language bindings but\n",
      "  then being mistakenly passed down to XGBoost core, or some parameter actually being used\n",
      "  but getting flagged wrongly here. Please open an issue if you find any such cases.\n",
      "\n",
      "\n",
      "[0]\ttrain-rmse:0.53780\teval-rmse:0.53585\n",
      "[499]\ttrain-rmse:0.16076\teval-rmse:0.16501\n"
     ]
    },
    {
     "name": "stderr",
     "output_type": "stream",
     "text": [
      "2024-04-04 17:04:19,090 : INFO : ############ fold: 2 ###########\n",
      "c:\\program files\\python37\\lib\\site-packages\\lightgbm\\engine.py:177: UserWarning: Found `num_boost_round` in params. Will use it instead of argument\n",
      "  _log_warning(f\"Found `{alias}` in params. Will use it instead of argument\")\n",
      "c:\\program files\\python37\\lib\\site-packages\\lightgbm\\basic.py:2068: UserWarning: categorical_feature in Dataset is overridden.\n",
      "New categorical_feature is ['分']\n",
      "  _log_warning('categorical_feature in Dataset is overridden.\\n'\n",
      "c:\\program files\\python37\\lib\\site-packages\\lightgbm\\basic.py:1780: UserWarning: Overriding the parameters from Reference Dataset.\n",
      "  _log_warning('Overriding the parameters from Reference Dataset.')\n",
      "c:\\program files\\python37\\lib\\site-packages\\lightgbm\\basic.py:1513: UserWarning: categorical_column in param dict is overridden.\n",
      "  _log_warning(f'{cat_alias} in param dict is overridden.')\n"
     ]
    },
    {
     "name": "stdout",
     "output_type": "stream",
     "text": [
      "[1000]\ttraining's rmse: 0.109189\tvalid_1's rmse: 0.141008\n",
      "[17:04:26] WARNING: C:/Users/Administrator/workspace/xgboost-win64_release_1.6.0/src/learner.cc:627: \n",
      "Parameters: { \"early_stopping_rounds\", \"num_boost_round\" } might not be used.\n",
      "\n",
      "  This could be a false alarm, with some parameters getting used by language bindings but\n",
      "  then being mistakenly passed down to XGBoost core, or some parameter actually being used\n",
      "  but getting flagged wrongly here. Please open an issue if you find any such cases.\n",
      "\n",
      "\n",
      "[0]\ttrain-rmse:0.53752\teval-rmse:0.53673\n",
      "[499]\ttrain-rmse:0.16058\teval-rmse:0.16476\n"
     ]
    },
    {
     "name": "stderr",
     "output_type": "stream",
     "text": [
      "2024-04-04 17:04:53,264 : INFO : ############ fold: 3 ###########\n",
      "c:\\program files\\python37\\lib\\site-packages\\lightgbm\\engine.py:177: UserWarning: Found `num_boost_round` in params. Will use it instead of argument\n",
      "  _log_warning(f\"Found `{alias}` in params. Will use it instead of argument\")\n",
      "c:\\program files\\python37\\lib\\site-packages\\lightgbm\\basic.py:2068: UserWarning: categorical_feature in Dataset is overridden.\n",
      "New categorical_feature is ['分']\n",
      "  _log_warning('categorical_feature in Dataset is overridden.\\n'\n",
      "c:\\program files\\python37\\lib\\site-packages\\lightgbm\\basic.py:1780: UserWarning: Overriding the parameters from Reference Dataset.\n",
      "  _log_warning('Overriding the parameters from Reference Dataset.')\n",
      "c:\\program files\\python37\\lib\\site-packages\\lightgbm\\basic.py:1513: UserWarning: categorical_column in param dict is overridden.\n",
      "  _log_warning(f'{cat_alias} in param dict is overridden.')\n"
     ]
    },
    {
     "name": "stdout",
     "output_type": "stream",
     "text": [
      "[1000]\ttraining's rmse: 0.10874\tvalid_1's rmse: 0.141187\n",
      "[17:05:00] WARNING: C:/Users/Administrator/workspace/xgboost-win64_release_1.6.0/src/learner.cc:627: \n",
      "Parameters: { \"early_stopping_rounds\", \"num_boost_round\" } might not be used.\n",
      "\n",
      "  This could be a false alarm, with some parameters getting used by language bindings but\n",
      "  then being mistakenly passed down to XGBoost core, or some parameter actually being used\n",
      "  but getting flagged wrongly here. Please open an issue if you find any such cases.\n",
      "\n",
      "\n",
      "[0]\ttrain-rmse:0.53725\teval-rmse:0.53796\n",
      "[499]\ttrain-rmse:0.15998\teval-rmse:0.16506\n"
     ]
    },
    {
     "name": "stderr",
     "output_type": "stream",
     "text": [
      "2024-04-04 17:05:27,634 : INFO : ############ fold: 4 ###########\n",
      "c:\\program files\\python37\\lib\\site-packages\\lightgbm\\engine.py:177: UserWarning: Found `num_boost_round` in params. Will use it instead of argument\n",
      "  _log_warning(f\"Found `{alias}` in params. Will use it instead of argument\")\n",
      "c:\\program files\\python37\\lib\\site-packages\\lightgbm\\basic.py:2068: UserWarning: categorical_feature in Dataset is overridden.\n",
      "New categorical_feature is ['分']\n",
      "  _log_warning('categorical_feature in Dataset is overridden.\\n'\n",
      "c:\\program files\\python37\\lib\\site-packages\\lightgbm\\basic.py:1780: UserWarning: Overriding the parameters from Reference Dataset.\n",
      "  _log_warning('Overriding the parameters from Reference Dataset.')\n",
      "c:\\program files\\python37\\lib\\site-packages\\lightgbm\\basic.py:1513: UserWarning: categorical_column in param dict is overridden.\n",
      "  _log_warning(f'{cat_alias} in param dict is overridden.')\n"
     ]
    },
    {
     "name": "stdout",
     "output_type": "stream",
     "text": [
      "[1000]\ttraining's rmse: 0.108836\tvalid_1's rmse: 0.14536\n",
      "[17:05:35] WARNING: C:/Users/Administrator/workspace/xgboost-win64_release_1.6.0/src/learner.cc:627: \n",
      "Parameters: { \"early_stopping_rounds\", \"num_boost_round\" } might not be used.\n",
      "\n",
      "  This could be a false alarm, with some parameters getting used by language bindings but\n",
      "  then being mistakenly passed down to XGBoost core, or some parameter actually being used\n",
      "  but getting flagged wrongly here. Please open an issue if you find any such cases.\n",
      "\n",
      "\n",
      "[0]\ttrain-rmse:0.53723\teval-rmse:0.53802\n",
      "[499]\ttrain-rmse:0.15931\teval-rmse:0.16908\n"
     ]
    },
    {
     "name": "stderr",
     "output_type": "stream",
     "text": [
      "2024-04-04 17:06:02,864 : INFO : --------------本地分数 0.867913867926246--------------\n"
     ]
    }
   ],
   "source": [
    "kfold = KFold(n_splits=5, random_state=42, shuffle=True)\n",
    "\n",
    "x = df_train.drop(columns=[\"光伏用户编号\", \"时间\"]).dropna().astype(np.float32)\n",
    "y = x.pop(\"target\")\n",
    "mse = 0\n",
    "for fold, (train_index, val_index) in enumerate(kfold.split(x, y)):\n",
    "    logging.info(f'############ fold: {fold} ###########')\n",
    "    x_train, x_val, y_train, y_val = x.iloc[train_index], x.iloc[val_index], y.iloc[train_index], y.iloc[val_index]\n",
    "    \n",
    "    trainset = Dataset(x_train, y_train)\n",
    "    valset = Dataset(x_val, y_val)\n",
    "    model = lgb.train(params_lgb, trainset, valid_sets=[trainset, valset], categorical_feature=[\"分\"], callbacks=[lgb.log_evaluation(1000)])\n",
    "    model.save_model(\"../models/lgb_%d.txt\" % fold)\n",
    "    model_lgb.append(model)\n",
    "    lgb_pred = Series(model.predict(x_val, num_iteration=model.best_iteration), index=y_val.index).fillna(0)\n",
    "    \n",
    "    trainset = DMatrix(x_train, y_train, enable_categorical=True, nthread=-1)\n",
    "    valset = DMatrix(x_val, y_val, enable_categorical=True, nthread=-1)\n",
    "    model = xgb.train(params_xgb, trainset, evals=[(trainset, 'train'),(valset, 'eval')], num_boost_round=params_xgb[\"num_boost_round\"], early_stopping_rounds=params_xgb[\"early_stopping_rounds\"], verbose_eval=1000)\n",
    "    model.save_model(\"../models/xgb_%d.json\" % fold)\n",
    "    model_xgb.append(model)\n",
    "    xgb_pred = Series(model.predict(valset, iteration_range=(0, model.best_ntree_limit)), index=y_val.index).fillna(0)\n",
    "    \n",
    "    val_pred = (lgb_pred + xgb_pred) / 2\n",
    "    mse += mean_squared_error(y_val.fillna(0), val_pred)\n",
    "rmse = np.sqrt(mse / kfold.n_splits)\n",
    "score = 1 / (1 + rmse)\n",
    "logging.info(f\"--------------本地分数 {score}--------------\")"
   ]
  },
  {
   "cell_type": "code",
   "execution_count": 38,
   "metadata": {
    "ExecuteTime": {
     "end_time": "2024-04-04T09:06:02.888038Z",
     "start_time": "2024-04-04T09:06:02.873038Z"
    }
   },
   "outputs": [
    {
     "data": {
      "text/html": [
       "<div>\n",
       "<style scoped>\n",
       "    .dataframe tbody tr th:only-of-type {\n",
       "        vertical-align: middle;\n",
       "    }\n",
       "\n",
       "    .dataframe tbody tr th {\n",
       "        vertical-align: top;\n",
       "    }\n",
       "\n",
       "    .dataframe thead th {\n",
       "        text-align: right;\n",
       "    }\n",
       "</style>\n",
       "<table border=\"1\" class=\"dataframe\">\n",
       "  <thead>\n",
       "    <tr style=\"text-align: right;\">\n",
       "      <th></th>\n",
       "      <th>特征</th>\n",
       "      <th>重要性</th>\n",
       "    </tr>\n",
       "  </thead>\n",
       "  <tbody>\n",
       "    <tr>\n",
       "      <th>0</th>\n",
       "      <td>气压(Pa）</td>\n",
       "      <td>6871.8</td>\n",
       "    </tr>\n",
       "    <tr>\n",
       "      <th>53</th>\n",
       "      <td>辐照强度（J/m2）_mean</td>\n",
       "      <td>6561.8</td>\n",
       "    </tr>\n",
       "    <tr>\n",
       "      <th>37</th>\n",
       "      <td>日</td>\n",
       "      <td>4908.4</td>\n",
       "    </tr>\n",
       "    <tr>\n",
       "      <th>27</th>\n",
       "      <td>diffuse_radiation_archive_best_match_(W/m²)</td>\n",
       "      <td>4552.8</td>\n",
       "    </tr>\n",
       "    <tr>\n",
       "      <th>2</th>\n",
       "      <td>云量</td>\n",
       "      <td>4534.0</td>\n",
       "    </tr>\n",
       "    <tr>\n",
       "      <th>1</th>\n",
       "      <td>相对湿度（%）</td>\n",
       "      <td>4235.4</td>\n",
       "    </tr>\n",
       "    <tr>\n",
       "      <th>39</th>\n",
       "      <td>分</td>\n",
       "      <td>3976.2</td>\n",
       "    </tr>\n",
       "    <tr>\n",
       "      <th>19</th>\n",
       "      <td>precipitation_sum_(mm)</td>\n",
       "      <td>3941.0</td>\n",
       "    </tr>\n",
       "    <tr>\n",
       "      <th>55</th>\n",
       "      <td>与当天最低温度之差</td>\n",
       "      <td>3904.2</td>\n",
       "    </tr>\n",
       "    <tr>\n",
       "      <th>16</th>\n",
       "      <td>temperature_2m_max_(°C)</td>\n",
       "      <td>3900.6</td>\n",
       "    </tr>\n",
       "    <tr>\n",
       "      <th>50</th>\n",
       "      <td>辐照强度（J/m2）_-_1</td>\n",
       "      <td>3839.8</td>\n",
       "    </tr>\n",
       "    <tr>\n",
       "      <th>17</th>\n",
       "      <td>temperature_2m_min_(°C)</td>\n",
       "      <td>3804.0</td>\n",
       "    </tr>\n",
       "    <tr>\n",
       "      <th>51</th>\n",
       "      <td>辐照强度（J/m2）_-_8</td>\n",
       "      <td>3353.4</td>\n",
       "    </tr>\n",
       "    <tr>\n",
       "      <th>10</th>\n",
       "      <td>装机容量(kW)</td>\n",
       "      <td>3351.6</td>\n",
       "    </tr>\n",
       "    <tr>\n",
       "      <th>3</th>\n",
       "      <td>10米风速（10m/s）</td>\n",
       "      <td>3351.2</td>\n",
       "    </tr>\n",
       "    <tr>\n",
       "      <th>23</th>\n",
       "      <td>apparent_temperature_min_(°C)</td>\n",
       "      <td>3259.2</td>\n",
       "    </tr>\n",
       "    <tr>\n",
       "      <th>22</th>\n",
       "      <td>apparent_temperature_max_(°C)</td>\n",
       "      <td>3257.6</td>\n",
       "    </tr>\n",
       "    <tr>\n",
       "      <th>38</th>\n",
       "      <td>周</td>\n",
       "      <td>3234.2</td>\n",
       "    </tr>\n",
       "    <tr>\n",
       "      <th>4</th>\n",
       "      <td>10米风向（°)</td>\n",
       "      <td>3138.4</td>\n",
       "    </tr>\n",
       "    <tr>\n",
       "      <th>9</th>\n",
       "      <td>100m风向（°)</td>\n",
       "      <td>3086.8</td>\n",
       "    </tr>\n",
       "    <tr>\n",
       "      <th>8</th>\n",
       "      <td>100m风速（100m/s）</td>\n",
       "      <td>3021.8</td>\n",
       "    </tr>\n",
       "    <tr>\n",
       "      <th>18</th>\n",
       "      <td>temperature_2m_mean_(°C)</td>\n",
       "      <td>3015.6</td>\n",
       "    </tr>\n",
       "    <tr>\n",
       "      <th>54</th>\n",
       "      <td>与当天最高温度之差</td>\n",
       "      <td>2864.2</td>\n",
       "    </tr>\n",
       "    <tr>\n",
       "      <th>24</th>\n",
       "      <td>apparent_temperature_mean_(°C)</td>\n",
       "      <td>2825.4</td>\n",
       "    </tr>\n",
       "    <tr>\n",
       "      <th>30</th>\n",
       "      <td>terrestrial_radiation_archive_best_match_(W/m²)</td>\n",
       "      <td>2818.8</td>\n",
       "    </tr>\n",
       "    <tr>\n",
       "      <th>28</th>\n",
       "      <td>direct_normal_irradiance_archive_best_match_(W...</td>\n",
       "      <td>2743.0</td>\n",
       "    </tr>\n",
       "    <tr>\n",
       "      <th>52</th>\n",
       "      <td>光照/当天最强光照</td>\n",
       "      <td>2702.8</td>\n",
       "    </tr>\n",
       "    <tr>\n",
       "      <th>5</th>\n",
       "      <td>温度（K）</td>\n",
       "      <td>2637.0</td>\n",
       "    </tr>\n",
       "    <tr>\n",
       "      <th>33</th>\n",
       "      <td>日落时间-时间</td>\n",
       "      <td>2091.4</td>\n",
       "    </tr>\n",
       "    <tr>\n",
       "      <th>32</th>\n",
       "      <td>时间-日出时间</td>\n",
       "      <td>1929.6</td>\n",
       "    </tr>\n",
       "    <tr>\n",
       "      <th>26</th>\n",
       "      <td>direct_radiation_archive_best_match_(W/m²)</td>\n",
       "      <td>1911.8</td>\n",
       "    </tr>\n",
       "    <tr>\n",
       "      <th>6</th>\n",
       "      <td>辐照强度（J/m2）</td>\n",
       "      <td>1886.4</td>\n",
       "    </tr>\n",
       "    <tr>\n",
       "      <th>49</th>\n",
       "      <td>光照/温度</td>\n",
       "      <td>1837.4</td>\n",
       "    </tr>\n",
       "    <tr>\n",
       "      <th>15</th>\n",
       "      <td>weather_code_archive_best_match_(wmo_code)</td>\n",
       "      <td>1757.6</td>\n",
       "    </tr>\n",
       "    <tr>\n",
       "      <th>11</th>\n",
       "      <td>经度</td>\n",
       "      <td>1613.8</td>\n",
       "    </tr>\n",
       "    <tr>\n",
       "      <th>25</th>\n",
       "      <td>shortwave_radiation_archive_best_match_(W/m²)</td>\n",
       "      <td>1559.8</td>\n",
       "    </tr>\n",
       "    <tr>\n",
       "      <th>7</th>\n",
       "      <td>降水（m）</td>\n",
       "      <td>1189.2</td>\n",
       "    </tr>\n",
       "    <tr>\n",
       "      <th>12</th>\n",
       "      <td>纬度</td>\n",
       "      <td>963.4</td>\n",
       "    </tr>\n",
       "    <tr>\n",
       "      <th>20</th>\n",
       "      <td>rain_sum_(mm)</td>\n",
       "      <td>855.8</td>\n",
       "    </tr>\n",
       "    <tr>\n",
       "      <th>14</th>\n",
       "      <td>sunshine_duration_archive_best_match_(s)</td>\n",
       "      <td>730.4</td>\n",
       "    </tr>\n",
       "    <tr>\n",
       "      <th>36</th>\n",
       "      <td>月</td>\n",
       "      <td>670.6</td>\n",
       "    </tr>\n",
       "    <tr>\n",
       "      <th>40</th>\n",
       "      <td>光伏用户编号_f1</td>\n",
       "      <td>642.8</td>\n",
       "    </tr>\n",
       "    <tr>\n",
       "      <th>13</th>\n",
       "      <td>综合倍率</td>\n",
       "      <td>611.6</td>\n",
       "    </tr>\n",
       "    <tr>\n",
       "      <th>41</th>\n",
       "      <td>光伏用户编号_f2</td>\n",
       "      <td>423.0</td>\n",
       "    </tr>\n",
       "    <tr>\n",
       "      <th>35</th>\n",
       "      <td>季节</td>\n",
       "      <td>394.8</td>\n",
       "    </tr>\n",
       "    <tr>\n",
       "      <th>43</th>\n",
       "      <td>光伏用户编号_f4</td>\n",
       "      <td>389.8</td>\n",
       "    </tr>\n",
       "    <tr>\n",
       "      <th>29</th>\n",
       "      <td>global_tilted_irradiance_archive_best_match_(W...</td>\n",
       "      <td>264.4</td>\n",
       "    </tr>\n",
       "    <tr>\n",
       "      <th>47</th>\n",
       "      <td>光伏用户编号_f8</td>\n",
       "      <td>194.6</td>\n",
       "    </tr>\n",
       "    <tr>\n",
       "      <th>42</th>\n",
       "      <td>光伏用户编号_f3</td>\n",
       "      <td>190.2</td>\n",
       "    </tr>\n",
       "    <tr>\n",
       "      <th>34</th>\n",
       "      <td>年</td>\n",
       "      <td>173.6</td>\n",
       "    </tr>\n",
       "  </tbody>\n",
       "</table>\n",
       "</div>"
      ],
      "text/plain": [
       "                                                   特征     重要性\n",
       "0                                              气压(Pa）  6871.8\n",
       "53                                    辐照强度（J/m2）_mean  6561.8\n",
       "37                                                  日  4908.4\n",
       "27        diffuse_radiation_archive_best_match_(W/m²)  4552.8\n",
       "2                                                  云量  4534.0\n",
       "1                                             相对湿度（%）  4235.4\n",
       "39                                                  分  3976.2\n",
       "19                             precipitation_sum_(mm)  3941.0\n",
       "55                                          与当天最低温度之差  3904.2\n",
       "16                            temperature_2m_max_(°C)  3900.6\n",
       "50                                     辐照强度（J/m2）_-_1  3839.8\n",
       "17                            temperature_2m_min_(°C)  3804.0\n",
       "51                                     辐照强度（J/m2）_-_8  3353.4\n",
       "10                                           装机容量(kW)  3351.6\n",
       "3                                        10米风速（10m/s）  3351.2\n",
       "23                      apparent_temperature_min_(°C)  3259.2\n",
       "22                      apparent_temperature_max_(°C)  3257.6\n",
       "38                                                  周  3234.2\n",
       "4                                            10米风向（°)  3138.4\n",
       "9                                           100m风向（°)  3086.8\n",
       "8                                      100m风速（100m/s）  3021.8\n",
       "18                           temperature_2m_mean_(°C)  3015.6\n",
       "54                                          与当天最高温度之差  2864.2\n",
       "24                     apparent_temperature_mean_(°C)  2825.4\n",
       "30    terrestrial_radiation_archive_best_match_(W/m²)  2818.8\n",
       "28  direct_normal_irradiance_archive_best_match_(W...  2743.0\n",
       "52                                          光照/当天最强光照  2702.8\n",
       "5                                               温度（K）  2637.0\n",
       "33                                            日落时间-时间  2091.4\n",
       "32                                            时间-日出时间  1929.6\n",
       "26         direct_radiation_archive_best_match_(W/m²)  1911.8\n",
       "6                                          辐照强度（J/m2）  1886.4\n",
       "49                                              光照/温度  1837.4\n",
       "15         weather_code_archive_best_match_(wmo_code)  1757.6\n",
       "11                                                 经度  1613.8\n",
       "25      shortwave_radiation_archive_best_match_(W/m²)  1559.8\n",
       "7                                               降水（m）  1189.2\n",
       "12                                                 纬度   963.4\n",
       "20                                      rain_sum_(mm)   855.8\n",
       "14           sunshine_duration_archive_best_match_(s)   730.4\n",
       "36                                                  月   670.6\n",
       "40                                          光伏用户编号_f1   642.8\n",
       "13                                               综合倍率   611.6\n",
       "41                                          光伏用户编号_f2   423.0\n",
       "35                                                 季节   394.8\n",
       "43                                          光伏用户编号_f4   389.8\n",
       "29  global_tilted_irradiance_archive_best_match_(W...   264.4\n",
       "47                                          光伏用户编号_f8   194.6\n",
       "42                                          光伏用户编号_f3   190.2\n",
       "34                                                  年   173.6"
      ]
     },
     "execution_count": 38,
     "metadata": {},
     "output_type": "execute_result"
    }
   ],
   "source": [
    "importance = DataFrame()\n",
    "importance[\"特征\"] = model_lgb[0].feature_name()\n",
    "importance[\"重要性\"] = 0\n",
    "for model in model_lgb:\n",
    "    importance[\"重要性\"] = importance[\"重要性\"] + model.feature_importance()\n",
    "importance[\"重要性\"] = importance[\"重要性\"] / kfold.n_splits\n",
    "importance.sort_values(\"重要性\", ascending=False)[0:50]"
   ]
  },
  {
   "cell_type": "markdown",
   "metadata": {},
   "source": [
    "<h2>预测</h2>"
   ]
  },
  {
   "cell_type": "code",
   "execution_count": 39,
   "metadata": {
    "ExecuteTime": {
     "end_time": "2024-04-04T09:06:04.032159Z",
     "start_time": "2024-04-04T09:06:02.889038Z"
    }
   },
   "outputs": [
    {
     "name": "stderr",
     "output_type": "stream",
     "text": [
      "c:\\program files\\python37\\lib\\site-packages\\ipykernel_launcher.py:8: SettingWithCopyWarning: \n",
      "A value is trying to be set on a copy of a slice from a DataFrame.\n",
      "Try using .loc[row_indexer,col_indexer] = value instead\n",
      "\n",
      "See the caveats in the documentation: https://pandas.pydata.org/pandas-docs/stable/user_guide/indexing.html#returning-a-view-versus-a-copy\n",
      "  \n"
     ]
    }
   ],
   "source": [
    "x_test = df_test.drop(columns=[\"光伏用户编号\", \"时间\"]).astype(np.float32)\n",
    "y_test = x_test.pop(\"target\")\n",
    "y_pred = np.zeros((df_test.shape[0], ))\n",
    "for i in range(0, kfold.n_splits):\n",
    "    y_pred += model_lgb[i].predict(x_test, num_iteration=model_lgb[i].best_iteration)\n",
    "    y_pred += model_xgb[i].predict(DMatrix(x_test, enable_categorical=True, nthread=-1), iteration_range=(0, model_xgb[i].best_ntree_limit))\n",
    "y_pred = y_pred / 2 / kfold.n_splits\n",
    "df_test[\"target\"] = y_pred"
   ]
  },
  {
   "cell_type": "code",
   "execution_count": 40,
   "metadata": {
    "ExecuteTime": {
     "end_time": "2024-04-04T09:06:04.160160Z",
     "start_time": "2024-04-04T09:06:04.033159Z"
    }
   },
   "outputs": [],
   "source": [
    "df_test = df_test[[\"光伏用户编号\", \"综合倍率\", \"年\", \"月\", \"日\", \"分\", \"target\"]]\n",
    "df_test[\"时间\"] = df_test[\"年\"].astype(str) + \"-\" + df_test[\"月\"].astype(str) + \"-\" + df_test[\"日\"].astype(str) + \" 0:00\"\n",
    "df_test[\"分\"] = \"p\" + (df_test[\"分\"].astype(int) + 1).astype(str)\n",
    "df_test = df_test.drop(columns=[\"年\", \"月\", \"日\"])"
   ]
  },
  {
   "cell_type": "code",
   "execution_count": 41,
   "metadata": {
    "ExecuteTime": {
     "end_time": "2024-04-04T09:06:04.192160Z",
     "start_time": "2024-04-04T09:06:04.161160Z"
    }
   },
   "outputs": [],
   "source": [
    "result = pd.pivot(df_test, index=[\"光伏用户编号\", \"综合倍率\", \"时间\"], columns=\"分\", values=\"target\").reset_index()\n",
    "result = result[result[\"综合倍率\"].notnull()]\n",
    "result[\"综合倍率\"] = result[\"综合倍率\"].astype(int)"
   ]
  },
  {
   "cell_type": "code",
   "execution_count": 42,
   "metadata": {
    "ExecuteTime": {
     "end_time": "2024-04-04T09:06:04.256160Z",
     "start_time": "2024-04-04T09:06:04.193160Z"
    }
   },
   "outputs": [],
   "source": [
    "result.to_csv(\"../data/%s.csv\" % datetime.now().strftime(\"%Y%m%d_%H%M%S\"), encoding=\"utf-8\", index=False)"
   ]
  },
  {
   "cell_type": "code",
   "execution_count": null,
   "metadata": {},
   "outputs": [],
   "source": []
  }
 ],
 "metadata": {
  "kernelspec": {
   "display_name": "Python 3",
   "language": "python",
   "name": "python3"
  },
  "language_info": {
   "codemirror_mode": {
    "name": "ipython",
    "version": 3
   },
   "file_extension": ".py",
   "mimetype": "text/x-python",
   "name": "python",
   "nbconvert_exporter": "python",
   "pygments_lexer": "ipython3",
   "version": "3.7.3"
  },
  "toc": {
   "base_numbering": 1,
   "nav_menu": {},
   "number_sections": true,
   "sideBar": true,
   "skip_h1_title": false,
   "title_cell": "Table of Contents",
   "title_sidebar": "Contents",
   "toc_cell": false,
   "toc_position": {
    "height": "calc(100% - 180px)",
    "left": "10px",
    "top": "150px",
    "width": "211.52px"
   },
   "toc_section_display": true,
   "toc_window_display": true
  },
  "varInspector": {
   "cols": {
    "lenName": 16,
    "lenType": 16,
    "lenVar": 40
   },
   "kernels_config": {
    "python": {
     "delete_cmd_postfix": "",
     "delete_cmd_prefix": "del ",
     "library": "var_list.py",
     "varRefreshCmd": "print(var_dic_list())"
    },
    "r": {
     "delete_cmd_postfix": ") ",
     "delete_cmd_prefix": "rm(",
     "library": "var_list.r",
     "varRefreshCmd": "cat(var_dic_list()) "
    }
   },
   "position": {
    "height": "244.83px",
    "left": "1957.27px",
    "right": "20px",
    "top": "120px",
    "width": "350px"
   },
   "types_to_exclude": [
    "module",
    "function",
    "builtin_function_or_method",
    "instance",
    "_Feature"
   ],
   "window_display": true
  }
 },
 "nbformat": 4,
 "nbformat_minor": 4
}
