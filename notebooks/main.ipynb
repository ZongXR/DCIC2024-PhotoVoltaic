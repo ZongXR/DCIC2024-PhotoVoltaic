{
 "cells": [
  {
   "cell_type": "markdown",
   "metadata": {},
   "source": [
    "<h2>导入包</h2>"
   ]
  },
  {
   "cell_type": "code",
   "execution_count": 46,
   "metadata": {
    "ExecuteTime": {
     "end_time": "2024-03-07T08:06:20.421813Z",
     "start_time": "2024-03-07T08:06:20.411800Z"
    }
   },
   "outputs": [],
   "source": [
    "import logging\n",
    "from datetime import datetime\n",
    "import numpy as np\n",
    "import pandas as pd\n",
    "from pandas import Series\n",
    "from sklearn.model_selection import train_test_split\n",
    "from sklearn.model_selection import StratifiedKFold, KFold\n",
    "from sklearn.metrics import mean_squared_error\n",
    "import lightgbm as lgb\n",
    "from lightgbm import Dataset\n",
    "\n",
    "\n",
    "logging.basicConfig(format='%(asctime)s : %(levelname)s : %(message)s', level=logging.INFO)"
   ]
  },
  {
   "cell_type": "markdown",
   "metadata": {},
   "source": [
    "<h2>读取数据</h2>"
   ]
  },
  {
   "cell_type": "code",
   "execution_count": 47,
   "metadata": {
    "ExecuteTime": {
     "end_time": "2024-03-07T08:06:20.789817Z",
     "start_time": "2024-03-07T08:06:20.423819Z"
    }
   },
   "outputs": [],
   "source": [
    "x_train = pd.read_csv(\"../data/A榜-训练集_分布式光伏发电预测_气象变量数据.csv\", encoding=\"gbk\")\n",
    "y_train = pd.read_csv(\"../data/A榜-训练集_分布式光伏发电预测_实际功率数据.csv\", encoding=\"gbk\")\n",
    "info_train = pd.read_csv(\"../data/A榜-训练集_分布式光伏发电预测_基本信息.csv\", encoding=\"gbk\")\n",
    "x_test = pd.read_csv(\"../data/A榜-测试集_分布式光伏发电预测_气象变量数据.csv\", encoding=\"gbk\")\n",
    "y_test = pd.read_csv(\"../data/submit_example.csv\", encoding=\"utf-8\")\n",
    "info_test = pd.read_csv(\"../data/A榜-测试集_分布式光伏发电预测_基本信息.csv\", encoding=\"gbk\")"
   ]
  },
  {
   "cell_type": "code",
   "execution_count": 48,
   "metadata": {
    "ExecuteTime": {
     "end_time": "2024-03-07T08:06:20.965838Z",
     "start_time": "2024-03-07T08:06:20.790817Z"
    }
   },
   "outputs": [],
   "source": [
    "x_train = pd.merge(x_train, info_train[[\"光伏用户编号\", \"装机容量(kW)\", \"经度\", \"纬度\"]], how=\"left\", on=\"光伏用户编号\")\n",
    "x_train[\"时间\"] = pd.to_datetime(x_train[\"时间\"])\n",
    "x_test = pd.merge(x_test, info_test[[\"光伏用户编号\", \"装机容量(kW)\", \"经度\", \"纬度\"]], how=\"left\", on=\"光伏用户编号\")\n",
    "x_test[\"时间\"] = pd.to_datetime(x_test[\"时间\"])"
   ]
  },
  {
   "cell_type": "code",
   "execution_count": 49,
   "metadata": {
    "ExecuteTime": {
     "end_time": "2024-03-07T08:06:21.141838Z",
     "start_time": "2024-03-07T08:06:20.967838Z"
    }
   },
   "outputs": [],
   "source": [
    "y_train = y_train.set_index([\"光伏用户编号\", \"综合倍率\", \"时间\"]).stack().reset_index().rename(columns={0:\"target\"})\n",
    "y_train[\"level_3\"] = y_train[\"level_3\"].apply(lambda x: int(x[1:]))\n",
    "y_train[\"时间\"] = pd.to_datetime(y_train[\"时间\"])\n",
    "y_train[\"时间\"] = y_train[\"时间\"] + (y_train[\"level_3\"] - 1) * 15 * pd.Timedelta(1, unit=\"minutes\")\n",
    "y_train = y_train.drop(columns=[\"level_3\"])\n",
    "\n",
    "y_test = y_test.set_index([\"光伏用户编号\", \"综合倍率\", \"时间\"]).stack().reset_index().rename(columns={0:\"target\"})\n",
    "y_test[\"level_3\"] = y_test[\"level_3\"].apply(lambda x: int(x[1:]))\n",
    "y_test[\"时间\"] = pd.to_datetime(y_test[\"时间\"])\n",
    "y_test[\"时间\"] = y_test[\"时间\"] + (y_test[\"level_3\"] - 1) * 15 * pd.Timedelta(1, unit=\"minutes\")\n",
    "y_test = y_test.drop(columns=[\"level_3\"])"
   ]
  },
  {
   "cell_type": "code",
   "execution_count": 50,
   "metadata": {
    "ExecuteTime": {
     "end_time": "2024-03-07T08:06:21.237838Z",
     "start_time": "2024-03-07T08:06:21.142838Z"
    }
   },
   "outputs": [],
   "source": [
    "df_train = pd.merge(x_train, y_train, on=[\"光伏用户编号\", \"时间\"], how=\"left\")\n",
    "df_test = pd.merge(x_test, y_test, on=[\"光伏用户编号\", \"时间\"], how=\"left\")"
   ]
  },
  {
   "cell_type": "markdown",
   "metadata": {},
   "source": [
    "<h2>特征工程</h2>"
   ]
  },
  {
   "cell_type": "markdown",
   "metadata": {},
   "source": [
    "<h3>时间特征</h3>"
   ]
  },
  {
   "cell_type": "code",
   "execution_count": 51,
   "metadata": {
    "ExecuteTime": {
     "end_time": "2024-03-07T08:06:21.333838Z",
     "start_time": "2024-03-07T08:06:21.238840Z"
    }
   },
   "outputs": [],
   "source": [
    "df_train[\"年\"] = df_train[\"时间\"].dt.year\n",
    "df_train[\"月\"] = df_train[\"时间\"].dt.month\n",
    "df_train[\"日\"] = df_train[\"时间\"].dt.day\n",
    "df_train[\"分\"] = df_train[\"时间\"].dt.minute // 15 + df_train[\"时间\"].dt.hour * 4\n",
    "df_train = df_train.drop(columns=[\"时间\"])\n",
    "\n",
    "df_test[\"年\"] = df_test[\"时间\"].dt.year\n",
    "df_test[\"月\"] = df_test[\"时间\"].dt.month\n",
    "df_test[\"日\"] = df_test[\"时间\"].dt.day\n",
    "df_test[\"分\"] = df_test[\"时间\"].dt.minute // 15 + df_test[\"时间\"].dt.hour * 4\n",
    "df_test = df_test.drop(columns=[\"时间\"])"
   ]
  },
  {
   "cell_type": "markdown",
   "metadata": {},
   "source": [
    "<h2>训练模型</h2>"
   ]
  },
  {
   "cell_type": "markdown",
   "metadata": {},
   "source": [
    "<h3>评测指标</h3>"
   ]
  },
  {
   "cell_type": "code",
   "execution_count": 52,
   "metadata": {
    "ExecuteTime": {
     "end_time": "2024-03-07T08:06:21.349838Z",
     "start_time": "2024-03-07T08:06:21.334839Z"
    }
   },
   "outputs": [],
   "source": [
    "def score(y_true, y_pred):\n",
    "    mse = mean_squared_error(y_true, y_pred)\n",
    "    rmse = np.sqrt(mse)\n",
    "    return 1 / (1 + rmse)"
   ]
  },
  {
   "cell_type": "markdown",
   "metadata": {},
   "source": [
    "<h3>lightgbm模型</h3>"
   ]
  },
  {
   "cell_type": "code",
   "execution_count": 53,
   "metadata": {
    "ExecuteTime": {
     "end_time": "2024-03-07T08:06:21.365838Z",
     "start_time": "2024-03-07T08:06:21.351838Z"
    }
   },
   "outputs": [],
   "source": [
    "params_lgb = {\n",
    "    'learning_rate': 0.02,\n",
    "    'boosting_type': 'gbdt',\n",
    "    'objective': 'mse',\n",
    "    'metric': 'mse',\n",
    "    'num_leaves': 64,\n",
    "    'verbose': -1,\n",
    "    'seed': 42,\n",
    "    'n_jobs': -1,\n",
    "    'feature_fraction': 0.8,\n",
    "    'bagging_fraction': 0.9,\n",
    "    'bagging_freq': 4,\n",
    "}"
   ]
  },
  {
   "cell_type": "code",
   "execution_count": 54,
   "metadata": {
    "ExecuteTime": {
     "end_time": "2024-03-07T08:09:34.081945Z",
     "start_time": "2024-03-07T08:06:21.366838Z"
    }
   },
   "outputs": [
    {
     "name": "stderr",
     "output_type": "stream",
     "text": [
      "2024-03-07 16:06:21,512 : INFO : ############ site: f1 fold: 0 ###########\n"
     ]
    },
    {
     "name": "stdout",
     "output_type": "stream",
     "text": [
      "Training until validation scores don't improve for 100 rounds\n",
      "[1000]\ttraining's l2: 0.00803111\tvalid_1's l2: 0.0191556\n",
      "[2000]\ttraining's l2: 0.00405073\tvalid_1's l2: 0.0181388\n",
      "Early stopping, best iteration is:\n",
      "[2481]\ttraining's l2: 0.00310367\tvalid_1's l2: 0.0179793\n"
     ]
    },
    {
     "name": "stderr",
     "output_type": "stream",
     "text": [
      "2024-03-07 16:06:24,730 : INFO : ############ site: f1 fold: 1 ###########\n"
     ]
    },
    {
     "name": "stdout",
     "output_type": "stream",
     "text": [
      "Training until validation scores don't improve for 100 rounds\n",
      "[1000]\ttraining's l2: 0.00775778\tvalid_1's l2: 0.0225184\n",
      "[2000]\ttraining's l2: 0.00392952\tvalid_1's l2: 0.0212867\n",
      "[3000]\ttraining's l2: 0.00230164\tvalid_1's l2: 0.020864\n",
      "[4000]\ttraining's l2: 0.00145357\tvalid_1's l2: 0.0206752\n",
      "Early stopping, best iteration is:\n",
      "[3918]\ttraining's l2: 0.00150467\tvalid_1's l2: 0.0206726\n"
     ]
    },
    {
     "name": "stderr",
     "output_type": "stream",
     "text": [
      "2024-03-07 16:06:29,649 : INFO : ############ site: f1 fold: 2 ###########\n"
     ]
    },
    {
     "name": "stdout",
     "output_type": "stream",
     "text": [
      "Training until validation scores don't improve for 100 rounds\n",
      "[1000]\ttraining's l2: 0.00769575\tvalid_1's l2: 0.0213012\n",
      "[2000]\ttraining's l2: 0.00392034\tvalid_1's l2: 0.0203329\n",
      "Early stopping, best iteration is:\n",
      "[2432]\ttraining's l2: 0.00308345\tvalid_1's l2: 0.0201521\n"
     ]
    },
    {
     "name": "stderr",
     "output_type": "stream",
     "text": [
      "2024-03-07 16:06:32,803 : INFO : ############ site: f1 fold: 3 ###########\n"
     ]
    },
    {
     "name": "stdout",
     "output_type": "stream",
     "text": [
      "Training until validation scores don't improve for 100 rounds\n",
      "[1000]\ttraining's l2: 0.00802172\tvalid_1's l2: 0.0205029\n",
      "[2000]\ttraining's l2: 0.00407982\tvalid_1's l2: 0.0192664\n",
      "[3000]\ttraining's l2: 0.00238085\tvalid_1's l2: 0.0188198\n",
      "[4000]\ttraining's l2: 0.00150448\tvalid_1's l2: 0.0186562\n",
      "Early stopping, best iteration is:\n",
      "[4133]\ttraining's l2: 0.00141779\tvalid_1's l2: 0.0186454\n"
     ]
    },
    {
     "name": "stderr",
     "output_type": "stream",
     "text": [
      "2024-03-07 16:06:37,935 : INFO : ############ site: f1 fold: 4 ###########\n"
     ]
    },
    {
     "name": "stdout",
     "output_type": "stream",
     "text": [
      "Training until validation scores don't improve for 100 rounds\n",
      "[1000]\ttraining's l2: 0.00789372\tvalid_1's l2: 0.021259\n",
      "[2000]\ttraining's l2: 0.00402555\tvalid_1's l2: 0.0202638\n",
      "[3000]\ttraining's l2: 0.00232599\tvalid_1's l2: 0.0198412\n",
      "[4000]\ttraining's l2: 0.00148755\tvalid_1's l2: 0.0196441\n",
      "[5000]\ttraining's l2: 0.000978489\tvalid_1's l2: 0.0195527\n",
      "Did not meet early stopping. Best iteration is:\n",
      "[5000]\ttraining's l2: 0.000978489\tvalid_1's l2: 0.0195527\n"
     ]
    },
    {
     "name": "stderr",
     "output_type": "stream",
     "text": [
      "2024-03-07 16:06:44,044 : INFO : --------------site: f1 本地分数 0.7625138165635004---------------\n",
      "2024-03-07 16:06:44,051 : INFO : ############ site: f2 fold: 0 ###########\n"
     ]
    },
    {
     "name": "stdout",
     "output_type": "stream",
     "text": [
      "Training until validation scores don't improve for 100 rounds\n",
      "[1000]\ttraining's l2: 0.0111805\tvalid_1's l2: 0.0305282\n",
      "[2000]\ttraining's l2: 0.00568553\tvalid_1's l2: 0.0287823\n",
      "[3000]\ttraining's l2: 0.00332686\tvalid_1's l2: 0.0283334\n",
      "[4000]\ttraining's l2: 0.00211449\tvalid_1's l2: 0.0281639\n",
      "Early stopping, best iteration is:\n",
      "[4000]\ttraining's l2: 0.00211449\tvalid_1's l2: 0.0281639\n"
     ]
    },
    {
     "name": "stderr",
     "output_type": "stream",
     "text": [
      "2024-03-07 16:06:49,342 : INFO : ############ site: f2 fold: 1 ###########\n"
     ]
    },
    {
     "name": "stdout",
     "output_type": "stream",
     "text": [
      "Training until validation scores don't improve for 100 rounds\n",
      "[1000]\ttraining's l2: 0.0113766\tvalid_1's l2: 0.0278696\n",
      "[2000]\ttraining's l2: 0.00583035\tvalid_1's l2: 0.0264384\n",
      "Early stopping, best iteration is:\n",
      "[2326]\ttraining's l2: 0.00485793\tvalid_1's l2: 0.0262369\n"
     ]
    },
    {
     "name": "stderr",
     "output_type": "stream",
     "text": [
      "2024-03-07 16:06:52,584 : INFO : ############ site: f2 fold: 2 ###########\n"
     ]
    },
    {
     "name": "stdout",
     "output_type": "stream",
     "text": [
      "Training until validation scores don't improve for 100 rounds\n",
      "[1000]\ttraining's l2: 0.0116268\tvalid_1's l2: 0.0271446\n",
      "[2000]\ttraining's l2: 0.00590123\tvalid_1's l2: 0.0257751\n",
      "Early stopping, best iteration is:\n",
      "[2298]\ttraining's l2: 0.0049838\tvalid_1's l2: 0.025632\n"
     ]
    },
    {
     "name": "stderr",
     "output_type": "stream",
     "text": [
      "2024-03-07 16:06:56,075 : INFO : ############ site: f2 fold: 3 ###########\n"
     ]
    },
    {
     "name": "stdout",
     "output_type": "stream",
     "text": [
      "Training until validation scores don't improve for 100 rounds\n",
      "[1000]\ttraining's l2: 0.0113677\tvalid_1's l2: 0.0284127\n",
      "[2000]\ttraining's l2: 0.00575984\tvalid_1's l2: 0.0271721\n",
      "Early stopping, best iteration is:\n",
      "[2611]\ttraining's l2: 0.00410925\tvalid_1's l2: 0.0269449\n"
     ]
    },
    {
     "name": "stderr",
     "output_type": "stream",
     "text": [
      "2024-03-07 16:06:59,462 : INFO : ############ site: f2 fold: 4 ###########\n"
     ]
    },
    {
     "name": "stdout",
     "output_type": "stream",
     "text": [
      "Training until validation scores don't improve for 100 rounds\n",
      "[1000]\ttraining's l2: 0.01146\tvalid_1's l2: 0.0285717\n",
      "[2000]\ttraining's l2: 0.00587998\tvalid_1's l2: 0.0270704\n",
      "[3000]\ttraining's l2: 0.00345485\tvalid_1's l2: 0.0266228\n",
      "Early stopping, best iteration is:\n",
      "[3024]\ttraining's l2: 0.00341505\tvalid_1's l2: 0.0266089\n"
     ]
    },
    {
     "name": "stderr",
     "output_type": "stream",
     "text": [
      "2024-03-07 16:07:03,371 : INFO : --------------site: f2 本地分数 0.7323351796520018---------------\n",
      "2024-03-07 16:07:03,378 : INFO : ############ site: f3 fold: 0 ###########\n"
     ]
    },
    {
     "name": "stdout",
     "output_type": "stream",
     "text": [
      "Training until validation scores don't improve for 100 rounds\n",
      "[1000]\ttraining's l2: 0.0181212\tvalid_1's l2: 0.044453\n",
      "[2000]\ttraining's l2: 0.00914514\tvalid_1's l2: 0.0424191\n",
      "Early stopping, best iteration is:\n",
      "[2764]\ttraining's l2: 0.00603464\tvalid_1's l2: 0.0421553\n"
     ]
    },
    {
     "name": "stderr",
     "output_type": "stream",
     "text": [
      "2024-03-07 16:07:06,909 : INFO : ############ site: f3 fold: 1 ###########\n"
     ]
    },
    {
     "name": "stdout",
     "output_type": "stream",
     "text": [
      "Training until validation scores don't improve for 100 rounds\n",
      "[1000]\ttraining's l2: 0.0180546\tvalid_1's l2: 0.049346\n",
      "[2000]\ttraining's l2: 0.00920192\tvalid_1's l2: 0.0466205\n",
      "[3000]\ttraining's l2: 0.00540619\tvalid_1's l2: 0.0459584\n",
      "Early stopping, best iteration is:\n",
      "[3337]\ttraining's l2: 0.00459261\tvalid_1's l2: 0.0457892\n"
     ]
    },
    {
     "name": "stderr",
     "output_type": "stream",
     "text": [
      "2024-03-07 16:07:11,207 : INFO : ############ site: f3 fold: 2 ###########\n"
     ]
    },
    {
     "name": "stdout",
     "output_type": "stream",
     "text": [
      "Training until validation scores don't improve for 100 rounds\n",
      "[1000]\ttraining's l2: 0.0176881\tvalid_1's l2: 0.0471162\n",
      "[2000]\ttraining's l2: 0.00899509\tvalid_1's l2: 0.0451358\n",
      "[3000]\ttraining's l2: 0.00523496\tvalid_1's l2: 0.0443624\n",
      "Early stopping, best iteration is:\n",
      "[2985]\ttraining's l2: 0.00527647\tvalid_1's l2: 0.0443511\n"
     ]
    },
    {
     "name": "stderr",
     "output_type": "stream",
     "text": [
      "2024-03-07 16:07:15,039 : INFO : ############ site: f3 fold: 3 ###########\n"
     ]
    },
    {
     "name": "stdout",
     "output_type": "stream",
     "text": [
      "Training until validation scores don't improve for 100 rounds\n",
      "[1000]\ttraining's l2: 0.0182577\tvalid_1's l2: 0.0466649\n",
      "[2000]\ttraining's l2: 0.00921837\tvalid_1's l2: 0.0436151\n",
      "[3000]\ttraining's l2: 0.00542633\tvalid_1's l2: 0.0427612\n",
      "Early stopping, best iteration is:\n",
      "[3512]\ttraining's l2: 0.00426125\tvalid_1's l2: 0.0425144\n"
     ]
    },
    {
     "name": "stderr",
     "output_type": "stream",
     "text": [
      "2024-03-07 16:07:19,382 : INFO : ############ site: f3 fold: 4 ###########\n"
     ]
    },
    {
     "name": "stdout",
     "output_type": "stream",
     "text": [
      "Training until validation scores don't improve for 100 rounds\n",
      "[1000]\ttraining's l2: 0.0183357\tvalid_1's l2: 0.0437887\n",
      "[2000]\ttraining's l2: 0.0093537\tvalid_1's l2: 0.0412993\n",
      "[3000]\ttraining's l2: 0.00551557\tvalid_1's l2: 0.0404918\n",
      "Early stopping, best iteration is:\n",
      "[3692]\ttraining's l2: 0.00399797\tvalid_1's l2: 0.0402864\n"
     ]
    },
    {
     "name": "stderr",
     "output_type": "stream",
     "text": [
      "2024-03-07 16:07:23,981 : INFO : --------------site: f3 本地分数 0.683160486412926---------------\n",
      "2024-03-07 16:07:23,988 : INFO : ############ site: f4 fold: 0 ###########\n"
     ]
    },
    {
     "name": "stdout",
     "output_type": "stream",
     "text": [
      "Training until validation scores don't improve for 100 rounds\n",
      "[1000]\ttraining's l2: 0.00767941\tvalid_1's l2: 0.0227275\n",
      "Early stopping, best iteration is:\n",
      "[1880]\ttraining's l2: 0.00419827\tvalid_1's l2: 0.0223048\n"
     ]
    },
    {
     "name": "stderr",
     "output_type": "stream",
     "text": [
      "2024-03-07 16:07:26,393 : INFO : ############ site: f4 fold: 1 ###########\n"
     ]
    },
    {
     "name": "stdout",
     "output_type": "stream",
     "text": [
      "Training until validation scores don't improve for 100 rounds\n",
      "[1000]\ttraining's l2: 0.00790219\tvalid_1's l2: 0.0198582\n",
      "[2000]\ttraining's l2: 0.00409492\tvalid_1's l2: 0.0193569\n",
      "Early stopping, best iteration is:\n",
      "[2504]\ttraining's l2: 0.00310001\tvalid_1's l2: 0.0192464\n"
     ]
    },
    {
     "name": "stderr",
     "output_type": "stream",
     "text": [
      "2024-03-07 16:07:29,547 : INFO : ############ site: f4 fold: 2 ###########\n"
     ]
    },
    {
     "name": "stdout",
     "output_type": "stream",
     "text": [
      "Training until validation scores don't improve for 100 rounds\n",
      "[1000]\ttraining's l2: 0.00800608\tvalid_1's l2: 0.0199501\n",
      "[2000]\ttraining's l2: 0.0040629\tvalid_1's l2: 0.0190758\n",
      "Early stopping, best iteration is:\n",
      "[2476]\ttraining's l2: 0.00312344\tvalid_1's l2: 0.0189403\n"
     ]
    },
    {
     "name": "stderr",
     "output_type": "stream",
     "text": [
      "2024-03-07 16:07:32,768 : INFO : ############ site: f4 fold: 3 ###########\n"
     ]
    },
    {
     "name": "stdout",
     "output_type": "stream",
     "text": [
      "Training until validation scores don't improve for 100 rounds\n",
      "[1000]\ttraining's l2: 0.00751255\tvalid_1's l2: 0.0231869\n",
      "Early stopping, best iteration is:\n",
      "[1658]\ttraining's l2: 0.00470729\tvalid_1's l2: 0.02282\n"
     ]
    },
    {
     "name": "stderr",
     "output_type": "stream",
     "text": [
      "2024-03-07 16:07:34,996 : INFO : ############ site: f4 fold: 4 ###########\n"
     ]
    },
    {
     "name": "stdout",
     "output_type": "stream",
     "text": [
      "Training until validation scores don't improve for 100 rounds\n",
      "[1000]\ttraining's l2: 0.0079068\tvalid_1's l2: 0.0204847\n",
      "[2000]\ttraining's l2: 0.00407361\tvalid_1's l2: 0.0196433\n",
      "Early stopping, best iteration is:\n",
      "[2197]\ttraining's l2: 0.00364034\tvalid_1's l2: 0.0195788\n"
     ]
    },
    {
     "name": "stderr",
     "output_type": "stream",
     "text": [
      "2024-03-07 16:07:37,851 : INFO : --------------site: f4 本地分数 0.7571368421931092---------------\n",
      "2024-03-07 16:07:37,858 : INFO : ############ site: f5 fold: 0 ###########\n"
     ]
    },
    {
     "name": "stdout",
     "output_type": "stream",
     "text": [
      "Training until validation scores don't improve for 100 rounds\n",
      "[1000]\ttraining's l2: 0.00898384\tvalid_1's l2: 0.021173\n",
      "[2000]\ttraining's l2: 0.00457321\tvalid_1's l2: 0.0190935\n",
      "[3000]\ttraining's l2: 0.0027404\tvalid_1's l2: 0.0185339\n",
      "[4000]\ttraining's l2: 0.00176736\tvalid_1's l2: 0.0182759\n",
      "Early stopping, best iteration is:\n",
      "[4350]\ttraining's l2: 0.00153393\tvalid_1's l2: 0.0182168\n"
     ]
    },
    {
     "name": "stderr",
     "output_type": "stream",
     "text": [
      "2024-03-07 16:07:44,688 : INFO : ############ site: f5 fold: 1 ###########\n"
     ]
    },
    {
     "name": "stdout",
     "output_type": "stream",
     "text": [
      "Training until validation scores don't improve for 100 rounds\n",
      "[1000]\ttraining's l2: 0.00877117\tvalid_1's l2: 0.0216919\n",
      "[2000]\ttraining's l2: 0.00450772\tvalid_1's l2: 0.0199106\n",
      "[3000]\ttraining's l2: 0.00270565\tvalid_1's l2: 0.0193545\n",
      "Early stopping, best iteration is:\n",
      "[3827]\ttraining's l2: 0.00187488\tvalid_1's l2: 0.0191308\n"
     ]
    },
    {
     "name": "stderr",
     "output_type": "stream",
     "text": [
      "2024-03-07 16:07:50,705 : INFO : ############ site: f5 fold: 2 ###########\n"
     ]
    },
    {
     "name": "stdout",
     "output_type": "stream",
     "text": [
      "Training until validation scores don't improve for 100 rounds\n",
      "[1000]\ttraining's l2: 0.0086359\tvalid_1's l2: 0.0223493\n",
      "[2000]\ttraining's l2: 0.00436198\tvalid_1's l2: 0.020688\n",
      "[3000]\ttraining's l2: 0.00260923\tvalid_1's l2: 0.0202172\n",
      "[4000]\ttraining's l2: 0.00170026\tvalid_1's l2: 0.0200412\n",
      "[5000]\ttraining's l2: 0.00115456\tvalid_1's l2: 0.0199336\n",
      "Did not meet early stopping. Best iteration is:\n",
      "[5000]\ttraining's l2: 0.00115456\tvalid_1's l2: 0.0199336\n"
     ]
    },
    {
     "name": "stderr",
     "output_type": "stream",
     "text": [
      "2024-03-07 16:07:58,448 : INFO : ############ site: f5 fold: 3 ###########\n"
     ]
    },
    {
     "name": "stdout",
     "output_type": "stream",
     "text": [
      "Training until validation scores don't improve for 100 rounds\n",
      "[1000]\ttraining's l2: 0.00870721\tvalid_1's l2: 0.0210705\n",
      "[2000]\ttraining's l2: 0.00443706\tvalid_1's l2: 0.0194663\n",
      "[3000]\ttraining's l2: 0.00263467\tvalid_1's l2: 0.0190188\n",
      "[4000]\ttraining's l2: 0.00168232\tvalid_1's l2: 0.0188277\n",
      "Early stopping, best iteration is:\n",
      "[3968]\ttraining's l2: 0.00170485\tvalid_1's l2: 0.0188235\n"
     ]
    },
    {
     "name": "stderr",
     "output_type": "stream",
     "text": [
      "2024-03-07 16:08:04,863 : INFO : ############ site: f5 fold: 4 ###########\n"
     ]
    },
    {
     "name": "stdout",
     "output_type": "stream",
     "text": [
      "Training until validation scores don't improve for 100 rounds\n",
      "[1000]\ttraining's l2: 0.00867968\tvalid_1's l2: 0.0221048\n",
      "[2000]\ttraining's l2: 0.00453951\tvalid_1's l2: 0.0203178\n",
      "[3000]\ttraining's l2: 0.00271998\tvalid_1's l2: 0.0196476\n",
      "[4000]\ttraining's l2: 0.00176593\tvalid_1's l2: 0.0193599\n",
      "[5000]\ttraining's l2: 0.00118755\tvalid_1's l2: 0.0192027\n",
      "Did not meet early stopping. Best iteration is:\n",
      "[5000]\ttraining's l2: 0.00118755\tvalid_1's l2: 0.0192027\n"
     ]
    },
    {
     "name": "stderr",
     "output_type": "stream",
     "text": [
      "2024-03-07 16:08:12,630 : INFO : --------------site: f5 本地分数 0.7641059549916783---------------\n",
      "2024-03-07 16:08:12,638 : INFO : ############ site: f6 fold: 0 ###########\n"
     ]
    },
    {
     "name": "stdout",
     "output_type": "stream",
     "text": [
      "Training until validation scores don't improve for 100 rounds\n",
      "[1000]\ttraining's l2: 0.000380243\tvalid_1's l2: 0.00942411\n",
      "[2000]\ttraining's l2: 0.000205585\tvalid_1's l2: 0.00937284\n",
      "[3000]\ttraining's l2: 0.000124706\tvalid_1's l2: 0.00935476\n",
      "Early stopping, best iteration is:\n",
      "[3677]\ttraining's l2: 9.27868e-05\tvalid_1's l2: 0.00934873\n"
     ]
    },
    {
     "name": "stderr",
     "output_type": "stream",
     "text": [
      "2024-03-07 16:08:18,233 : INFO : ############ site: f6 fold: 1 ###########\n"
     ]
    },
    {
     "name": "stdout",
     "output_type": "stream",
     "text": [
      "Training until validation scores don't improve for 100 rounds\n"
     ]
    },
    {
     "name": "stderr",
     "output_type": "stream",
     "text": [
      "2024-03-07 16:08:19,517 : INFO : ############ site: f6 fold: 2 ###########\n"
     ]
    },
    {
     "name": "stdout",
     "output_type": "stream",
     "text": [
      "Early stopping, best iteration is:\n",
      "[701]\ttraining's l2: 0.00155143\tvalid_1's l2: 0.00108704\n",
      "Training until validation scores don't improve for 100 rounds\n"
     ]
    },
    {
     "name": "stderr",
     "output_type": "stream",
     "text": [
      "2024-03-07 16:08:20,435 : INFO : ############ site: f6 fold: 3 ###########\n"
     ]
    },
    {
     "name": "stdout",
     "output_type": "stream",
     "text": [
      "Early stopping, best iteration is:\n",
      "[464]\ttraining's l2: 0.00193049\tvalid_1's l2: 0.00124797\n",
      "Training until validation scores don't improve for 100 rounds\n"
     ]
    },
    {
     "name": "stderr",
     "output_type": "stream",
     "text": [
      "2024-03-07 16:08:21,271 : INFO : ############ site: f6 fold: 4 ###########\n"
     ]
    },
    {
     "name": "stdout",
     "output_type": "stream",
     "text": [
      "Early stopping, best iteration is:\n",
      "[408]\ttraining's l2: 0.00207968\tvalid_1's l2: 0.00125839\n",
      "Training until validation scores don't improve for 100 rounds\n"
     ]
    },
    {
     "name": "stderr",
     "output_type": "stream",
     "text": [
      "2024-03-07 16:08:22,651 : INFO : --------------site: f6 本地分数 0.8942916521754625---------------\n",
      "2024-03-07 16:08:22,657 : INFO : ############ site: f7 fold: 0 ###########\n"
     ]
    },
    {
     "name": "stdout",
     "output_type": "stream",
     "text": [
      "Early stopping, best iteration is:\n",
      "[764]\ttraining's l2: 0.00143698\tvalid_1's l2: 0.00102992\n",
      "Training until validation scores don't improve for 100 rounds\n",
      "[1000]\ttraining's l2: 0.000505761\tvalid_1's l2: 0.00126661\n",
      "[2000]\ttraining's l2: 0.000264138\tvalid_1's l2: 0.0011948\n",
      "[3000]\ttraining's l2: 0.000161211\tvalid_1's l2: 0.00117383\n",
      "Early stopping, best iteration is:\n",
      "[3544]\ttraining's l2: 0.00012697\tvalid_1's l2: 0.00116707\n"
     ]
    },
    {
     "name": "stderr",
     "output_type": "stream",
     "text": [
      "2024-03-07 16:08:28,022 : INFO : ############ site: f7 fold: 1 ###########\n"
     ]
    },
    {
     "name": "stdout",
     "output_type": "stream",
     "text": [
      "Training until validation scores don't improve for 100 rounds\n",
      "[1000]\ttraining's l2: 0.000504764\tvalid_1's l2: 0.0012713\n",
      "[2000]\ttraining's l2: 0.000264835\tvalid_1's l2: 0.0012027\n",
      "[3000]\ttraining's l2: 0.000159256\tvalid_1's l2: 0.00117685\n",
      "[4000]\ttraining's l2: 0.000103695\tvalid_1's l2: 0.00116624\n",
      "Early stopping, best iteration is:\n",
      "[4344]\ttraining's l2: 9.04048e-05\tvalid_1's l2: 0.00116384\n"
     ]
    },
    {
     "name": "stderr",
     "output_type": "stream",
     "text": [
      "2024-03-07 16:08:34,525 : INFO : ############ site: f7 fold: 2 ###########\n"
     ]
    },
    {
     "name": "stdout",
     "output_type": "stream",
     "text": [
      "Training until validation scores don't improve for 100 rounds\n",
      "[1000]\ttraining's l2: 0.000504818\tvalid_1's l2: 0.00123756\n",
      "[2000]\ttraining's l2: 0.000261131\tvalid_1's l2: 0.00115918\n",
      "[3000]\ttraining's l2: 0.000158747\tvalid_1's l2: 0.00113908\n",
      "Early stopping, best iteration is:\n",
      "[3526]\ttraining's l2: 0.000124292\tvalid_1's l2: 0.00113178\n"
     ]
    },
    {
     "name": "stderr",
     "output_type": "stream",
     "text": [
      "2024-03-07 16:08:39,855 : INFO : ############ site: f7 fold: 3 ###########\n"
     ]
    },
    {
     "name": "stdout",
     "output_type": "stream",
     "text": [
      "Training until validation scores don't improve for 100 rounds\n",
      "[1000]\ttraining's l2: 0.000501024\tvalid_1's l2: 0.00134335\n",
      "[2000]\ttraining's l2: 0.000256763\tvalid_1's l2: 0.00127638\n",
      "[3000]\ttraining's l2: 0.000155834\tvalid_1's l2: 0.00125443\n",
      "Early stopping, best iteration is:\n",
      "[3633]\ttraining's l2: 0.000117702\tvalid_1's l2: 0.00124782\n"
     ]
    },
    {
     "name": "stderr",
     "output_type": "stream",
     "text": [
      "2024-03-07 16:08:45,351 : INFO : ############ site: f7 fold: 4 ###########\n"
     ]
    },
    {
     "name": "stdout",
     "output_type": "stream",
     "text": [
      "Training until validation scores don't improve for 100 rounds\n",
      "[1000]\ttraining's l2: 0.000502082\tvalid_1's l2: 0.00121278\n",
      "[2000]\ttraining's l2: 0.000264961\tvalid_1's l2: 0.00113976\n",
      "Early stopping, best iteration is:\n",
      "[2450]\ttraining's l2: 0.000207822\tvalid_1's l2: 0.00112478\n"
     ]
    },
    {
     "name": "stderr",
     "output_type": "stream",
     "text": [
      "2024-03-07 16:08:49,173 : INFO : --------------site: f7 本地分数 0.9290320477716312---------------\n",
      "2024-03-07 16:08:49,181 : INFO : ############ site: f8 fold: 0 ###########\n"
     ]
    },
    {
     "name": "stdout",
     "output_type": "stream",
     "text": [
      "Training until validation scores don't improve for 100 rounds\n",
      "[1000]\ttraining's l2: 0.0104899\tvalid_1's l2: 0.0297815\n",
      "Early stopping, best iteration is:\n",
      "[1762]\ttraining's l2: 0.00623454\tvalid_1's l2: 0.0291577\n"
     ]
    },
    {
     "name": "stderr",
     "output_type": "stream",
     "text": [
      "2024-03-07 16:08:51,465 : INFO : ############ site: f8 fold: 1 ###########\n"
     ]
    },
    {
     "name": "stdout",
     "output_type": "stream",
     "text": [
      "Training until validation scores don't improve for 100 rounds\n",
      "[1000]\ttraining's l2: 0.0110168\tvalid_1's l2: 0.0285787\n",
      "[2000]\ttraining's l2: 0.00568832\tvalid_1's l2: 0.0274389\n",
      "Early stopping, best iteration is:\n",
      "[2270]\ttraining's l2: 0.00489983\tvalid_1's l2: 0.0272967\n"
     ]
    },
    {
     "name": "stderr",
     "output_type": "stream",
     "text": [
      "2024-03-07 16:08:54,430 : INFO : ############ site: f8 fold: 2 ###########\n"
     ]
    },
    {
     "name": "stdout",
     "output_type": "stream",
     "text": [
      "Training until validation scores don't improve for 100 rounds\n",
      "[1000]\ttraining's l2: 0.0110603\tvalid_1's l2: 0.0266512\n",
      "Early stopping, best iteration is:\n",
      "[1648]\ttraining's l2: 0.00705152\tvalid_1's l2: 0.0260475\n"
     ]
    },
    {
     "name": "stderr",
     "output_type": "stream",
     "text": [
      "2024-03-07 16:08:56,563 : INFO : ############ site: f8 fold: 3 ###########\n"
     ]
    },
    {
     "name": "stdout",
     "output_type": "stream",
     "text": [
      "Training until validation scores don't improve for 100 rounds\n",
      "[1000]\ttraining's l2: 0.0106282\tvalid_1's l2: 0.0300034\n",
      "Early stopping, best iteration is:\n",
      "[1506]\ttraining's l2: 0.00740116\tvalid_1's l2: 0.0292201\n"
     ]
    },
    {
     "name": "stderr",
     "output_type": "stream",
     "text": [
      "2024-03-07 16:08:58,654 : INFO : ############ site: f8 fold: 4 ###########\n"
     ]
    },
    {
     "name": "stdout",
     "output_type": "stream",
     "text": [
      "Training until validation scores don't improve for 100 rounds\n",
      "[1000]\ttraining's l2: 0.0108086\tvalid_1's l2: 0.0294862\n",
      "[2000]\ttraining's l2: 0.00557813\tvalid_1's l2: 0.0287236\n",
      "Early stopping, best iteration is:\n",
      "[2224]\ttraining's l2: 0.00493717\tvalid_1's l2: 0.0286183\n"
     ]
    },
    {
     "name": "stderr",
     "output_type": "stream",
     "text": [
      "2024-03-07 16:09:01,633 : INFO : --------------site: f8 本地分数 0.7274736961673484---------------\n",
      "2024-03-07 16:09:01,643 : INFO : ############ site: f9 fold: 0 ###########\n"
     ]
    },
    {
     "name": "stdout",
     "output_type": "stream",
     "text": [
      "Training until validation scores don't improve for 100 rounds\n",
      "[1000]\ttraining's l2: 0.000476966\tvalid_1's l2: 0.00121215\n",
      "[2000]\ttraining's l2: 0.000245938\tvalid_1's l2: 0.00112331\n",
      "[3000]\ttraining's l2: 0.000148161\tvalid_1's l2: 0.00109573\n",
      "[4000]\ttraining's l2: 9.76306e-05\tvalid_1's l2: 0.00108707\n",
      "Early stopping, best iteration is:\n",
      "[4592]\ttraining's l2: 7.6756e-05\tvalid_1's l2: 0.00108274\n"
     ]
    },
    {
     "name": "stderr",
     "output_type": "stream",
     "text": [
      "2024-03-07 16:09:08,636 : INFO : ############ site: f9 fold: 1 ###########\n"
     ]
    },
    {
     "name": "stdout",
     "output_type": "stream",
     "text": [
      "Training until validation scores don't improve for 100 rounds\n",
      "[1000]\ttraining's l2: 0.000499609\tvalid_1's l2: 0.0011886\n",
      "[2000]\ttraining's l2: 0.000258536\tvalid_1's l2: 0.00110328\n",
      "[3000]\ttraining's l2: 0.0001558\tvalid_1's l2: 0.00107738\n",
      "[4000]\ttraining's l2: 0.000101534\tvalid_1's l2: 0.00106544\n",
      "Early stopping, best iteration is:\n",
      "[4453]\ttraining's l2: 8.51112e-05\tvalid_1's l2: 0.00106288\n"
     ]
    },
    {
     "name": "stderr",
     "output_type": "stream",
     "text": [
      "2024-03-07 16:09:15,231 : INFO : ############ site: f9 fold: 2 ###########\n"
     ]
    },
    {
     "name": "stdout",
     "output_type": "stream",
     "text": [
      "Training until validation scores don't improve for 100 rounds\n",
      "[1000]\ttraining's l2: 0.000491022\tvalid_1's l2: 0.00114674\n",
      "[2000]\ttraining's l2: 0.000257232\tvalid_1's l2: 0.00107469\n",
      "[3000]\ttraining's l2: 0.000156059\tvalid_1's l2: 0.00105058\n",
      "[4000]\ttraining's l2: 0.000101486\tvalid_1's l2: 0.00103882\n",
      "Early stopping, best iteration is:\n",
      "[3967]\ttraining's l2: 0.000102753\tvalid_1's l2: 0.00103855\n"
     ]
    },
    {
     "name": "stderr",
     "output_type": "stream",
     "text": [
      "2024-03-07 16:09:21,152 : INFO : ############ site: f9 fold: 3 ###########\n"
     ]
    },
    {
     "name": "stdout",
     "output_type": "stream",
     "text": [
      "Training until validation scores don't improve for 100 rounds\n",
      "[1000]\ttraining's l2: 0.000488141\tvalid_1's l2: 0.00113801\n",
      "[2000]\ttraining's l2: 0.000252126\tvalid_1's l2: 0.00105856\n",
      "[3000]\ttraining's l2: 0.000152363\tvalid_1's l2: 0.00103845\n",
      "[4000]\ttraining's l2: 9.9089e-05\tvalid_1's l2: 0.00102983\n",
      "[5000]\ttraining's l2: 6.73442e-05\tvalid_1's l2: 0.001026\n",
      "Did not meet early stopping. Best iteration is:\n",
      "[5000]\ttraining's l2: 6.73442e-05\tvalid_1's l2: 0.001026\n"
     ]
    },
    {
     "name": "stderr",
     "output_type": "stream",
     "text": [
      "2024-03-07 16:09:28,447 : INFO : ############ site: f9 fold: 4 ###########\n"
     ]
    },
    {
     "name": "stdout",
     "output_type": "stream",
     "text": [
      "Training until validation scores don't improve for 100 rounds\n",
      "[1000]\ttraining's l2: 0.000487253\tvalid_1's l2: 0.00116986\n",
      "[2000]\ttraining's l2: 0.000253374\tvalid_1's l2: 0.00109423\n",
      "[3000]\ttraining's l2: 0.000152495\tvalid_1's l2: 0.0010716\n",
      "Early stopping, best iteration is:\n",
      "[3763]\ttraining's l2: 0.000108871\tvalid_1's l2: 0.00106339\n"
     ]
    },
    {
     "name": "stderr",
     "output_type": "stream",
     "text": [
      "2024-03-07 16:09:34,065 : INFO : --------------site: f9 本地分数 0.9322972820202412---------------\n"
     ]
    }
   ],
   "source": [
    "model_lgb = dict()\n",
    "kfold = KFold(n_splits=5, random_state=42, shuffle=True)\n",
    "for site, df in df_train.groupby(\"光伏用户编号\"):\n",
    "    model_lgb[site] = []\n",
    "    df = df.drop(columns=[\"光伏用户编号\"]).astype(np.float32)\n",
    "    y = df.pop(\"target\")\n",
    "    df[\"辐照强度（J/m2） - 1\"] = df[\"辐照强度（J/m2）\"].shift(1)\n",
    "    df[\"辐照强度（J/m2） - 2\"] = df[\"辐照强度（J/m2）\"].shift(2)\n",
    "    mse = 0\n",
    "    for fold, (train_index, val_index) in enumerate(kfold.split(df, y)):\n",
    "        logging.info(f'############ site: {site} fold: {fold} ###########')\n",
    "        x_train, x_val, y_train, y_val = df.iloc[train_index], df.iloc[val_index], y.iloc[train_index], y.iloc[val_index]\n",
    "        trainset = Dataset(x_train, y_train)\n",
    "        valset = Dataset(x_val, y_val)\n",
    "        model = lgb.train(params_lgb, trainset, valid_sets=[trainset, valset], num_boost_round=5000, callbacks=[lgb.early_stopping(100), lgb.log_evaluation(1000)])\n",
    "        model.save_model(\"../models/lgb_%s_%d.txt\" % (site, fold))\n",
    "        model_lgb[site].append(model)\n",
    "        val_pred = Series(model.predict(x_val, num_iteration=model.best_iteration), index=y_val.index).fillna(0)\n",
    "        mse += mean_squared_error(y_val.fillna(0), val_pred)\n",
    "    rmse = np.sqrt(mse)\n",
    "    score = 1 / (1 + rmse)\n",
    "    logging.info(f\"--------------site: {site} 本地分数 {score}---------------\")"
   ]
  },
  {
   "cell_type": "markdown",
   "metadata": {},
   "source": [
    "<h2>预测</h2>"
   ]
  },
  {
   "cell_type": "code",
   "execution_count": 55,
   "metadata": {
    "ExecuteTime": {
     "end_time": "2024-03-07T08:09:37.321672Z",
     "start_time": "2024-03-07T08:09:34.082945Z"
    }
   },
   "outputs": [],
   "source": [
    "for site, df in df_test.groupby(\"光伏用户编号\"):\n",
    "    df = df.drop(columns=[\"光伏用户编号\"]).astype(np.float32)\n",
    "    y = df.pop(\"target\")\n",
    "    df[\"辐照强度（J/m2） - 1\"] = df[\"辐照强度（J/m2）\"].shift(1)\n",
    "    df[\"辐照强度（J/m2） - 2\"] = df[\"辐照强度（J/m2）\"].shift(2)\n",
    "    y_pred = np.zeros((df.shape[0], ))\n",
    "    for model in model_lgb[site]:\n",
    "        y_pred += model.predict(df, num_iteration=model.best_iteration)\n",
    "    y_pred = y_pred / kfold.n_splits\n",
    "    df_test.loc[df_test[\"光伏用户编号\"] == site, \"target\"] = y_pred"
   ]
  },
  {
   "cell_type": "code",
   "execution_count": 56,
   "metadata": {
    "ExecuteTime": {
     "end_time": "2024-03-07T08:09:37.448673Z",
     "start_time": "2024-03-07T08:09:37.322672Z"
    }
   },
   "outputs": [],
   "source": [
    "df_test = df_test[[\"光伏用户编号\", \"综合倍率\", \"年\", \"月\", \"日\", \"分\", \"target\"]]\n",
    "df_test[\"时间\"] = df_test[\"年\"].astype(str) + \"-\" + df_test[\"月\"].astype(str) + \"-\" + df_test[\"日\"].astype(str) + \" 0:00\"\n",
    "df_test[\"分\"] = \"p\" + (df_test[\"分\"] + 1).astype(str)\n",
    "df_test = df_test.drop(columns=[\"年\", \"月\", \"日\"])"
   ]
  },
  {
   "cell_type": "code",
   "execution_count": 57,
   "metadata": {
    "ExecuteTime": {
     "end_time": "2024-03-07T08:09:37.480673Z",
     "start_time": "2024-03-07T08:09:37.449674Z"
    }
   },
   "outputs": [],
   "source": [
    "result = pd.pivot(df_test, index=[\"光伏用户编号\", \"综合倍率\", \"时间\"], columns=\"分\", values=\"target\").reset_index()\n",
    "result = result[result[\"综合倍率\"].notnull()]\n",
    "result[\"综合倍率\"] = result[\"综合倍率\"].astype(int)"
   ]
  },
  {
   "cell_type": "code",
   "execution_count": 58,
   "metadata": {
    "ExecuteTime": {
     "end_time": "2024-03-07T08:09:37.544673Z",
     "start_time": "2024-03-07T08:09:37.481673Z"
    }
   },
   "outputs": [],
   "source": [
    "result.to_csv(\"../data/%s.csv\" % datetime.now().strftime(\"%Y%m%d_%H%M%S\"), encoding=\"utf-8\", index=False)"
   ]
  },
  {
   "cell_type": "code",
   "execution_count": null,
   "metadata": {},
   "outputs": [],
   "source": []
  }
 ],
 "metadata": {
  "kernelspec": {
   "display_name": "Python 3",
   "language": "python",
   "name": "python3"
  },
  "language_info": {
   "codemirror_mode": {
    "name": "ipython",
    "version": 3
   },
   "file_extension": ".py",
   "mimetype": "text/x-python",
   "name": "python",
   "nbconvert_exporter": "python",
   "pygments_lexer": "ipython3",
   "version": "3.7.3"
  },
  "toc": {
   "base_numbering": 1,
   "nav_menu": {},
   "number_sections": true,
   "sideBar": true,
   "skip_h1_title": false,
   "title_cell": "Table of Contents",
   "title_sidebar": "Contents",
   "toc_cell": false,
   "toc_position": {
    "height": "calc(100% - 180px)",
    "left": "10px",
    "top": "150px",
    "width": "465.455px"
   },
   "toc_section_display": true,
   "toc_window_display": true
  },
  "varInspector": {
   "cols": {
    "lenName": 16,
    "lenType": 16,
    "lenVar": 40
   },
   "kernels_config": {
    "python": {
     "delete_cmd_postfix": "",
     "delete_cmd_prefix": "del ",
     "library": "var_list.py",
     "varRefreshCmd": "print(var_dic_list())"
    },
    "r": {
     "delete_cmd_postfix": ") ",
     "delete_cmd_prefix": "rm(",
     "library": "var_list.r",
     "varRefreshCmd": "cat(var_dic_list()) "
    }
   },
   "position": {
    "height": "244.83px",
    "left": "1957.27px",
    "right": "20px",
    "top": "120px",
    "width": "350px"
   },
   "types_to_exclude": [
    "module",
    "function",
    "builtin_function_or_method",
    "instance",
    "_Feature"
   ],
   "window_display": true
  }
 },
 "nbformat": 4,
 "nbformat_minor": 4
}
