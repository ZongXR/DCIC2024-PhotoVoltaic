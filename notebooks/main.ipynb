{
 "cells": [
  {
   "cell_type": "markdown",
   "metadata": {},
   "source": [
    "<h2>导入包</h2>"
   ]
  },
  {
   "cell_type": "code",
   "execution_count": 1,
   "metadata": {
    "ExecuteTime": {
     "end_time": "2024-03-28T16:53:59.970587Z",
     "start_time": "2024-03-28T16:53:59.261576Z"
    }
   },
   "outputs": [],
   "source": [
    "import os\n",
    "import re\n",
    "import logging\n",
    "from datetime import datetime, date\n",
    "import numpy as np\n",
    "import pandas as pd\n",
    "from pandas import Series, DataFrame\n",
    "from sklearn.model_selection import train_test_split\n",
    "from sklearn.model_selection import StratifiedKFold, KFold\n",
    "from sklearn.metrics import mean_squared_error\n",
    "import lightgbm as lgb\n",
    "from lightgbm import Dataset\n",
    "import matplotlib.pyplot as plt\n",
    "from astral import LocationInfo\n",
    "from astral.sun import sunrise, sunset, dawn, noon, dusk\n",
    "\n",
    "\n",
    "logging.basicConfig(format='%(asctime)s : %(levelname)s : %(message)s', level=logging.INFO)"
   ]
  },
  {
   "cell_type": "markdown",
   "metadata": {},
   "source": [
    "<h2>读取数据</h2>"
   ]
  },
  {
   "cell_type": "markdown",
   "metadata": {},
   "source": [
    "<h3>比赛数据</h3>"
   ]
  },
  {
   "cell_type": "code",
   "execution_count": 2,
   "metadata": {
    "ExecuteTime": {
     "end_time": "2024-03-28T16:54:00.501583Z",
     "start_time": "2024-03-28T16:53:59.971576Z"
    }
   },
   "outputs": [],
   "source": [
    "x_train = pd.read_csv(\"../data/A榜-训练集_分布式光伏发电预测_气象变量数据.csv\", encoding=\"gbk\")\n",
    "y_train = pd.read_csv(\"../data/A榜-训练集_分布式光伏发电预测_实际功率数据.csv\", encoding=\"gbk\")\n",
    "info_train = pd.read_csv(\"../data/A榜-训练集_分布式光伏发电预测_基本信息.csv\", encoding=\"gbk\")\n",
    "x_test = pd.read_csv(\"../data/A榜-测试集_分布式光伏发电预测_气象变量数据.csv\", encoding=\"gbk\")\n",
    "y_test = pd.read_csv(\"../data/submit_example.csv\", encoding=\"utf-8\")\n",
    "info_test = pd.read_csv(\"../data/A榜-测试集_分布式光伏发电预测_基本信息.csv\", encoding=\"gbk\")"
   ]
  },
  {
   "cell_type": "code",
   "execution_count": 3,
   "metadata": {
    "ExecuteTime": {
     "end_time": "2024-03-28T16:54:00.824584Z",
     "start_time": "2024-03-28T16:54:00.502576Z"
    }
   },
   "outputs": [],
   "source": [
    "x_train = pd.merge(x_train, info_train[[\"光伏用户编号\", \"装机容量(kW)\", \"经度\", \"纬度\"]], how=\"left\", on=\"光伏用户编号\")\n",
    "x_train[\"时间\"] = pd.to_datetime(x_train[\"时间\"], utc=False).dt.tz_localize('Asia/Shanghai')\n",
    "x_test = pd.merge(x_test, info_test[[\"光伏用户编号\", \"装机容量(kW)\", \"经度\", \"纬度\"]], how=\"left\", on=\"光伏用户编号\")\n",
    "x_test[\"时间\"] = pd.to_datetime(x_test[\"时间\"], utc=False).dt.tz_localize('Asia/Shanghai')"
   ]
  },
  {
   "cell_type": "code",
   "execution_count": 4,
   "metadata": {
    "ExecuteTime": {
     "end_time": "2024-03-28T16:54:01.115586Z",
     "start_time": "2024-03-28T16:54:00.825583Z"
    }
   },
   "outputs": [],
   "source": [
    "y_train = y_train.set_index([\"光伏用户编号\", \"综合倍率\", \"时间\"]).stack().reset_index().rename(columns={0:\"target\"})\n",
    "y_train[\"level_3\"] = y_train[\"level_3\"].apply(lambda x: int(x[1:]))\n",
    "y_train[\"时间\"] = pd.to_datetime(y_train[\"时间\"], utc=False).dt.tz_localize('Asia/Shanghai')\n",
    "y_train[\"时间\"] = y_train[\"时间\"] + (y_train[\"level_3\"] - 1) * 15 * pd.Timedelta(1, unit=\"minutes\")\n",
    "y_train = y_train.drop(columns=[\"level_3\"])\n",
    "\n",
    "y_test = y_test.set_index([\"光伏用户编号\", \"综合倍率\", \"时间\"]).stack().reset_index().rename(columns={0:\"target\"})\n",
    "y_test[\"level_3\"] = y_test[\"level_3\"].apply(lambda x: int(x[1:]))\n",
    "y_test[\"时间\"] = pd.to_datetime(y_test[\"时间\"], utc=False).dt.tz_localize('Asia/Shanghai')\n",
    "y_test[\"时间\"] = y_test[\"时间\"] + (y_test[\"level_3\"] - 1) * 15 * pd.Timedelta(1, unit=\"minutes\")\n",
    "y_test = y_test.drop(columns=[\"level_3\"])"
   ]
  },
  {
   "cell_type": "code",
   "execution_count": 5,
   "metadata": {
    "ExecuteTime": {
     "end_time": "2024-03-28T16:54:01.328587Z",
     "start_time": "2024-03-28T16:54:01.116576Z"
    }
   },
   "outputs": [
    {
     "name": "stderr",
     "output_type": "stream",
     "text": [
      "2024-03-29 00:54:01,326 : INFO : Index(['光伏用户编号', '时间', '气压(Pa）', '相对湿度（%）', '云量', '10米风速（10m/s）', '10米风向（°)',\n",
      "       '温度（K）', '辐照强度（J/m2）', '降水（m）', '100m风速（100m/s）', '100m风向（°)',\n",
      "       '装机容量(kW)', '经度', '纬度', '综合倍率', 'target'],\n",
      "      dtype='object')\n"
     ]
    }
   ],
   "source": [
    "df_train = pd.merge(x_train, y_train, on=[\"光伏用户编号\", \"时间\"], how=\"left\")\n",
    "df_test = pd.merge(x_test, y_test, on=[\"光伏用户编号\", \"时间\"], how=\"left\")\n",
    "df = pd.concat([df_train, df_test], axis=0)\n",
    "logging.info(df.columns)"
   ]
  },
  {
   "cell_type": "markdown",
   "metadata": {},
   "source": [
    "<h3>外部数据</h3>"
   ]
  },
  {
   "cell_type": "code",
   "execution_count": 6,
   "metadata": {
    "ExecuteTime": {
     "end_time": "2024-03-28T16:54:45.247864Z",
     "start_time": "2024-03-28T16:54:01.329576Z"
    },
    "scrolled": false
   },
   "outputs": [
    {
     "name": "stderr",
     "output_type": "stream",
     "text": [
      "2024-03-29 00:54:45,245 : INFO : Index(['时间', 'temperature_2m_archive_best_match (°C)',\n",
      "       'relative_humidity_2m_archive_best_match (%)',\n",
      "       'dew_point_2m_archive_best_match (°C)',\n",
      "       'apparent_temperature_archive_best_match (°C)',\n",
      "       'precipitation_archive_best_match (mm)', 'rain_archive_best_match (mm)',\n",
      "       'snowfall_archive_best_match (cm)', 'snow_depth_archive_best_match (m)',\n",
      "       'weather_code_archive_best_match (wmo code)',\n",
      "       ...\n",
      "       'direct_normal_irradiance_era5_land (W/m²)',\n",
      "       'global_tilted_irradiance_era5_land (W/m²)',\n",
      "       'terrestrial_radiation_era5_land (W/m²)',\n",
      "       'shortwave_radiation_instant_era5_land (W/m²)',\n",
      "       'direct_radiation_instant_era5_land (W/m²)',\n",
      "       'diffuse_radiation_instant_era5_land (W/m²)',\n",
      "       'direct_normal_irradiance_instant_era5_land (W/m²)',\n",
      "       'global_tilted_irradiance_instant_era5_land (W/m²)',\n",
      "       'terrestrial_radiation_instant_era5_land (W/m²)', '光伏用户编号'],\n",
      "      dtype='object', length=222)\n"
     ]
    }
   ],
   "source": [
    "outer_files = os.listdir(\"../data/\")\n",
    "outer_files = [x for x in outer_files if re.match(r\"^open-meteo-f\\d\\.csv$\", x)]\n",
    "outer_dfs = list()\n",
    "for outer_file in outer_files:\n",
    "    outer_df = pd.read_csv(os.path.join(\"../data\", outer_file), skiprows=3)\n",
    "    outer_df[\"time\"] = pd.to_datetime(outer_df[\"time\"], utc=False).dt.tz_localize('Asia/Shanghai')\n",
    "    outer_df = outer_df.set_index(\"time\", drop=True).asfreq(\"15T\")\n",
    "    outer_df = outer_df.interpolate(method=\"time\", axis=0)\n",
    "\n",
    "    outer_df = outer_df.reset_index(drop=False).rename(columns={\"time\": \"时间\"})\n",
    "    outer_df[\"光伏用户编号\"] = re.match(r\"^open-meteo-(f\\d)\\.csv$\", outer_file).group(1)    \n",
    "    outer_dfs.append(outer_df)\n",
    "outer_data = pd.concat(outer_dfs, axis=0)\n",
    "logging.info(outer_data.columns)"
   ]
  },
  {
   "cell_type": "code",
   "execution_count": 7,
   "metadata": {
    "ExecuteTime": {
     "end_time": "2024-03-28T16:54:45.299865Z",
     "start_time": "2024-03-28T16:54:45.248854Z"
    }
   },
   "outputs": [
    {
     "name": "stderr",
     "output_type": "stream",
     "text": [
      "2024-03-29 00:54:45,297 : INFO : Index(['时间', 'weather_code (wmo code)', 'temperature_2m_max (°C)',\n",
      "       'temperature_2m_min (°C)', 'temperature_2m_mean (°C)',\n",
      "       'apparent_temperature_max (°C)', 'apparent_temperature_min (°C)',\n",
      "       'apparent_temperature_mean (°C)', 'sunrise (iso8601)',\n",
      "       'sunset (iso8601)', 'daylight_duration (s)', 'sunshine_duration (s)',\n",
      "       'precipitation_sum (mm)', 'rain_sum (mm)', 'snowfall_sum (cm)',\n",
      "       'precipitation_hours (h)', 'wind_speed_10m_max (km/h)',\n",
      "       'wind_gusts_10m_max (km/h)', 'wind_direction_10m_dominant (°)',\n",
      "       'shortwave_radiation_sum (MJ/m²)', 'et0_fao_evapotranspiration (mm)',\n",
      "       '光伏用户编号'],\n",
      "      dtype='object')\n"
     ]
    }
   ],
   "source": [
    "outer_day_files = os.listdir(\"../data/\")\n",
    "outer_day_files = [x for x in outer_day_files if re.match(r\"^open-meteo-day-f\\d\\.csv$\", x)]\n",
    "outer_day_dfs = list()\n",
    "for outer_day_file in outer_day_files:\n",
    "    outer_day_df = pd.read_csv(os.path.join(\"../data\", outer_day_file), skiprows=3)\n",
    "    outer_day_df[\"time\"] = pd.to_datetime(outer_day_df[\"time\"], utc=False).dt.tz_localize('Asia/Shanghai')\n",
    "    outer_day_df = outer_day_df.rename(columns={\"time\": \"时间\"})\n",
    "    outer_day_df[\"光伏用户编号\"] = re.match(r\"^open-meteo-day-(f\\d)\\.csv$\", outer_day_file).group(1)    \n",
    "    outer_day_dfs.append(outer_day_df)\n",
    "outer_day_data = pd.concat(outer_day_dfs, axis=0)\n",
    "logging.info(outer_day_data.columns)"
   ]
  },
  {
   "cell_type": "code",
   "execution_count": 8,
   "metadata": {
    "ExecuteTime": {
     "end_time": "2024-03-28T16:54:47.095923Z",
     "start_time": "2024-03-28T16:54:45.301865Z"
    },
    "scrolled": false
   },
   "outputs": [
    {
     "name": "stderr",
     "output_type": "stream",
     "text": [
      "2024-03-29 00:54:46,986 : INFO : 时间\n",
      "2024-03-29 00:54:46,987 : INFO : temperature_2m_archive_best_match (°C)\n",
      "2024-03-29 00:54:46,987 : INFO : relative_humidity_2m_archive_best_match (%)\n",
      "2024-03-29 00:54:46,987 : INFO : dew_point_2m_archive_best_match (°C)\n",
      "2024-03-29 00:54:46,988 : INFO : apparent_temperature_archive_best_match (°C)\n",
      "2024-03-29 00:54:46,988 : INFO : precipitation_archive_best_match (mm)\n",
      "2024-03-29 00:54:46,989 : INFO : rain_archive_best_match (mm)\n",
      "2024-03-29 00:54:46,989 : INFO : snowfall_archive_best_match (cm)\n",
      "2024-03-29 00:54:46,989 : INFO : snow_depth_archive_best_match (m)\n",
      "2024-03-29 00:54:46,990 : INFO : weather_code_archive_best_match (wmo code)\n",
      "2024-03-29 00:54:46,990 : INFO : pressure_msl_archive_best_match (hPa)\n",
      "2024-03-29 00:54:46,991 : INFO : surface_pressure_archive_best_match (hPa)\n",
      "2024-03-29 00:54:46,991 : INFO : cloud_cover_archive_best_match (%)\n",
      "2024-03-29 00:54:46,991 : INFO : cloud_cover_low_archive_best_match (%)\n",
      "2024-03-29 00:54:46,992 : INFO : cloud_cover_mid_archive_best_match (%)\n",
      "2024-03-29 00:54:46,992 : INFO : cloud_cover_high_archive_best_match (%)\n",
      "2024-03-29 00:54:46,993 : INFO : et0_fao_evapotranspiration_archive_best_match (mm)\n",
      "2024-03-29 00:54:46,993 : INFO : vapour_pressure_deficit_archive_best_match (kPa)\n",
      "2024-03-29 00:54:46,995 : INFO : wind_speed_10m_archive_best_match (km/h)\n",
      "2024-03-29 00:54:46,996 : INFO : wind_speed_100m_archive_best_match (km/h)\n",
      "2024-03-29 00:54:46,996 : INFO : wind_direction_10m_archive_best_match (°)\n",
      "2024-03-29 00:54:46,997 : INFO : wind_direction_100m_archive_best_match (°)\n",
      "2024-03-29 00:54:46,997 : INFO : wind_gusts_10m_archive_best_match (km/h)\n",
      "2024-03-29 00:54:46,997 : INFO : soil_temperature_0_to_7cm_archive_best_match (°C)\n",
      "2024-03-29 00:54:46,998 : INFO : soil_temperature_7_to_28cm_archive_best_match (°C)\n",
      "2024-03-29 00:54:46,998 : INFO : soil_temperature_28_to_100cm_archive_best_match (°C)\n",
      "2024-03-29 00:54:46,999 : INFO : soil_temperature_100_to_255cm_archive_best_match (°C)\n",
      "2024-03-29 00:54:47,000 : INFO : soil_moisture_0_to_7cm_archive_best_match (m³/m³)\n",
      "2024-03-29 00:54:47,000 : INFO : soil_moisture_7_to_28cm_archive_best_match (m³/m³)\n",
      "2024-03-29 00:54:47,000 : INFO : soil_moisture_28_to_100cm_archive_best_match (m³/m³)\n",
      "2024-03-29 00:54:47,001 : INFO : soil_moisture_100_to_255cm_archive_best_match (m³/m³)\n",
      "2024-03-29 00:54:47,001 : INFO : is_day_archive_best_match ()\n",
      "2024-03-29 00:54:47,001 : INFO : sunshine_duration_archive_best_match (s)\n",
      "2024-03-29 00:54:47,002 : INFO : shortwave_radiation_archive_best_match (W/m²)\n",
      "2024-03-29 00:54:47,003 : INFO : direct_radiation_archive_best_match (W/m²)\n",
      "2024-03-29 00:54:47,003 : INFO : diffuse_radiation_archive_best_match (W/m²)\n",
      "2024-03-29 00:54:47,003 : INFO : direct_normal_irradiance_archive_best_match (W/m²)\n",
      "2024-03-29 00:54:47,004 : INFO : global_tilted_irradiance_archive_best_match (W/m²)\n",
      "2024-03-29 00:54:47,004 : INFO : terrestrial_radiation_archive_best_match (W/m²)\n",
      "2024-03-29 00:54:47,004 : INFO : shortwave_radiation_instant_archive_best_match (W/m²)\n",
      "2024-03-29 00:54:47,005 : INFO : direct_radiation_instant_archive_best_match (W/m²)\n",
      "2024-03-29 00:54:47,005 : INFO : diffuse_radiation_instant_archive_best_match (W/m²)\n",
      "2024-03-29 00:54:47,005 : INFO : direct_normal_irradiance_instant_archive_best_match (W/m²)\n",
      "2024-03-29 00:54:47,005 : INFO : global_tilted_irradiance_instant_archive_best_match (W/m²)\n",
      "2024-03-29 00:54:47,006 : INFO : terrestrial_radiation_instant_archive_best_match (W/m²)\n",
      "2024-03-29 00:54:47,006 : INFO : temperature_2m_ecmwf_ifs (°C)\n",
      "2024-03-29 00:54:47,006 : INFO : relative_humidity_2m_ecmwf_ifs (%)\n",
      "2024-03-29 00:54:47,006 : INFO : dew_point_2m_ecmwf_ifs (°C)\n",
      "2024-03-29 00:54:47,007 : INFO : apparent_temperature_ecmwf_ifs (°C)\n",
      "2024-03-29 00:54:47,007 : INFO : precipitation_ecmwf_ifs (mm)\n",
      "2024-03-29 00:54:47,007 : INFO : rain_ecmwf_ifs (mm)\n",
      "2024-03-29 00:54:47,007 : INFO : snowfall_ecmwf_ifs (cm)\n",
      "2024-03-29 00:54:47,008 : INFO : snow_depth_ecmwf_ifs (m)\n",
      "2024-03-29 00:54:47,008 : INFO : weather_code_ecmwf_ifs (wmo code)\n",
      "2024-03-29 00:54:47,008 : INFO : pressure_msl_ecmwf_ifs (hPa)\n",
      "2024-03-29 00:54:47,008 : INFO : surface_pressure_ecmwf_ifs (hPa)\n",
      "2024-03-29 00:54:47,009 : INFO : cloud_cover_ecmwf_ifs (%)\n",
      "2024-03-29 00:54:47,009 : INFO : cloud_cover_low_ecmwf_ifs (%)\n",
      "2024-03-29 00:54:47,009 : INFO : cloud_cover_mid_ecmwf_ifs (%)\n",
      "2024-03-29 00:54:47,011 : INFO : cloud_cover_high_ecmwf_ifs (%)\n",
      "2024-03-29 00:54:47,011 : INFO : et0_fao_evapotranspiration_ecmwf_ifs (mm)\n",
      "2024-03-29 00:54:47,011 : INFO : vapour_pressure_deficit_ecmwf_ifs (kPa)\n",
      "2024-03-29 00:54:47,012 : INFO : wind_speed_10m_ecmwf_ifs (km/h)\n",
      "2024-03-29 00:54:47,012 : INFO : wind_speed_100m_ecmwf_ifs (km/h)\n",
      "2024-03-29 00:54:47,012 : INFO : wind_direction_10m_ecmwf_ifs (°)\n",
      "2024-03-29 00:54:47,013 : INFO : wind_direction_100m_ecmwf_ifs (°)\n",
      "2024-03-29 00:54:47,013 : INFO : wind_gusts_10m_ecmwf_ifs (km/h)\n",
      "2024-03-29 00:54:47,013 : INFO : soil_temperature_0_to_7cm_ecmwf_ifs (°C)\n",
      "2024-03-29 00:54:47,013 : INFO : soil_temperature_7_to_28cm_ecmwf_ifs (°C)\n",
      "2024-03-29 00:54:47,014 : INFO : soil_temperature_28_to_100cm_ecmwf_ifs (°C)\n",
      "2024-03-29 00:54:47,014 : INFO : soil_temperature_100_to_255cm_ecmwf_ifs (°C)\n",
      "2024-03-29 00:54:47,014 : INFO : soil_moisture_0_to_7cm_ecmwf_ifs (m³/m³)\n",
      "2024-03-29 00:54:47,014 : INFO : soil_moisture_7_to_28cm_ecmwf_ifs (m³/m³)\n",
      "2024-03-29 00:54:47,015 : INFO : soil_moisture_28_to_100cm_ecmwf_ifs (m³/m³)\n",
      "2024-03-29 00:54:47,015 : INFO : soil_moisture_100_to_255cm_ecmwf_ifs (m³/m³)\n",
      "2024-03-29 00:54:47,015 : INFO : is_day_ecmwf_ifs ()\n",
      "2024-03-29 00:54:47,016 : INFO : sunshine_duration_ecmwf_ifs (s)\n",
      "2024-03-29 00:54:47,016 : INFO : shortwave_radiation_ecmwf_ifs (W/m²)\n",
      "2024-03-29 00:54:47,021 : INFO : direct_radiation_ecmwf_ifs (W/m²)\n",
      "2024-03-29 00:54:47,021 : INFO : diffuse_radiation_ecmwf_ifs (W/m²)\n",
      "2024-03-29 00:54:47,021 : INFO : direct_normal_irradiance_ecmwf_ifs (W/m²)\n",
      "2024-03-29 00:54:47,022 : INFO : global_tilted_irradiance_ecmwf_ifs (W/m²)\n",
      "2024-03-29 00:54:47,022 : INFO : terrestrial_radiation_ecmwf_ifs (W/m²)\n",
      "2024-03-29 00:54:47,022 : INFO : shortwave_radiation_instant_ecmwf_ifs (W/m²)\n",
      "2024-03-29 00:54:47,023 : INFO : direct_radiation_instant_ecmwf_ifs (W/m²)\n",
      "2024-03-29 00:54:47,023 : INFO : diffuse_radiation_instant_ecmwf_ifs (W/m²)\n",
      "2024-03-29 00:54:47,023 : INFO : direct_normal_irradiance_instant_ecmwf_ifs (W/m²)\n",
      "2024-03-29 00:54:47,024 : INFO : global_tilted_irradiance_instant_ecmwf_ifs (W/m²)\n",
      "2024-03-29 00:54:47,024 : INFO : terrestrial_radiation_instant_ecmwf_ifs (W/m²)\n",
      "2024-03-29 00:54:47,024 : INFO : temperature_2m_era5_seamless (°C)\n",
      "2024-03-29 00:54:47,025 : INFO : relative_humidity_2m_era5_seamless (%)\n",
      "2024-03-29 00:54:47,025 : INFO : dew_point_2m_era5_seamless (°C)\n",
      "2024-03-29 00:54:47,025 : INFO : apparent_temperature_era5_seamless (°C)\n",
      "2024-03-29 00:54:47,026 : INFO : precipitation_era5_seamless (mm)\n",
      "2024-03-29 00:54:47,026 : INFO : rain_era5_seamless (mm)\n",
      "2024-03-29 00:54:47,026 : INFO : snowfall_era5_seamless (cm)\n",
      "2024-03-29 00:54:47,026 : INFO : snow_depth_era5_seamless (m)\n",
      "2024-03-29 00:54:47,027 : INFO : weather_code_era5_seamless (wmo code)\n",
      "2024-03-29 00:54:47,027 : INFO : pressure_msl_era5_seamless (hPa)\n",
      "2024-03-29 00:54:47,027 : INFO : surface_pressure_era5_seamless (hPa)\n",
      "2024-03-29 00:54:47,027 : INFO : cloud_cover_era5_seamless (%)\n",
      "2024-03-29 00:54:47,028 : INFO : cloud_cover_low_era5_seamless (%)\n",
      "2024-03-29 00:54:47,028 : INFO : cloud_cover_mid_era5_seamless (%)\n",
      "2024-03-29 00:54:47,028 : INFO : cloud_cover_high_era5_seamless (%)\n",
      "2024-03-29 00:54:47,029 : INFO : et0_fao_evapotranspiration_era5_seamless (mm)\n",
      "2024-03-29 00:54:47,029 : INFO : vapour_pressure_deficit_era5_seamless (kPa)\n",
      "2024-03-29 00:54:47,030 : INFO : wind_speed_10m_era5_seamless (km/h)\n",
      "2024-03-29 00:54:47,033 : INFO : wind_speed_100m_era5_seamless (km/h)\n",
      "2024-03-29 00:54:47,033 : INFO : wind_direction_10m_era5_seamless (°)\n",
      "2024-03-29 00:54:47,033 : INFO : wind_direction_100m_era5_seamless (°)\n",
      "2024-03-29 00:54:47,033 : INFO : wind_gusts_10m_era5_seamless (km/h)\n",
      "2024-03-29 00:54:47,034 : INFO : soil_temperature_0_to_7cm_era5_seamless (°C)\n",
      "2024-03-29 00:54:47,034 : INFO : soil_temperature_7_to_28cm_era5_seamless (°C)\n",
      "2024-03-29 00:54:47,034 : INFO : soil_temperature_28_to_100cm_era5_seamless (°C)\n"
     ]
    },
    {
     "name": "stderr",
     "output_type": "stream",
     "text": [
      "2024-03-29 00:54:47,035 : INFO : soil_temperature_100_to_255cm_era5_seamless (°C)\n",
      "2024-03-29 00:54:47,036 : INFO : soil_moisture_0_to_7cm_era5_seamless (m³/m³)\n",
      "2024-03-29 00:54:47,036 : INFO : soil_moisture_7_to_28cm_era5_seamless (m³/m³)\n",
      "2024-03-29 00:54:47,037 : INFO : soil_moisture_28_to_100cm_era5_seamless (m³/m³)\n",
      "2024-03-29 00:54:47,037 : INFO : soil_moisture_100_to_255cm_era5_seamless (m³/m³)\n",
      "2024-03-29 00:54:47,037 : INFO : is_day_era5_seamless ()\n",
      "2024-03-29 00:54:47,038 : INFO : sunshine_duration_era5_seamless (s)\n",
      "2024-03-29 00:54:47,038 : INFO : shortwave_radiation_era5_seamless (W/m²)\n",
      "2024-03-29 00:54:47,038 : INFO : direct_radiation_era5_seamless (W/m²)\n",
      "2024-03-29 00:54:47,039 : INFO : diffuse_radiation_era5_seamless (W/m²)\n",
      "2024-03-29 00:54:47,040 : INFO : direct_normal_irradiance_era5_seamless (W/m²)\n",
      "2024-03-29 00:54:47,041 : INFO : global_tilted_irradiance_era5_seamless (W/m²)\n",
      "2024-03-29 00:54:47,041 : INFO : terrestrial_radiation_era5_seamless (W/m²)\n",
      "2024-03-29 00:54:47,041 : INFO : shortwave_radiation_instant_era5_seamless (W/m²)\n",
      "2024-03-29 00:54:47,042 : INFO : direct_radiation_instant_era5_seamless (W/m²)\n",
      "2024-03-29 00:54:47,042 : INFO : diffuse_radiation_instant_era5_seamless (W/m²)\n",
      "2024-03-29 00:54:47,042 : INFO : direct_normal_irradiance_instant_era5_seamless (W/m²)\n",
      "2024-03-29 00:54:47,042 : INFO : global_tilted_irradiance_instant_era5_seamless (W/m²)\n",
      "2024-03-29 00:54:47,043 : INFO : terrestrial_radiation_instant_era5_seamless (W/m²)\n",
      "2024-03-29 00:54:47,043 : INFO : temperature_2m_era5 (°C)\n",
      "2024-03-29 00:54:47,043 : INFO : relative_humidity_2m_era5 (%)\n",
      "2024-03-29 00:54:47,044 : INFO : dew_point_2m_era5 (°C)\n",
      "2024-03-29 00:54:47,044 : INFO : apparent_temperature_era5 (°C)\n",
      "2024-03-29 00:54:47,044 : INFO : precipitation_era5 (mm)\n",
      "2024-03-29 00:54:47,044 : INFO : rain_era5 (mm)\n",
      "2024-03-29 00:54:47,045 : INFO : snowfall_era5 (cm)\n",
      "2024-03-29 00:54:47,045 : INFO : snow_depth_era5 (m)\n",
      "2024-03-29 00:54:47,045 : INFO : weather_code_era5 (wmo code)\n",
      "2024-03-29 00:54:47,046 : INFO : pressure_msl_era5 (hPa)\n",
      "2024-03-29 00:54:47,046 : INFO : surface_pressure_era5 (hPa)\n",
      "2024-03-29 00:54:47,046 : INFO : cloud_cover_era5 (%)\n",
      "2024-03-29 00:54:47,047 : INFO : cloud_cover_low_era5 (%)\n",
      "2024-03-29 00:54:47,047 : INFO : cloud_cover_mid_era5 (%)\n",
      "2024-03-29 00:54:47,047 : INFO : cloud_cover_high_era5 (%)\n",
      "2024-03-29 00:54:47,048 : INFO : et0_fao_evapotranspiration_era5 (mm)\n",
      "2024-03-29 00:54:47,048 : INFO : vapour_pressure_deficit_era5 (kPa)\n",
      "2024-03-29 00:54:47,048 : INFO : wind_speed_10m_era5 (km/h)\n",
      "2024-03-29 00:54:47,048 : INFO : wind_speed_100m_era5 (km/h)\n",
      "2024-03-29 00:54:47,052 : INFO : wind_direction_10m_era5 (°)\n",
      "2024-03-29 00:54:47,053 : INFO : wind_direction_100m_era5 (°)\n",
      "2024-03-29 00:54:47,053 : INFO : wind_gusts_10m_era5 (km/h)\n",
      "2024-03-29 00:54:47,053 : INFO : soil_temperature_0_to_7cm_era5 (°C)\n",
      "2024-03-29 00:54:47,054 : INFO : soil_temperature_7_to_28cm_era5 (°C)\n",
      "2024-03-29 00:54:47,054 : INFO : soil_temperature_28_to_100cm_era5 (°C)\n",
      "2024-03-29 00:54:47,054 : INFO : soil_temperature_100_to_255cm_era5 (°C)\n",
      "2024-03-29 00:54:47,055 : INFO : soil_moisture_0_to_7cm_era5 (m³/m³)\n",
      "2024-03-29 00:54:47,055 : INFO : soil_moisture_7_to_28cm_era5 (m³/m³)\n",
      "2024-03-29 00:54:47,057 : INFO : soil_moisture_28_to_100cm_era5 (m³/m³)\n",
      "2024-03-29 00:54:47,057 : INFO : soil_moisture_100_to_255cm_era5 (m³/m³)\n",
      "2024-03-29 00:54:47,058 : INFO : is_day_era5 ()\n",
      "2024-03-29 00:54:47,058 : INFO : sunshine_duration_era5 (s)\n",
      "2024-03-29 00:54:47,058 : INFO : shortwave_radiation_era5 (W/m²)\n",
      "2024-03-29 00:54:47,059 : INFO : direct_radiation_era5 (W/m²)\n",
      "2024-03-29 00:54:47,059 : INFO : diffuse_radiation_era5 (W/m²)\n",
      "2024-03-29 00:54:47,060 : INFO : direct_normal_irradiance_era5 (W/m²)\n",
      "2024-03-29 00:54:47,060 : INFO : global_tilted_irradiance_era5 (W/m²)\n",
      "2024-03-29 00:54:47,061 : INFO : terrestrial_radiation_era5 (W/m²)\n",
      "2024-03-29 00:54:47,061 : INFO : shortwave_radiation_instant_era5 (W/m²)\n",
      "2024-03-29 00:54:47,061 : INFO : direct_radiation_instant_era5 (W/m²)\n",
      "2024-03-29 00:54:47,062 : INFO : diffuse_radiation_instant_era5 (W/m²)\n",
      "2024-03-29 00:54:47,062 : INFO : direct_normal_irradiance_instant_era5 (W/m²)\n",
      "2024-03-29 00:54:47,062 : INFO : global_tilted_irradiance_instant_era5 (W/m²)\n",
      "2024-03-29 00:54:47,063 : INFO : terrestrial_radiation_instant_era5 (W/m²)\n",
      "2024-03-29 00:54:47,063 : INFO : temperature_2m_era5_land (°C)\n",
      "2024-03-29 00:54:47,063 : INFO : relative_humidity_2m_era5_land (%)\n",
      "2024-03-29 00:54:47,064 : INFO : dew_point_2m_era5_land (°C)\n",
      "2024-03-29 00:54:47,064 : INFO : apparent_temperature_era5_land (°C)\n",
      "2024-03-29 00:54:47,064 : INFO : precipitation_era5_land (mm)\n",
      "2024-03-29 00:54:47,066 : INFO : rain_era5_land (mm)\n",
      "2024-03-29 00:54:47,067 : INFO : snowfall_era5_land (cm)\n",
      "2024-03-29 00:54:47,067 : INFO : snow_depth_era5_land (m)\n",
      "2024-03-29 00:54:47,067 : INFO : weather_code_era5_land (wmo code)\n",
      "2024-03-29 00:54:47,068 : INFO : pressure_msl_era5_land (hPa)\n",
      "2024-03-29 00:54:47,068 : INFO : surface_pressure_era5_land (hPa)\n",
      "2024-03-29 00:54:47,068 : INFO : cloud_cover_era5_land (%)\n",
      "2024-03-29 00:54:47,069 : INFO : cloud_cover_low_era5_land (%)\n",
      "2024-03-29 00:54:47,070 : INFO : cloud_cover_mid_era5_land (%)\n",
      "2024-03-29 00:54:47,070 : INFO : cloud_cover_high_era5_land (%)\n",
      "2024-03-29 00:54:47,070 : INFO : et0_fao_evapotranspiration_era5_land (mm)\n",
      "2024-03-29 00:54:47,071 : INFO : vapour_pressure_deficit_era5_land (kPa)\n",
      "2024-03-29 00:54:47,071 : INFO : wind_speed_10m_era5_land (km/h)\n",
      "2024-03-29 00:54:47,071 : INFO : wind_speed_100m_era5_land (km/h)\n",
      "2024-03-29 00:54:47,073 : INFO : wind_direction_10m_era5_land (°)\n",
      "2024-03-29 00:54:47,073 : INFO : wind_direction_100m_era5_land (°)\n",
      "2024-03-29 00:54:47,073 : INFO : wind_gusts_10m_era5_land (km/h)\n",
      "2024-03-29 00:54:47,074 : INFO : soil_temperature_0_to_7cm_era5_land (°C)\n",
      "2024-03-29 00:54:47,074 : INFO : soil_temperature_7_to_28cm_era5_land (°C)\n",
      "2024-03-29 00:54:47,074 : INFO : soil_temperature_28_to_100cm_era5_land (°C)\n",
      "2024-03-29 00:54:47,075 : INFO : soil_temperature_100_to_255cm_era5_land (°C)\n",
      "2024-03-29 00:54:47,075 : INFO : soil_moisture_0_to_7cm_era5_land (m³/m³)\n",
      "2024-03-29 00:54:47,076 : INFO : soil_moisture_7_to_28cm_era5_land (m³/m³)\n",
      "2024-03-29 00:54:47,076 : INFO : soil_moisture_28_to_100cm_era5_land (m³/m³)\n",
      "2024-03-29 00:54:47,076 : INFO : soil_moisture_100_to_255cm_era5_land (m³/m³)\n",
      "2024-03-29 00:54:47,077 : INFO : is_day_era5_land ()\n",
      "2024-03-29 00:54:47,078 : INFO : sunshine_duration_era5_land (s)\n",
      "2024-03-29 00:54:47,079 : INFO : shortwave_radiation_era5_land (W/m²)\n",
      "2024-03-29 00:54:47,079 : INFO : direct_radiation_era5_land (W/m²)\n",
      "2024-03-29 00:54:47,080 : INFO : diffuse_radiation_era5_land (W/m²)\n",
      "2024-03-29 00:54:47,080 : INFO : direct_normal_irradiance_era5_land (W/m²)\n",
      "2024-03-29 00:54:47,080 : INFO : global_tilted_irradiance_era5_land (W/m²)\n",
      "2024-03-29 00:54:47,080 : INFO : terrestrial_radiation_era5_land (W/m²)\n",
      "2024-03-29 00:54:47,081 : INFO : shortwave_radiation_instant_era5_land (W/m²)\n",
      "2024-03-29 00:54:47,081 : INFO : direct_radiation_instant_era5_land (W/m²)\n",
      "2024-03-29 00:54:47,082 : INFO : diffuse_radiation_instant_era5_land (W/m²)\n",
      "2024-03-29 00:54:47,082 : INFO : direct_normal_irradiance_instant_era5_land (W/m²)\n",
      "2024-03-29 00:54:47,082 : INFO : global_tilted_irradiance_instant_era5_land (W/m²)\n",
      "2024-03-29 00:54:47,082 : INFO : terrestrial_radiation_instant_era5_land (W/m²)\n",
      "2024-03-29 00:54:47,083 : INFO : 光伏用户编号\n",
      "2024-03-29 00:54:47,083 : INFO : weather_code (wmo code)\n",
      "2024-03-29 00:54:47,083 : INFO : temperature_2m_max (°C)\n",
      "2024-03-29 00:54:47,084 : INFO : temperature_2m_min (°C)\n",
      "2024-03-29 00:54:47,084 : INFO : temperature_2m_mean (°C)\n",
      "2024-03-29 00:54:47,084 : INFO : apparent_temperature_max (°C)\n",
      "2024-03-29 00:54:47,085 : INFO : apparent_temperature_min (°C)\n",
      "2024-03-29 00:54:47,085 : INFO : apparent_temperature_mean (°C)\n",
      "2024-03-29 00:54:47,085 : INFO : sunrise (iso8601)\n",
      "2024-03-29 00:54:47,086 : INFO : sunset (iso8601)\n",
      "2024-03-29 00:54:47,089 : INFO : daylight_duration (s)\n",
      "2024-03-29 00:54:47,089 : INFO : sunshine_duration (s)\n",
      "2024-03-29 00:54:47,089 : INFO : precipitation_sum (mm)\n",
      "2024-03-29 00:54:47,090 : INFO : rain_sum (mm)\n",
      "2024-03-29 00:54:47,090 : INFO : snowfall_sum (cm)\n",
      "2024-03-29 00:54:47,091 : INFO : precipitation_hours (h)\n"
     ]
    },
    {
     "name": "stderr",
     "output_type": "stream",
     "text": [
      "2024-03-29 00:54:47,091 : INFO : wind_speed_10m_max (km/h)\n",
      "2024-03-29 00:54:47,092 : INFO : wind_gusts_10m_max (km/h)\n",
      "2024-03-29 00:54:47,092 : INFO : wind_direction_10m_dominant (°)\n",
      "2024-03-29 00:54:47,093 : INFO : shortwave_radiation_sum (MJ/m²)\n",
      "2024-03-29 00:54:47,093 : INFO : et0_fao_evapotranspiration (mm)\n"
     ]
    }
   ],
   "source": [
    "outer_data[\"日期\"] = outer_data[\"时间\"].dt.date\n",
    "outer_day_data[\"日期\"] = outer_day_data[\"时间\"].dt.date\n",
    "outer_day_data = outer_day_data.drop(columns=[\"时间\"])\n",
    "outer_data = pd.merge(outer_data, outer_day_data, on=[\"光伏用户编号\", \"日期\"], how=\"left\").drop(columns=[\"日期\"])\n",
    "for column in outer_data.columns:\n",
    "    logging.info(column)"
   ]
  },
  {
   "cell_type": "markdown",
   "metadata": {},
   "source": [
    "<h3>整合数据</h3>"
   ]
  },
  {
   "cell_type": "code",
   "execution_count": 9,
   "metadata": {
    "ExecuteTime": {
     "end_time": "2024-03-28T16:54:47.561919Z",
     "start_time": "2024-03-28T16:54:47.097917Z"
    }
   },
   "outputs": [],
   "source": [
    "df = pd.merge(df, outer_data[[\n",
    "    \"光伏用户编号\", \n",
    "    \"时间\",\n",
    "    \"apparent_temperature_archive_best_match (°C)\", \n",
    "    \"surface_pressure_archive_best_match (hPa)\",\n",
    "    \"is_day_archive_best_match ()\",\n",
    "    \"relative_humidity_2m_archive_best_match (%)\",\n",
    "    \"cloud_cover_archive_best_match (%)\",\n",
    "    \"global_tilted_irradiance_instant_archive_best_match (W/m²)\",\n",
    "    \"precipitation_archive_best_match (mm)\",\n",
    "    \"wind_speed_10m_archive_best_match (km/h)\",\n",
    "    \"wind_speed_100m_archive_best_match (km/h)\",\n",
    "    \"wind_direction_10m_archive_best_match (°)\",\n",
    "    \"wind_direction_100m_archive_best_match (°)\",\n",
    "    \"sunshine_duration_archive_best_match (s)\",\n",
    "    \"weather_code_archive_best_match (wmo code)\",\n",
    "    \"temperature_2m_max (°C)\",\n",
    "    \"temperature_2m_min (°C)\",\n",
    "    \"temperature_2m_mean (°C)\",\n",
    "    \"precipitation_sum (mm)\",\n",
    "    \"rain_sum (mm)\",\n",
    "    \"snowfall_sum (cm)\"\n",
    "]], how=\"left\", on=[\"光伏用户编号\", \"时间\"])\n",
    "\n",
    "df[\"温度（K）\"] = df[\"apparent_temperature_archive_best_match (°C)\"] + 273.15\n",
    "df[\"气压(Pa）\"] = df[\"surface_pressure_archive_best_match (hPa)\"] * 100\n",
    "df[\"是白天\"] = df[\"is_day_archive_best_match ()\"].copy()\n",
    "df[\"相对湿度（%）\"] = df[\"relative_humidity_2m_archive_best_match (%)\"].copy()\n",
    "df[\"云量\"] = df[\"cloud_cover_archive_best_match (%)\"] / 100\n",
    "df[\"辐照强度（J/m2）\"] = df[\"global_tilted_irradiance_instant_archive_best_match (W/m²)\"] * 15 * 60\n",
    "df[\"降水（m）\"] = df[\"precipitation_archive_best_match (mm)\"] / 1000\n",
    "df[\"10米风速（10m/s）\"] = df[\"wind_speed_10m_archive_best_match (km/h)\"] / 3600 * 100\n",
    "df[\"100m风速（100m/s）\"] = df[\"wind_speed_100m_archive_best_match (km/h)\"] / 3600 * 10\n",
    "df[\"10米风向（°)\"] = df[\"wind_direction_10m_archive_best_match (°)\"].copy()\n",
    "df[\"100m风向（°)\"] = df[\"wind_direction_100m_archive_best_match (°)\"].copy()\n",
    "\n",
    "df = df.drop(columns=[\n",
    "    \"apparent_temperature_archive_best_match (°C)\", \n",
    "    \"surface_pressure_archive_best_match (hPa)\",\n",
    "    \"is_day_archive_best_match ()\",\n",
    "    \"relative_humidity_2m_archive_best_match (%)\",\n",
    "    \"cloud_cover_archive_best_match (%)\",\n",
    "    \"global_tilted_irradiance_instant_archive_best_match (W/m²)\",\n",
    "    \"precipitation_archive_best_match (mm)\",\n",
    "    \"wind_speed_10m_archive_best_match (km/h)\",\n",
    "    \"wind_speed_100m_archive_best_match (km/h)\",\n",
    "    \"wind_direction_10m_archive_best_match (°)\",\n",
    "    \"wind_direction_100m_archive_best_match (°)\"\n",
    "])"
   ]
  },
  {
   "cell_type": "markdown",
   "metadata": {},
   "source": [
    "<h2>特征工程</h2>"
   ]
  },
  {
   "cell_type": "markdown",
   "metadata": {},
   "source": [
    "<h3>时间特征</h3>"
   ]
  },
  {
   "cell_type": "code",
   "execution_count": 10,
   "metadata": {
    "ExecuteTime": {
     "end_time": "2024-03-28T16:54:47.702910Z",
     "start_time": "2024-03-28T16:54:47.562919Z"
    }
   },
   "outputs": [
    {
     "name": "stderr",
     "output_type": "stream",
     "text": [
      "C:\\Program Files\\Python37\\lib\\site-packages\\ipykernel_launcher.py:5: FutureWarning: Series.dt.weekofyear and Series.dt.week have been deprecated.  Please use Series.dt.isocalendar().week instead.\n",
      "  \"\"\"\n"
     ]
    }
   ],
   "source": [
    "df[\"年\"] = df[\"时间\"].dt.year\n",
    "df[\"季节\"] = df[\"时间\"].dt.quarter\n",
    "df[\"月\"] = df[\"时间\"].dt.month\n",
    "df[\"日\"] = df[\"时间\"].dt.day\n",
    "df[\"周\"] = df[\"时间\"].dt.week\n",
    "df[\"分\"] = df[\"时间\"].dt.minute // 15 + df[\"时间\"].dt.hour * 4"
   ]
  },
  {
   "cell_type": "code",
   "execution_count": 11,
   "metadata": {
    "ExecuteTime": {
     "end_time": "2024-03-28T16:54:47.705911Z",
     "start_time": "2024-03-28T16:54:47.703910Z"
    }
   },
   "outputs": [],
   "source": [
    "# df[\"分_\"] = df[\"分\"].copy()\n",
    "# df = pd.get_dummies(df, columns=[\"分_\"], prefix_sep=\"\")"
   ]
  },
  {
   "cell_type": "markdown",
   "metadata": {},
   "source": [
    "<h3>根据日出时间日落时间计算时间段</h3>"
   ]
  },
  {
   "cell_type": "code",
   "execution_count": 12,
   "metadata": {
    "ExecuteTime": {
     "end_time": "2024-03-28T16:54:47.716926Z",
     "start_time": "2024-03-28T16:54:47.706911Z"
    }
   },
   "outputs": [],
   "source": [
    "def solar_time(current_time, dawn_time, sunrise_time, noon_time, sunset_time, dusk_time) -> int:\n",
    "    \"\"\"\n",
    "    根据太阳判断当前时间段\\n\n",
    "    \"\"\"\n",
    "    if dawn_time < current_time < sunrise_time:\n",
    "        return 1\n",
    "    elif sunrise_time <= current_time < noon_time:\n",
    "        return 2\n",
    "    elif noon_time <= current_time < sunset_time:\n",
    "        return 3\n",
    "    elif sunset_time <= current_time < dusk_time:\n",
    "        return 4\n",
    "    else:\n",
    "        return 0"
   ]
  },
  {
   "cell_type": "code",
   "execution_count": 13,
   "metadata": {
    "ExecuteTime": {
     "end_time": "2024-03-28T16:54:47.725919Z",
     "start_time": "2024-03-28T16:54:47.717911Z"
    }
   },
   "outputs": [],
   "source": [
    "# df[\"地点\"] = df.apply(lambda x: LocationInfo(name=x[\"光伏用户编号\"], region=\"China\", timezone=\"Asia/Shanghai\", latitude=x[\"纬度\"], longitude=x[\"经度\"]), axis=1)\n",
    "# df[\"黎明时刻\"] = df.apply(lambda x: dawn(x[\"地点\"].observer, date=x[\"时间\"], tzinfo=x[\"地点\"].timezone), axis=1).dt.tz_convert(\"Asia/Shanghai\")\n",
    "# df[\"日出时刻\"] = df.apply(lambda x: sunrise(x[\"地点\"].observer, date=x[\"时间\"], tzinfo=x[\"地点\"].timezone), axis=1).dt.tz_convert(\"Asia/Shanghai\")\n",
    "# df[\"正午时刻\"] = df.apply(lambda x: noon(x[\"地点\"].observer, date=x[\"时间\"], tzinfo=x[\"地点\"].timezone), axis=1).dt.tz_convert(\"Asia/Shanghai\")\n",
    "# df[\"日落时刻\"] = df.apply(lambda x: sunset(x[\"地点\"].observer, date=x[\"时间\"], tzinfo=x[\"地点\"].timezone), axis=1).dt.tz_convert(\"Asia/Shanghai\")\n",
    "# df[\"黄昏时刻\"] = df.apply(lambda x: dusk(x[\"地点\"].observer, date=x[\"时间\"], tzinfo=x[\"地点\"].timezone), axis=1).dt.tz_convert(\"Asia/Shanghai\")\n",
    "# df[\"时间段\"] = df.apply(lambda x: solar_time(x[\"时间\"], x[\"黎明时刻\"], x[\"日出时刻\"], x[\"正午时刻\"], x[\"日落时刻\"], x[\"黄昏时刻\"]), axis=1)\n",
    "# df = df.drop(columns=[\"地点\", \"黎明时刻\", \"日出时刻\", \"正午时刻\", \"日落时刻\", \"黄昏时刻\"])"
   ]
  },
  {
   "cell_type": "markdown",
   "metadata": {},
   "source": [
    "<h3>光伏用户编号</h3>"
   ]
  },
  {
   "cell_type": "code",
   "execution_count": 14,
   "metadata": {
    "ExecuteTime": {
     "end_time": "2024-03-28T16:54:47.890918Z",
     "start_time": "2024-03-28T16:54:47.726911Z"
    }
   },
   "outputs": [],
   "source": [
    "df[\"光伏用户编号_\"] = df[\"光伏用户编号\"].copy()\n",
    "df = pd.get_dummies(df, columns=[\"光伏用户编号_\"], prefix_sep=\"\")"
   ]
  },
  {
   "cell_type": "markdown",
   "metadata": {},
   "source": [
    "<h3>气象特征</h3>"
   ]
  },
  {
   "cell_type": "code",
   "execution_count": 15,
   "metadata": {
    "ExecuteTime": {
     "end_time": "2024-03-28T16:54:47.915922Z",
     "start_time": "2024-03-28T16:54:47.891919Z"
    }
   },
   "outputs": [],
   "source": [
    "df['100m风速（100m/s）'] = df['100m风速（100m/s）'] * np.sin(np.pi * df['100m风向（°)'] / 180)\n",
    "# df['cos_100m风速（100m/s）'] = df['100m风速（100m/s）'] * np.cos(np.pi * df['100m风向（°)'] / 180)\n",
    "df['10米风速（10m/s）'] = df['10米风速（10m/s）'] * np.sin(np.pi * df['10米风向（°)'] / 180)\n",
    "# df['cos_10米风速（10m/s）'] = df['10米风速（10m/s）'] * np.cos(np.pi * df['10米风向（°)'] / 180)"
   ]
  },
  {
   "cell_type": "code",
   "execution_count": 16,
   "metadata": {
    "ExecuteTime": {
     "end_time": "2024-03-28T16:54:47.923911Z",
     "start_time": "2024-03-28T16:54:47.916919Z"
    }
   },
   "outputs": [],
   "source": [
    "df[\"光照/温度\"] = df[\"辐照强度（J/m2）\"] / df[\"温度（K）\"]"
   ]
  },
  {
   "cell_type": "markdown",
   "metadata": {},
   "source": [
    "<h3>历史值特征</h3>"
   ]
  },
  {
   "cell_type": "code",
   "execution_count": 17,
   "metadata": {
    "ExecuteTime": {
     "end_time": "2024-03-28T16:54:48.323911Z",
     "start_time": "2024-03-28T16:54:47.924911Z"
    }
   },
   "outputs": [],
   "source": [
    "dfs = []\n",
    "for site, df_site in df.groupby(\"光伏用户编号\"):\n",
    "    df_site = df_site.sort_values(\"时间\")\n",
    "    df_site[\"辐照强度（J/m2） - 1\"] = df_site[\"辐照强度（J/m2）\"].shift(1) - df_site[\"辐照强度（J/m2）\"]\n",
    "    df_site[\"辐照强度（J/m2） - 8\"] = df_site[\"辐照强度（J/m2）\"].shift(8) - df_site[\"辐照强度（J/m2）\"]\n",
    "#     df_site[\"辐照强度（J/m2） - 2\"] = df_site[\"辐照强度（J/m2）\"].shift(2) - df_site[\"辐照强度（J/m2）\"]\n",
    "    dfs.append(df_site)\n",
    "df = pd.concat(dfs, axis=0)"
   ]
  },
  {
   "cell_type": "markdown",
   "metadata": {},
   "source": [
    "<h3>处理异常值</h3>"
   ]
  },
  {
   "cell_type": "code",
   "execution_count": 18,
   "metadata": {
    "ExecuteTime": {
     "end_time": "2024-03-28T16:54:48.354922Z",
     "start_time": "2024-03-28T16:54:48.324919Z"
    }
   },
   "outputs": [
    {
     "name": "stdout",
     "output_type": "stream",
     "text": [
      "207630   -8.8900\n",
      "37316    -0.0085\n",
      "39139    -0.0084\n",
      "Name: target, dtype: float64\n"
     ]
    },
    {
     "data": {
      "text/html": [
       "<div>\n",
       "<style scoped>\n",
       "    .dataframe tbody tr th:only-of-type {\n",
       "        vertical-align: middle;\n",
       "    }\n",
       "\n",
       "    .dataframe tbody tr th {\n",
       "        vertical-align: top;\n",
       "    }\n",
       "\n",
       "    .dataframe thead th {\n",
       "        text-align: right;\n",
       "    }\n",
       "</style>\n",
       "<table border=\"1\" class=\"dataframe\">\n",
       "  <thead>\n",
       "    <tr style=\"text-align: right;\">\n",
       "      <th></th>\n",
       "      <th>光伏用户编号</th>\n",
       "      <th>时间</th>\n",
       "      <th>target</th>\n",
       "    </tr>\n",
       "  </thead>\n",
       "  <tbody>\n",
       "    <tr>\n",
       "      <th>207628</th>\n",
       "      <td>f6</td>\n",
       "      <td>2022-08-15 20:30:00+08:00</td>\n",
       "      <td>-0.002</td>\n",
       "    </tr>\n",
       "    <tr>\n",
       "      <th>207629</th>\n",
       "      <td>f6</td>\n",
       "      <td>2022-08-15 20:45:00+08:00</td>\n",
       "      <td>-0.002</td>\n",
       "    </tr>\n",
       "    <tr>\n",
       "      <th>207630</th>\n",
       "      <td>f6</td>\n",
       "      <td>2022-08-15 21:00:00+08:00</td>\n",
       "      <td>-8.890</td>\n",
       "    </tr>\n",
       "    <tr>\n",
       "      <th>207631</th>\n",
       "      <td>f6</td>\n",
       "      <td>2022-08-15 21:15:00+08:00</td>\n",
       "      <td>-0.002</td>\n",
       "    </tr>\n",
       "    <tr>\n",
       "      <th>207632</th>\n",
       "      <td>f6</td>\n",
       "      <td>2022-08-15 21:30:00+08:00</td>\n",
       "      <td>NaN</td>\n",
       "    </tr>\n",
       "    <tr>\n",
       "      <th>207633</th>\n",
       "      <td>f6</td>\n",
       "      <td>2022-08-15 21:45:00+08:00</td>\n",
       "      <td>NaN</td>\n",
       "    </tr>\n",
       "  </tbody>\n",
       "</table>\n",
       "</div>"
      ],
      "text/plain": [
       "       光伏用户编号                        时间  target\n",
       "207628     f6 2022-08-15 20:30:00+08:00  -0.002\n",
       "207629     f6 2022-08-15 20:45:00+08:00  -0.002\n",
       "207630     f6 2022-08-15 21:00:00+08:00  -8.890\n",
       "207631     f6 2022-08-15 21:15:00+08:00  -0.002\n",
       "207632     f6 2022-08-15 21:30:00+08:00     NaN\n",
       "207633     f6 2022-08-15 21:45:00+08:00     NaN"
      ]
     },
     "execution_count": 18,
     "metadata": {},
     "output_type": "execute_result"
    }
   ],
   "source": [
    "print(df_train[\"target\"].nsmallest(3))\n",
    "df_train[df_train[\"target\"] < -8]\n",
    "df.loc[207628:207633, [\"光伏用户编号\", \"时间\", \"target\"]]"
   ]
  },
  {
   "cell_type": "code",
   "execution_count": 19,
   "metadata": {
    "ExecuteTime": {
     "end_time": "2024-03-28T16:54:48.439911Z",
     "start_time": "2024-03-28T16:54:48.355911Z"
    }
   },
   "outputs": [],
   "source": [
    "df.loc[207630, \"target\"] = -0.002"
   ]
  },
  {
   "cell_type": "markdown",
   "metadata": {},
   "source": [
    "<h3>光照与当天最强光照的比值</h3>"
   ]
  },
  {
   "cell_type": "code",
   "execution_count": 20,
   "metadata": {
    "ExecuteTime": {
     "end_time": "2024-03-28T16:54:48.958922Z",
     "start_time": "2024-03-28T16:54:48.440912Z"
    }
   },
   "outputs": [],
   "source": [
    "df[\"日期\"] = df[\"时间\"].dt.date\n",
    "day_max_values = df[[\"光伏用户编号\", \"日期\", \"辐照强度（J/m2）\"]].groupby(by=[\"光伏用户编号\", \"日期\"]).max()\n",
    "day_max_values = day_max_values.rename(columns={x: x + \"_max\" for x in day_max_values.columns}).reset_index()\n",
    "df = pd.merge(df, day_max_values, on=[\"光伏用户编号\", \"日期\"], how=\"left\").drop(columns=[\"日期\"])\n",
    "df[\"辐照强度（J/m2）_max\"] = df[\"辐照强度（J/m2）\"] / df[\"辐照强度（J/m2）_max\"]"
   ]
  },
  {
   "cell_type": "markdown",
   "metadata": {},
   "source": [
    "<h3>当天的平均光照</h3>"
   ]
  },
  {
   "cell_type": "code",
   "execution_count": 21,
   "metadata": {
    "ExecuteTime": {
     "end_time": "2024-03-28T16:54:49.483919Z",
     "start_time": "2024-03-28T16:54:48.959911Z"
    }
   },
   "outputs": [],
   "source": [
    "df[\"日期\"] = df[\"时间\"].dt.date\n",
    "day_mean_values = df[[\"光伏用户编号\", \"日期\", \"辐照强度（J/m2）\"]].groupby(by=[\"光伏用户编号\", \"日期\"]).mean()\n",
    "day_mean_values = day_mean_values.rename(columns={x: x + \"_mean\" for x in day_mean_values.columns}).reset_index()\n",
    "df = pd.merge(df, day_mean_values, on=[\"光伏用户编号\", \"日期\"], how=\"left\").drop(columns=[\"日期\"])"
   ]
  },
  {
   "cell_type": "markdown",
   "metadata": {},
   "source": [
    "<h3>温度与当天最高温最低度的差值</h3>"
   ]
  },
  {
   "cell_type": "code",
   "execution_count": 22,
   "metadata": {
    "ExecuteTime": {
     "end_time": "2024-03-28T16:54:50.213918Z",
     "start_time": "2024-03-28T16:54:49.484918Z"
    }
   },
   "outputs": [],
   "source": [
    "df[\"日期\"] = df[\"时间\"].dt.date\n",
    "day_max_values = df[[\"光伏用户编号\", \"日期\", \"温度（K）\"]].groupby(by=[\"光伏用户编号\", \"日期\"]).max()\n",
    "day_min_values = df[[\"光伏用户编号\", \"日期\", \"温度（K）\"]].groupby(by=[\"光伏用户编号\", \"日期\"]).min()\n",
    "day_max_values = day_max_values.rename(columns={x: x + \"_max\" for x in day_max_values.columns}).reset_index()\n",
    "day_min_values = day_min_values.rename(columns={x: x + \"_min\" for x in day_min_values.columns}).reset_index()\n",
    "df = pd.merge(df, day_max_values, on=[\"光伏用户编号\", \"日期\"], how=\"left\")\n",
    "df = pd.merge(df, day_min_values, on=[\"光伏用户编号\", \"日期\"], how=\"left\").drop(columns=[\"日期\"])\n",
    "df[\"温度（K）_max\"] = df[\"温度（K）_max\"] - df[\"温度（K）\"]\n",
    "df[\"温度（K）_min\"] = df[\"温度（K）\"] - df[\"温度（K）_min\"]"
   ]
  },
  {
   "cell_type": "markdown",
   "metadata": {},
   "source": [
    "<h3>划分测试集</h3>"
   ]
  },
  {
   "cell_type": "code",
   "execution_count": 23,
   "metadata": {
    "ExecuteTime": {
     "end_time": "2024-03-28T16:54:50.298919Z",
     "start_time": "2024-03-28T16:54:50.216920Z"
    }
   },
   "outputs": [],
   "source": [
    "df_train = df[df[\"时间\"] <= df_train[\"时间\"].max()]\n",
    "df_test = df[df[\"时间\"] >= df_test[\"时间\"].min()]"
   ]
  },
  {
   "cell_type": "markdown",
   "metadata": {},
   "source": [
    "<h2>训练模型</h2>"
   ]
  },
  {
   "cell_type": "markdown",
   "metadata": {},
   "source": [
    "<h3>评测指标</h3>"
   ]
  },
  {
   "cell_type": "code",
   "execution_count": 24,
   "metadata": {
    "ExecuteTime": {
     "end_time": "2024-03-28T16:54:50.303920Z",
     "start_time": "2024-03-28T16:54:50.300911Z"
    }
   },
   "outputs": [],
   "source": [
    "def score(y_true, y_pred):\n",
    "    mse = mean_squared_error(y_true, y_pred)\n",
    "    rmse = np.sqrt(mse)\n",
    "    return 1 / (1 + rmse)"
   ]
  },
  {
   "cell_type": "markdown",
   "metadata": {},
   "source": [
    "<h3>lightgbm模型</h3>"
   ]
  },
  {
   "cell_type": "code",
   "execution_count": 25,
   "metadata": {
    "ExecuteTime": {
     "end_time": "2024-03-28T16:54:50.314919Z",
     "start_time": "2024-03-28T16:54:50.304916Z"
    }
   },
   "outputs": [],
   "source": [
    "params_lgb = {\n",
    "    \"num_boost_round\": 1000,\n",
    "    'learning_rate': 0.02,\n",
    "    'boosting_type': 'gbdt',\n",
    "    'objective': 'mse',\n",
    "    'metric': 'mse',\n",
    "    'num_leaves': 127,\n",
    "    'verbose': -1,\n",
    "    'seed': 42,\n",
    "    'n_jobs': -1,\n",
    "    'feature_fraction': 0.8,\n",
    "    'bagging_fraction': 0.9,\n",
    "    'bagging_freq': 4,\n",
    "    \"early_stopping_round\": 100\n",
    "}"
   ]
  },
  {
   "cell_type": "markdown",
   "metadata": {},
   "source": [
    "<h3>交叉验证</h3>"
   ]
  },
  {
   "cell_type": "code",
   "execution_count": 26,
   "metadata": {
    "ExecuteTime": {
     "end_time": "2024-03-28T16:55:51.498909Z",
     "start_time": "2024-03-28T16:54:50.315911Z"
    }
   },
   "outputs": [
    {
     "name": "stderr",
     "output_type": "stream",
     "text": [
      "2024-03-29 00:54:50,515 : INFO : ############ fold: 0 ###########\n",
      "C:\\Program Files\\Python37\\lib\\site-packages\\lightgbm\\engine.py:177: UserWarning: Found `num_boost_round` in params. Will use it instead of argument\n",
      "  _log_warning(f\"Found `{alias}` in params. Will use it instead of argument\")\n",
      "C:\\Program Files\\Python37\\lib\\site-packages\\lightgbm\\basic.py:2068: UserWarning: categorical_feature in Dataset is overridden.\n",
      "New categorical_feature is ['分']\n",
      "  _log_warning('categorical_feature in Dataset is overridden.\\n'\n",
      "C:\\Program Files\\Python37\\lib\\site-packages\\lightgbm\\basic.py:1780: UserWarning: Overriding the parameters from Reference Dataset.\n",
      "  _log_warning('Overriding the parameters from Reference Dataset.')\n",
      "C:\\Program Files\\Python37\\lib\\site-packages\\lightgbm\\basic.py:1513: UserWarning: categorical_column in param dict is overridden.\n",
      "  _log_warning(f'{cat_alias} in param dict is overridden.')\n"
     ]
    },
    {
     "name": "stdout",
     "output_type": "stream",
     "text": [
      "[1000]\ttraining's l2: 0.0123725\tvalid_1's l2: 0.0213687\n"
     ]
    },
    {
     "name": "stderr",
     "output_type": "stream",
     "text": [
      "2024-03-29 00:55:00,255 : INFO : ############ fold: 1 ###########\n",
      "C:\\Program Files\\Python37\\lib\\site-packages\\lightgbm\\engine.py:177: UserWarning: Found `num_boost_round` in params. Will use it instead of argument\n",
      "  _log_warning(f\"Found `{alias}` in params. Will use it instead of argument\")\n",
      "C:\\Program Files\\Python37\\lib\\site-packages\\lightgbm\\basic.py:2068: UserWarning: categorical_feature in Dataset is overridden.\n",
      "New categorical_feature is ['分']\n",
      "  _log_warning('categorical_feature in Dataset is overridden.\\n'\n",
      "C:\\Program Files\\Python37\\lib\\site-packages\\lightgbm\\basic.py:1780: UserWarning: Overriding the parameters from Reference Dataset.\n",
      "  _log_warning('Overriding the parameters from Reference Dataset.')\n",
      "C:\\Program Files\\Python37\\lib\\site-packages\\lightgbm\\basic.py:1513: UserWarning: categorical_column in param dict is overridden.\n",
      "  _log_warning(f'{cat_alias} in param dict is overridden.')\n"
     ]
    },
    {
     "name": "stdout",
     "output_type": "stream",
     "text": [
      "[1000]\ttraining's l2: 0.0125062\tvalid_1's l2: 0.0203278\n"
     ]
    },
    {
     "name": "stderr",
     "output_type": "stream",
     "text": [
      "2024-03-29 00:55:12,325 : INFO : ############ fold: 2 ###########\n",
      "C:\\Program Files\\Python37\\lib\\site-packages\\lightgbm\\engine.py:177: UserWarning: Found `num_boost_round` in params. Will use it instead of argument\n",
      "  _log_warning(f\"Found `{alias}` in params. Will use it instead of argument\")\n",
      "C:\\Program Files\\Python37\\lib\\site-packages\\lightgbm\\basic.py:2068: UserWarning: categorical_feature in Dataset is overridden.\n",
      "New categorical_feature is ['分']\n",
      "  _log_warning('categorical_feature in Dataset is overridden.\\n'\n",
      "C:\\Program Files\\Python37\\lib\\site-packages\\lightgbm\\basic.py:1780: UserWarning: Overriding the parameters from Reference Dataset.\n",
      "  _log_warning('Overriding the parameters from Reference Dataset.')\n",
      "C:\\Program Files\\Python37\\lib\\site-packages\\lightgbm\\basic.py:1513: UserWarning: categorical_column in param dict is overridden.\n",
      "  _log_warning(f'{cat_alias} in param dict is overridden.')\n"
     ]
    },
    {
     "name": "stdout",
     "output_type": "stream",
     "text": [
      "[1000]\ttraining's l2: 0.0125213\tvalid_1's l2: 0.0203694\n"
     ]
    },
    {
     "name": "stderr",
     "output_type": "stream",
     "text": [
      "2024-03-29 00:55:25,181 : INFO : ############ fold: 3 ###########\n",
      "C:\\Program Files\\Python37\\lib\\site-packages\\lightgbm\\engine.py:177: UserWarning: Found `num_boost_round` in params. Will use it instead of argument\n",
      "  _log_warning(f\"Found `{alias}` in params. Will use it instead of argument\")\n",
      "C:\\Program Files\\Python37\\lib\\site-packages\\lightgbm\\basic.py:2068: UserWarning: categorical_feature in Dataset is overridden.\n",
      "New categorical_feature is ['分']\n",
      "  _log_warning('categorical_feature in Dataset is overridden.\\n'\n",
      "C:\\Program Files\\Python37\\lib\\site-packages\\lightgbm\\basic.py:1780: UserWarning: Overriding the parameters from Reference Dataset.\n",
      "  _log_warning('Overriding the parameters from Reference Dataset.')\n",
      "C:\\Program Files\\Python37\\lib\\site-packages\\lightgbm\\basic.py:1513: UserWarning: categorical_column in param dict is overridden.\n",
      "  _log_warning(f'{cat_alias} in param dict is overridden.')\n"
     ]
    },
    {
     "name": "stdout",
     "output_type": "stream",
     "text": [
      "[1000]\ttraining's l2: 0.0124912\tvalid_1's l2: 0.0203369\n"
     ]
    },
    {
     "name": "stderr",
     "output_type": "stream",
     "text": [
      "2024-03-29 00:55:38,161 : INFO : ############ fold: 4 ###########\n",
      "C:\\Program Files\\Python37\\lib\\site-packages\\lightgbm\\engine.py:177: UserWarning: Found `num_boost_round` in params. Will use it instead of argument\n",
      "  _log_warning(f\"Found `{alias}` in params. Will use it instead of argument\")\n",
      "C:\\Program Files\\Python37\\lib\\site-packages\\lightgbm\\basic.py:2068: UserWarning: categorical_feature in Dataset is overridden.\n",
      "New categorical_feature is ['分']\n",
      "  _log_warning('categorical_feature in Dataset is overridden.\\n'\n",
      "C:\\Program Files\\Python37\\lib\\site-packages\\lightgbm\\basic.py:1780: UserWarning: Overriding the parameters from Reference Dataset.\n",
      "  _log_warning('Overriding the parameters from Reference Dataset.')\n",
      "C:\\Program Files\\Python37\\lib\\site-packages\\lightgbm\\basic.py:1513: UserWarning: categorical_column in param dict is overridden.\n",
      "  _log_warning(f'{cat_alias} in param dict is overridden.')\n"
     ]
    },
    {
     "name": "stdout",
     "output_type": "stream",
     "text": [
      "[1000]\ttraining's l2: 0.0123457\tvalid_1's l2: 0.0214228\n"
     ]
    },
    {
     "name": "stderr",
     "output_type": "stream",
     "text": [
      "2024-03-29 00:55:51,494 : INFO : --------------本地分数 0.7563039169719498--------------\n"
     ]
    }
   ],
   "source": [
    "model_lgb = []\n",
    "kfold = KFold(n_splits=5, random_state=42, shuffle=True)\n",
    "\n",
    "x = df_train.drop(columns=[\"光伏用户编号\", \"时间\"]).dropna().astype(np.float32)\n",
    "y = x.pop(\"target\")\n",
    "mse = 0\n",
    "for fold, (train_index, val_index) in enumerate(kfold.split(x, y)):\n",
    "    logging.info(f'############ fold: {fold} ###########')\n",
    "    x_train, x_val, y_train, y_val = x.iloc[train_index], x.iloc[val_index], y.iloc[train_index], y.iloc[val_index]\n",
    "    trainset = Dataset(x_train, y_train)\n",
    "    valset = Dataset(x_val, y_val)\n",
    "    model = lgb.train(params_lgb, trainset, valid_sets=[trainset, valset], categorical_feature=[\"分\"], callbacks=[lgb.log_evaluation(1000)])\n",
    "    model.save_model(\"../models/lgb_%d.txt\" % fold)\n",
    "    model_lgb.append(model)\n",
    "    val_pred = Series(model.predict(x_val, num_iteration=model.best_iteration), index=y_val.index).fillna(0)\n",
    "    mse += mean_squared_error(y_val.fillna(0), val_pred)\n",
    "rmse = np.sqrt(mse)\n",
    "score = 1 / (1 + rmse)\n",
    "logging.info(f\"--------------本地分数 {score}--------------\")"
   ]
  },
  {
   "cell_type": "code",
   "execution_count": 27,
   "metadata": {
    "ExecuteTime": {
     "end_time": "2024-03-28T16:55:51.524910Z",
     "start_time": "2024-03-28T16:55:51.501910Z"
    }
   },
   "outputs": [
    {
     "data": {
      "text/html": [
       "<div>\n",
       "<style scoped>\n",
       "    .dataframe tbody tr th:only-of-type {\n",
       "        vertical-align: middle;\n",
       "    }\n",
       "\n",
       "    .dataframe tbody tr th {\n",
       "        vertical-align: top;\n",
       "    }\n",
       "\n",
       "    .dataframe thead th {\n",
       "        text-align: right;\n",
       "    }\n",
       "</style>\n",
       "<table border=\"1\" class=\"dataframe\">\n",
       "  <thead>\n",
       "    <tr style=\"text-align: right;\">\n",
       "      <th></th>\n",
       "      <th>特征</th>\n",
       "      <th>重要性</th>\n",
       "    </tr>\n",
       "  </thead>\n",
       "  <tbody>\n",
       "    <tr>\n",
       "      <th>42</th>\n",
       "      <td>辐照强度（J/m2）_mean</td>\n",
       "      <td>8262.6</td>\n",
       "    </tr>\n",
       "    <tr>\n",
       "      <th>0</th>\n",
       "      <td>气压(Pa）</td>\n",
       "      <td>7919.2</td>\n",
       "    </tr>\n",
       "    <tr>\n",
       "      <th>2</th>\n",
       "      <td>云量</td>\n",
       "      <td>5975.0</td>\n",
       "    </tr>\n",
       "    <tr>\n",
       "      <th>26</th>\n",
       "      <td>日</td>\n",
       "      <td>5679.6</td>\n",
       "    </tr>\n",
       "    <tr>\n",
       "      <th>17</th>\n",
       "      <td>temperature_2m_min_(°C)</td>\n",
       "      <td>5604.8</td>\n",
       "    </tr>\n",
       "    <tr>\n",
       "      <th>16</th>\n",
       "      <td>temperature_2m_max_(°C)</td>\n",
       "      <td>5286.0</td>\n",
       "    </tr>\n",
       "    <tr>\n",
       "      <th>1</th>\n",
       "      <td>相对湿度（%）</td>\n",
       "      <td>5285.8</td>\n",
       "    </tr>\n",
       "    <tr>\n",
       "      <th>28</th>\n",
       "      <td>分</td>\n",
       "      <td>4877.4</td>\n",
       "    </tr>\n",
       "    <tr>\n",
       "      <th>44</th>\n",
       "      <td>温度（K）_min</td>\n",
       "      <td>4826.6</td>\n",
       "    </tr>\n",
       "    <tr>\n",
       "      <th>39</th>\n",
       "      <td>辐照强度（J/m2）_-_1</td>\n",
       "      <td>4821.8</td>\n",
       "    </tr>\n",
       "    <tr>\n",
       "      <th>19</th>\n",
       "      <td>precipitation_sum_(mm)</td>\n",
       "      <td>4816.6</td>\n",
       "    </tr>\n",
       "    <tr>\n",
       "      <th>40</th>\n",
       "      <td>辐照强度（J/m2）_-_8</td>\n",
       "      <td>4603.4</td>\n",
       "    </tr>\n",
       "    <tr>\n",
       "      <th>18</th>\n",
       "      <td>temperature_2m_mean_(°C)</td>\n",
       "      <td>4576.2</td>\n",
       "    </tr>\n",
       "    <tr>\n",
       "      <th>5</th>\n",
       "      <td>温度（K）</td>\n",
       "      <td>4138.2</td>\n",
       "    </tr>\n",
       "    <tr>\n",
       "      <th>3</th>\n",
       "      <td>10米风速（10m/s）</td>\n",
       "      <td>3982.0</td>\n",
       "    </tr>\n",
       "    <tr>\n",
       "      <th>27</th>\n",
       "      <td>周</td>\n",
       "      <td>3757.8</td>\n",
       "    </tr>\n",
       "    <tr>\n",
       "      <th>43</th>\n",
       "      <td>温度（K）_max</td>\n",
       "      <td>3737.0</td>\n",
       "    </tr>\n",
       "    <tr>\n",
       "      <th>41</th>\n",
       "      <td>辐照强度（J/m2）_max</td>\n",
       "      <td>3717.0</td>\n",
       "    </tr>\n",
       "    <tr>\n",
       "      <th>8</th>\n",
       "      <td>100m风速（100m/s）</td>\n",
       "      <td>3691.4</td>\n",
       "    </tr>\n",
       "    <tr>\n",
       "      <th>9</th>\n",
       "      <td>100m风向（°)</td>\n",
       "      <td>3614.8</td>\n",
       "    </tr>\n",
       "    <tr>\n",
       "      <th>4</th>\n",
       "      <td>10米风向（°)</td>\n",
       "      <td>3601.8</td>\n",
       "    </tr>\n",
       "    <tr>\n",
       "      <th>10</th>\n",
       "      <td>装机容量(kW)</td>\n",
       "      <td>3564.2</td>\n",
       "    </tr>\n",
       "    <tr>\n",
       "      <th>6</th>\n",
       "      <td>辐照强度（J/m2）</td>\n",
       "      <td>3441.4</td>\n",
       "    </tr>\n",
       "    <tr>\n",
       "      <th>38</th>\n",
       "      <td>光照/温度</td>\n",
       "      <td>3050.0</td>\n",
       "    </tr>\n",
       "    <tr>\n",
       "      <th>15</th>\n",
       "      <td>weather_code_archive_best_match_(wmo_code)</td>\n",
       "      <td>2305.0</td>\n",
       "    </tr>\n",
       "    <tr>\n",
       "      <th>11</th>\n",
       "      <td>经度</td>\n",
       "      <td>1662.6</td>\n",
       "    </tr>\n",
       "    <tr>\n",
       "      <th>7</th>\n",
       "      <td>降水（m）</td>\n",
       "      <td>1358.2</td>\n",
       "    </tr>\n",
       "    <tr>\n",
       "      <th>14</th>\n",
       "      <td>sunshine_duration_archive_best_match_(s)</td>\n",
       "      <td>1308.4</td>\n",
       "    </tr>\n",
       "    <tr>\n",
       "      <th>12</th>\n",
       "      <td>纬度</td>\n",
       "      <td>1109.0</td>\n",
       "    </tr>\n",
       "    <tr>\n",
       "      <th>20</th>\n",
       "      <td>rain_sum_(mm)</td>\n",
       "      <td>1064.0</td>\n",
       "    </tr>\n",
       "    <tr>\n",
       "      <th>25</th>\n",
       "      <td>月</td>\n",
       "      <td>957.4</td>\n",
       "    </tr>\n",
       "    <tr>\n",
       "      <th>29</th>\n",
       "      <td>光伏用户编号_f1</td>\n",
       "      <td>667.8</td>\n",
       "    </tr>\n",
       "    <tr>\n",
       "      <th>13</th>\n",
       "      <td>综合倍率</td>\n",
       "      <td>653.8</td>\n",
       "    </tr>\n",
       "    <tr>\n",
       "      <th>30</th>\n",
       "      <td>光伏用户编号_f2</td>\n",
       "      <td>503.0</td>\n",
       "    </tr>\n",
       "    <tr>\n",
       "      <th>24</th>\n",
       "      <td>季节</td>\n",
       "      <td>478.0</td>\n",
       "    </tr>\n",
       "    <tr>\n",
       "      <th>32</th>\n",
       "      <td>光伏用户编号_f4</td>\n",
       "      <td>403.8</td>\n",
       "    </tr>\n",
       "    <tr>\n",
       "      <th>31</th>\n",
       "      <td>光伏用户编号_f3</td>\n",
       "      <td>248.8</td>\n",
       "    </tr>\n",
       "    <tr>\n",
       "      <th>36</th>\n",
       "      <td>光伏用户编号_f8</td>\n",
       "      <td>204.8</td>\n",
       "    </tr>\n",
       "    <tr>\n",
       "      <th>23</th>\n",
       "      <td>年</td>\n",
       "      <td>187.8</td>\n",
       "    </tr>\n",
       "    <tr>\n",
       "      <th>22</th>\n",
       "      <td>是白天</td>\n",
       "      <td>26.6</td>\n",
       "    </tr>\n",
       "    <tr>\n",
       "      <th>35</th>\n",
       "      <td>光伏用户编号_f7</td>\n",
       "      <td>12.8</td>\n",
       "    </tr>\n",
       "    <tr>\n",
       "      <th>33</th>\n",
       "      <td>光伏用户编号_f5</td>\n",
       "      <td>9.2</td>\n",
       "    </tr>\n",
       "    <tr>\n",
       "      <th>34</th>\n",
       "      <td>光伏用户编号_f6</td>\n",
       "      <td>7.2</td>\n",
       "    </tr>\n",
       "    <tr>\n",
       "      <th>37</th>\n",
       "      <td>光伏用户编号_f9</td>\n",
       "      <td>1.0</td>\n",
       "    </tr>\n",
       "    <tr>\n",
       "      <th>21</th>\n",
       "      <td>snowfall_sum_(cm)</td>\n",
       "      <td>0.2</td>\n",
       "    </tr>\n",
       "  </tbody>\n",
       "</table>\n",
       "</div>"
      ],
      "text/plain": [
       "                                            特征     重要性\n",
       "42                             辐照强度（J/m2）_mean  8262.6\n",
       "0                                       气压(Pa）  7919.2\n",
       "2                                           云量  5975.0\n",
       "26                                           日  5679.6\n",
       "17                     temperature_2m_min_(°C)  5604.8\n",
       "16                     temperature_2m_max_(°C)  5286.0\n",
       "1                                      相对湿度（%）  5285.8\n",
       "28                                           分  4877.4\n",
       "44                                   温度（K）_min  4826.6\n",
       "39                              辐照强度（J/m2）_-_1  4821.8\n",
       "19                      precipitation_sum_(mm)  4816.6\n",
       "40                              辐照强度（J/m2）_-_8  4603.4\n",
       "18                    temperature_2m_mean_(°C)  4576.2\n",
       "5                                        温度（K）  4138.2\n",
       "3                                 10米风速（10m/s）  3982.0\n",
       "27                                           周  3757.8\n",
       "43                                   温度（K）_max  3737.0\n",
       "41                              辐照强度（J/m2）_max  3717.0\n",
       "8                               100m风速（100m/s）  3691.4\n",
       "9                                    100m风向（°)  3614.8\n",
       "4                                     10米风向（°)  3601.8\n",
       "10                                    装机容量(kW)  3564.2\n",
       "6                                   辐照强度（J/m2）  3441.4\n",
       "38                                       光照/温度  3050.0\n",
       "15  weather_code_archive_best_match_(wmo_code)  2305.0\n",
       "11                                          经度  1662.6\n",
       "7                                        降水（m）  1358.2\n",
       "14    sunshine_duration_archive_best_match_(s)  1308.4\n",
       "12                                          纬度  1109.0\n",
       "20                               rain_sum_(mm)  1064.0\n",
       "25                                           月   957.4\n",
       "29                                   光伏用户编号_f1   667.8\n",
       "13                                        综合倍率   653.8\n",
       "30                                   光伏用户编号_f2   503.0\n",
       "24                                          季节   478.0\n",
       "32                                   光伏用户编号_f4   403.8\n",
       "31                                   光伏用户编号_f3   248.8\n",
       "36                                   光伏用户编号_f8   204.8\n",
       "23                                           年   187.8\n",
       "22                                         是白天    26.6\n",
       "35                                   光伏用户编号_f7    12.8\n",
       "33                                   光伏用户编号_f5     9.2\n",
       "34                                   光伏用户编号_f6     7.2\n",
       "37                                   光伏用户编号_f9     1.0\n",
       "21                           snowfall_sum_(cm)     0.2"
      ]
     },
     "execution_count": 27,
     "metadata": {},
     "output_type": "execute_result"
    }
   ],
   "source": [
    "importance = DataFrame()\n",
    "importance[\"特征\"] = model.feature_name()\n",
    "importance[\"重要性\"] = 0\n",
    "for model in model_lgb:\n",
    "    importance[\"重要性\"] = importance[\"重要性\"] + model.feature_importance()\n",
    "importance[\"重要性\"] = importance[\"重要性\"] / kfold.n_splits\n",
    "importance.sort_values(\"重要性\", ascending=False)[0:50]"
   ]
  },
  {
   "cell_type": "markdown",
   "metadata": {},
   "source": [
    "<h2>预测</h2>"
   ]
  },
  {
   "cell_type": "code",
   "execution_count": 28,
   "metadata": {
    "ExecuteTime": {
     "end_time": "2024-03-28T16:55:54.366450Z",
     "start_time": "2024-03-28T16:55:51.526909Z"
    }
   },
   "outputs": [
    {
     "name": "stderr",
     "output_type": "stream",
     "text": [
      "C:\\Program Files\\Python37\\lib\\site-packages\\ipykernel_launcher.py:7: SettingWithCopyWarning: \n",
      "A value is trying to be set on a copy of a slice from a DataFrame.\n",
      "Try using .loc[row_indexer,col_indexer] = value instead\n",
      "\n",
      "See the caveats in the documentation: https://pandas.pydata.org/pandas-docs/stable/user_guide/indexing.html#returning-a-view-versus-a-copy\n",
      "  import sys\n"
     ]
    }
   ],
   "source": [
    "x_test = df_test.drop(columns=[\"光伏用户编号\", \"时间\"]).astype(np.float32)\n",
    "y_test = x_test.pop(\"target\")\n",
    "y_pred = np.zeros((df_test.shape[0], ))\n",
    "for model in model_lgb:\n",
    "    y_pred += model.predict(x_test, num_iteration=model.best_iteration)\n",
    "y_pred = y_pred / kfold.n_splits\n",
    "df_test[\"target\"] = y_pred"
   ]
  },
  {
   "cell_type": "code",
   "execution_count": 29,
   "metadata": {
    "ExecuteTime": {
     "end_time": "2024-03-28T16:55:54.573458Z",
     "start_time": "2024-03-28T16:55:54.368451Z"
    }
   },
   "outputs": [],
   "source": [
    "df_test = df_test[[\"光伏用户编号\", \"综合倍率\", \"年\", \"月\", \"日\", \"分\", \"target\"]]\n",
    "df_test[\"时间\"] = df_test[\"年\"].astype(str) + \"-\" + df_test[\"月\"].astype(str) + \"-\" + df_test[\"日\"].astype(str) + \" 0:00\"\n",
    "df_test[\"分\"] = \"p\" + (df_test[\"分\"] + 1).astype(str)\n",
    "df_test = df_test.drop(columns=[\"年\", \"月\", \"日\"])"
   ]
  },
  {
   "cell_type": "code",
   "execution_count": 30,
   "metadata": {
    "ExecuteTime": {
     "end_time": "2024-03-28T16:55:54.600458Z",
     "start_time": "2024-03-28T16:55:54.575467Z"
    }
   },
   "outputs": [],
   "source": [
    "result = pd.pivot(df_test, index=[\"光伏用户编号\", \"综合倍率\", \"时间\"], columns=\"分\", values=\"target\").reset_index()\n",
    "result = result[result[\"综合倍率\"].notnull()]\n",
    "result[\"综合倍率\"] = result[\"综合倍率\"].astype(int)"
   ]
  },
  {
   "cell_type": "code",
   "execution_count": 31,
   "metadata": {
    "ExecuteTime": {
     "end_time": "2024-03-28T16:55:54.704458Z",
     "start_time": "2024-03-28T16:55:54.601457Z"
    }
   },
   "outputs": [],
   "source": [
    "result.to_csv(\"../data/%s.csv\" % datetime.now().strftime(\"%Y%m%d_%H%M%S\"), encoding=\"utf-8\", index=False)"
   ]
  },
  {
   "cell_type": "code",
   "execution_count": null,
   "metadata": {},
   "outputs": [],
   "source": []
  }
 ],
 "metadata": {
  "kernelspec": {
   "display_name": "Python 3",
   "language": "python",
   "name": "python3"
  },
  "language_info": {
   "codemirror_mode": {
    "name": "ipython",
    "version": 3
   },
   "file_extension": ".py",
   "mimetype": "text/x-python",
   "name": "python",
   "nbconvert_exporter": "python",
   "pygments_lexer": "ipython3",
   "version": "3.7.3"
  },
  "toc": {
   "base_numbering": 1,
   "nav_menu": {},
   "number_sections": true,
   "sideBar": true,
   "skip_h1_title": false,
   "title_cell": "Table of Contents",
   "title_sidebar": "Contents",
   "toc_cell": false,
   "toc_position": {
    "height": "calc(100% - 180px)",
    "left": "10px",
    "top": "150px",
    "width": "211.545px"
   },
   "toc_section_display": true,
   "toc_window_display": true
  },
  "varInspector": {
   "cols": {
    "lenName": 16,
    "lenType": 16,
    "lenVar": 40
   },
   "kernels_config": {
    "python": {
     "delete_cmd_postfix": "",
     "delete_cmd_prefix": "del ",
     "library": "var_list.py",
     "varRefreshCmd": "print(var_dic_list())"
    },
    "r": {
     "delete_cmd_postfix": ") ",
     "delete_cmd_prefix": "rm(",
     "library": "var_list.r",
     "varRefreshCmd": "cat(var_dic_list()) "
    }
   },
   "position": {
    "height": "244.83px",
    "left": "1957.27px",
    "right": "20px",
    "top": "120px",
    "width": "350px"
   },
   "types_to_exclude": [
    "module",
    "function",
    "builtin_function_or_method",
    "instance",
    "_Feature"
   ],
   "window_display": true
  }
 },
 "nbformat": 4,
 "nbformat_minor": 4
}
